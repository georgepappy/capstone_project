{
 "cells": [
  {
   "cell_type": "markdown",
   "metadata": {
    "editable": true
   },
   "source": [
    "# A Movie Database\n",
    "### Data Engineering Capstone Project\n",
    "\n",
    "#### Project Summary\n",
    "This project makes use of the movie data from approximately 57,000 movies listed on TMDB.org to implement a Snowflake schema which includes data on each movie (obtained via a priori API query to create JSON files which include details such as the top-credited actors, director(s) and writer(s)), IMDB average ratings, and additional data from another set of users who have rated and/or tagged these movies independent of IMDB.\n",
    "\n",
    "The project follows the follow steps:\n",
    "* Step 1: Scope the Project and Gather Data\n",
    "* Step 2: Explore and Assess the Data\n",
    "* Step 3: Define the Data Model\n",
    "* Step 4: Run ETL to Model the Data\n",
    "* Step 5: Complete Project Write Up"
   ]
  },
  {
   "cell_type": "code",
   "execution_count": 1,
   "metadata": {
    "editable": true
   },
   "outputs": [],
   "source": [
    "# Do all imports and installs here\n",
    "import pandas as pd\n",
    "import numpy as np\n",
    "import math\n",
    "\n",
    "import os\n",
    "import requests\n",
    "\n",
    "import datetime\n",
    "import time\n",
    "import json\n",
    "\n",
    "import psycopg2\n",
    "from psycopg2.extras import execute_values\n",
    "from psycopg2.extensions import register_adapter, AsIs\n",
    "\n",
    "from sql_queries import *"
   ]
  },
  {
   "cell_type": "markdown",
   "metadata": {
    "editable": true
   },
   "source": [
    "### Step 1: Scope the Project and Gather Data\n",
    "\n",
    "#### Scope \n",
    "Explain what you plan to do in the project in more detail. What data do you use? What is your end solution look like? What tools did you use? etc>\n",
    "\n",
    "\n",
    "#### Describe and Gather Data \n",
    "Describe the data sets you're using. Where did it come from? What type of information is included? \n",
    "\n",
    "The data includes some of the CSV files obtained from the University of Minnesota's MovieLens Dataset (https://grouplens.org/datasets/movielens/latest/):"
   ]
  },
  {
   "cell_type": "markdown",
   "metadata": {
    "editable": true
   },
   "source": [
    "##### 1) links.csv - 58,098 rows linking the movieId in movies, ratings & tags CSV files (below) to the tmdbId for the same movie"
   ]
  },
  {
   "cell_type": "code",
   "execution_count": 2,
   "metadata": {
    "editable": true
   },
   "outputs": [
    {
     "name": "stdout",
     "output_type": "stream",
     "text": [
      "<class 'pandas.core.frame.DataFrame'>\n",
      "RangeIndex: 58098 entries, 0 to 58097\n",
      "Data columns (total 3 columns):\n",
      "movieId    58098 non-null int64\n",
      "imdbId     58098 non-null int64\n",
      "tmdbId     57917 non-null float64\n",
      "dtypes: float64(1), int64(2)\n",
      "memory usage: 1.3 MB\n",
      "None\n",
      "(58098, 3)\n"
     ]
    },
    {
     "data": {
      "text/html": [
       "<div>\n",
       "<style scoped>\n",
       "    .dataframe tbody tr th:only-of-type {\n",
       "        vertical-align: middle;\n",
       "    }\n",
       "\n",
       "    .dataframe tbody tr th {\n",
       "        vertical-align: top;\n",
       "    }\n",
       "\n",
       "    .dataframe thead th {\n",
       "        text-align: right;\n",
       "    }\n",
       "</style>\n",
       "<table border=\"1\" class=\"dataframe\">\n",
       "  <thead>\n",
       "    <tr style=\"text-align: right;\">\n",
       "      <th></th>\n",
       "      <th>movieId</th>\n",
       "      <th>imdbId</th>\n",
       "      <th>tmdbId</th>\n",
       "    </tr>\n",
       "  </thead>\n",
       "  <tbody>\n",
       "    <tr>\n",
       "      <th>0</th>\n",
       "      <td>1</td>\n",
       "      <td>114709</td>\n",
       "      <td>862.0</td>\n",
       "    </tr>\n",
       "    <tr>\n",
       "      <th>1</th>\n",
       "      <td>2</td>\n",
       "      <td>113497</td>\n",
       "      <td>8844.0</td>\n",
       "    </tr>\n",
       "    <tr>\n",
       "      <th>2</th>\n",
       "      <td>3</td>\n",
       "      <td>113228</td>\n",
       "      <td>15602.0</td>\n",
       "    </tr>\n",
       "    <tr>\n",
       "      <th>3</th>\n",
       "      <td>4</td>\n",
       "      <td>114885</td>\n",
       "      <td>31357.0</td>\n",
       "    </tr>\n",
       "    <tr>\n",
       "      <th>4</th>\n",
       "      <td>5</td>\n",
       "      <td>113041</td>\n",
       "      <td>11862.0</td>\n",
       "    </tr>\n",
       "  </tbody>\n",
       "</table>\n",
       "</div>"
      ],
      "text/plain": [
       "   movieId  imdbId   tmdbId\n",
       "0        1  114709    862.0\n",
       "1        2  113497   8844.0\n",
       "2        3  113228  15602.0\n",
       "3        4  114885  31357.0\n",
       "4        5  113041  11862.0"
      ]
     },
     "execution_count": 2,
     "metadata": {},
     "output_type": "execute_result"
    }
   ],
   "source": [
    "links = pd.read_csv('datasets/links.csv')\n",
    "\n",
    "print(links.info())\n",
    "print(links.shape)\n",
    "links.head()"
   ]
  },
  {
   "cell_type": "markdown",
   "metadata": {
    "editable": true
   },
   "source": [
    "##### 2) movies.csv - 58,098 rows listing the movies represented in the ratings & tags CSVs (below)"
   ]
  },
  {
   "cell_type": "code",
   "execution_count": 3,
   "metadata": {
    "editable": true
   },
   "outputs": [
    {
     "name": "stdout",
     "output_type": "stream",
     "text": [
      "<class 'pandas.core.frame.DataFrame'>\n",
      "RangeIndex: 58098 entries, 0 to 58097\n",
      "Data columns (total 3 columns):\n",
      "movieId    58098 non-null int64\n",
      "title      58098 non-null object\n",
      "genres     58098 non-null object\n",
      "dtypes: int64(1), object(2)\n",
      "memory usage: 1.3+ MB\n",
      "None\n",
      "(58098, 3)\n"
     ]
    },
    {
     "data": {
      "text/html": [
       "<div>\n",
       "<style scoped>\n",
       "    .dataframe tbody tr th:only-of-type {\n",
       "        vertical-align: middle;\n",
       "    }\n",
       "\n",
       "    .dataframe tbody tr th {\n",
       "        vertical-align: top;\n",
       "    }\n",
       "\n",
       "    .dataframe thead th {\n",
       "        text-align: right;\n",
       "    }\n",
       "</style>\n",
       "<table border=\"1\" class=\"dataframe\">\n",
       "  <thead>\n",
       "    <tr style=\"text-align: right;\">\n",
       "      <th></th>\n",
       "      <th>movieId</th>\n",
       "      <th>title</th>\n",
       "      <th>genres</th>\n",
       "    </tr>\n",
       "  </thead>\n",
       "  <tbody>\n",
       "    <tr>\n",
       "      <th>0</th>\n",
       "      <td>1</td>\n",
       "      <td>Toy Story (1995)</td>\n",
       "      <td>Adventure|Animation|Children|Comedy|Fantasy</td>\n",
       "    </tr>\n",
       "    <tr>\n",
       "      <th>1</th>\n",
       "      <td>2</td>\n",
       "      <td>Jumanji (1995)</td>\n",
       "      <td>Adventure|Children|Fantasy</td>\n",
       "    </tr>\n",
       "    <tr>\n",
       "      <th>2</th>\n",
       "      <td>3</td>\n",
       "      <td>Grumpier Old Men (1995)</td>\n",
       "      <td>Comedy|Romance</td>\n",
       "    </tr>\n",
       "    <tr>\n",
       "      <th>3</th>\n",
       "      <td>4</td>\n",
       "      <td>Waiting to Exhale (1995)</td>\n",
       "      <td>Comedy|Drama|Romance</td>\n",
       "    </tr>\n",
       "    <tr>\n",
       "      <th>4</th>\n",
       "      <td>5</td>\n",
       "      <td>Father of the Bride Part II (1995)</td>\n",
       "      <td>Comedy</td>\n",
       "    </tr>\n",
       "  </tbody>\n",
       "</table>\n",
       "</div>"
      ],
      "text/plain": [
       "   movieId                               title  \\\n",
       "0        1                    Toy Story (1995)   \n",
       "1        2                      Jumanji (1995)   \n",
       "2        3             Grumpier Old Men (1995)   \n",
       "3        4            Waiting to Exhale (1995)   \n",
       "4        5  Father of the Bride Part II (1995)   \n",
       "\n",
       "                                        genres  \n",
       "0  Adventure|Animation|Children|Comedy|Fantasy  \n",
       "1                   Adventure|Children|Fantasy  \n",
       "2                               Comedy|Romance  \n",
       "3                         Comedy|Drama|Romance  \n",
       "4                                       Comedy  "
      ]
     },
     "execution_count": 3,
     "metadata": {},
     "output_type": "execute_result"
    }
   ],
   "source": [
    "movies = pd.read_csv('datasets/movies.csv')\n",
    "\n",
    "print(movies.info())\n",
    "print(movies.shape)\n",
    "movies.head()"
   ]
  },
  {
   "cell_type": "markdown",
   "metadata": {
    "editable": true
   },
   "source": [
    "##### 3) ratings.csv - 10,747,027 timestamped user ratings (on a 0-5 scale) for the movies above"
   ]
  },
  {
   "cell_type": "code",
   "execution_count": 4,
   "metadata": {
    "editable": true
   },
   "outputs": [
    {
     "name": "stdout",
     "output_type": "stream",
     "text": [
      "<class 'pandas.core.frame.DataFrame'>\n",
      "RangeIndex: 10747027 entries, 0 to 10747026\n",
      "Data columns (total 4 columns):\n",
      "userId       int64\n",
      "movieId      int64\n",
      "rating       float64\n",
      "timestamp    int64\n",
      "dtypes: float64(1), int64(3)\n",
      "memory usage: 328.0 MB\n",
      "None\n",
      "(10747027, 4)\n"
     ]
    },
    {
     "data": {
      "text/html": [
       "<div>\n",
       "<style scoped>\n",
       "    .dataframe tbody tr th:only-of-type {\n",
       "        vertical-align: middle;\n",
       "    }\n",
       "\n",
       "    .dataframe tbody tr th {\n",
       "        vertical-align: top;\n",
       "    }\n",
       "\n",
       "    .dataframe thead th {\n",
       "        text-align: right;\n",
       "    }\n",
       "</style>\n",
       "<table border=\"1\" class=\"dataframe\">\n",
       "  <thead>\n",
       "    <tr style=\"text-align: right;\">\n",
       "      <th></th>\n",
       "      <th>userId</th>\n",
       "      <th>movieId</th>\n",
       "      <th>rating</th>\n",
       "      <th>timestamp</th>\n",
       "    </tr>\n",
       "  </thead>\n",
       "  <tbody>\n",
       "    <tr>\n",
       "      <th>0</th>\n",
       "      <td>1</td>\n",
       "      <td>307</td>\n",
       "      <td>3.5</td>\n",
       "      <td>1256677221</td>\n",
       "    </tr>\n",
       "    <tr>\n",
       "      <th>1</th>\n",
       "      <td>1</td>\n",
       "      <td>481</td>\n",
       "      <td>3.5</td>\n",
       "      <td>1256677456</td>\n",
       "    </tr>\n",
       "    <tr>\n",
       "      <th>2</th>\n",
       "      <td>1</td>\n",
       "      <td>1091</td>\n",
       "      <td>1.5</td>\n",
       "      <td>1256677471</td>\n",
       "    </tr>\n",
       "    <tr>\n",
       "      <th>3</th>\n",
       "      <td>1</td>\n",
       "      <td>1257</td>\n",
       "      <td>4.5</td>\n",
       "      <td>1256677460</td>\n",
       "    </tr>\n",
       "    <tr>\n",
       "      <th>4</th>\n",
       "      <td>1</td>\n",
       "      <td>1449</td>\n",
       "      <td>4.5</td>\n",
       "      <td>1256677264</td>\n",
       "    </tr>\n",
       "  </tbody>\n",
       "</table>\n",
       "</div>"
      ],
      "text/plain": [
       "   userId  movieId  rating   timestamp\n",
       "0       1      307     3.5  1256677221\n",
       "1       1      481     3.5  1256677456\n",
       "2       1     1091     1.5  1256677471\n",
       "3       1     1257     4.5  1256677460\n",
       "4       1     1449     4.5  1256677264"
      ]
     },
     "execution_count": 4,
     "metadata": {},
     "output_type": "execute_result"
    }
   ],
   "source": [
    "ratings = pd.read_csv('datasets/ratings.csv')\n",
    "\n",
    "print(ratings.info())\n",
    "print(ratings.shape)\n",
    "ratings.head()"
   ]
  },
  {
   "cell_type": "markdown",
   "metadata": {
    "editable": true
   },
   "source": [
    "##### 4) tags.csv - 1,108,997 timestamped user tags (on a 0-5 scale) for the movies above"
   ]
  },
  {
   "cell_type": "code",
   "execution_count": 5,
   "metadata": {
    "editable": true
   },
   "outputs": [
    {
     "name": "stdout",
     "output_type": "stream",
     "text": [
      "<class 'pandas.core.frame.DataFrame'>\n",
      "RangeIndex: 1108997 entries, 0 to 1108996\n",
      "Data columns (total 4 columns):\n",
      "userId       1108997 non-null int64\n",
      "movieId      1108997 non-null int64\n",
      "tag          1108981 non-null object\n",
      "timestamp    1108997 non-null int64\n",
      "dtypes: int64(3), object(1)\n",
      "memory usage: 33.8+ MB\n",
      "None\n",
      "(1108997, 4)\n"
     ]
    },
    {
     "data": {
      "text/html": [
       "<div>\n",
       "<style scoped>\n",
       "    .dataframe tbody tr th:only-of-type {\n",
       "        vertical-align: middle;\n",
       "    }\n",
       "\n",
       "    .dataframe tbody tr th {\n",
       "        vertical-align: top;\n",
       "    }\n",
       "\n",
       "    .dataframe thead th {\n",
       "        text-align: right;\n",
       "    }\n",
       "</style>\n",
       "<table border=\"1\" class=\"dataframe\">\n",
       "  <thead>\n",
       "    <tr style=\"text-align: right;\">\n",
       "      <th></th>\n",
       "      <th>userId</th>\n",
       "      <th>movieId</th>\n",
       "      <th>tag</th>\n",
       "      <th>timestamp</th>\n",
       "    </tr>\n",
       "  </thead>\n",
       "  <tbody>\n",
       "    <tr>\n",
       "      <th>0</th>\n",
       "      <td>14</td>\n",
       "      <td>110</td>\n",
       "      <td>epic</td>\n",
       "      <td>1443148538</td>\n",
       "    </tr>\n",
       "    <tr>\n",
       "      <th>1</th>\n",
       "      <td>14</td>\n",
       "      <td>110</td>\n",
       "      <td>Medieval</td>\n",
       "      <td>1443148532</td>\n",
       "    </tr>\n",
       "    <tr>\n",
       "      <th>2</th>\n",
       "      <td>14</td>\n",
       "      <td>260</td>\n",
       "      <td>sci-fi</td>\n",
       "      <td>1442169410</td>\n",
       "    </tr>\n",
       "    <tr>\n",
       "      <th>3</th>\n",
       "      <td>14</td>\n",
       "      <td>260</td>\n",
       "      <td>space action</td>\n",
       "      <td>1442169421</td>\n",
       "    </tr>\n",
       "    <tr>\n",
       "      <th>4</th>\n",
       "      <td>14</td>\n",
       "      <td>318</td>\n",
       "      <td>imdb top 250</td>\n",
       "      <td>1442615195</td>\n",
       "    </tr>\n",
       "  </tbody>\n",
       "</table>\n",
       "</div>"
      ],
      "text/plain": [
       "   userId  movieId           tag   timestamp\n",
       "0      14      110          epic  1443148538\n",
       "1      14      110      Medieval  1443148532\n",
       "2      14      260        sci-fi  1442169410\n",
       "3      14      260  space action  1442169421\n",
       "4      14      318  imdb top 250  1442615195"
      ]
     },
     "execution_count": 5,
     "metadata": {},
     "output_type": "execute_result"
    }
   ],
   "source": [
    "tags = pd.read_csv('datasets/tags.csv')\n",
    "\n",
    "print(tags.info())\n",
    "print(tags.shape)\n",
    "tags.head()"
   ]
  },
  {
   "cell_type": "markdown",
   "metadata": {
    "editable": true
   },
   "source": [
    "##### 5) people.json - 57,160 rows; TMDB API responses to credits (top cast, directors, writers) queries for titles in movies"
   ]
  },
  {
   "cell_type": "code",
   "execution_count": 6,
   "metadata": {
    "editable": true
   },
   "outputs": [
    {
     "name": "stdout",
     "output_type": "stream",
     "text": [
      "<class 'pandas.core.frame.DataFrame'>\n",
      "Int64Index: 57160 entries, 0 to 9999\n",
      "Data columns (total 16 columns):\n",
      "id              57160 non-null int64\n",
      "actor1_id       55082 non-null float64\n",
      "actor2_id       53460 non-null float64\n",
      "actor3_id       52462 non-null float64\n",
      "actor4_id       51496 non-null float64\n",
      "actor5_id       49761 non-null float64\n",
      "director1_id    56705 non-null float64\n",
      "director2_id    4007 non-null float64\n",
      "director3_id    543 non-null float64\n",
      "director4_id    240 non-null float64\n",
      "director5_id    164 non-null float64\n",
      "writer1_id      48257 non-null float64\n",
      "writer2_id      20663 non-null float64\n",
      "writer3_id      6130 non-null float64\n",
      "writer4_id      1838 non-null float64\n",
      "writer5_id      586 non-null float64\n",
      "dtypes: float64(15), int64(1)\n",
      "memory usage: 7.4 MB\n",
      "None\n",
      "(57160, 16)\n"
     ]
    },
    {
     "data": {
      "text/html": [
       "<div>\n",
       "<style scoped>\n",
       "    .dataframe tbody tr th:only-of-type {\n",
       "        vertical-align: middle;\n",
       "    }\n",
       "\n",
       "    .dataframe tbody tr th {\n",
       "        vertical-align: top;\n",
       "    }\n",
       "\n",
       "    .dataframe thead th {\n",
       "        text-align: right;\n",
       "    }\n",
       "</style>\n",
       "<table border=\"1\" class=\"dataframe\">\n",
       "  <thead>\n",
       "    <tr style=\"text-align: right;\">\n",
       "      <th></th>\n",
       "      <th>id</th>\n",
       "      <th>actor1_id</th>\n",
       "      <th>actor2_id</th>\n",
       "      <th>actor3_id</th>\n",
       "      <th>actor4_id</th>\n",
       "      <th>actor5_id</th>\n",
       "      <th>director1_id</th>\n",
       "      <th>director2_id</th>\n",
       "      <th>director3_id</th>\n",
       "      <th>director4_id</th>\n",
       "      <th>director5_id</th>\n",
       "      <th>writer1_id</th>\n",
       "      <th>writer2_id</th>\n",
       "      <th>writer3_id</th>\n",
       "      <th>writer4_id</th>\n",
       "      <th>writer5_id</th>\n",
       "    </tr>\n",
       "  </thead>\n",
       "  <tbody>\n",
       "    <tr>\n",
       "      <th>0</th>\n",
       "      <td>862</td>\n",
       "      <td>31.0</td>\n",
       "      <td>12898.0</td>\n",
       "      <td>7167.0</td>\n",
       "      <td>12899.0</td>\n",
       "      <td>12900.0</td>\n",
       "      <td>7879.0</td>\n",
       "      <td>NaN</td>\n",
       "      <td>NaN</td>\n",
       "      <td>NaN</td>\n",
       "      <td>NaN</td>\n",
       "      <td>7.0</td>\n",
       "      <td>12891.0</td>\n",
       "      <td>12892.0</td>\n",
       "      <td>12893.0</td>\n",
       "      <td>NaN</td>\n",
       "    </tr>\n",
       "    <tr>\n",
       "      <th>1</th>\n",
       "      <td>8844</td>\n",
       "      <td>2157.0</td>\n",
       "      <td>205.0</td>\n",
       "      <td>145151.0</td>\n",
       "      <td>5149.0</td>\n",
       "      <td>8537.0</td>\n",
       "      <td>4945.0</td>\n",
       "      <td>NaN</td>\n",
       "      <td>NaN</td>\n",
       "      <td>NaN</td>\n",
       "      <td>NaN</td>\n",
       "      <td>876.0</td>\n",
       "      <td>56520.0</td>\n",
       "      <td>56521.0</td>\n",
       "      <td>NaN</td>\n",
       "      <td>NaN</td>\n",
       "    </tr>\n",
       "    <tr>\n",
       "      <th>10</th>\n",
       "      <td>9087</td>\n",
       "      <td>3392.0</td>\n",
       "      <td>516.0</td>\n",
       "      <td>8349.0</td>\n",
       "      <td>19839.0</td>\n",
       "      <td>20767.0</td>\n",
       "      <td>3026.0</td>\n",
       "      <td>NaN</td>\n",
       "      <td>NaN</td>\n",
       "      <td>NaN</td>\n",
       "      <td>NaN</td>\n",
       "      <td>13520.0</td>\n",
       "      <td>NaN</td>\n",
       "      <td>NaN</td>\n",
       "      <td>NaN</td>\n",
       "      <td>NaN</td>\n",
       "    </tr>\n",
       "    <tr>\n",
       "      <th>100</th>\n",
       "      <td>47475</td>\n",
       "      <td>14.0</td>\n",
       "      <td>8984.0</td>\n",
       "      <td>3234.0</td>\n",
       "      <td>923.0</td>\n",
       "      <td>23709.0</td>\n",
       "      <td>14692.0</td>\n",
       "      <td>NaN</td>\n",
       "      <td>NaN</td>\n",
       "      <td>NaN</td>\n",
       "      <td>NaN</td>\n",
       "      <td>18382.0</td>\n",
       "      <td>1236253.0</td>\n",
       "      <td>2675240.0</td>\n",
       "      <td>NaN</td>\n",
       "      <td>NaN</td>\n",
       "    </tr>\n",
       "    <tr>\n",
       "      <th>1000</th>\n",
       "      <td>9078</td>\n",
       "      <td>21877.0</td>\n",
       "      <td>12158.0</td>\n",
       "      <td>57313.0</td>\n",
       "      <td>7139.0</td>\n",
       "      <td>159552.0</td>\n",
       "      <td>57314.0</td>\n",
       "      <td>NaN</td>\n",
       "      <td>NaN</td>\n",
       "      <td>NaN</td>\n",
       "      <td>NaN</td>\n",
       "      <td>57316.0</td>\n",
       "      <td>NaN</td>\n",
       "      <td>NaN</td>\n",
       "      <td>NaN</td>\n",
       "      <td>NaN</td>\n",
       "    </tr>\n",
       "  </tbody>\n",
       "</table>\n",
       "</div>"
      ],
      "text/plain": [
       "         id  actor1_id  actor2_id  actor3_id  actor4_id  actor5_id  \\\n",
       "0       862       31.0    12898.0     7167.0    12899.0    12900.0   \n",
       "1      8844     2157.0      205.0   145151.0     5149.0     8537.0   \n",
       "10     9087     3392.0      516.0     8349.0    19839.0    20767.0   \n",
       "100   47475       14.0     8984.0     3234.0      923.0    23709.0   \n",
       "1000   9078    21877.0    12158.0    57313.0     7139.0   159552.0   \n",
       "\n",
       "      director1_id  director2_id  director3_id  director4_id  director5_id  \\\n",
       "0           7879.0           NaN           NaN           NaN           NaN   \n",
       "1           4945.0           NaN           NaN           NaN           NaN   \n",
       "10          3026.0           NaN           NaN           NaN           NaN   \n",
       "100        14692.0           NaN           NaN           NaN           NaN   \n",
       "1000       57314.0           NaN           NaN           NaN           NaN   \n",
       "\n",
       "      writer1_id  writer2_id  writer3_id  writer4_id  writer5_id  \n",
       "0            7.0     12891.0     12892.0     12893.0         NaN  \n",
       "1          876.0     56520.0     56521.0         NaN         NaN  \n",
       "10       13520.0         NaN         NaN         NaN         NaN  \n",
       "100      18382.0   1236253.0   2675240.0         NaN         NaN  \n",
       "1000     57316.0         NaN         NaN         NaN         NaN  "
      ]
     },
     "execution_count": 6,
     "metadata": {},
     "output_type": "execute_result"
    }
   ],
   "source": [
    "people = pd.read_json('datasets/people.json')\n",
    "\n",
    "print(people.info())\n",
    "print(people.shape)\n",
    "people.head()"
   ]
  },
  {
   "cell_type": "markdown",
   "metadata": {
    "editable": true
   },
   "source": [
    "##### 6) details.json - 57,160 rows; TMDB API responses to additional movie details queries for titles in movies"
   ]
  },
  {
   "cell_type": "code",
   "execution_count": 7,
   "metadata": {
    "editable": true
   },
   "outputs": [
    {
     "name": "stdout",
     "output_type": "stream",
     "text": [
      "<class 'pandas.core.frame.DataFrame'>\n",
      "RangeIndex: 57160 entries, 0 to 57159\n",
      "Data columns (total 25 columns):\n",
      "adult                    57160 non-null bool\n",
      "backdrop_path            41470 non-null object\n",
      "belongs_to_collection    6020 non-null object\n",
      "budget                   57160 non-null int64\n",
      "genres                   57160 non-null object\n",
      "homepage                 56526 non-null object\n",
      "id                       57160 non-null int64\n",
      "imdb_id                  57160 non-null object\n",
      "original_language        57160 non-null object\n",
      "original_title           57160 non-null object\n",
      "overview                 57160 non-null object\n",
      "popularity               57160 non-null float64\n",
      "poster_path              54183 non-null object\n",
      "production_companies     57160 non-null object\n",
      "production_countries     57160 non-null object\n",
      "release_date             57160 non-null object\n",
      "revenue                  57160 non-null int64\n",
      "runtime                  57072 non-null float64\n",
      "spoken_languages         57160 non-null object\n",
      "status                   57160 non-null object\n",
      "tagline                  57160 non-null object\n",
      "title                    57160 non-null object\n",
      "video                    57160 non-null bool\n",
      "vote_average             57160 non-null float64\n",
      "vote_count               57160 non-null int64\n",
      "dtypes: bool(2), float64(3), int64(4), object(16)\n",
      "memory usage: 10.1+ MB\n",
      "None\n",
      "(57160, 25)\n"
     ]
    },
    {
     "data": {
      "text/html": [
       "<div>\n",
       "<style scoped>\n",
       "    .dataframe tbody tr th:only-of-type {\n",
       "        vertical-align: middle;\n",
       "    }\n",
       "\n",
       "    .dataframe tbody tr th {\n",
       "        vertical-align: top;\n",
       "    }\n",
       "\n",
       "    .dataframe thead th {\n",
       "        text-align: right;\n",
       "    }\n",
       "</style>\n",
       "<table border=\"1\" class=\"dataframe\">\n",
       "  <thead>\n",
       "    <tr style=\"text-align: right;\">\n",
       "      <th></th>\n",
       "      <th>adult</th>\n",
       "      <th>backdrop_path</th>\n",
       "      <th>belongs_to_collection</th>\n",
       "      <th>budget</th>\n",
       "      <th>genres</th>\n",
       "      <th>homepage</th>\n",
       "      <th>id</th>\n",
       "      <th>imdb_id</th>\n",
       "      <th>original_language</th>\n",
       "      <th>original_title</th>\n",
       "      <th>...</th>\n",
       "      <th>release_date</th>\n",
       "      <th>revenue</th>\n",
       "      <th>runtime</th>\n",
       "      <th>spoken_languages</th>\n",
       "      <th>status</th>\n",
       "      <th>tagline</th>\n",
       "      <th>title</th>\n",
       "      <th>video</th>\n",
       "      <th>vote_average</th>\n",
       "      <th>vote_count</th>\n",
       "    </tr>\n",
       "  </thead>\n",
       "  <tbody>\n",
       "    <tr>\n",
       "      <th>0</th>\n",
       "      <td>False</td>\n",
       "      <td>/XLwjO1NSCIaLznh58OQtmSFl0N.jpg</td>\n",
       "      <td>{'id': 10194, 'name': 'Toy Story Collection', ...</td>\n",
       "      <td>30000000</td>\n",
       "      <td>[{'id': 16, 'name': 'Animation'}, {'id': 12, '...</td>\n",
       "      <td>http://toystory.disney.com/toy-story</td>\n",
       "      <td>862</td>\n",
       "      <td>tt0114709</td>\n",
       "      <td>en</td>\n",
       "      <td>Toy Story</td>\n",
       "      <td>...</td>\n",
       "      <td>1995-10-30</td>\n",
       "      <td>373554033</td>\n",
       "      <td>81.0</td>\n",
       "      <td>[{'english_name': 'English', 'iso_639_1': 'en'...</td>\n",
       "      <td>Released</td>\n",
       "      <td></td>\n",
       "      <td>Toy Story</td>\n",
       "      <td>False</td>\n",
       "      <td>7.9</td>\n",
       "      <td>14111</td>\n",
       "    </tr>\n",
       "    <tr>\n",
       "      <th>1</th>\n",
       "      <td>False</td>\n",
       "      <td>/6w31RRm2s2CK1r3xDLf12WgIaHa.jpg</td>\n",
       "      <td>{'id': 495527, 'name': 'Jumanji Collection', '...</td>\n",
       "      <td>65000000</td>\n",
       "      <td>[{'id': 12, 'name': 'Adventure'}, {'id': 14, '...</td>\n",
       "      <td>http://www.sonypictures.com/movies/jumanji/</td>\n",
       "      <td>8844</td>\n",
       "      <td>tt0113497</td>\n",
       "      <td>en</td>\n",
       "      <td>Jumanji</td>\n",
       "      <td>...</td>\n",
       "      <td>1995-12-15</td>\n",
       "      <td>262797249</td>\n",
       "      <td>104.0</td>\n",
       "      <td>[{'english_name': 'English', 'iso_639_1': 'en'...</td>\n",
       "      <td>Released</td>\n",
       "      <td>Roll the dice and unleash the excitement!</td>\n",
       "      <td>Jumanji</td>\n",
       "      <td>False</td>\n",
       "      <td>7.2</td>\n",
       "      <td>8260</td>\n",
       "    </tr>\n",
       "    <tr>\n",
       "      <th>2</th>\n",
       "      <td>False</td>\n",
       "      <td>/nh9gYaXHTNT9yylX10L9aGqFehy.jpg</td>\n",
       "      <td>{'id': 119050, 'name': 'Grumpy Old Men Collect...</td>\n",
       "      <td>0</td>\n",
       "      <td>[{'id': 10749, 'name': 'Romance'}, {'id': 35, ...</td>\n",
       "      <td></td>\n",
       "      <td>15602</td>\n",
       "      <td>tt0113228</td>\n",
       "      <td>en</td>\n",
       "      <td>Grumpier Old Men</td>\n",
       "      <td>...</td>\n",
       "      <td>1995-12-22</td>\n",
       "      <td>0</td>\n",
       "      <td>101.0</td>\n",
       "      <td>[{'english_name': 'English', 'iso_639_1': 'en'...</td>\n",
       "      <td>Released</td>\n",
       "      <td>Still Yelling. Still Fighting. Still Ready for...</td>\n",
       "      <td>Grumpier Old Men</td>\n",
       "      <td>False</td>\n",
       "      <td>6.5</td>\n",
       "      <td>251</td>\n",
       "    </tr>\n",
       "    <tr>\n",
       "      <th>3</th>\n",
       "      <td>False</td>\n",
       "      <td>/jZjoEKXMTDoZAGdkjhAdJaKtXSN.jpg</td>\n",
       "      <td>None</td>\n",
       "      <td>16000000</td>\n",
       "      <td>[{'id': 35, 'name': 'Comedy'}, {'id': 18, 'nam...</td>\n",
       "      <td></td>\n",
       "      <td>31357</td>\n",
       "      <td>tt0114885</td>\n",
       "      <td>en</td>\n",
       "      <td>Waiting to Exhale</td>\n",
       "      <td>...</td>\n",
       "      <td>1995-12-22</td>\n",
       "      <td>81452156</td>\n",
       "      <td>127.0</td>\n",
       "      <td>[{'english_name': 'English', 'iso_639_1': 'en'...</td>\n",
       "      <td>Released</td>\n",
       "      <td>Friends are the people who let you be yourself...</td>\n",
       "      <td>Waiting to Exhale</td>\n",
       "      <td>False</td>\n",
       "      <td>6.3</td>\n",
       "      <td>95</td>\n",
       "    </tr>\n",
       "    <tr>\n",
       "      <th>4</th>\n",
       "      <td>False</td>\n",
       "      <td>/1XUPR3Ki1fvZDCtetcepMoz7oqu.jpg</td>\n",
       "      <td>{'id': 96871, 'name': 'Father of the Bride (St...</td>\n",
       "      <td>0</td>\n",
       "      <td>[{'id': 35, 'name': 'Comedy'}]</td>\n",
       "      <td></td>\n",
       "      <td>11862</td>\n",
       "      <td>tt0113041</td>\n",
       "      <td>en</td>\n",
       "      <td>Father of the Bride Part II</td>\n",
       "      <td>...</td>\n",
       "      <td>1995-12-08</td>\n",
       "      <td>76594107</td>\n",
       "      <td>106.0</td>\n",
       "      <td>[{'english_name': 'English', 'iso_639_1': 'en'...</td>\n",
       "      <td>Released</td>\n",
       "      <td>Just When His World Is Back To Normal... He's ...</td>\n",
       "      <td>Father of the Bride Part II</td>\n",
       "      <td>False</td>\n",
       "      <td>6.2</td>\n",
       "      <td>495</td>\n",
       "    </tr>\n",
       "  </tbody>\n",
       "</table>\n",
       "<p>5 rows × 25 columns</p>\n",
       "</div>"
      ],
      "text/plain": [
       "   adult                     backdrop_path  \\\n",
       "0  False   /XLwjO1NSCIaLznh58OQtmSFl0N.jpg   \n",
       "1  False  /6w31RRm2s2CK1r3xDLf12WgIaHa.jpg   \n",
       "2  False  /nh9gYaXHTNT9yylX10L9aGqFehy.jpg   \n",
       "3  False  /jZjoEKXMTDoZAGdkjhAdJaKtXSN.jpg   \n",
       "4  False  /1XUPR3Ki1fvZDCtetcepMoz7oqu.jpg   \n",
       "\n",
       "                               belongs_to_collection    budget  \\\n",
       "0  {'id': 10194, 'name': 'Toy Story Collection', ...  30000000   \n",
       "1  {'id': 495527, 'name': 'Jumanji Collection', '...  65000000   \n",
       "2  {'id': 119050, 'name': 'Grumpy Old Men Collect...         0   \n",
       "3                                               None  16000000   \n",
       "4  {'id': 96871, 'name': 'Father of the Bride (St...         0   \n",
       "\n",
       "                                              genres  \\\n",
       "0  [{'id': 16, 'name': 'Animation'}, {'id': 12, '...   \n",
       "1  [{'id': 12, 'name': 'Adventure'}, {'id': 14, '...   \n",
       "2  [{'id': 10749, 'name': 'Romance'}, {'id': 35, ...   \n",
       "3  [{'id': 35, 'name': 'Comedy'}, {'id': 18, 'nam...   \n",
       "4                     [{'id': 35, 'name': 'Comedy'}]   \n",
       "\n",
       "                                      homepage     id    imdb_id  \\\n",
       "0         http://toystory.disney.com/toy-story    862  tt0114709   \n",
       "1  http://www.sonypictures.com/movies/jumanji/   8844  tt0113497   \n",
       "2                                               15602  tt0113228   \n",
       "3                                               31357  tt0114885   \n",
       "4                                               11862  tt0113041   \n",
       "\n",
       "  original_language               original_title    ...     release_date  \\\n",
       "0                en                    Toy Story    ...       1995-10-30   \n",
       "1                en                      Jumanji    ...       1995-12-15   \n",
       "2                en             Grumpier Old Men    ...       1995-12-22   \n",
       "3                en            Waiting to Exhale    ...       1995-12-22   \n",
       "4                en  Father of the Bride Part II    ...       1995-12-08   \n",
       "\n",
       "     revenue runtime                                   spoken_languages  \\\n",
       "0  373554033    81.0  [{'english_name': 'English', 'iso_639_1': 'en'...   \n",
       "1  262797249   104.0  [{'english_name': 'English', 'iso_639_1': 'en'...   \n",
       "2          0   101.0  [{'english_name': 'English', 'iso_639_1': 'en'...   \n",
       "3   81452156   127.0  [{'english_name': 'English', 'iso_639_1': 'en'...   \n",
       "4   76594107   106.0  [{'english_name': 'English', 'iso_639_1': 'en'...   \n",
       "\n",
       "     status                                            tagline  \\\n",
       "0  Released                                                      \n",
       "1  Released          Roll the dice and unleash the excitement!   \n",
       "2  Released  Still Yelling. Still Fighting. Still Ready for...   \n",
       "3  Released  Friends are the people who let you be yourself...   \n",
       "4  Released  Just When His World Is Back To Normal... He's ...   \n",
       "\n",
       "                         title  video vote_average vote_count  \n",
       "0                    Toy Story  False          7.9      14111  \n",
       "1                      Jumanji  False          7.2       8260  \n",
       "2             Grumpier Old Men  False          6.5        251  \n",
       "3            Waiting to Exhale  False          6.3         95  \n",
       "4  Father of the Bride Part II  False          6.2        495  \n",
       "\n",
       "[5 rows x 25 columns]"
      ]
     },
     "execution_count": 7,
     "metadata": {},
     "output_type": "execute_result"
    }
   ],
   "source": [
    "details = pd.read_json('datasets/details.json')\n",
    "\n",
    "print(details.info())\n",
    "print(details.shape)\n",
    "details.head()"
   ]
  },
  {
   "cell_type": "markdown",
   "metadata": {
    "editable": true
   },
   "source": [
    "##### 7) actors.json - 93,346 rows; TMDB API responses to actor details queries for the top cast in movies"
   ]
  },
  {
   "cell_type": "code",
   "execution_count": 8,
   "metadata": {
    "editable": true
   },
   "outputs": [
    {
     "name": "stdout",
     "output_type": "stream",
     "text": [
      "<class 'pandas.core.frame.DataFrame'>\n",
      "RangeIndex: 93346 entries, 0 to 93345\n",
      "Data columns (total 17 columns):\n",
      "adult                   93344 non-null float64\n",
      "also_known_as           93344 non-null object\n",
      "biography               93344 non-null object\n",
      "birthday                49720 non-null object\n",
      "deathday                14016 non-null object\n",
      "gender                  93344 non-null float64\n",
      "homepage                6407 non-null object\n",
      "id                      93344 non-null float64\n",
      "imdb_id                 81165 non-null object\n",
      "known_for_department    93344 non-null object\n",
      "name                    93344 non-null object\n",
      "place_of_birth          45133 non-null object\n",
      "popularity              93344 non-null float64\n",
      "profile_path            53968 non-null object\n",
      "status_code             2 non-null float64\n",
      "status_message          2 non-null object\n",
      "success                 2 non-null float64\n",
      "dtypes: float64(6), object(11)\n",
      "memory usage: 12.1+ MB\n",
      "None\n",
      "(93346, 17)\n"
     ]
    },
    {
     "data": {
      "text/html": [
       "<div>\n",
       "<style scoped>\n",
       "    .dataframe tbody tr th:only-of-type {\n",
       "        vertical-align: middle;\n",
       "    }\n",
       "\n",
       "    .dataframe tbody tr th {\n",
       "        vertical-align: top;\n",
       "    }\n",
       "\n",
       "    .dataframe thead th {\n",
       "        text-align: right;\n",
       "    }\n",
       "</style>\n",
       "<table border=\"1\" class=\"dataframe\">\n",
       "  <thead>\n",
       "    <tr style=\"text-align: right;\">\n",
       "      <th></th>\n",
       "      <th>adult</th>\n",
       "      <th>also_known_as</th>\n",
       "      <th>biography</th>\n",
       "      <th>birthday</th>\n",
       "      <th>deathday</th>\n",
       "      <th>gender</th>\n",
       "      <th>homepage</th>\n",
       "      <th>id</th>\n",
       "      <th>imdb_id</th>\n",
       "      <th>known_for_department</th>\n",
       "      <th>name</th>\n",
       "      <th>place_of_birth</th>\n",
       "      <th>popularity</th>\n",
       "      <th>profile_path</th>\n",
       "      <th>status_code</th>\n",
       "      <th>status_message</th>\n",
       "      <th>success</th>\n",
       "    </tr>\n",
       "  </thead>\n",
       "  <tbody>\n",
       "    <tr>\n",
       "      <th>0</th>\n",
       "      <td>0.0</td>\n",
       "      <td>[George Walton Lucas Jr. , 乔治·卢卡斯, Джордж Лука...</td>\n",
       "      <td>George Walton Lucas Jr. (born May 14, 1944) is...</td>\n",
       "      <td>1944-05-14</td>\n",
       "      <td>None</td>\n",
       "      <td>2.0</td>\n",
       "      <td>None</td>\n",
       "      <td>1.0</td>\n",
       "      <td>nm0000184</td>\n",
       "      <td>Directing</td>\n",
       "      <td>George Lucas</td>\n",
       "      <td>Modesto, California, USA</td>\n",
       "      <td>8.257</td>\n",
       "      <td>/WCSZzWdtPmdRxH9LUCVi2JPCSJ.jpg</td>\n",
       "      <td>NaN</td>\n",
       "      <td>NaN</td>\n",
       "      <td>NaN</td>\n",
       "    </tr>\n",
       "    <tr>\n",
       "      <th>1</th>\n",
       "      <td>0.0</td>\n",
       "      <td>[Mark Hamil, Mark Richard Hamill, Марк Хэмилл,...</td>\n",
       "      <td>Mark Richard Hamill (born September 25, 1951) ...</td>\n",
       "      <td>1951-09-25</td>\n",
       "      <td>None</td>\n",
       "      <td>2.0</td>\n",
       "      <td>None</td>\n",
       "      <td>2.0</td>\n",
       "      <td>nm0000434</td>\n",
       "      <td>Acting</td>\n",
       "      <td>Mark Hamill</td>\n",
       "      <td>Concord, California, USA</td>\n",
       "      <td>8.961</td>\n",
       "      <td>/zMQ93JTLW8KxusKhOlHFZhih3YQ.jpg</td>\n",
       "      <td>NaN</td>\n",
       "      <td>NaN</td>\n",
       "      <td>NaN</td>\n",
       "    </tr>\n",
       "    <tr>\n",
       "      <th>2</th>\n",
       "      <td>0.0</td>\n",
       "      <td>[Гаррісон Форд, Харрисон Форд, هاريسون فورد, 해...</td>\n",
       "      <td>Legendary Hollywood Icon Harrison Ford was bor...</td>\n",
       "      <td>1942-07-13</td>\n",
       "      <td>None</td>\n",
       "      <td>2.0</td>\n",
       "      <td>None</td>\n",
       "      <td>3.0</td>\n",
       "      <td>nm0000148</td>\n",
       "      <td>Acting</td>\n",
       "      <td>Harrison Ford</td>\n",
       "      <td>Chicago, Illinois, USA</td>\n",
       "      <td>8.641</td>\n",
       "      <td>/5M7oN3sznp99hWYQ9sX0xheswWX.jpg</td>\n",
       "      <td>NaN</td>\n",
       "      <td>NaN</td>\n",
       "      <td>NaN</td>\n",
       "    </tr>\n",
       "    <tr>\n",
       "      <th>3</th>\n",
       "      <td>0.0</td>\n",
       "      <td>[Carrie Frances Fisher , Кэрри Фишер, Кэрри Фр...</td>\n",
       "      <td>Carrie Frances Fisher (21 October 1956 - 27 De...</td>\n",
       "      <td>1956-10-21</td>\n",
       "      <td>2016-12-27</td>\n",
       "      <td>1.0</td>\n",
       "      <td>https://carriefisher.com/</td>\n",
       "      <td>4.0</td>\n",
       "      <td>nm0000402</td>\n",
       "      <td>Acting</td>\n",
       "      <td>Carrie Fisher</td>\n",
       "      <td>Beverly Hills, Los Angeles, California, USA</td>\n",
       "      <td>3.679</td>\n",
       "      <td>/rfJtncHewKVnHjqpIZvjn24ESeC.jpg</td>\n",
       "      <td>NaN</td>\n",
       "      <td>NaN</td>\n",
       "      <td>NaN</td>\n",
       "    </tr>\n",
       "    <tr>\n",
       "      <th>4</th>\n",
       "      <td>0.0</td>\n",
       "      <td>[Peter Wilton Cushing]</td>\n",
       "      <td>Peter Wilton Cushing, OBE  (26 May 1913 – 11 A...</td>\n",
       "      <td>1913-05-26</td>\n",
       "      <td>1994-08-11</td>\n",
       "      <td>2.0</td>\n",
       "      <td>None</td>\n",
       "      <td>5.0</td>\n",
       "      <td>nm0001088</td>\n",
       "      <td>Acting</td>\n",
       "      <td>Peter Cushing</td>\n",
       "      <td>Kenley, Surrey, England, UK</td>\n",
       "      <td>5.950</td>\n",
       "      <td>/if5g03wn6uvHx7F6FxXHLebKc0q.jpg</td>\n",
       "      <td>NaN</td>\n",
       "      <td>NaN</td>\n",
       "      <td>NaN</td>\n",
       "    </tr>\n",
       "  </tbody>\n",
       "</table>\n",
       "</div>"
      ],
      "text/plain": [
       "   adult                                      also_known_as  \\\n",
       "0    0.0  [George Walton Lucas Jr. , 乔治·卢卡斯, Джордж Лука...   \n",
       "1    0.0  [Mark Hamil, Mark Richard Hamill, Марк Хэмилл,...   \n",
       "2    0.0  [Гаррісон Форд, Харрисон Форд, هاريسون فورد, 해...   \n",
       "3    0.0  [Carrie Frances Fisher , Кэрри Фишер, Кэрри Фр...   \n",
       "4    0.0                             [Peter Wilton Cushing]   \n",
       "\n",
       "                                           biography    birthday    deathday  \\\n",
       "0  George Walton Lucas Jr. (born May 14, 1944) is...  1944-05-14        None   \n",
       "1  Mark Richard Hamill (born September 25, 1951) ...  1951-09-25        None   \n",
       "2  Legendary Hollywood Icon Harrison Ford was bor...  1942-07-13        None   \n",
       "3  Carrie Frances Fisher (21 October 1956 - 27 De...  1956-10-21  2016-12-27   \n",
       "4  Peter Wilton Cushing, OBE  (26 May 1913 – 11 A...  1913-05-26  1994-08-11   \n",
       "\n",
       "   gender                   homepage   id    imdb_id known_for_department  \\\n",
       "0     2.0                       None  1.0  nm0000184            Directing   \n",
       "1     2.0                       None  2.0  nm0000434               Acting   \n",
       "2     2.0                       None  3.0  nm0000148               Acting   \n",
       "3     1.0  https://carriefisher.com/  4.0  nm0000402               Acting   \n",
       "4     2.0                       None  5.0  nm0001088               Acting   \n",
       "\n",
       "            name                               place_of_birth  popularity  \\\n",
       "0   George Lucas                     Modesto, California, USA       8.257   \n",
       "1    Mark Hamill                     Concord, California, USA       8.961   \n",
       "2  Harrison Ford                       Chicago, Illinois, USA       8.641   \n",
       "3  Carrie Fisher  Beverly Hills, Los Angeles, California, USA       3.679   \n",
       "4  Peter Cushing                  Kenley, Surrey, England, UK       5.950   \n",
       "\n",
       "                       profile_path  status_code status_message  success  \n",
       "0   /WCSZzWdtPmdRxH9LUCVi2JPCSJ.jpg          NaN            NaN      NaN  \n",
       "1  /zMQ93JTLW8KxusKhOlHFZhih3YQ.jpg          NaN            NaN      NaN  \n",
       "2  /5M7oN3sznp99hWYQ9sX0xheswWX.jpg          NaN            NaN      NaN  \n",
       "3  /rfJtncHewKVnHjqpIZvjn24ESeC.jpg          NaN            NaN      NaN  \n",
       "4  /if5g03wn6uvHx7F6FxXHLebKc0q.jpg          NaN            NaN      NaN  "
      ]
     },
     "execution_count": 8,
     "metadata": {},
     "output_type": "execute_result"
    }
   ],
   "source": [
    "actors_df = pd.read_json('datasets/actors.json')\n",
    "\n",
    "print(actors_df.info())\n",
    "print(actors_df.shape)\n",
    "actors_df.head()"
   ]
  },
  {
   "cell_type": "markdown",
   "metadata": {
    "editable": true
   },
   "source": [
    "##### 8) directors.json - 24,223 rows; TMDB API responses to director details queries for directors in movies"
   ]
  },
  {
   "cell_type": "code",
   "execution_count": 9,
   "metadata": {
    "editable": true
   },
   "outputs": [
    {
     "name": "stdout",
     "output_type": "stream",
     "text": [
      "<class 'pandas.core.frame.DataFrame'>\n",
      "RangeIndex: 24223 entries, 0 to 24222\n",
      "Data columns (total 14 columns):\n",
      "adult                   24223 non-null bool\n",
      "also_known_as           24223 non-null object\n",
      "biography               24223 non-null object\n",
      "birthday                10473 non-null object\n",
      "deathday                2865 non-null object\n",
      "gender                  24223 non-null int64\n",
      "homepage                1306 non-null object\n",
      "id                      24223 non-null int64\n",
      "imdb_id                 21673 non-null object\n",
      "known_for_department    24223 non-null object\n",
      "name                    24223 non-null object\n",
      "place_of_birth          9890 non-null object\n",
      "popularity              24223 non-null float64\n",
      "profile_path            8599 non-null object\n",
      "dtypes: bool(1), float64(1), int64(2), object(10)\n",
      "memory usage: 2.4+ MB\n",
      "None\n",
      "(24223, 14)\n"
     ]
    },
    {
     "data": {
      "text/html": [
       "<div>\n",
       "<style scoped>\n",
       "    .dataframe tbody tr th:only-of-type {\n",
       "        vertical-align: middle;\n",
       "    }\n",
       "\n",
       "    .dataframe tbody tr th {\n",
       "        vertical-align: top;\n",
       "    }\n",
       "\n",
       "    .dataframe thead th {\n",
       "        text-align: right;\n",
       "    }\n",
       "</style>\n",
       "<table border=\"1\" class=\"dataframe\">\n",
       "  <thead>\n",
       "    <tr style=\"text-align: right;\">\n",
       "      <th></th>\n",
       "      <th>adult</th>\n",
       "      <th>also_known_as</th>\n",
       "      <th>biography</th>\n",
       "      <th>birthday</th>\n",
       "      <th>deathday</th>\n",
       "      <th>gender</th>\n",
       "      <th>homepage</th>\n",
       "      <th>id</th>\n",
       "      <th>imdb_id</th>\n",
       "      <th>known_for_department</th>\n",
       "      <th>name</th>\n",
       "      <th>place_of_birth</th>\n",
       "      <th>popularity</th>\n",
       "      <th>profile_path</th>\n",
       "    </tr>\n",
       "  </thead>\n",
       "  <tbody>\n",
       "    <tr>\n",
       "      <th>0</th>\n",
       "      <td>False</td>\n",
       "      <td>[George Walton Lucas Jr. , 乔治·卢卡斯, Джордж Лука...</td>\n",
       "      <td>George Walton Lucas Jr. (born May 14, 1944) is...</td>\n",
       "      <td>1944-05-14</td>\n",
       "      <td>None</td>\n",
       "      <td>2</td>\n",
       "      <td>None</td>\n",
       "      <td>1</td>\n",
       "      <td>nm0000184</td>\n",
       "      <td>Directing</td>\n",
       "      <td>George Lucas</td>\n",
       "      <td>Modesto, California, USA</td>\n",
       "      <td>8.257</td>\n",
       "      <td>/WCSZzWdtPmdRxH9LUCVi2JPCSJ.jpg</td>\n",
       "    </tr>\n",
       "    <tr>\n",
       "      <th>1</th>\n",
       "      <td>False</td>\n",
       "      <td>[Mark Hamil, Mark Richard Hamill, Марк Хэмилл,...</td>\n",
       "      <td>Mark Richard Hamill (born September 25, 1951) ...</td>\n",
       "      <td>1951-09-25</td>\n",
       "      <td>None</td>\n",
       "      <td>2</td>\n",
       "      <td>None</td>\n",
       "      <td>2</td>\n",
       "      <td>nm0000434</td>\n",
       "      <td>Acting</td>\n",
       "      <td>Mark Hamill</td>\n",
       "      <td>Concord, California, USA</td>\n",
       "      <td>8.961</td>\n",
       "      <td>/zMQ93JTLW8KxusKhOlHFZhih3YQ.jpg</td>\n",
       "    </tr>\n",
       "    <tr>\n",
       "      <th>2</th>\n",
       "      <td>False</td>\n",
       "      <td>[Andrew A. Stanton]</td>\n",
       "      <td>Andrew Stanton (born December 3, 1965) is an A...</td>\n",
       "      <td>1965-12-03</td>\n",
       "      <td>None</td>\n",
       "      <td>2</td>\n",
       "      <td>None</td>\n",
       "      <td>7</td>\n",
       "      <td>nm0004056</td>\n",
       "      <td>Writing</td>\n",
       "      <td>Andrew Stanton</td>\n",
       "      <td>Boston, Massachusetts, USA</td>\n",
       "      <td>5.120</td>\n",
       "      <td>/tRwWuo06aN9vuXAPaswMN42x2ii.jpg</td>\n",
       "    </tr>\n",
       "    <tr>\n",
       "      <th>3</th>\n",
       "      <td>False</td>\n",
       "      <td>[]</td>\n",
       "      <td>Lee Unkrich is an American director and film e...</td>\n",
       "      <td>1967-08-08</td>\n",
       "      <td>None</td>\n",
       "      <td>2</td>\n",
       "      <td>None</td>\n",
       "      <td>8</td>\n",
       "      <td>nm0881279</td>\n",
       "      <td>Directing</td>\n",
       "      <td>Lee Unkrich</td>\n",
       "      <td>Cleveland, Ohio, USA</td>\n",
       "      <td>1.400</td>\n",
       "      <td>/oeUkLlak2lqKRYZmJZZv5gI87Ok.jpg</td>\n",
       "    </tr>\n",
       "    <tr>\n",
       "      <th>4</th>\n",
       "      <td>False</td>\n",
       "      <td>[]</td>\n",
       "      <td>Albert Lawrence Brooks (born Albert Lawrence E...</td>\n",
       "      <td>1947-07-22</td>\n",
       "      <td>None</td>\n",
       "      <td>2</td>\n",
       "      <td>http://www.albertbrooks.com/</td>\n",
       "      <td>13</td>\n",
       "      <td>nm0000983</td>\n",
       "      <td>Acting</td>\n",
       "      <td>Albert Brooks</td>\n",
       "      <td>Beverly Hills, California, USA</td>\n",
       "      <td>3.665</td>\n",
       "      <td>/8iDSGu5l93N7benjf6b3AysBore.jpg</td>\n",
       "    </tr>\n",
       "  </tbody>\n",
       "</table>\n",
       "</div>"
      ],
      "text/plain": [
       "   adult                                      also_known_as  \\\n",
       "0  False  [George Walton Lucas Jr. , 乔治·卢卡斯, Джордж Лука...   \n",
       "1  False  [Mark Hamil, Mark Richard Hamill, Марк Хэмилл,...   \n",
       "2  False                                [Andrew A. Stanton]   \n",
       "3  False                                                 []   \n",
       "4  False                                                 []   \n",
       "\n",
       "                                           biography    birthday deathday  \\\n",
       "0  George Walton Lucas Jr. (born May 14, 1944) is...  1944-05-14     None   \n",
       "1  Mark Richard Hamill (born September 25, 1951) ...  1951-09-25     None   \n",
       "2  Andrew Stanton (born December 3, 1965) is an A...  1965-12-03     None   \n",
       "3  Lee Unkrich is an American director and film e...  1967-08-08     None   \n",
       "4  Albert Lawrence Brooks (born Albert Lawrence E...  1947-07-22     None   \n",
       "\n",
       "   gender                      homepage  id    imdb_id known_for_department  \\\n",
       "0       2                          None   1  nm0000184            Directing   \n",
       "1       2                          None   2  nm0000434               Acting   \n",
       "2       2                          None   7  nm0004056              Writing   \n",
       "3       2                          None   8  nm0881279            Directing   \n",
       "4       2  http://www.albertbrooks.com/  13  nm0000983               Acting   \n",
       "\n",
       "             name                  place_of_birth  popularity  \\\n",
       "0    George Lucas        Modesto, California, USA       8.257   \n",
       "1     Mark Hamill        Concord, California, USA       8.961   \n",
       "2  Andrew Stanton      Boston, Massachusetts, USA       5.120   \n",
       "3     Lee Unkrich            Cleveland, Ohio, USA       1.400   \n",
       "4   Albert Brooks  Beverly Hills, California, USA       3.665   \n",
       "\n",
       "                       profile_path  \n",
       "0   /WCSZzWdtPmdRxH9LUCVi2JPCSJ.jpg  \n",
       "1  /zMQ93JTLW8KxusKhOlHFZhih3YQ.jpg  \n",
       "2  /tRwWuo06aN9vuXAPaswMN42x2ii.jpg  \n",
       "3  /oeUkLlak2lqKRYZmJZZv5gI87Ok.jpg  \n",
       "4  /8iDSGu5l93N7benjf6b3AysBore.jpg  "
      ]
     },
     "execution_count": 9,
     "metadata": {},
     "output_type": "execute_result"
    }
   ],
   "source": [
    "directors_df = pd.read_json('datasets/directors.json')\n",
    "\n",
    "print(directors_df.info())\n",
    "print(directors_df.shape)\n",
    "directors_df.head()"
   ]
  },
  {
   "cell_type": "markdown",
   "metadata": {
    "editable": true
   },
   "source": [
    "##### 9) writers.json - 35,585 rows; TMDB API responses to director details queries for directors in movies"
   ]
  },
  {
   "cell_type": "code",
   "execution_count": 10,
   "metadata": {
    "editable": true
   },
   "outputs": [
    {
     "name": "stdout",
     "output_type": "stream",
     "text": [
      "<class 'pandas.core.frame.DataFrame'>\n",
      "RangeIndex: 35585 entries, 0 to 35584\n",
      "Data columns (total 17 columns):\n",
      "adult                   35584 non-null float64\n",
      "also_known_as           35584 non-null object\n",
      "biography               35584 non-null object\n",
      "birthday                12313 non-null object\n",
      "deathday                4009 non-null object\n",
      "gender                  35584 non-null float64\n",
      "homepage                1439 non-null object\n",
      "id                      35584 non-null float64\n",
      "imdb_id                 30490 non-null object\n",
      "known_for_department    35584 non-null object\n",
      "name                    35584 non-null object\n",
      "place_of_birth          11167 non-null object\n",
      "popularity              35584 non-null float64\n",
      "profile_path            9504 non-null object\n",
      "status_code             1 non-null float64\n",
      "status_message          1 non-null object\n",
      "success                 1 non-null float64\n",
      "dtypes: float64(6), object(11)\n",
      "memory usage: 4.6+ MB\n",
      "None\n",
      "(35585, 17)\n"
     ]
    },
    {
     "data": {
      "text/html": [
       "<div>\n",
       "<style scoped>\n",
       "    .dataframe tbody tr th:only-of-type {\n",
       "        vertical-align: middle;\n",
       "    }\n",
       "\n",
       "    .dataframe tbody tr th {\n",
       "        vertical-align: top;\n",
       "    }\n",
       "\n",
       "    .dataframe thead th {\n",
       "        text-align: right;\n",
       "    }\n",
       "</style>\n",
       "<table border=\"1\" class=\"dataframe\">\n",
       "  <thead>\n",
       "    <tr style=\"text-align: right;\">\n",
       "      <th></th>\n",
       "      <th>adult</th>\n",
       "      <th>also_known_as</th>\n",
       "      <th>biography</th>\n",
       "      <th>birthday</th>\n",
       "      <th>deathday</th>\n",
       "      <th>gender</th>\n",
       "      <th>homepage</th>\n",
       "      <th>id</th>\n",
       "      <th>imdb_id</th>\n",
       "      <th>known_for_department</th>\n",
       "      <th>name</th>\n",
       "      <th>place_of_birth</th>\n",
       "      <th>popularity</th>\n",
       "      <th>profile_path</th>\n",
       "      <th>status_code</th>\n",
       "      <th>status_message</th>\n",
       "      <th>success</th>\n",
       "    </tr>\n",
       "  </thead>\n",
       "  <tbody>\n",
       "    <tr>\n",
       "      <th>0</th>\n",
       "      <td>0.0</td>\n",
       "      <td>[George Walton Lucas Jr. , 乔治·卢卡斯, Джордж Лука...</td>\n",
       "      <td>George Walton Lucas Jr. (born May 14, 1944) is...</td>\n",
       "      <td>1944-05-14</td>\n",
       "      <td>None</td>\n",
       "      <td>2.0</td>\n",
       "      <td>None</td>\n",
       "      <td>1.0</td>\n",
       "      <td>nm0000184</td>\n",
       "      <td>Directing</td>\n",
       "      <td>George Lucas</td>\n",
       "      <td>Modesto, California, USA</td>\n",
       "      <td>7.677</td>\n",
       "      <td>/WCSZzWdtPmdRxH9LUCVi2JPCSJ.jpg</td>\n",
       "      <td>NaN</td>\n",
       "      <td>NaN</td>\n",
       "      <td>NaN</td>\n",
       "    </tr>\n",
       "    <tr>\n",
       "      <th>1</th>\n",
       "      <td>0.0</td>\n",
       "      <td>[Carrie Frances Fisher , Кэрри Фишер, Кэрри Фр...</td>\n",
       "      <td>Carrie Frances Fisher (21 October 1956 - 27 De...</td>\n",
       "      <td>1956-10-21</td>\n",
       "      <td>2016-12-27</td>\n",
       "      <td>1.0</td>\n",
       "      <td>https://carriefisher.com/</td>\n",
       "      <td>4.0</td>\n",
       "      <td>nm0000402</td>\n",
       "      <td>Acting</td>\n",
       "      <td>Carrie Fisher</td>\n",
       "      <td>Beverly Hills, Los Angeles, California, USA</td>\n",
       "      <td>3.679</td>\n",
       "      <td>/rfJtncHewKVnHjqpIZvjn24ESeC.jpg</td>\n",
       "      <td>NaN</td>\n",
       "      <td>NaN</td>\n",
       "      <td>NaN</td>\n",
       "    </tr>\n",
       "    <tr>\n",
       "      <th>2</th>\n",
       "      <td>0.0</td>\n",
       "      <td>[Andrew A. Stanton]</td>\n",
       "      <td>Andrew Stanton (born December 3, 1965) is an A...</td>\n",
       "      <td>1965-12-03</td>\n",
       "      <td>None</td>\n",
       "      <td>2.0</td>\n",
       "      <td>None</td>\n",
       "      <td>7.0</td>\n",
       "      <td>nm0004056</td>\n",
       "      <td>Writing</td>\n",
       "      <td>Andrew Stanton</td>\n",
       "      <td>Boston, Massachusetts, USA</td>\n",
       "      <td>5.120</td>\n",
       "      <td>/tRwWuo06aN9vuXAPaswMN42x2ii.jpg</td>\n",
       "      <td>NaN</td>\n",
       "      <td>NaN</td>\n",
       "      <td>NaN</td>\n",
       "    </tr>\n",
       "    <tr>\n",
       "      <th>3</th>\n",
       "      <td>0.0</td>\n",
       "      <td>[]</td>\n",
       "      <td>Robert \"Bob\" Peterson (born January 1961) is a...</td>\n",
       "      <td>1961-01-18</td>\n",
       "      <td>None</td>\n",
       "      <td>2.0</td>\n",
       "      <td>None</td>\n",
       "      <td>10.0</td>\n",
       "      <td>nm0677037</td>\n",
       "      <td>Acting</td>\n",
       "      <td>Bob Peterson</td>\n",
       "      <td>Wooster, Ohio, USA</td>\n",
       "      <td>0.840</td>\n",
       "      <td>/1D5PtC97QwIks6xTjbJ1HNE8kbT.jpg</td>\n",
       "      <td>NaN</td>\n",
       "      <td>NaN</td>\n",
       "      <td>NaN</td>\n",
       "    </tr>\n",
       "    <tr>\n",
       "      <th>4</th>\n",
       "      <td>0.0</td>\n",
       "      <td>[Dave Reynolds, David F. Reynolds]</td>\n",
       "      <td>Dave began his writing career in 1993 as one o...</td>\n",
       "      <td>1966-08-10</td>\n",
       "      <td>None</td>\n",
       "      <td>2.0</td>\n",
       "      <td>None</td>\n",
       "      <td>11.0</td>\n",
       "      <td>nm0721675</td>\n",
       "      <td>Writing</td>\n",
       "      <td>David Reynolds</td>\n",
       "      <td>None</td>\n",
       "      <td>1.176</td>\n",
       "      <td>/5iKtATPbLpv2lT7q9DPX2v2qPS1.jpg</td>\n",
       "      <td>NaN</td>\n",
       "      <td>NaN</td>\n",
       "      <td>NaN</td>\n",
       "    </tr>\n",
       "  </tbody>\n",
       "</table>\n",
       "</div>"
      ],
      "text/plain": [
       "   adult                                      also_known_as  \\\n",
       "0    0.0  [George Walton Lucas Jr. , 乔治·卢卡斯, Джордж Лука...   \n",
       "1    0.0  [Carrie Frances Fisher , Кэрри Фишер, Кэрри Фр...   \n",
       "2    0.0                                [Andrew A. Stanton]   \n",
       "3    0.0                                                 []   \n",
       "4    0.0                 [Dave Reynolds, David F. Reynolds]   \n",
       "\n",
       "                                           biography    birthday    deathday  \\\n",
       "0  George Walton Lucas Jr. (born May 14, 1944) is...  1944-05-14        None   \n",
       "1  Carrie Frances Fisher (21 October 1956 - 27 De...  1956-10-21  2016-12-27   \n",
       "2  Andrew Stanton (born December 3, 1965) is an A...  1965-12-03        None   \n",
       "3  Robert \"Bob\" Peterson (born January 1961) is a...  1961-01-18        None   \n",
       "4  Dave began his writing career in 1993 as one o...  1966-08-10        None   \n",
       "\n",
       "   gender                   homepage    id    imdb_id known_for_department  \\\n",
       "0     2.0                       None   1.0  nm0000184            Directing   \n",
       "1     1.0  https://carriefisher.com/   4.0  nm0000402               Acting   \n",
       "2     2.0                       None   7.0  nm0004056              Writing   \n",
       "3     2.0                       None  10.0  nm0677037               Acting   \n",
       "4     2.0                       None  11.0  nm0721675              Writing   \n",
       "\n",
       "             name                               place_of_birth  popularity  \\\n",
       "0    George Lucas                     Modesto, California, USA       7.677   \n",
       "1   Carrie Fisher  Beverly Hills, Los Angeles, California, USA       3.679   \n",
       "2  Andrew Stanton                   Boston, Massachusetts, USA       5.120   \n",
       "3    Bob Peterson                           Wooster, Ohio, USA       0.840   \n",
       "4  David Reynolds                                         None       1.176   \n",
       "\n",
       "                       profile_path  status_code status_message  success  \n",
       "0   /WCSZzWdtPmdRxH9LUCVi2JPCSJ.jpg          NaN            NaN      NaN  \n",
       "1  /rfJtncHewKVnHjqpIZvjn24ESeC.jpg          NaN            NaN      NaN  \n",
       "2  /tRwWuo06aN9vuXAPaswMN42x2ii.jpg          NaN            NaN      NaN  \n",
       "3  /1D5PtC97QwIks6xTjbJ1HNE8kbT.jpg          NaN            NaN      NaN  \n",
       "4  /5iKtATPbLpv2lT7q9DPX2v2qPS1.jpg          NaN            NaN      NaN  "
      ]
     },
     "execution_count": 10,
     "metadata": {},
     "output_type": "execute_result"
    }
   ],
   "source": [
    "writers_df = pd.read_json('datasets/writers.json')\n",
    "\n",
    "print(writers_df.info())\n",
    "print(writers_df.shape)\n",
    "writers_df.head()"
   ]
  },
  {
   "cell_type": "code",
   "execution_count": null,
   "metadata": {
    "editable": true
   },
   "outputs": [],
   "source": []
  },
  {
   "cell_type": "markdown",
   "metadata": {
    "editable": true
   },
   "source": [
    "### Step 2: Explore and Assess the Data\n",
    "#### Explore the Data \n",
    "Identify data quality issues, like missing values, duplicate data, etc.\n",
    "\n",
    "#### Cleaning Steps\n",
    "Document steps necessary to clean the data"
   ]
  },
  {
   "cell_type": "markdown",
   "metadata": {
    "editable": true
   },
   "source": [
    "##### 1) Clean up links dataframe"
   ]
  },
  {
   "cell_type": "code",
   "execution_count": 11,
   "metadata": {
    "editable": true
   },
   "outputs": [],
   "source": [
    "# Need to drop the tmdbId=NaN rows - only interested in movies that are actually in TMDB\n",
    "links.dropna(axis=0, how='any', inplace=True)\n",
    "\n",
    "# Can also drop the imdbId column; will be picking it up below in the proper format\n",
    "links.drop(columns='imdbId', inplace=True)"
   ]
  },
  {
   "cell_type": "markdown",
   "metadata": {
    "editable": true
   },
   "source": [
    "##### 2) Clean up movies dataframe"
   ]
  },
  {
   "cell_type": "code",
   "execution_count": 12,
   "metadata": {
    "editable": true
   },
   "outputs": [],
   "source": [
    "# Will need to link the ids in movies dataframe to tmdbIds, so this is a good (and necessary)\n",
    "#   place to add the links dataframe to the movies dataframe\n",
    "movies = movies.merge(links, how='left', on='movieId')\n",
    "\n",
    "# Retain only the titles in the movies dataframe that are actually confirmed (via API query) to be in TMDB (i.e. are in the people dataframe)\n",
    "movies = movies[movies['tmdbId'].isin(people['id'])]\n",
    "movies.reset_index(drop=True, inplace=True)\n",
    "\n",
    "# Drop the handful of duplicates discovered in the movies df\n",
    "movies = movies.drop_duplicates(subset=['tmdbId'], keep='first')\n",
    "movies.reset_index(drop=True, inplace=True)"
   ]
  },
  {
   "cell_type": "markdown",
   "metadata": {
    "editable": true
   },
   "source": [
    "##### 3) Clean up ratings dataframe"
   ]
  },
  {
   "cell_type": "code",
   "execution_count": 13,
   "metadata": {
    "editable": true
   },
   "outputs": [],
   "source": [
    "# Drop NaN rows (if any)\n",
    "ratings = ratings[~ratings.isna().any(axis=1)]\n",
    "\n",
    "# Far more rows than we need here, and using all of them will needlessly slow \n",
    "#     down the ETL pipeline for this project; so, randomly sample down to 370,000 rows\n",
    "ratings = ratings.sample(n=370000, random_state=999).reset_index(drop=True)\n",
    "\n",
    "# Only include movies that are in the movies dataframe\n",
    "ratings = ratings[ratings['movieId'].isin(movies['movieId'].unique())]"
   ]
  },
  {
   "cell_type": "markdown",
   "metadata": {
    "editable": true
   },
   "source": [
    "##### 4) Clean up tags dataframe"
   ]
  },
  {
   "cell_type": "code",
   "execution_count": 14,
   "metadata": {
    "editable": true
   },
   "outputs": [],
   "source": [
    "# Drop NaN rows (if any)\n",
    "tags = tags[~tags.isna().any(axis=1)]  # Drop any NaN rows\n",
    "\n",
    "# Far more rows than we need here, and using all of them will needlessly slow \n",
    "#     down the ETL pipeline for this project; so, randomly sample down to 370,000 rows\n",
    "tags = tags.sample(n=370000, random_state=999).reset_index(drop=True)\n",
    "\n",
    "# Convert all tags to lower case to make sure the same tag is not represented multiple ways\n",
    "tags['tag'] = tags['tag'].str.lower()\n",
    "\n",
    "# Only include movies that are in the movies dataframe\n",
    "tags = tags[tags['movieId'].isin(movies['movieId'].unique())]"
   ]
  },
  {
   "cell_type": "markdown",
   "metadata": {
    "editable": true
   },
   "source": [
    "##### 5) Clean up people dataframe"
   ]
  },
  {
   "cell_type": "code",
   "execution_count": 15,
   "metadata": {
    "editable": true
   },
   "outputs": [
    {
     "data": {
      "text/html": [
       "<div>\n",
       "<style scoped>\n",
       "    .dataframe tbody tr th:only-of-type {\n",
       "        vertical-align: middle;\n",
       "    }\n",
       "\n",
       "    .dataframe tbody tr th {\n",
       "        vertical-align: top;\n",
       "    }\n",
       "\n",
       "    .dataframe thead th {\n",
       "        text-align: right;\n",
       "    }\n",
       "</style>\n",
       "<table border=\"1\" class=\"dataframe\">\n",
       "  <thead>\n",
       "    <tr style=\"text-align: right;\">\n",
       "      <th></th>\n",
       "      <th>id</th>\n",
       "      <th>actor1_id</th>\n",
       "      <th>actor2_id</th>\n",
       "      <th>actor3_id</th>\n",
       "      <th>actor4_id</th>\n",
       "      <th>actor5_id</th>\n",
       "      <th>director1_id</th>\n",
       "      <th>director2_id</th>\n",
       "      <th>director3_id</th>\n",
       "      <th>director4_id</th>\n",
       "      <th>director5_id</th>\n",
       "      <th>writer1_id</th>\n",
       "      <th>writer2_id</th>\n",
       "      <th>writer3_id</th>\n",
       "      <th>writer4_id</th>\n",
       "      <th>writer5_id</th>\n",
       "    </tr>\n",
       "  </thead>\n",
       "  <tbody>\n",
       "    <tr>\n",
       "      <th>37806</th>\n",
       "      <td>125464</td>\n",
       "      <td>1081416.0</td>\n",
       "      <td>147518.0</td>\n",
       "      <td>209380.0</td>\n",
       "      <td>94492.0</td>\n",
       "      <td>1081420.0</td>\n",
       "      <td>68738.0</td>\n",
       "      <td>NaN</td>\n",
       "      <td>NaN</td>\n",
       "      <td>NaN</td>\n",
       "      <td>NaN</td>\n",
       "      <td>NaN</td>\n",
       "      <td>NaN</td>\n",
       "      <td>NaN</td>\n",
       "      <td>NaN</td>\n",
       "      <td>NaN</td>\n",
       "    </tr>\n",
       "  </tbody>\n",
       "</table>\n",
       "</div>"
      ],
      "text/plain": [
       "           id  actor1_id  actor2_id  actor3_id  actor4_id  actor5_id  \\\n",
       "37806  125464  1081416.0   147518.0   209380.0    94492.0  1081420.0   \n",
       "\n",
       "       director1_id  director2_id  director3_id  director4_id  director5_id  \\\n",
       "37806       68738.0           NaN           NaN           NaN           NaN   \n",
       "\n",
       "       writer1_id  writer2_id  writer3_id  writer4_id  writer5_id  \n",
       "37806         NaN         NaN         NaN         NaN         NaN  "
      ]
     },
     "execution_count": 15,
     "metadata": {},
     "output_type": "execute_result"
    }
   ],
   "source": [
    "# Fix a known TMDB query error discovered during data exploration: \n",
    "#   For TMDB movie id 125464, substitute correct actor 147518 for unknown actor 189129\n",
    "\n",
    "people.loc[people['id'] == 125464.0]\n",
    "people.loc[people['id'] == 125464.0, 'actor2_id'] = 147518.0\n",
    "people.loc[people['id'] == 125464.0]"
   ]
  },
  {
   "cell_type": "code",
   "execution_count": 16,
   "metadata": {
    "editable": true
   },
   "outputs": [
    {
     "data": {
      "text/html": [
       "<div>\n",
       "<style scoped>\n",
       "    .dataframe tbody tr th:only-of-type {\n",
       "        vertical-align: middle;\n",
       "    }\n",
       "\n",
       "    .dataframe tbody tr th {\n",
       "        vertical-align: top;\n",
       "    }\n",
       "\n",
       "    .dataframe thead th {\n",
       "        text-align: right;\n",
       "    }\n",
       "</style>\n",
       "<table border=\"1\" class=\"dataframe\">\n",
       "  <thead>\n",
       "    <tr style=\"text-align: right;\">\n",
       "      <th></th>\n",
       "      <th>id</th>\n",
       "      <th>actor1_id</th>\n",
       "      <th>actor2_id</th>\n",
       "      <th>actor3_id</th>\n",
       "      <th>actor4_id</th>\n",
       "      <th>actor5_id</th>\n",
       "      <th>director1_id</th>\n",
       "      <th>director2_id</th>\n",
       "      <th>director3_id</th>\n",
       "      <th>director4_id</th>\n",
       "      <th>director5_id</th>\n",
       "      <th>writer1_id</th>\n",
       "      <th>writer2_id</th>\n",
       "      <th>writer3_id</th>\n",
       "      <th>writer4_id</th>\n",
       "      <th>writer5_id</th>\n",
       "    </tr>\n",
       "  </thead>\n",
       "  <tbody>\n",
       "    <tr>\n",
       "      <th>50604</th>\n",
       "      <td>93195</td>\n",
       "      <td>8791.0</td>\n",
       "      <td>80178.0</td>\n",
       "      <td>1035301.0</td>\n",
       "      <td>96481.0</td>\n",
       "      <td>133113.0</td>\n",
       "      <td>41968.0</td>\n",
       "      <td>NaN</td>\n",
       "      <td>NaN</td>\n",
       "      <td>NaN</td>\n",
       "      <td>NaN</td>\n",
       "      <td>41968.0</td>\n",
       "      <td>1035303.0</td>\n",
       "      <td>NaN</td>\n",
       "      <td>NaN</td>\n",
       "      <td>NaN</td>\n",
       "    </tr>\n",
       "  </tbody>\n",
       "</table>\n",
       "</div>"
      ],
      "text/plain": [
       "          id  actor1_id  actor2_id  actor3_id  actor4_id  actor5_id  \\\n",
       "50604  93195     8791.0    80178.0  1035301.0    96481.0   133113.0   \n",
       "\n",
       "       director1_id  director2_id  director3_id  director4_id  director5_id  \\\n",
       "50604       41968.0           NaN           NaN           NaN           NaN   \n",
       "\n",
       "       writer1_id  writer2_id  writer3_id  writer4_id  writer5_id  \n",
       "50604     41968.0   1035303.0         NaN         NaN         NaN  "
      ]
     },
     "execution_count": 16,
     "metadata": {},
     "output_type": "execute_result"
    }
   ],
   "source": [
    "# Fix another known TMDB query error: \n",
    "#   For TMDB movie id 93195, substitute correct actor 133113 for unknown actor 1035856\n",
    "\n",
    "people.loc[people['id'] == 93195.0]\n",
    "people.loc[people['id'] == 93195.0, 'actor5_id'] = 133113.0\n",
    "people.loc[people['id'] == 93195.0]"
   ]
  },
  {
   "cell_type": "code",
   "execution_count": 17,
   "metadata": {
    "editable": true
   },
   "outputs": [
    {
     "data": {
      "text/html": [
       "<div>\n",
       "<style scoped>\n",
       "    .dataframe tbody tr th:only-of-type {\n",
       "        vertical-align: middle;\n",
       "    }\n",
       "\n",
       "    .dataframe tbody tr th {\n",
       "        vertical-align: top;\n",
       "    }\n",
       "\n",
       "    .dataframe thead th {\n",
       "        text-align: right;\n",
       "    }\n",
       "</style>\n",
       "<table border=\"1\" class=\"dataframe\">\n",
       "  <thead>\n",
       "    <tr style=\"text-align: right;\">\n",
       "      <th></th>\n",
       "      <th>id</th>\n",
       "      <th>actor1_id</th>\n",
       "      <th>actor2_id</th>\n",
       "      <th>actor3_id</th>\n",
       "      <th>actor4_id</th>\n",
       "      <th>actor5_id</th>\n",
       "      <th>director1_id</th>\n",
       "      <th>director2_id</th>\n",
       "      <th>director3_id</th>\n",
       "      <th>director4_id</th>\n",
       "      <th>director5_id</th>\n",
       "      <th>writer1_id</th>\n",
       "      <th>writer2_id</th>\n",
       "      <th>writer3_id</th>\n",
       "      <th>writer4_id</th>\n",
       "      <th>writer5_id</th>\n",
       "    </tr>\n",
       "  </thead>\n",
       "  <tbody>\n",
       "    <tr>\n",
       "      <th>2748</th>\n",
       "      <td>24128</td>\n",
       "      <td>3078.0</td>\n",
       "      <td>91229.0</td>\n",
       "      <td>91230.0</td>\n",
       "      <td>91233.0</td>\n",
       "      <td>1194050.0</td>\n",
       "      <td>16294.0</td>\n",
       "      <td>NaN</td>\n",
       "      <td>NaN</td>\n",
       "      <td>NaN</td>\n",
       "      <td>NaN</td>\n",
       "      <td>16294.0</td>\n",
       "      <td>NaN</td>\n",
       "      <td>NaN</td>\n",
       "      <td>NaN</td>\n",
       "      <td>NaN</td>\n",
       "    </tr>\n",
       "  </tbody>\n",
       "</table>\n",
       "</div>"
      ],
      "text/plain": [
       "         id  actor1_id  actor2_id  actor3_id  actor4_id  actor5_id  \\\n",
       "2748  24128     3078.0    91229.0    91230.0    91233.0  1194050.0   \n",
       "\n",
       "      director1_id  director2_id  director3_id  director4_id  director5_id  \\\n",
       "2748       16294.0           NaN           NaN           NaN           NaN   \n",
       "\n",
       "      writer1_id  writer2_id  writer3_id  writer4_id  writer5_id  \n",
       "2748     16294.0         NaN         NaN         NaN         NaN  "
      ]
     },
     "execution_count": 17,
     "metadata": {},
     "output_type": "execute_result"
    }
   ],
   "source": [
    "# Fix another known TMDB query error: \n",
    "#   For TMDB movie id 24128, there is no second writer credited, so set writer2_id to NaN\n",
    "\n",
    "people.loc[people['id'] == 24128.0]\n",
    "people.loc[people['id'] == 24128.0, 'writer2_id'] = np.nan\n",
    "people.loc[people['id'] == 24128.0]"
   ]
  },
  {
   "cell_type": "markdown",
   "metadata": {
    "editable": true
   },
   "source": [
    "##### 6) Clean up details dataframe"
   ]
  },
  {
   "cell_type": "code",
   "execution_count": 18,
   "metadata": {
    "editable": true
   },
   "outputs": [],
   "source": [
    "# Drop unininteresting columns (NOTE: 'budget' and 'revenue' would have been interesting, but the\n",
    "#   vast majority of titles queried do not include these two values, so we'll drop them)\n",
    "details.drop(columns=['adult', 'backdrop_path', 'belongs_to_collection', 'homepage', 'budget', \\\n",
    "                      'original_title', 'overview', 'poster_path', 'production_companies', \\\n",
    "                      'production_countries', 'spoken_languages', 'status', 'tagline', 'revenue', \\\n",
    "                      'title', 'video', 'genres', 'original_language', 'popularity'], inplace=True)"
   ]
  },
  {
   "cell_type": "markdown",
   "metadata": {
    "editable": true
   },
   "source": [
    "##### 7) Clean up actors dataframe"
   ]
  },
  {
   "cell_type": "code",
   "execution_count": 19,
   "metadata": {
    "editable": true
   },
   "outputs": [],
   "source": [
    "# Drop unwanted/uninteresting columns from actors df\n",
    "actors_df.drop(columns=['success', 'status_code', 'status_message', 'adult', 'also_known_as', 'biography', 'gender', \\\n",
    "                        'homepage', 'known_for_department', 'place_of_birth', 'popularity', 'profile_path'], \\\n",
    "              inplace=True)"
   ]
  },
  {
   "cell_type": "markdown",
   "metadata": {
    "editable": true
   },
   "source": [
    "##### 8) Clean up directors dataframe"
   ]
  },
  {
   "cell_type": "code",
   "execution_count": 20,
   "metadata": {
    "editable": true
   },
   "outputs": [],
   "source": [
    "# Drop unwanted/uninteresting columns from directors df\n",
    "directors_df.drop(columns=['adult', 'also_known_as', 'biography', 'gender', 'homepage', \\\n",
    "                        'known_for_department', 'place_of_birth', 'popularity', 'profile_path'], \\\n",
    "              inplace=True)"
   ]
  },
  {
   "cell_type": "markdown",
   "metadata": {
    "editable": true
   },
   "source": [
    "##### 9) Clean up writers dataframe"
   ]
  },
  {
   "cell_type": "code",
   "execution_count": 21,
   "metadata": {
    "editable": true
   },
   "outputs": [],
   "source": [
    "# Drop unwanted/uninteresting columns from writers df\n",
    "writers_df.drop(columns=['success', 'status_code', 'status_message', 'adult', 'also_known_as', 'biography', 'gender', \\\n",
    "                         'homepage', 'known_for_department', 'place_of_birth', 'popularity', 'profile_path'], \\\n",
    "              inplace=True)\n",
    "\n",
    "# Drop the known single NaN (result of errant query)\n",
    "writers_df = writers_df[~writers_df.isnull().all(axis=1)]"
   ]
  },
  {
   "cell_type": "code",
   "execution_count": null,
   "metadata": {
    "editable": true
   },
   "outputs": [],
   "source": []
  },
  {
   "cell_type": "markdown",
   "metadata": {
    "editable": true
   },
   "source": [
    "### Step 3: Define the Data Model\n",
    "#### 3.1 Conceptual Data Model\n",
    "Map out the conceptual data model and explain why you chose that model\n",
    "\n",
    "#### 3.2 Mapping Out Data Pipelines\n",
    "List the steps necessary to pipeline the data into the chosen data model"
   ]
  },
  {
   "cell_type": "markdown",
   "metadata": {
    "editable": true
   },
   "source": [
    "### Step 4: Run Pipelines to Model the Data \n",
    "#### 4.1 Create the data model\n",
    "Build the data pipelines to create the data model."
   ]
  },
  {
   "cell_type": "markdown",
   "metadata": {
    "editable": true
   },
   "source": [
    "NOTE: The query structure used below loads 2000 rows at a time, resulting in a significant time savings relative to inserting one row of data at a time. The methodology was adapted from comments and code suggested here: https://stackoverflow.com/questions/8134602/psycopg2-insert-multiple-rows-with-one-query"
   ]
  },
  {
   "cell_type": "code",
   "execution_count": 22,
   "metadata": {
    "editable": true
   },
   "outputs": [],
   "source": [
    "start = time.time()"
   ]
  },
  {
   "cell_type": "markdown",
   "metadata": {
    "editable": true
   },
   "source": [
    "##### 1) Create Tables"
   ]
  },
  {
   "cell_type": "code",
   "execution_count": 23,
   "metadata": {
    "editable": true
   },
   "outputs": [],
   "source": [
    "def create_database():\n",
    "    \"\"\"\n",
    "    - Creates and connects to the sparkifydb\n",
    "    - Returns the connection and cursor to sparkifydb\n",
    "    \"\"\"\n",
    "    \n",
    "    # connect to default database\n",
    "    conn = psycopg2.connect(\"host=127.0.0.1 dbname=studentdb user=student password=student\")\n",
    "    conn.set_session(autocommit=True)\n",
    "    cur = conn.cursor()\n",
    "    \n",
    "    # create movies database with UTF8 encoding\n",
    "    cur.execute(\"DROP DATABASE IF EXISTS moviesdb\")\n",
    "    cur.execute(\"CREATE DATABASE moviesdb WITH ENCODING 'utf8' TEMPLATE template0\")\n",
    "\n",
    "    # close connection to default database\n",
    "    conn.close()    \n",
    "    \n",
    "    # connect to movies database\n",
    "    conn = psycopg2.connect(\"host=127.0.0.1 dbname=moviesdb user=student password=student\")\n",
    "    cur = conn.cursor()\n",
    "    \n",
    "    return cur, conn\n",
    "\n",
    "\n",
    "def drop_tables(cur, conn):\n",
    "    \"\"\"\n",
    "    Drops each table using the queries in `drop_table_queries` list.\n",
    "    \"\"\"\n",
    "    for query in drop_table_queries:\n",
    "        cur.execute(query)\n",
    "        conn.commit()\n",
    "\n",
    "\n",
    "def create_tables(cur, conn):\n",
    "    \"\"\"\n",
    "    Creates each table using the queries in `create_table_queries` list. \n",
    "    \"\"\"\n",
    "    for query in create_table_queries:\n",
    "        cur.execute(query)\n",
    "        conn.commit()\n",
    "\n",
    "\n",
    "def main():\n",
    "    \"\"\"\n",
    "    - Drops (if exists) and Creates the sparkify database. \n",
    "    \n",
    "    - Establishes connection with the sparkify database and gets\n",
    "      cursor to it.  \n",
    "    \n",
    "    - Drops all the tables.  \n",
    "    \n",
    "    - Creates all tables needed. \n",
    "    \n",
    "    - Finally, closes the connection. \n",
    "    \"\"\"\n",
    "    cur, conn = create_database()\n",
    "    \n",
    "    drop_tables(cur, conn)\n",
    "    create_tables(cur, conn)\n",
    "\n",
    "    conn.close()\n",
    "\n",
    "\n",
    "if __name__ == \"__main__\":\n",
    "    main()"
   ]
  },
  {
   "cell_type": "code",
   "execution_count": 24,
   "metadata": {
    "editable": true
   },
   "outputs": [],
   "source": [
    "psycopg2.extensions.register_adapter(np.int64, psycopg2._psycopg.AsIs)\n",
    "psycopg2.extensions.register_adapter(np.datetime64, psycopg2._psycopg.AsIs)"
   ]
  },
  {
   "cell_type": "markdown",
   "metadata": {
    "editable": true
   },
   "source": [
    "##### 2) Verify that tables were created"
   ]
  },
  {
   "cell_type": "code",
   "execution_count": 25,
   "metadata": {
    "editable": true
   },
   "outputs": [
    {
     "name": "stdout",
     "output_type": "stream",
     "text": [
      "('fact_user_actions',)\n",
      "('dim_users',)\n",
      "('dim_time',)\n",
      "('dim_movies',)\n",
      "('dim_actors',)\n",
      "('dim_directors',)\n",
      "('dim_writers',)\n"
     ]
    }
   ],
   "source": [
    "# Re-connect to the Movies Database\n",
    "conn = psycopg2.connect(\"host=127.0.0.1 dbname=moviesdb user=student password=student\")\n",
    "conn.autocommit = True\n",
    "cur = conn.cursor()\n",
    "\n",
    "# Query to verify that the empty tables exist\n",
    "try:\n",
    "    cur.execute(\"SELECT table_name FROM information_schema.tables WHERE table_schema='public'\")\n",
    "except psycopg2.Error as e:\n",
    "    print(e)\n",
    "    \n",
    "row = cur.fetchone()\n",
    "while row:\n",
    "   print(row)\n",
    "   row = cur.fetchone()"
   ]
  },
  {
   "cell_type": "markdown",
   "metadata": {
    "editable": true
   },
   "source": [
    "##### 3) dim_movies table ETL Pipeline"
   ]
  },
  {
   "cell_type": "code",
   "execution_count": 26,
   "metadata": {
    "editable": true
   },
   "outputs": [
    {
     "name": "stdout",
     "output_type": "stream",
     "text": [
      "\n",
      " Loading dim_movies table...\n",
      "\n",
      "\n",
      "Time Elapsed So Far: 0.2 mins\n",
      "\n"
     ]
    }
   ],
   "source": [
    "# Add the columns in the people df to the movies df\n",
    "movies = movies.merge(people, how='left', left_on='tmdbId', right_on='id').drop(columns=['id'])\n",
    "\n",
    "# Add the columns in the details df to the movies df\n",
    "movies = movies.merge(details, how='left', left_on='tmdbId', right_on='id')\n",
    "movies = movies.drop(columns='id')\n",
    "\n",
    "# Covert timestamps to datetimes\n",
    "movies['release_date'] = pd.to_datetime(movies['release_date'], yearfirst=True, errors = 'coerce')\n",
    "\n",
    "# Rename and reorder columns to match the defined schema\n",
    "movies.rename(columns={'movieId': 'movie_id', 'tmdbId': 'tmdb_id', 'vote_average': 'tmdb_rating_avg', \\\n",
    "                       'vote_count': 'tmdb_votes_tot'}, \\\n",
    "              inplace=True)\n",
    "movies = movies[['movie_id', 'title', 'tmdb_id', 'imdb_id', 'genres', 'actor1_id', 'actor2_id', \\\n",
    "                 'actor3_id', 'actor4_id', 'actor5_id', 'director1_id', 'director2_id', \\\n",
    "                 'director3_id', 'director4_id', 'director5_id', 'writer1_id', 'writer2_id', \\\n",
    "                 'writer3_id', 'writer4_id', 'writer5_id', 'release_date', 'runtime', \\\n",
    "                 'tmdb_rating_avg', 'tmdb_votes_tot']]\n",
    "\n",
    "# Make these ids strings to accommodate NaNs \n",
    "# for col in ['tmdb_id','actor1_id','actor2_id','actor3_id','actor4_id','actor5_id', \\\n",
    "#             'director1_id','director2_id','director3_id','director4_id','director5_id', \\\n",
    "#             'writer1_id','writer2_id','writer3_id','writer4_id','writer5_id']:\n",
    "#     movies[col] = movies[col].astype(float).apply(str)\n",
    "# Change NaNs to None to accomodate postgreSQL\n",
    "movies.replace({np.NaN: None}, inplace=True)\n",
    "\n",
    "# Load the dim_movies table\n",
    "print('\\n Loading dim_movies table...\\n')\n",
    "for i in range(math.ceil(movies.shape[0] / 2000)):\n",
    "    tup = movies.iloc[ 2000*i : 2000*(i+1), :]\n",
    "    tup = list(tup.to_records(index=False))\n",
    "    try:\n",
    "        execute_values(cur, movies_table_insert, tup) \n",
    "    except psycopg2.Error as e:\n",
    "        print(e)\n",
    "        break\n",
    "        \n",
    "print('\\nTime Elapsed So Far: {} mins\\n'.format(str(round((time.time() - start)/60, 1))))"
   ]
  },
  {
   "cell_type": "markdown",
   "metadata": {
    "editable": true
   },
   "source": [
    "##### 4) dim_actors ETL Pipeline"
   ]
  },
  {
   "cell_type": "code",
   "execution_count": 27,
   "metadata": {
    "editable": true
   },
   "outputs": [
    {
     "name": "stdout",
     "output_type": "stream",
     "text": [
      "\n",
      " Loading dim_actors table...\n",
      "\n",
      "\n",
      "Time Elapsed So Far: 0.3 mins\n",
      "\n"
     ]
    }
   ],
   "source": [
    "# Covert timestamps to datetimes\n",
    "actors_df['birthday'] = pd.to_datetime(actors_df['birthday'], yearfirst=True, errors = 'coerce')\n",
    "actors_df['deathday'] = pd.to_datetime(actors_df['deathday'], yearfirst=True, errors = 'coerce')\n",
    "\n",
    "# Rename the column ids & reorder to match the specified schema\n",
    "actors_df.rename(columns={'id': 'actor_id'}, inplace=True)\n",
    "actors_df = actors_df[['actor_id', 'name', 'imdb_id', 'birthday', 'deathday']]\n",
    "\n",
    "# Clear known NaN rows\n",
    "actors_df = actors_df[~actors_df['actor_id'].isna()]\n",
    "\n",
    "# Change NaNs to None to accommodate postgreSQL\n",
    "actors_df.replace({np.NaN: None}, inplace=True)\n",
    "\n",
    "# Load the dim_actors table\n",
    "print('\\n Loading dim_actors table...\\n')\n",
    "for i in range(math.ceil(actors_df.shape[0] / 2000)):\n",
    "    tup = actors_df.iloc[ 2000*i : 2000*(i+1), :]\n",
    "    tup = list(tup.to_records(index=False))\n",
    "    try:\n",
    "        execute_values(cur, actors_table_insert, tup) \n",
    "    except psycopg2.Error as e:\n",
    "        print(e)\n",
    "        break\n",
    "        \n",
    "print('\\nTime Elapsed So Far: {} mins\\n'.format(str(round((time.time() - start)/60, 1))))"
   ]
  },
  {
   "cell_type": "markdown",
   "metadata": {
    "editable": true
   },
   "source": [
    "##### 5) dim_directors ETL Pipeline"
   ]
  },
  {
   "cell_type": "code",
   "execution_count": 28,
   "metadata": {
    "editable": true
   },
   "outputs": [
    {
     "name": "stdout",
     "output_type": "stream",
     "text": [
      "\n",
      " Loading dim_directors table...\n",
      "\n",
      "\n",
      "Time Elapsed So Far: 0.4 mins\n",
      "\n"
     ]
    }
   ],
   "source": [
    "# Covert timestamps to datetimes\n",
    "directors_df['birthday'] = pd.to_datetime(directors_df['birthday'], yearfirst=True, errors = 'coerce')\n",
    "directors_df['deathday'] = pd.to_datetime(directors_df['deathday'], yearfirst=True, errors = 'coerce')\n",
    "\n",
    "# Rename the column ids & reorder to match the specified schema\n",
    "directors_df.rename(columns={'id': 'director_id'}, inplace=True)\n",
    "directors_df = directors_df[['director_id', 'name', 'imdb_id', 'birthday', 'deathday']]\n",
    "\n",
    "# Change NaNs to None to accommodate postgreSQL\n",
    "directors_df.replace({np.NaN: None}, inplace=True)\n",
    "\n",
    "# Load the dim_directors table\n",
    "print('\\n Loading dim_directors table...\\n')\n",
    "for i in range(math.ceil(directors_df.shape[0] / 2000)):\n",
    "    tup = directors_df.iloc[ 2000*i : 2000*(i+1), :]\n",
    "    tup = list(tup.to_records(index=False))\n",
    "    try:\n",
    "        execute_values(cur, directors_table_insert, tup) \n",
    "    except psycopg2.Error as e:\n",
    "        print(e)\n",
    "        break\n",
    "        \n",
    "print('\\nTime Elapsed So Far: {} mins\\n'.format(str(round((time.time() - start)/60, 1))))"
   ]
  },
  {
   "cell_type": "markdown",
   "metadata": {
    "editable": true
   },
   "source": [
    "##### 6) dim_writers ETL Pipeline"
   ]
  },
  {
   "cell_type": "code",
   "execution_count": 29,
   "metadata": {
    "editable": true
   },
   "outputs": [
    {
     "name": "stdout",
     "output_type": "stream",
     "text": [
      "\n",
      " Loading dim_writers table...\n",
      "\n",
      "\n",
      "Time Elapsed So Far: 0.4 mins\n",
      "\n"
     ]
    }
   ],
   "source": [
    "# Covert timestamps to datetimes\n",
    "writers_df['birthday'] = pd.to_datetime(writers_df['birthday'], yearfirst=True, errors = 'coerce')\n",
    "writers_df['deathday'] = pd.to_datetime(writers_df['deathday'], yearfirst=True, errors = 'coerce')\n",
    "\n",
    "# Rename the column ids & reorder to match the specified schema\n",
    "writers_df.rename(columns={'id': 'writer_id'}, inplace=True)\n",
    "writers_df = writers_df[['writer_id', 'name', 'imdb_id', 'birthday', 'deathday']]\n",
    "\n",
    "# Change NaNs to None to accommodate postgreSQL\n",
    "writers_df.replace({np.NaN: None}, inplace=True)\n",
    "\n",
    "# Load the dim_writers table\n",
    "print('\\n Loading dim_writers table...\\n')\n",
    "for i in range(math.ceil(writers_df.shape[0] / 2000)):\n",
    "    tup = writers_df.iloc[ 2000*i : 2000*(i+1), :]\n",
    "    tup = list(tup.to_records(index=False))\n",
    "    try:\n",
    "        execute_values(cur, writers_table_insert, tup) \n",
    "    except psycopg2.Error as e:\n",
    "        print(e)\n",
    "        break\n",
    "        \n",
    "print('\\nTime Elapsed So Far: {} mins\\n'.format(str(round((time.time() - start)/60, 1))))"
   ]
  },
  {
   "cell_type": "markdown",
   "metadata": {
    "editable": true
   },
   "source": [
    "##### 7) fact_user_actions ETL Pipline"
   ]
  },
  {
   "cell_type": "code",
   "execution_count": 30,
   "metadata": {
    "editable": true
   },
   "outputs": [
    {
     "name": "stdout",
     "output_type": "stream",
     "text": [
      "\n",
      " Loading fact_user_actions table...\n",
      "\n",
      "\n",
      "Time Elapsed So Far: 1.1 mins\n",
      "\n"
     ]
    }
   ],
   "source": [
    "# Create the user_actions dataframe using ratings and tags dataframes; \n",
    "#    action can be 'rate' or 'tag'; \n",
    "#    action_val is a tag or 0-5 rating (represented as a string)\n",
    "user_actions = ratings.copy(deep=True)\n",
    "user_actions['action'] = 'rate'\n",
    "user_actions['action_val'] = user_actions['rating'].apply(str)\n",
    "user_actions.drop(columns=['rating'], inplace=True)\n",
    "user_actions = user_actions[['userId', 'timestamp', 'movieId', 'action', 'action_val']]\n",
    "user_actions2 = tags.copy(deep=True)\n",
    "user_actions2['action'] = 'tag'\n",
    "user_actions2.rename(columns={'tag': 'action_val'}, inplace=True)\n",
    "user_actions2 = user_actions2[['userId', 'timestamp', 'movieId', 'action', 'action_val']]\n",
    "user_actions = pd.concat([user_actions, user_actions2], axis=0)\n",
    "user_actions.reset_index(drop=True, inplace=True)\n",
    "\n",
    "# Convert timestamps to datetimes\n",
    "user_actions.loc[:, 'timestamp'] = \\\n",
    "                user_actions.loc[:, 'timestamp'] \\\n",
    "                            .apply(lambda x: datetime.datetime.fromtimestamp(x).strftime('%Y-%m-%d %H:%M:%S'))\n",
    "user_actions.rename(columns={'userId': 'user_id', 'timestamp': 'action_time', 'movieId': 'movie_id'}, inplace=True)\n",
    "\n",
    "# Load the fact_user_actions table\n",
    "print('\\n Loading fact_user_actions table...\\n')\n",
    "for i in range(math.ceil(user_actions.shape[0] / 2000)):\n",
    "    tup = user_actions.iloc[ 2000*i : 2000*(i+1), :]\n",
    "    tup = list(tup.to_records(index=False))\n",
    "    try:\n",
    "        execute_values(cur, user_actions_table_insert, tup) \n",
    "    except psycopg2.Error as e:\n",
    "        print(e)\n",
    "        break\n",
    "        \n",
    "print('\\nTime Elapsed So Far: {} mins\\n'.format(str(round((time.time() - start)/60, 1))))"
   ]
  },
  {
   "cell_type": "markdown",
   "metadata": {
    "editable": true
   },
   "source": [
    "##### 8) dim_users ETL Pipeline"
   ]
  },
  {
   "cell_type": "code",
   "execution_count": 31,
   "metadata": {
    "editable": true
   },
   "outputs": [
    {
     "name": "stdout",
     "output_type": "stream",
     "text": [
      "\n",
      " Loading dim_users table...\n",
      "\n",
      "\n",
      "Time Elapsed So Far: 1.5 mins\n",
      "\n"
     ]
    }
   ],
   "source": [
    "# This code computes 'num_ratings', 'num_tags' and 'avg_rating' per user represented in fact_user_actions table\n",
    "\n",
    "users_df = pd.DataFrame(data={'user_id': np.sort(user_actions['user_id'].unique())})\n",
    "user_actions['rated'] = user_actions['action'].apply(lambda x: 1 if (x == 'rate') else 0)\n",
    "user_actions['tagged'] = user_actions['action'].apply(lambda x: 1 if (x == 'tag') else 0)\n",
    "user_actions['rating_val'] = user_actions[['action','action_val']] \\\n",
    "                            .apply(lambda x: np.nan if (x['action'] == 'tag') else float(x['action_val']), \\\n",
    "                                  axis=1)\n",
    "user_actions['num_ratings'] = user_actions.groupby('user_id')['rated'].transform(np.sum)\n",
    "user_actions['num_tags'] = user_actions.groupby('user_id')['tagged'].transform(np.sum)\n",
    "user_actions['avg_rating'] = user_actions.groupby('user_id')['rating_val'].transform(np.mean)\n",
    "temp = user_actions.groupby('user_id').first().reset_index()\n",
    "users_df['num_ratings'] = temp['num_ratings']\n",
    "users_df['num_tags'] = temp['num_tags']\n",
    "users_df['avg_rating'] = temp['avg_rating']\n",
    "user_actions.drop(columns=['rated', 'tagged', 'num_ratings', 'num_tags', 'rating_val', 'avg_rating'], \\\n",
    "                  inplace=True)\n",
    "\n",
    "# Change NaNs to None to accomodate postgreSQL\n",
    "users_df.replace({np.NaN: None}, inplace=True)\n",
    "\n",
    "# Load the dim_users table\n",
    "print('\\n Loading dim_users table...\\n')\n",
    "for i in range(math.ceil(users_df.shape[0] / 2000)):\n",
    "    tup = users_df.iloc[ 2000*i : 2000*(i+1), :]\n",
    "    tup = list(tup.to_records(index=False))\n",
    "    try:\n",
    "        execute_values(cur, users_table_insert, tup) \n",
    "    except psycopg2.Error as e:\n",
    "        print(e)\n",
    "        break\n",
    "        \n",
    "print('\\nTime Elapsed So Far: {} mins\\n'.format(str(round((time.time() - start)/60, 1))))"
   ]
  },
  {
   "cell_type": "markdown",
   "metadata": {
    "editable": true
   },
   "source": [
    "##### 9) dim_time ETL Pipeline"
   ]
  },
  {
   "cell_type": "code",
   "execution_count": 32,
   "metadata": {
    "editable": true
   },
   "outputs": [
    {
     "name": "stdout",
     "output_type": "stream",
     "text": [
      "\n",
      " Loading dim_time table...\n",
      "\n",
      "\n",
      "Total elapsed time to load all tables: 2.4 mins\n",
      "\n"
     ]
    }
   ],
   "source": [
    "# All event times appearing in fact_user_actions table (with duplicate rows dropped)\n",
    "\n",
    "t = user_actions['action_time'].copy(deep=True)\n",
    "t = t.drop_duplicates().reset_index(drop=True)\n",
    "time_data = pd.concat([t, pd.to_datetime(t).dt.hour, pd.to_datetime(t).dt.day, pd.to_datetime(t).dt.weekofyear, \\\n",
    "           pd.to_datetime(t).dt.month, pd.to_datetime(t).dt.year], axis=1).values.tolist()\n",
    "column_labels = ['action_time', 'hour', 'day', 'week', 'month', 'year']\n",
    "time_df = pd.DataFrame(data=time_data, columns=column_labels)\n",
    "# time_df['action_time'] = pd.to_datetime(time_df[['action_time']] \\\n",
    "#                                         .apply(lambda x: x[0].timestamp()*1e9, axis=1).astype(int), yearfirst=True, errors = 'coerce')\n",
    "\n",
    "# Load the dim_time table\n",
    "print('\\n Loading dim_time table...\\n')\n",
    "for i in range(math.ceil(time_df.shape[0] / 2000)):\n",
    "    tup = time_df.iloc[ 2000*i : 2000*(i+1), :]\n",
    "    tup = list(tup.to_records(index=False))\n",
    "    try:\n",
    "        execute_values(cur, time_table_insert, tup) \n",
    "    except psycopg2.Error as e:\n",
    "        print(e)\n",
    "        break\n",
    "        \n",
    "print('\\nTotal elapsed time to load all tables: {} mins\\n'.format(str(round((time.time() - start)/60, 1))))"
   ]
  },
  {
   "cell_type": "code",
   "execution_count": null,
   "metadata": {
    "editable": true
   },
   "outputs": [],
   "source": []
  },
  {
   "cell_type": "markdown",
   "metadata": {
    "editable": true
   },
   "source": [
    "#### 4.2 Data Quality Checks\n",
    "Explain the data quality checks you'll perform to ensure the pipeline ran as expected. These could include:\n",
    " * Integrity constraints on the relational database (e.g., unique key, data type, etc.)\n",
    " * Unit tests for the scripts to ensure they are doing the right thing\n",
    " * Source/Count checks to ensure completeness\n",
    " \n",
    "Run Quality Checks"
   ]
  },
  {
   "cell_type": "markdown",
   "metadata": {
    "editable": true
   },
   "source": [
    "##### 1) Query dim_movies table to verify it contains data in expected form:"
   ]
  },
  {
   "cell_type": "code",
   "execution_count": 33,
   "metadata": {
    "editable": true
   },
   "outputs": [
    {
     "name": "stdout",
     "output_type": "stream",
     "text": [
      "(1, 'Toy Story (1995)', 862, 'tt0114709', 'Adventure|Animation|Children|Comedy|Fantasy', 31, 12898, 7167, 12899, 12900, 7879, None, None, None, None, 7, 12891, 12892, 12893, None, datetime.date(1995, 10, 30), 81.0, 7.9, 14111)\n",
      "(2, 'Jumanji (1995)', 8844, 'tt0113497', 'Adventure|Children|Fantasy', 2157, 205, 145151, 5149, 8537, 4945, None, None, None, None, 876, 56520, 56521, None, None, datetime.date(1995, 12, 15), 104.0, 7.2, 8260)\n",
      "(3, 'Grumpier Old Men (1995)', 15602, 'tt0113228', 'Comedy|Romance', 6837, 3151, 13567, 16757, 589, 26502, None, None, None, None, 16837, None, None, None, None, datetime.date(1995, 12, 22), 101.0, 6.5, 251)\n",
      "(4, 'Waiting to Exhale (1995)', 31357, 'tt0114885', 'Comedy|Drama|Romance', 8851, 9780, 18284, 51359, 66804, 2178, None, None, None, None, 5144, 111118, None, None, None, datetime.date(1995, 12, 22), 127.0, 6.3, 95)\n",
      "(5, 'Father of the Bride Part II (1995)', 11862, 'tt0113041', 'Comedy', 67773, 3092, 519, 70696, 59222, 56106, None, None, None, None, 17698, 26160, None, None, None, datetime.date(1995, 12, 8), 106.0, 6.2, 495)\n",
      "(6, 'Heat (1995)', 949, 'tt0113277', 'Action|Crime|Thriller', 1158, 380, 5576, 3197, 6200, 638, None, None, None, None, 638, None, None, None, None, datetime.date(1995, 12, 15), 170.0, 7.9, 4823)\n",
      "(7, 'Sabrina (1995)', 11860, 'tt0114319', 'Comedy|Romance', 3, 15887, 17141, 12957, 8937, 2226, None, None, None, None, 2637, 3146, 5736, 11056, 70846, datetime.date(1995, 12, 15), 127.0, 6.1, 414)\n",
      "(8, 'Tom and Huck (1995)', 45325, 'tt0112302', 'Adventure|Children', 53283, 51214, 38581, 8316, 87007, 18357, None, None, None, None, 2075, 7775, None, None, None, datetime.date(1995, 12, 22), 97.0, 5.4, 120)\n",
      "(9, 'Sudden Death (1995)', 9091, 'tt0114576', 'Action', 15111, 6280, 10361, 79088, 12928, 37710, None, None, None, None, 53300, 56953, None, None, None, datetime.date(1995, 10, 27), 106.0, 5.9, 476)\n",
      "(10, 'GoldenEye (1995)', 710, 'tt0113189', 'Action|Adventure|Thriller', 517, 48, 10695, 10696, 10671, 10702, None, None, None, None, 10704, 10705, None, None, None, datetime.date(1995, 11, 16), 130.0, 6.9, 2806)\n"
     ]
    }
   ],
   "source": [
    "try:\n",
    "    cur.execute(\"SELECT * FROM dim_movies\")\n",
    "except psycopg2.Error as e:\n",
    "    print(e)\n",
    "\n",
    "# Print first 10 rows returned\n",
    "row = cur.fetchone()\n",
    "i = 0\n",
    "while i < 10:\n",
    "    print(row)\n",
    "    row = cur.fetchone()\n",
    "    i += 1"
   ]
  },
  {
   "cell_type": "markdown",
   "metadata": {
    "editable": true
   },
   "source": [
    "##### 2) Query dim_movies table verify number of expected rows (should be 57,160):"
   ]
  },
  {
   "cell_type": "code",
   "execution_count": 34,
   "metadata": {
    "editable": true
   },
   "outputs": [
    {
     "name": "stdout",
     "output_type": "stream",
     "text": [
      "(57160,)\n"
     ]
    }
   ],
   "source": [
    "try:\n",
    "    cur.execute(\"SELECT COUNT(*) FROM dim_movies\")\n",
    "except psycopg2.Error as e:\n",
    "    print(e)\n",
    "\n",
    "row = cur.fetchone()\n",
    "print(row)"
   ]
  },
  {
   "cell_type": "markdown",
   "metadata": {
    "editable": true
   },
   "source": [
    "##### 3) Query dim_actors table to verify it contains data in expected form:"
   ]
  },
  {
   "cell_type": "code",
   "execution_count": 35,
   "metadata": {
    "editable": true
   },
   "outputs": [
    {
     "name": "stdout",
     "output_type": "stream",
     "text": [
      "(1, 'George Lucas', 'nm0000184', datetime.date(1944, 5, 14), None)\n",
      "(2, 'Mark Hamill', 'nm0000434', datetime.date(1951, 9, 25), None)\n",
      "(3, 'Harrison Ford', 'nm0000148', datetime.date(1942, 7, 13), None)\n",
      "(4, 'Carrie Fisher', 'nm0000402', datetime.date(1956, 10, 21), datetime.date(2016, 12, 27))\n",
      "(5, 'Peter Cushing', 'nm0001088', datetime.date(1913, 5, 26), datetime.date(1994, 8, 11))\n",
      "(6, 'Anthony Daniels', 'nm0000355', datetime.date(1946, 2, 21), None)\n",
      "(10, 'Bob Peterson', 'nm0677037', datetime.date(1961, 1, 18), None)\n",
      "(12, 'Alexander Gould', 'nm1071252', datetime.date(1994, 5, 4), None)\n",
      "(13, 'Albert Brooks', 'nm0000983', datetime.date(1947, 7, 22), None)\n",
      "(14, 'Ellen DeGeneres', 'nm0001122', datetime.date(1958, 1, 26), None)\n"
     ]
    }
   ],
   "source": [
    "try:\n",
    "    cur.execute(\"SELECT * FROM dim_actors\")\n",
    "except psycopg2.Error as e:\n",
    "    print(e)\n",
    "\n",
    "# Print first 10 rows returned\n",
    "row = cur.fetchone()\n",
    "i = 0\n",
    "while i < 10:\n",
    "    print(row)\n",
    "    row = cur.fetchone()\n",
    "    i += 1"
   ]
  },
  {
   "cell_type": "markdown",
   "metadata": {
    "editable": true
   },
   "source": [
    "##### 4) Query dim_actors table verify number of expected rows (should be 93,344):"
   ]
  },
  {
   "cell_type": "code",
   "execution_count": 36,
   "metadata": {
    "editable": true
   },
   "outputs": [
    {
     "name": "stdout",
     "output_type": "stream",
     "text": [
      "(93344,)\n"
     ]
    }
   ],
   "source": [
    "try:\n",
    "    cur.execute(\"SELECT COUNT(*) FROM dim_actors\")\n",
    "except psycopg2.Error as e:\n",
    "    print(e)\n",
    "\n",
    "row = cur.fetchone()\n",
    "print(row)"
   ]
  },
  {
   "cell_type": "markdown",
   "metadata": {
    "editable": true
   },
   "source": [
    "##### 5) Query dim_directors table to verify it contains data in expected form:"
   ]
  },
  {
   "cell_type": "code",
   "execution_count": 37,
   "metadata": {
    "editable": true
   },
   "outputs": [
    {
     "name": "stdout",
     "output_type": "stream",
     "text": [
      "(1, 'George Lucas', 'nm0000184', datetime.date(1944, 5, 14), None)\n",
      "(2, 'Mark Hamill', 'nm0000434', datetime.date(1951, 9, 25), None)\n",
      "(7, 'Andrew Stanton', 'nm0004056', datetime.date(1965, 12, 3), None)\n",
      "(8, 'Lee Unkrich', 'nm0881279', datetime.date(1967, 8, 8), None)\n",
      "(13, 'Albert Brooks', 'nm0000983', datetime.date(1947, 7, 22), None)\n",
      "(24, 'Robert Zemeckis', 'nm0000709', datetime.date(1951, 5, 14), None)\n",
      "(31, 'Tom Hanks', 'nm0000158', datetime.date(1956, 7, 9), None)\n",
      "(33, 'Gary Sinise', 'nm0000641', datetime.date(1955, 3, 17), None)\n",
      "(35, 'Sally Field', 'nm0000398', datetime.date(1946, 11, 6), None)\n",
      "(39, 'Sam Mendes', 'nm0005222', datetime.date(1965, 8, 1), None)\n"
     ]
    }
   ],
   "source": [
    "try:\n",
    "    cur.execute(\"SELECT * FROM dim_directors\")\n",
    "except psycopg2.Error as e:\n",
    "    print(e)\n",
    "\n",
    "# Print first 10 rows returned\n",
    "row = cur.fetchone()\n",
    "i = 0\n",
    "while i < 10:\n",
    "    print(row)\n",
    "    row = cur.fetchone()\n",
    "    i += 1"
   ]
  },
  {
   "cell_type": "markdown",
   "metadata": {
    "editable": true
   },
   "source": [
    "##### 6) Query dim_directors table verify number of expected rows (should be 24,223):"
   ]
  },
  {
   "cell_type": "code",
   "execution_count": 38,
   "metadata": {
    "editable": true
   },
   "outputs": [
    {
     "name": "stdout",
     "output_type": "stream",
     "text": [
      "(24223,)\n"
     ]
    }
   ],
   "source": [
    "try:\n",
    "    cur.execute(\"SELECT COUNT(*) FROM dim_directors\")\n",
    "except psycopg2.Error as e:\n",
    "    print(e)\n",
    "\n",
    "row = cur.fetchone()\n",
    "print(row)"
   ]
  },
  {
   "cell_type": "markdown",
   "metadata": {
    "editable": true
   },
   "source": [
    "##### 7) Query dim_writers table to verify it contains data in expected form:"
   ]
  },
  {
   "cell_type": "code",
   "execution_count": 39,
   "metadata": {
    "editable": true
   },
   "outputs": [
    {
     "name": "stdout",
     "output_type": "stream",
     "text": [
      "(1, 'George Lucas', 'nm0000184', datetime.date(1944, 5, 14), None)\n",
      "(4, 'Carrie Fisher', 'nm0000402', datetime.date(1956, 10, 21), datetime.date(2016, 12, 27))\n",
      "(7, 'Andrew Stanton', 'nm0004056', datetime.date(1965, 12, 3), None)\n",
      "(10, 'Bob Peterson', 'nm0677037', datetime.date(1961, 1, 18), None)\n",
      "(11, 'David Reynolds', 'nm0721675', datetime.date(1966, 8, 10), None)\n",
      "(13, 'Albert Brooks', 'nm0000983', datetime.date(1947, 7, 22), None)\n",
      "(14, 'Ellen DeGeneres', 'nm0001122', datetime.date(1958, 1, 26), None)\n",
      "(22, 'Barry Humphries', 'nm0402032', datetime.date(1934, 2, 17), None)\n",
      "(24, 'Robert Zemeckis', 'nm0000709', datetime.date(1951, 5, 14), None)\n",
      "(27, 'Eric Roth', 'nm0744839', datetime.date(1945, 3, 22), None)\n"
     ]
    }
   ],
   "source": [
    "try:\n",
    "    cur.execute(\"SELECT * FROM dim_writers\")\n",
    "except psycopg2.Error as e:\n",
    "    print(e)\n",
    "\n",
    "# Print first 10 rows returned    \n",
    "row = cur.fetchone()\n",
    "i = 0\n",
    "while i < 10:\n",
    "    print(row)\n",
    "    row = cur.fetchone()\n",
    "    i += 1"
   ]
  },
  {
   "cell_type": "markdown",
   "metadata": {
    "editable": true
   },
   "source": [
    "##### 8) Query dim_writers table verify number of expected rows (should be 35,584):"
   ]
  },
  {
   "cell_type": "code",
   "execution_count": 40,
   "metadata": {
    "editable": true
   },
   "outputs": [
    {
     "name": "stdout",
     "output_type": "stream",
     "text": [
      "(35584,)\n"
     ]
    }
   ],
   "source": [
    "try:\n",
    "    cur.execute(\"SELECT COUNT(*) FROM dim_writers\")\n",
    "except psycopg2.Error as e:\n",
    "    print(e)\n",
    "\n",
    "row = cur.fetchone()\n",
    "print(row)"
   ]
  },
  {
   "cell_type": "markdown",
   "metadata": {
    "editable": true
   },
   "source": [
    "##### 9) Query fact_user_actions table to verify it contains data in expected form:"
   ]
  },
  {
   "cell_type": "code",
   "execution_count": 41,
   "metadata": {
    "editable": true
   },
   "outputs": [
    {
     "name": "stdout",
     "output_type": "stream",
     "text": [
      "(1, 20544, datetime.datetime(2003, 10, 10, 16, 0, 44), 509, 'rate', '3.5')\n",
      "(2, 11949, datetime.datetime(2004, 3, 23, 6, 4, 49), 6953, 'rate', '4.5')\n",
      "(3, 9986, datetime.datetime(2016, 2, 26, 16, 27, 28), 153070, 'rate', '3.0')\n",
      "(4, 9990, datetime.datetime(2000, 11, 4, 21, 56, 51), 2866, 'rate', '3.0')\n",
      "(5, 53264, datetime.datetime(2015, 11, 7, 23, 3, 24), 61248, 'rate', '3.5')\n",
      "(6, 84531, datetime.datetime(2007, 11, 11, 19, 23, 11), 1064, 'rate', '1.5')\n",
      "(7, 77412, datetime.datetime(2015, 1, 24, 20, 36, 51), 163, 'rate', '3.0')\n",
      "(8, 70002, datetime.datetime(2008, 1, 27, 3, 13, 55), 48304, 'rate', '0.5')\n",
      "(9, 46682, datetime.datetime(2005, 4, 2, 15, 46, 16), 150, 'rate', '4.0')\n",
      "(10, 91209, datetime.datetime(2018, 3, 8, 12, 48, 51), 5481, 'rate', '4.0')\n"
     ]
    }
   ],
   "source": [
    "try:\n",
    "    cur.execute(\"SELECT * FROM fact_user_actions\")\n",
    "except psycopg2.Error as e:\n",
    "    print(e)\n",
    "\n",
    "# Print first 10 rows returned \n",
    "row = cur.fetchone()\n",
    "i = 0\n",
    "while i < 10:\n",
    "    print(row)\n",
    "    row = cur.fetchone()\n",
    "    i += 1"
   ]
  },
  {
   "cell_type": "markdown",
   "metadata": {
    "editable": true
   },
   "source": [
    "##### 10) Query fact_user_actions table verify number of expected rows (should be 736,680):"
   ]
  },
  {
   "cell_type": "code",
   "execution_count": 42,
   "metadata": {
    "editable": true
   },
   "outputs": [
    {
     "name": "stdout",
     "output_type": "stream",
     "text": [
      "(736680,)\n"
     ]
    }
   ],
   "source": [
    "try:\n",
    "    cur.execute(\"SELECT COUNT(*) FROM fact_user_actions\")\n",
    "except psycopg2.Error as e:\n",
    "    print(e)\n",
    "\n",
    "row = cur.fetchone()\n",
    "print(row)"
   ]
  },
  {
   "cell_type": "markdown",
   "metadata": {
    "editable": true
   },
   "source": [
    "##### 11) Query dim_users table to verify it contains data in expected form:"
   ]
  },
  {
   "cell_type": "code",
   "execution_count": 43,
   "metadata": {
    "editable": true
   },
   "outputs": [
    {
     "name": "stdout",
     "output_type": "stream",
     "text": [
      "(2, 2, 0, 3.5)\n",
      "(4, 25, 0, 3.04)\n",
      "(6, 1, 0, 4.0)\n",
      "(7, 1, 0, 3.5)\n",
      "(10, 5, 0, 4.0)\n",
      "(14, 5, 3, 3.9)\n",
      "(15, 8, 0, 4.1875)\n",
      "(16, 2, 0, 5.0)\n",
      "(18, 3, 0, 3.0)\n",
      "(19, 10, 0, 3.7)\n"
     ]
    }
   ],
   "source": [
    "try:\n",
    "    cur.execute(\"SELECT * FROM dim_users\")\n",
    "except psycopg2.Error as e:\n",
    "    print(e)\n",
    "\n",
    "# Print first 10 rows returned     \n",
    "row = cur.fetchone()\n",
    "i = 0\n",
    "while i < 10:\n",
    "    print(row)\n",
    "    row = cur.fetchone()\n",
    "    i += 1"
   ]
  },
  {
   "cell_type": "markdown",
   "metadata": {
    "editable": true
   },
   "source": [
    "##### 12) Query dim_users table verify number of expected rows (should be 80,478):"
   ]
  },
  {
   "cell_type": "code",
   "execution_count": 44,
   "metadata": {
    "editable": true
   },
   "outputs": [
    {
     "name": "stdout",
     "output_type": "stream",
     "text": [
      "(80478,)\n"
     ]
    }
   ],
   "source": [
    "try:\n",
    "    cur.execute(\"SELECT COUNT(*) FROM dim_users\")\n",
    "except psycopg2.Error as e:\n",
    "    print(e)\n",
    "\n",
    "row = cur.fetchone()\n",
    "print(row)"
   ]
  },
  {
   "cell_type": "markdown",
   "metadata": {
    "editable": true
   },
   "source": [
    "##### 13) Query dim_time table to verify it contains data in expected form:"
   ]
  },
  {
   "cell_type": "code",
   "execution_count": 45,
   "metadata": {
    "editable": true
   },
   "outputs": [
    {
     "name": "stdout",
     "output_type": "stream",
     "text": [
      "(datetime.datetime(2003, 10, 10, 16, 0, 44), 16, 10, 41, 10, 2003)\n",
      "(datetime.datetime(2004, 3, 23, 6, 4, 49), 6, 23, 13, 3, 2004)\n",
      "(datetime.datetime(2016, 2, 26, 16, 27, 28), 16, 26, 8, 2, 2016)\n",
      "(datetime.datetime(2000, 11, 4, 21, 56, 51), 21, 4, 44, 11, 2000)\n",
      "(datetime.datetime(2015, 11, 7, 23, 3, 24), 23, 7, 45, 11, 2015)\n",
      "(datetime.datetime(2007, 11, 11, 19, 23, 11), 19, 11, 45, 11, 2007)\n",
      "(datetime.datetime(2015, 1, 24, 20, 36, 51), 20, 24, 4, 1, 2015)\n",
      "(datetime.datetime(2008, 1, 27, 3, 13, 55), 3, 27, 4, 1, 2008)\n",
      "(datetime.datetime(2005, 4, 2, 15, 46, 16), 15, 2, 13, 4, 2005)\n",
      "(datetime.datetime(2018, 3, 8, 12, 48, 51), 12, 8, 10, 3, 2018)\n"
     ]
    }
   ],
   "source": [
    "try:\n",
    "    cur.execute(\"SELECT * FROM dim_time\")\n",
    "except psycopg2.Error as e:\n",
    "    print(e)\n",
    "\n",
    "# Print first 10 rows returned\n",
    "row = cur.fetchone()\n",
    "i = 0\n",
    "while i < 10:\n",
    "    print(row)\n",
    "    row = cur.fetchone()\n",
    "    i += 1"
   ]
  },
  {
   "cell_type": "markdown",
   "metadata": {
    "editable": true
   },
   "source": [
    "##### 14) Query dim_time table verify number of expected rows (should be 686,443):"
   ]
  },
  {
   "cell_type": "code",
   "execution_count": 46,
   "metadata": {
    "editable": true
   },
   "outputs": [
    {
     "name": "stdout",
     "output_type": "stream",
     "text": [
      "(686443,)\n"
     ]
    }
   ],
   "source": [
    "try:\n",
    "    cur.execute(\"SELECT COUNT(*) FROM dim_time\")\n",
    "except psycopg2.Error as e:\n",
    "    print(e)\n",
    "\n",
    "row = cur.fetchone()\n",
    "print(row)"
   ]
  },
  {
   "cell_type": "code",
   "execution_count": 47,
   "metadata": {
    "editable": true
   },
   "outputs": [
    {
     "name": "stdout",
     "output_type": "stream",
     "text": [
      "(52,)\n"
     ]
    }
   ],
   "source": [
    "# Try finding how many users have rated more than 100 movies\n",
    "\n",
    "try:\n",
    "    cur.execute(\"SELECT COUNT(*) FROM dim_users WHERE num_ratings > 100\")\n",
    "except psycopg2.Error as e:\n",
    "    print(e)\n",
    "    \n",
    "finished = False\n",
    "i = 0\n",
    "row = cur.fetchone()\n",
    "print(row)"
   ]
  },
  {
   "cell_type": "code",
   "execution_count": 48,
   "metadata": {
    "editable": true
   },
   "outputs": [
    {
     "name": "stdout",
     "output_type": "stream",
     "text": [
      "(2025, 110, 0, 3.68636363636364)\n",
      "(2294, 107, 79, 3.28504672897196)\n",
      "(4796, 168, 0, 2.9672619047619)\n",
      "(5323, 106, 1, 3.45754716981132)\n",
      "(5747, 116, 0, 3.00431034482759)\n",
      "(7705, 151, 0, 3.13907284768212)\n",
      "(11109, 133, 612, 3.30827067669173)\n",
      "(14320, 108, 5, 2.40277777777778)\n",
      "(15041, 105, 0, 2.69047619047619)\n",
      "(16225, 109, 0, 2.89908256880734)\n",
      "(19007, 101, 2711, 2.84653465346535)\n",
      "(19309, 106, 1, 4.34433962264151)\n",
      "(19596, 116, 0, 2.98275862068966)\n",
      "(19924, 118, 15, 3.14406779661017)\n",
      "(23026, 107, 8, 3.83177570093458)\n",
      "(23649, 112, 0, 3.27232142857143)\n",
      "(29647, 131, 77, 3.55725190839695)\n",
      "(34504, 108, 0, 3.07407407407407)\n",
      "(35453, 105, 4, 2.76666666666667)\n",
      "(37046, 157, 0, 3.24203821656051)\n",
      "(42746, 102, 0, 2.57352941176471)\n",
      "(48470, 181, 1, 2.43370165745856)\n",
      "(52278, 103, 0, 2.49514563106796)\n",
      "(57392, 118, 5, 3.28813559322034)\n",
      "(59455, 107, 0, 1.4392523364486)\n",
      "(60950, 174, 0, 3.0948275862069)\n",
      "(61614, 149, 0, 3.52348993288591)\n",
      "(63783, 220, 1, 3.61136363636364)\n",
      "(64180, 115, 0, 3.57391304347826)\n",
      "(65670, 101, 1, 4.1980198019802)\n",
      "(66462, 124, 0, 3.06854838709677)\n",
      "(67625, 138, 0, 2.64130434782609)\n",
      "(70346, 149, 42, 3.83221476510067)\n",
      "(70539, 126, 0, 2.63492063492063)\n",
      "(71277, 116, 63, 3.24568965517241)\n",
      "(73145, 179, 2, 2.97486033519553)\n",
      "(74769, 131, 0, 3.24045801526718)\n",
      "(77609, 233, 3, 2.82188841201717)\n",
      "(80398, 125, 0, 3.384)\n",
      "(83579, 101, 3, 3.21782178217822)\n",
      "(85836, 138, 0, 2.95289855072464)\n",
      "(89524, 148, 0, 3.40878378378378)\n",
      "(89873, 110, 0, 3.52272727272727)\n",
      "(94843, 202, 0, 1.03465346534653)\n",
      "(95569, 121, 1, 3.1198347107438)\n",
      "(95727, 104, 0, 3.10096153846154)\n",
      "(102042, 119, 4, 3.22268907563025)\n",
      "(102235, 114, 0, 2.7280701754386)\n",
      "(103438, 133, 0, 2.87593984962406)\n",
      "(105104, 157, 0, 2.89490445859873)\n",
      "(106859, 101, 1, 2.53465346534653)\n",
      "(109040, 125, 13, 2.964)\n"
     ]
    }
   ],
   "source": [
    "# Try finding users who have rated more than 100 movies\n",
    "\n",
    "try:\n",
    "    cur.execute(\"SELECT * FROM dim_users WHERE num_ratings > 100;\")\n",
    "except psycopg2.Error as e:\n",
    "    print(e)\n",
    "    \n",
    "finished = False\n",
    "i = 1\n",
    "row = cur.fetchone()\n",
    "while not finished:\n",
    "    print(row)\n",
    "    row = cur.fetchone()\n",
    "    if (row == None) or i == 52:\n",
    "        finished = True\n",
    "    else:\n",
    "        i += 1"
   ]
  },
  {
   "cell_type": "code",
   "execution_count": 49,
   "metadata": {
    "editable": true
   },
   "outputs": [
    {
     "name": "stdout",
     "output_type": "stream",
     "text": [
      "(233,)\n"
     ]
    }
   ],
   "source": [
    "# Most movies rated\n",
    "\n",
    "try:\n",
    "    cur.execute(\"SELECT MAX(num_ratings) FROM dim_users;\")\n",
    "except psycopg2.Error as e:\n",
    "    print(e)\n",
    "    \n",
    "row = cur.fetchone()\n",
    "print(row)"
   ]
  },
  {
   "cell_type": "code",
   "execution_count": 50,
   "metadata": {
    "editable": true
   },
   "outputs": [
    {
     "name": "stdout",
     "output_type": "stream",
     "text": [
      "(2223, \"Farmer's Wife, The (1928)\", 143750, 'tt2140519', 'Comedy', 1120400, 11855, 976738, 1120401, None, 192852, None, None, None, None, 192852, None, None, None, None, datetime.date(2012, 6, 20), 18.0, 10.0, 1)\n"
     ]
    }
   ],
   "source": [
    "# Highest IMDB Rated Movie\n",
    "\n",
    "try:\n",
    "    cur.execute(\"SELECT * FROM dim_movies WHERE tmdb_rating_avg = (SELECT MAX(tmdb_rating_avg) FROM dim_movies);\")\n",
    "except psycopg2.Error as e:\n",
    "    print(e)\n",
    "\n",
    "row = cur.fetchone()\n",
    "print(row)"
   ]
  },
  {
   "cell_type": "code",
   "execution_count": 51,
   "metadata": {
    "editable": true
   },
   "outputs": [
    {
     "name": "stdout",
     "output_type": "stream",
     "text": [
      "(318, 'Shawshank Redemption, The (1994)', 278, 'tt0111161', 'Crime|Drama', 504, 192, 4029, 6573, 6574, 4027, None, None, None, None, 4027, None, None, None, None, datetime.date(1994, 9, 23), 142.0, 8.7, 19136)\n"
     ]
    }
   ],
   "source": [
    "# Highest IMDB Rated Movie with non-trivial number of ratings (i.e. > 1000 votes)\n",
    "\n",
    "try:\n",
    "    cur.execute(\"SELECT * FROM dim_movies WHERE tmdb_rating_avg = (SELECT MAX(tmdb_rating_avg) FROM dim_movies WHERE tmdb_votes_tot > 1000);\")\n",
    "except psycopg2.Error as e:\n",
    "    print(e)\n",
    "\n",
    "row = cur.fetchone()\n",
    "print(row)"
   ]
  },
  {
   "cell_type": "code",
   "execution_count": 52,
   "metadata": {
    "editable": true
   },
   "outputs": [
    {
     "name": "stdout",
     "output_type": "stream",
     "text": [
      "('Tim Robbins', 'Morgan Freeman', 'Frank Darabont', 'Frank Darabont')\n"
     ]
    }
   ],
   "source": [
    "# Top 2 Actors, Director and Writer for 'Shawshank Redemption' \n",
    "\n",
    "try:\n",
    "    cur.execute('''\n",
    "        SELECT da1.name, da2.name, dd.name, dw.name\n",
    "        FROM dim_actors da1 INNER JOIN dim_movies m ON da1.actor_id = m.actor1_id\n",
    "        INNER JOIN dim_actors da2 ON da2.actor_id = m.actor2_id\n",
    "        INNER JOIN dim_directors dd ON dd.director_id = m.director1_id\n",
    "        INNER JOIN dim_writers dw ON dw.writer_id = m.writer1_id\n",
    "        WHERE m.title = 'Shawshank Redemption, The (1994)';\n",
    "    ''')\n",
    "except psycopg2.Error as e:\n",
    "    print(e)\n",
    "\n",
    "row = cur.fetchone()\n",
    "print(row)"
   ]
  },
  {
   "cell_type": "code",
   "execution_count": 53,
   "metadata": {
    "editable": true
   },
   "outputs": [
    {
     "name": "stdout",
     "output_type": "stream",
     "text": [
      "(4.42490421455939, 1305)\n"
     ]
    }
   ],
   "source": [
    "# Avg User Rating and Number of User Votes for 'The Shawshank Redemption' (movie_id = 318)\n",
    "\n",
    "try:\n",
    "    cur.execute('''\n",
    "        SELECT AVG(action_val::numeric::float), COUNT(*)\n",
    "        FROM fact_user_actions\n",
    "        WHERE movie_id = 318 AND action = 'rate';\n",
    "    ''')\n",
    "except psycopg2.Error as e:\n",
    "    print(e)\n",
    "\n",
    "row = cur.fetchone()\n",
    "print(row)"
   ]
  },
  {
   "cell_type": "code",
   "execution_count": 54,
   "metadata": {
    "editable": true
   },
   "outputs": [
    {
     "name": "stdout",
     "output_type": "stream",
     "text": [
      "(246,)\n"
     ]
    }
   ],
   "source": [
    "# Number of distinct user tags for 'The Shawshank Redemption' (movie_id = 318)\n",
    "\n",
    "try:\n",
    "    cur.execute('''\n",
    "        SELECT COUNT(DISTINCT action_val) FROM fact_user_actions\n",
    "        WHERE movie_id = 318 AND action = 'tag';\n",
    "    ''')\n",
    "except psycopg2.Error as e:\n",
    "    print(e)\n",
    "\n",
    "row = cur.fetchone()\n",
    "print(row)"
   ]
  },
  {
   "cell_type": "code",
   "execution_count": 55,
   "metadata": {
    "editable": true
   },
   "outputs": [
    {
     "name": "stdout",
     "output_type": "stream",
     "text": [
      "('obvious',)\n",
      "('téa leoni does not star in this movie',)\n",
      "('adventure',)\n",
      "('oscar nominee: supporting actor',)\n",
      "('psychology',)\n",
      "('awesome!',)\n",
      "('stephan king',)\n",
      "('underdog',)\n",
      "('uplifting',)\n",
      "('corruption',)\n",
      "('fun',)\n",
      "('5 stars',)\n",
      "('mistery',)\n",
      "('based on a book',)\n",
      "('very moving',)\n",
      "('literature',)\n",
      "('great cast',)\n",
      "('visually stunning',)\n",
      "('heart-wrenching',)\n",
      "('justice',)\n",
      "('not as good as one might think',)\n",
      "('repair un injustice',)\n",
      "('carcel',)\n",
      "('moral ambiguity',)\n",
      "('antihero',)\n",
      "('inspirational',)\n",
      "('compassionate',)\n",
      "('feel-good',)\n",
      "('excellent and worth while.',)\n",
      "('emotional',)\n",
      "('best movie ever',)\n",
      "('realism',)\n",
      "('clv',)\n",
      "('5\\\\+++',)\n",
      "('favorite',)\n",
      "('existentialism',)\n",
      "('jail',)\n",
      "('clever',)\n",
      "('freedom',)\n",
      "('deceit',)\n",
      "('sentimental',)\n",
      "('soppy',)\n",
      "('abcd',)\n",
      "('believe',)\n",
      "('philosophy',)\n",
      "('rated r',)\n",
      "('best-movie',)\n",
      "('top10',)\n",
      "('bfi modern classic',)\n",
      "('bibliothek',)\n",
      "('wrongly convicted',)\n",
      "('adapted from:short story',)\n",
      "('prison drama',)\n",
      "('100 greatest movies',)\n",
      "('steven king',)\n",
      "('frank darabont',)\n",
      "('bankchiiting',)\n",
      "('narrated',)\n",
      "('r',)\n",
      "('great acting',)\n",
      "('reflective',)\n",
      "('determination',)\n",
      "('tim robbins',)\n",
      "('trigger warning',)\n",
      "('heartwarming',)\n",
      "('1960s',)\n",
      "('good story',)\n",
      "('quality',)\n",
      "('great actor',)\n",
      "('imdb top 250',)\n",
      "('show business',)\n",
      "('oscar nominee',)\n",
      "('bad ending',)\n",
      "('strong narrative',)\n",
      "('feel good',)\n",
      "('hide',)\n",
      "('schmaltzy',)\n",
      "('philosophical',)\n",
      "('oscarmissed',)\n",
      "('male bonding',)\n",
      "('ingenious plan',)\n",
      "('owned',)\n",
      "('twist ending',)\n",
      "('stephen king',)\n",
      "('rape',)\n",
      "('conspiracy theory',)\n",
      "('life changing',)\n",
      "('autonomy',)\n",
      "('like most',)\n",
      "('mystery',)\n",
      "('awful',)\n",
      "('amazing',)\n",
      "('freedom of expression',)\n",
      "('bd-video',)\n",
      "('english',)\n",
      "('innocent accused',)\n",
      "('atmospheric',)\n",
      "('perseverance',)\n",
      "('dramatic',)\n",
      "('redemption',)\n",
      "('best',)\n",
      "('own',)\n",
      "('divx1',)\n",
      "('populistic',)\n",
      "('imdb number 1',)\n",
      "('injustice',)\n",
      "('great story',)\n",
      "('long',)\n",
      "('magical negro',)\n",
      "('gefaengnisfilm',)\n",
      "('power of belief',)\n",
      "('theater',)\n",
      "('patience',)\n",
      "('a great movie',)\n",
      "('innocent person on the run',)\n",
      "('spiritual',)\n",
      "('great soundtrack',)\n",
      "('examines relationship between our lives and our freedom',)\n",
      "('exciting plot',)\n",
      "('meesa',)\n",
      "('quest',)\n",
      "('i do not like tim robbins.',)\n",
      "('sucks',)\n",
      "('intelligent',)\n",
      "('escape from prison',)\n",
      "('parole',)\n",
      "('masterplan',)\n",
      "('endurance',)\n",
      "('prisoner',)\n",
      "('violence',)\n",
      "(\"tumey's dvds\",)\n",
      "('struggle',)\n",
      "('melodrama',)\n",
      "('happy ending',)\n",
      "('true story',)\n",
      "('united states',)\n",
      "('morality',)\n",
      "('foul language',)\n",
      "('奋斗',)\n",
      "('prison escape',)\n",
      "('oscar nominee: best picture',)\n",
      "('great movie',)\n",
      "('not for kids',)\n",
      "('human story',)\n",
      "('pain',)\n",
      "('suspense',)\n",
      "('prison break',)\n",
      "('friends',)\n",
      "('insincere',)\n",
      "('highly quotable',)\n",
      "('librarians',)\n",
      "('old page',)\n",
      "('intrigue',)\n",
      "('good acting',)\n",
      "('best dialogs',)\n",
      "('want it',)\n",
      "('sexual violence',)\n",
      "('surprise ending',)\n",
      "('扭曲',)\n",
      "('dramat',)\n",
      "('wrongful imprisonment',)\n",
      "('action',)\n",
      "('touching',)\n",
      "('penitentiary',)\n",
      "('powerful ending',)\n",
      "('justice prevails',)\n",
      "('intellectual',)\n",
      "('i cant take this movie it makes me angry its so boring',)\n",
      "('oscar nominee: best picture 1994',)\n",
      "('honesty',)\n",
      "('smart',)\n",
      "('feminist',)\n",
      "('ali della libertã\\xa0',)\n",
      "('must see',)\n",
      "('motivation',)\n",
      "('thriller',)\n",
      "('the best movie ever made. period.',)\n",
      "('want',)\n",
      "('prison',)\n",
      "('brotherhood',)\n",
      "('masterpiece',)\n",
      "('survival',)\n",
      "('encouraging',)\n",
      "('wholesome',)\n",
      "('sad',)\n",
      "('gripping',)\n",
      "('prison escape tenacity accountant',)\n",
      "('crime',)\n",
      "('deep',)\n",
      "('cinematographer-director',)\n",
      "('phenomenal!',)\n",
      "('big page',)\n",
      "('baker viu',)\n",
      "('great performances',)\n",
      "('simply terrific',)\n",
      "('need to own',)\n",
      "('touching story',)\n",
      "('1940s',)\n",
      "('classic',)\n",
      "('friendship',)\n",
      "('one of the all time best',)\n",
      "('sexuality',)\n",
      "('transcendent',)\n",
      "('intelligent scheming',)\n",
      "('adapted from:book',)\n",
      "('tear-jerker',)\n",
      "('story line',)\n",
      "('directorial debut',)\n",
      "('outsmarted',)\n",
      "('appeals to all audiences',)\n",
      "('acting',)\n",
      "('message of hope',)\n",
      "('drama',)\n",
      "('revenge',)\n",
      "('seen more than once',)\n",
      "('genius',)\n",
      "('jailbreak',)\n",
      "('excellent script',)\n",
      "('institutionalization',)\n",
      "('tim',)\n",
      "('morgan freeman,drama',)\n",
      "('overrated',)\n",
      "('thilling',)\n",
      "('surprising ending',)\n",
      "('library of congress',)\n",
      "('author:stephen king',)\n",
      "('励志',)\n",
      "('great ending',)\n",
      "('the 90s',)\n",
      "('intense',)\n",
      "('plot twist',)\n",
      "('earnest',)\n",
      "('victim',)\n",
      "('humor',)\n",
      "('oscar (best picture)',)\n",
      "('thought-provoking',)\n",
      "('fri',)\n",
      "('123',)\n",
      "('inspiring',)\n",
      "('suicide',)\n",
      "('afi 100 (cheers)',)\n",
      "('escape',)\n",
      "('hope',)\n",
      "('&suspense',)\n",
      "('good ending',)\n",
      "('morgan freeman',)\n"
     ]
    }
   ],
   "source": [
    "# List all distinct user tags for 'The Shawshank Redemption' (movie_id = 318)\n",
    "\n",
    "try:\n",
    "    cur.execute('''\n",
    "        SELECT DISTINCT action_val FROM fact_user_actions\n",
    "        WHERE movie_id = 318 AND action = 'tag';\n",
    "    ''')\n",
    "except psycopg2.Error as e:\n",
    "    print(e)\n",
    "\n",
    "finished = False\n",
    "i = 1\n",
    "row = cur.fetchone()\n",
    "while not finished:\n",
    "    print(row)\n",
    "    row = cur.fetchone()\n",
    "    if (row == None) or i == 246:\n",
    "        finished = True\n",
    "    else:\n",
    "        i += 1"
   ]
  },
  {
   "cell_type": "code",
   "execution_count": 56,
   "metadata": {
    "editable": true
   },
   "outputs": [
    {
     "name": "stdout",
     "output_type": "stream",
     "text": [
      "(datetime.datetime(1996, 2, 2, 12, 36, 52), 12, 2, 5, 2, 1996)\n"
     ]
    }
   ],
   "source": [
    "# Earliest user event ever (from dim_time)\n",
    "\n",
    "try:\n",
    "    cur.execute('''\n",
    "        SELECT * FROM dim_time \n",
    "        WHERE action_time = (SELECT MIN(action_time) FROM dim_time);\n",
    "    ''')\n",
    "except psycopg2.Error as e:\n",
    "    print(e)\n",
    "\n",
    "row = cur.fetchone()\n",
    "print(row)"
   ]
  },
  {
   "cell_type": "code",
   "execution_count": 59,
   "metadata": {
    "editable": true
   },
   "outputs": [
    {
     "name": "stdout",
     "output_type": "stream",
     "text": [
      "(32913, datetime.datetime(1996, 2, 2, 12, 36, 52), 'rate', '4.0', 'Dangerous Minds (1995)')\n"
     ]
    }
   ],
   "source": [
    "# User action(s) and movie title associated with the earliest user event ever (from dim_time)\n",
    "\n",
    "try:\n",
    "    cur.execute('''\n",
    "        SELECT f.user_id, f.action_time, f.action, f.action_val, dm.title \n",
    "        FROM fact_user_actions f INNER JOIN dim_movies dm\n",
    "        ON f.movie_id = dm.movie_id\n",
    "        WHERE action_time = (SELECT MIN(action_time) FROM dim_time);\n",
    "    ''')\n",
    "except psycopg2.Error as e:\n",
    "    print(e)\n",
    "\n",
    "row = cur.fetchone()\n",
    "print(row)"
   ]
  },
  {
   "cell_type": "code",
   "execution_count": 63,
   "metadata": {
    "editable": true
   },
   "outputs": [
    {
     "name": "stdout",
     "output_type": "stream",
     "text": [
      "(datetime.datetime(2018, 9, 26, 6, 55, 49), 6, 26, 39, 9, 2018)\n"
     ]
    }
   ],
   "source": [
    "# Latest user event ever (from dim_time)\n",
    "\n",
    "try:\n",
    "    cur.execute('''\n",
    "        SELECT * FROM dim_time \n",
    "        WHERE action_time = (SELECT MAX(action_time) FROM dim_time);\n",
    "    ''')\n",
    "except psycopg2.Error as e:\n",
    "    print(e)\n",
    "\n",
    "row = cur.fetchone()\n",
    "print(row)"
   ]
  },
  {
   "cell_type": "code",
   "execution_count": 60,
   "metadata": {
    "editable": true
   },
   "outputs": [
    {
     "name": "stdout",
     "output_type": "stream",
     "text": [
      "(243095, datetime.datetime(2018, 9, 26, 6, 55, 49), 'tag', 'good soundtrack', 'Ready Player One')\n"
     ]
    }
   ],
   "source": [
    "# User action(s) and movie title associated with the latest user event ever (from dim_time)\n",
    "\n",
    "try:\n",
    "    cur.execute('''\n",
    "        SELECT f.user_id, f.action_time, f.action, f.action_val, dm.title \n",
    "        FROM fact_user_actions f INNER JOIN dim_movies dm\n",
    "        ON f.movie_id = dm.movie_id \n",
    "        WHERE action_time = (SELECT MAX(action_time) FROM dim_time);\n",
    "    ''')\n",
    "except psycopg2.Error as e:\n",
    "    print(e)\n",
    "\n",
    "row = cur.fetchone()\n",
    "print(row)"
   ]
  },
  {
   "cell_type": "code",
   "execution_count": null,
   "metadata": {
    "editable": true
   },
   "outputs": [],
   "source": []
  },
  {
   "cell_type": "code",
   "execution_count": 61,
   "metadata": {
    "editable": true
   },
   "outputs": [],
   "source": [
    "# Close the database connection\n",
    "conn.close()"
   ]
  },
  {
   "cell_type": "code",
   "execution_count": null,
   "metadata": {
    "editable": true
   },
   "outputs": [],
   "source": []
  },
  {
   "cell_type": "markdown",
   "metadata": {
    "editable": true
   },
   "source": [
    "#### 4.3 Data dictionary \n",
    "Create a data dictionary for your data model. For each field, provide a brief description of what the data is and where it came from. You can include the data dictionary in the notebook or in a separate file."
   ]
  },
  {
   "cell_type": "markdown",
   "metadata": {
    "editable": true
   },
   "source": [
    "#### Step 5: Complete Project Write Up\n",
    "* Clearly state the rationale for the choice of tools and technologies for the project.\n",
    "* Propose how often the data should be updated and why.\n",
    "* Write a description of how you would approach the problem differently under the following scenarios:\n",
    " * The data was increased by 100x.\n",
    " * The data populates a dashboard that must be updated on a daily basis by 7am every day.\n",
    " * The database needed to be accessed by 100+ people."
   ]
  },
  {
   "cell_type": "code",
   "execution_count": null,
   "metadata": {
    "editable": true
   },
   "outputs": [],
   "source": []
  },
  {
   "cell_type": "code",
   "execution_count": null,
   "metadata": {
    "editable": true
   },
   "outputs": [],
   "source": []
  },
  {
   "cell_type": "code",
   "execution_count": null,
   "metadata": {
    "editable": true
   },
   "outputs": [],
   "source": []
  },
  {
   "cell_type": "code",
   "execution_count": null,
   "metadata": {
    "editable": true
   },
   "outputs": [],
   "source": []
  },
  {
   "cell_type": "code",
   "execution_count": null,
   "metadata": {
    "editable": true
   },
   "outputs": [],
   "source": []
  },
  {
   "cell_type": "code",
   "execution_count": null,
   "metadata": {
    "editable": true
   },
   "outputs": [],
   "source": []
  }
 ],
 "metadata": {
  "kernelspec": {
   "display_name": "Python 3",
   "language": "python",
   "name": "python3"
  },
  "language_info": {
   "codemirror_mode": {
    "name": "ipython",
    "version": 3
   },
   "file_extension": ".py",
   "mimetype": "text/x-python",
   "name": "python",
   "nbconvert_exporter": "python",
   "pygments_lexer": "ipython3",
   "version": "3.6.3"
  }
 },
 "nbformat": 4,
 "nbformat_minor": 4
}
