{
 "cells": [
  {
   "cell_type": "markdown",
   "metadata": {
    "editable": true
   },
   "source": [
    "# A Movie Database\n",
    "### Data Engineering Capstone Project\n",
    "\n",
    "#### Project Summary\n",
    "This project makes use of the approximately 57,000 movies listed on TMDB.org to implement a PostgreSQL Snowflake schema which includes data on each movie (obtained via an *a priori* API query to create JSON files which include details such as the top-credited actors, director(s) and writer(s)), TMDB average ratings, and additional data from another set of users who have rated and/or tagged these movies independent of TMDB.\n",
    "\n",
    "The project follows these steps:\n",
    "* Step 1: Scope the Project and Gather Data\n",
    "* Step 2: Explore and Assess the Data\n",
    "* Step 3: Define the Data Model\n",
    "* Step 4: Run ETL to Model the Data\n",
    "* Step 5: Complete Project Write Up"
   ]
  },
  {
   "cell_type": "code",
   "execution_count": 1,
   "metadata": {
    "editable": true
   },
   "outputs": [],
   "source": [
    "# Do all imports and installs here\n",
    "import pandas as pd\n",
    "import numpy as np\n",
    "import math\n",
    "\n",
    "import os\n",
    "import requests\n",
    "\n",
    "import datetime\n",
    "import time\n",
    "import json\n",
    "\n",
    "import psycopg2\n",
    "from psycopg2.extras import execute_values\n",
    "from psycopg2.extensions import register_adapter, AsIs\n",
    "psycopg2.extensions.register_adapter(np.int64, psycopg2._psycopg.AsIs)\n",
    "psycopg2.extensions.register_adapter(np.datetime64, psycopg2._psycopg.AsIs)\n",
    "\n",
    "from sql_queries import *"
   ]
  },
  {
   "cell_type": "markdown",
   "metadata": {
    "editable": true
   },
   "source": [
    "### Step 1: Scope the Project and Gather Data\n",
    "\n",
    "#### Scope \n",
    "This project implements a locally-run postgreSQL database for a hypothetical Movie Database service which lists information about movies and allows a user community to rate these movies and/or assign text-based tags describing each movie. The schema appears in Section 3.1 (below).\n",
    "\n",
    "The data used comes from the following sources:\n",
    "\n",
    "* movies.csv (58,098 rows) - The list of movies included; part of the MovieLens dataset found here: https://grouplens.org/datasets/movielens/latest/\n",
    "\n",
    "* links.csv (58,098 rows) - Mapping between the movie ID numbers used in the Movie Database, TMDB.org and IMDB.com; part of the MovieLens dataset\n",
    "\n",
    "* ratings.csv (10,747,027 rows) - Timestamped user ratings for the movies in movies.csv; part of the MovieLens dataset\n",
    "\n",
    "* tags.csv (1,108,997 rows) - Timestamped user tags for the movies in movies.csv; part of the MovieLens dataset\n",
    "\n",
    "* people.json (57,160 rows) - TMDB.org API responses to credits (cast, directors, writers) queries for titles still in movies.csv after data cleaning\n",
    "\n",
    "* people.json (57,160 rows) - TMDB.org API responses to additional movie details queries for titles still in movies.csv after data cleaning\n",
    "\n",
    "* actors.json (93,346 rows) - TMDB.org API responses to actor details queries for the top cast members in movies.csv\n",
    "\n",
    "* directors.json (24,223 rows) - TMDB.org API responses to director details queries for directors in movies.csv\n",
    "\n",
    "* writers.json (35,585 rows) - TMDB.org API responses to writer details queries for writers in movies.csv\n",
    "\n",
    "#### Total Rows in All Datasets Combined\n",
    "2(58,098)+10,747,072+1,108,997+2(57,160)+93,346+24,223+35,585 = 12,239,739\n",
    "\n",
    "NOTE: If interested in the mechanics of the TMDB.org API queries, see supplemental DataExploration.ipynb notebook "
   ]
  },
  {
   "cell_type": "markdown",
   "metadata": {
    "editable": true
   },
   "source": [
    "##### 1) links.csv - 58,098 rows linking the movieId in movies, ratings & tags CSV files (below) to the tmdbId for the same movie"
   ]
  },
  {
   "cell_type": "code",
   "execution_count": 2,
   "metadata": {
    "editable": true
   },
   "outputs": [
    {
     "name": "stdout",
     "output_type": "stream",
     "text": [
      "<class 'pandas.core.frame.DataFrame'>\n",
      "RangeIndex: 58098 entries, 0 to 58097\n",
      "Data columns (total 3 columns):\n",
      "movieId    58098 non-null int64\n",
      "imdbId     58098 non-null int64\n",
      "tmdbId     57917 non-null float64\n",
      "dtypes: float64(1), int64(2)\n",
      "memory usage: 1.3 MB\n",
      "None\n",
      "(58098, 3)\n"
     ]
    },
    {
     "data": {
      "text/html": [
       "<div>\n",
       "<style scoped>\n",
       "    .dataframe tbody tr th:only-of-type {\n",
       "        vertical-align: middle;\n",
       "    }\n",
       "\n",
       "    .dataframe tbody tr th {\n",
       "        vertical-align: top;\n",
       "    }\n",
       "\n",
       "    .dataframe thead th {\n",
       "        text-align: right;\n",
       "    }\n",
       "</style>\n",
       "<table border=\"1\" class=\"dataframe\">\n",
       "  <thead>\n",
       "    <tr style=\"text-align: right;\">\n",
       "      <th></th>\n",
       "      <th>movieId</th>\n",
       "      <th>imdbId</th>\n",
       "      <th>tmdbId</th>\n",
       "    </tr>\n",
       "  </thead>\n",
       "  <tbody>\n",
       "    <tr>\n",
       "      <th>0</th>\n",
       "      <td>1</td>\n",
       "      <td>114709</td>\n",
       "      <td>862.0</td>\n",
       "    </tr>\n",
       "    <tr>\n",
       "      <th>1</th>\n",
       "      <td>2</td>\n",
       "      <td>113497</td>\n",
       "      <td>8844.0</td>\n",
       "    </tr>\n",
       "    <tr>\n",
       "      <th>2</th>\n",
       "      <td>3</td>\n",
       "      <td>113228</td>\n",
       "      <td>15602.0</td>\n",
       "    </tr>\n",
       "    <tr>\n",
       "      <th>3</th>\n",
       "      <td>4</td>\n",
       "      <td>114885</td>\n",
       "      <td>31357.0</td>\n",
       "    </tr>\n",
       "    <tr>\n",
       "      <th>4</th>\n",
       "      <td>5</td>\n",
       "      <td>113041</td>\n",
       "      <td>11862.0</td>\n",
       "    </tr>\n",
       "  </tbody>\n",
       "</table>\n",
       "</div>"
      ],
      "text/plain": [
       "   movieId  imdbId   tmdbId\n",
       "0        1  114709    862.0\n",
       "1        2  113497   8844.0\n",
       "2        3  113228  15602.0\n",
       "3        4  114885  31357.0\n",
       "4        5  113041  11862.0"
      ]
     },
     "execution_count": 2,
     "metadata": {},
     "output_type": "execute_result"
    }
   ],
   "source": [
    "links = pd.read_csv('datasets/links.csv')\n",
    "\n",
    "print(links.info())\n",
    "print(links.shape)\n",
    "links.head()"
   ]
  },
  {
   "cell_type": "markdown",
   "metadata": {
    "editable": true
   },
   "source": [
    "##### 2) movies.csv - 58,098 rows listing the movies represented in the ratings & tags CSVs (below)"
   ]
  },
  {
   "cell_type": "code",
   "execution_count": 3,
   "metadata": {
    "editable": true
   },
   "outputs": [
    {
     "name": "stdout",
     "output_type": "stream",
     "text": [
      "<class 'pandas.core.frame.DataFrame'>\n",
      "RangeIndex: 58098 entries, 0 to 58097\n",
      "Data columns (total 3 columns):\n",
      "movieId    58098 non-null int64\n",
      "title      58098 non-null object\n",
      "genres     58098 non-null object\n",
      "dtypes: int64(1), object(2)\n",
      "memory usage: 1.3+ MB\n",
      "None\n",
      "(58098, 3)\n"
     ]
    },
    {
     "data": {
      "text/html": [
       "<div>\n",
       "<style scoped>\n",
       "    .dataframe tbody tr th:only-of-type {\n",
       "        vertical-align: middle;\n",
       "    }\n",
       "\n",
       "    .dataframe tbody tr th {\n",
       "        vertical-align: top;\n",
       "    }\n",
       "\n",
       "    .dataframe thead th {\n",
       "        text-align: right;\n",
       "    }\n",
       "</style>\n",
       "<table border=\"1\" class=\"dataframe\">\n",
       "  <thead>\n",
       "    <tr style=\"text-align: right;\">\n",
       "      <th></th>\n",
       "      <th>movieId</th>\n",
       "      <th>title</th>\n",
       "      <th>genres</th>\n",
       "    </tr>\n",
       "  </thead>\n",
       "  <tbody>\n",
       "    <tr>\n",
       "      <th>0</th>\n",
       "      <td>1</td>\n",
       "      <td>Toy Story (1995)</td>\n",
       "      <td>Adventure|Animation|Children|Comedy|Fantasy</td>\n",
       "    </tr>\n",
       "    <tr>\n",
       "      <th>1</th>\n",
       "      <td>2</td>\n",
       "      <td>Jumanji (1995)</td>\n",
       "      <td>Adventure|Children|Fantasy</td>\n",
       "    </tr>\n",
       "    <tr>\n",
       "      <th>2</th>\n",
       "      <td>3</td>\n",
       "      <td>Grumpier Old Men (1995)</td>\n",
       "      <td>Comedy|Romance</td>\n",
       "    </tr>\n",
       "    <tr>\n",
       "      <th>3</th>\n",
       "      <td>4</td>\n",
       "      <td>Waiting to Exhale (1995)</td>\n",
       "      <td>Comedy|Drama|Romance</td>\n",
       "    </tr>\n",
       "    <tr>\n",
       "      <th>4</th>\n",
       "      <td>5</td>\n",
       "      <td>Father of the Bride Part II (1995)</td>\n",
       "      <td>Comedy</td>\n",
       "    </tr>\n",
       "  </tbody>\n",
       "</table>\n",
       "</div>"
      ],
      "text/plain": [
       "   movieId                               title  \\\n",
       "0        1                    Toy Story (1995)   \n",
       "1        2                      Jumanji (1995)   \n",
       "2        3             Grumpier Old Men (1995)   \n",
       "3        4            Waiting to Exhale (1995)   \n",
       "4        5  Father of the Bride Part II (1995)   \n",
       "\n",
       "                                        genres  \n",
       "0  Adventure|Animation|Children|Comedy|Fantasy  \n",
       "1                   Adventure|Children|Fantasy  \n",
       "2                               Comedy|Romance  \n",
       "3                         Comedy|Drama|Romance  \n",
       "4                                       Comedy  "
      ]
     },
     "execution_count": 3,
     "metadata": {},
     "output_type": "execute_result"
    }
   ],
   "source": [
    "movies = pd.read_csv('datasets/movies.csv')\n",
    "\n",
    "print(movies.info())\n",
    "print(movies.shape)\n",
    "movies.head()"
   ]
  },
  {
   "cell_type": "markdown",
   "metadata": {
    "editable": true
   },
   "source": [
    "##### 3) ratings.csv - 10,747,027 timestamped user ratings (on a 0-5 scale) for the movies above"
   ]
  },
  {
   "cell_type": "code",
   "execution_count": 4,
   "metadata": {
    "editable": true
   },
   "outputs": [
    {
     "name": "stdout",
     "output_type": "stream",
     "text": [
      "<class 'pandas.core.frame.DataFrame'>\n",
      "RangeIndex: 10747027 entries, 0 to 10747026\n",
      "Data columns (total 4 columns):\n",
      "userId       int64\n",
      "movieId      int64\n",
      "rating       float64\n",
      "timestamp    int64\n",
      "dtypes: float64(1), int64(3)\n",
      "memory usage: 328.0 MB\n",
      "None\n",
      "(10747027, 4)\n"
     ]
    },
    {
     "data": {
      "text/html": [
       "<div>\n",
       "<style scoped>\n",
       "    .dataframe tbody tr th:only-of-type {\n",
       "        vertical-align: middle;\n",
       "    }\n",
       "\n",
       "    .dataframe tbody tr th {\n",
       "        vertical-align: top;\n",
       "    }\n",
       "\n",
       "    .dataframe thead th {\n",
       "        text-align: right;\n",
       "    }\n",
       "</style>\n",
       "<table border=\"1\" class=\"dataframe\">\n",
       "  <thead>\n",
       "    <tr style=\"text-align: right;\">\n",
       "      <th></th>\n",
       "      <th>userId</th>\n",
       "      <th>movieId</th>\n",
       "      <th>rating</th>\n",
       "      <th>timestamp</th>\n",
       "    </tr>\n",
       "  </thead>\n",
       "  <tbody>\n",
       "    <tr>\n",
       "      <th>0</th>\n",
       "      <td>1</td>\n",
       "      <td>307</td>\n",
       "      <td>3.5</td>\n",
       "      <td>1256677221</td>\n",
       "    </tr>\n",
       "    <tr>\n",
       "      <th>1</th>\n",
       "      <td>1</td>\n",
       "      <td>481</td>\n",
       "      <td>3.5</td>\n",
       "      <td>1256677456</td>\n",
       "    </tr>\n",
       "    <tr>\n",
       "      <th>2</th>\n",
       "      <td>1</td>\n",
       "      <td>1091</td>\n",
       "      <td>1.5</td>\n",
       "      <td>1256677471</td>\n",
       "    </tr>\n",
       "    <tr>\n",
       "      <th>3</th>\n",
       "      <td>1</td>\n",
       "      <td>1257</td>\n",
       "      <td>4.5</td>\n",
       "      <td>1256677460</td>\n",
       "    </tr>\n",
       "    <tr>\n",
       "      <th>4</th>\n",
       "      <td>1</td>\n",
       "      <td>1449</td>\n",
       "      <td>4.5</td>\n",
       "      <td>1256677264</td>\n",
       "    </tr>\n",
       "  </tbody>\n",
       "</table>\n",
       "</div>"
      ],
      "text/plain": [
       "   userId  movieId  rating   timestamp\n",
       "0       1      307     3.5  1256677221\n",
       "1       1      481     3.5  1256677456\n",
       "2       1     1091     1.5  1256677471\n",
       "3       1     1257     4.5  1256677460\n",
       "4       1     1449     4.5  1256677264"
      ]
     },
     "execution_count": 4,
     "metadata": {},
     "output_type": "execute_result"
    }
   ],
   "source": [
    "ratings = pd.read_csv('datasets/ratings.csv')\n",
    "\n",
    "print(ratings.info())\n",
    "print(ratings.shape)\n",
    "ratings.head()"
   ]
  },
  {
   "cell_type": "markdown",
   "metadata": {
    "editable": true
   },
   "source": [
    "##### 4) tags.csv - 1,108,997 timestamped user tags (text words or phrases) for the movies above"
   ]
  },
  {
   "cell_type": "code",
   "execution_count": 5,
   "metadata": {
    "editable": true
   },
   "outputs": [
    {
     "name": "stdout",
     "output_type": "stream",
     "text": [
      "<class 'pandas.core.frame.DataFrame'>\n",
      "RangeIndex: 1108997 entries, 0 to 1108996\n",
      "Data columns (total 4 columns):\n",
      "userId       1108997 non-null int64\n",
      "movieId      1108997 non-null int64\n",
      "tag          1108981 non-null object\n",
      "timestamp    1108997 non-null int64\n",
      "dtypes: int64(3), object(1)\n",
      "memory usage: 33.8+ MB\n",
      "None\n",
      "(1108997, 4)\n"
     ]
    },
    {
     "data": {
      "text/html": [
       "<div>\n",
       "<style scoped>\n",
       "    .dataframe tbody tr th:only-of-type {\n",
       "        vertical-align: middle;\n",
       "    }\n",
       "\n",
       "    .dataframe tbody tr th {\n",
       "        vertical-align: top;\n",
       "    }\n",
       "\n",
       "    .dataframe thead th {\n",
       "        text-align: right;\n",
       "    }\n",
       "</style>\n",
       "<table border=\"1\" class=\"dataframe\">\n",
       "  <thead>\n",
       "    <tr style=\"text-align: right;\">\n",
       "      <th></th>\n",
       "      <th>userId</th>\n",
       "      <th>movieId</th>\n",
       "      <th>tag</th>\n",
       "      <th>timestamp</th>\n",
       "    </tr>\n",
       "  </thead>\n",
       "  <tbody>\n",
       "    <tr>\n",
       "      <th>0</th>\n",
       "      <td>14</td>\n",
       "      <td>110</td>\n",
       "      <td>epic</td>\n",
       "      <td>1443148538</td>\n",
       "    </tr>\n",
       "    <tr>\n",
       "      <th>1</th>\n",
       "      <td>14</td>\n",
       "      <td>110</td>\n",
       "      <td>Medieval</td>\n",
       "      <td>1443148532</td>\n",
       "    </tr>\n",
       "    <tr>\n",
       "      <th>2</th>\n",
       "      <td>14</td>\n",
       "      <td>260</td>\n",
       "      <td>sci-fi</td>\n",
       "      <td>1442169410</td>\n",
       "    </tr>\n",
       "    <tr>\n",
       "      <th>3</th>\n",
       "      <td>14</td>\n",
       "      <td>260</td>\n",
       "      <td>space action</td>\n",
       "      <td>1442169421</td>\n",
       "    </tr>\n",
       "    <tr>\n",
       "      <th>4</th>\n",
       "      <td>14</td>\n",
       "      <td>318</td>\n",
       "      <td>imdb top 250</td>\n",
       "      <td>1442615195</td>\n",
       "    </tr>\n",
       "  </tbody>\n",
       "</table>\n",
       "</div>"
      ],
      "text/plain": [
       "   userId  movieId           tag   timestamp\n",
       "0      14      110          epic  1443148538\n",
       "1      14      110      Medieval  1443148532\n",
       "2      14      260        sci-fi  1442169410\n",
       "3      14      260  space action  1442169421\n",
       "4      14      318  imdb top 250  1442615195"
      ]
     },
     "execution_count": 5,
     "metadata": {},
     "output_type": "execute_result"
    }
   ],
   "source": [
    "tags = pd.read_csv('datasets/tags.csv')\n",
    "\n",
    "print(tags.info())\n",
    "print(tags.shape)\n",
    "tags.head()"
   ]
  },
  {
   "cell_type": "markdown",
   "metadata": {
    "editable": true
   },
   "source": [
    "##### 5) people.json - 57,160 rows; TMDB API responses to credits (top cast, directors, writers) queries for titles in movies"
   ]
  },
  {
   "cell_type": "code",
   "execution_count": 6,
   "metadata": {
    "editable": true
   },
   "outputs": [
    {
     "name": "stdout",
     "output_type": "stream",
     "text": [
      "<class 'pandas.core.frame.DataFrame'>\n",
      "Int64Index: 57160 entries, 0 to 9999\n",
      "Data columns (total 16 columns):\n",
      "id              57160 non-null int64\n",
      "actor1_id       55082 non-null float64\n",
      "actor2_id       53460 non-null float64\n",
      "actor3_id       52462 non-null float64\n",
      "actor4_id       51496 non-null float64\n",
      "actor5_id       49761 non-null float64\n",
      "director1_id    56705 non-null float64\n",
      "director2_id    4007 non-null float64\n",
      "director3_id    543 non-null float64\n",
      "director4_id    240 non-null float64\n",
      "director5_id    164 non-null float64\n",
      "writer1_id      48257 non-null float64\n",
      "writer2_id      20663 non-null float64\n",
      "writer3_id      6130 non-null float64\n",
      "writer4_id      1838 non-null float64\n",
      "writer5_id      586 non-null float64\n",
      "dtypes: float64(15), int64(1)\n",
      "memory usage: 7.4 MB\n",
      "None\n",
      "(57160, 16)\n"
     ]
    },
    {
     "data": {
      "text/html": [
       "<div>\n",
       "<style scoped>\n",
       "    .dataframe tbody tr th:only-of-type {\n",
       "        vertical-align: middle;\n",
       "    }\n",
       "\n",
       "    .dataframe tbody tr th {\n",
       "        vertical-align: top;\n",
       "    }\n",
       "\n",
       "    .dataframe thead th {\n",
       "        text-align: right;\n",
       "    }\n",
       "</style>\n",
       "<table border=\"1\" class=\"dataframe\">\n",
       "  <thead>\n",
       "    <tr style=\"text-align: right;\">\n",
       "      <th></th>\n",
       "      <th>id</th>\n",
       "      <th>actor1_id</th>\n",
       "      <th>actor2_id</th>\n",
       "      <th>actor3_id</th>\n",
       "      <th>actor4_id</th>\n",
       "      <th>actor5_id</th>\n",
       "      <th>director1_id</th>\n",
       "      <th>director2_id</th>\n",
       "      <th>director3_id</th>\n",
       "      <th>director4_id</th>\n",
       "      <th>director5_id</th>\n",
       "      <th>writer1_id</th>\n",
       "      <th>writer2_id</th>\n",
       "      <th>writer3_id</th>\n",
       "      <th>writer4_id</th>\n",
       "      <th>writer5_id</th>\n",
       "    </tr>\n",
       "  </thead>\n",
       "  <tbody>\n",
       "    <tr>\n",
       "      <th>0</th>\n",
       "      <td>862</td>\n",
       "      <td>31.0</td>\n",
       "      <td>12898.0</td>\n",
       "      <td>7167.0</td>\n",
       "      <td>12899.0</td>\n",
       "      <td>12900.0</td>\n",
       "      <td>7879.0</td>\n",
       "      <td>NaN</td>\n",
       "      <td>NaN</td>\n",
       "      <td>NaN</td>\n",
       "      <td>NaN</td>\n",
       "      <td>7.0</td>\n",
       "      <td>12891.0</td>\n",
       "      <td>12892.0</td>\n",
       "      <td>12893.0</td>\n",
       "      <td>NaN</td>\n",
       "    </tr>\n",
       "    <tr>\n",
       "      <th>1</th>\n",
       "      <td>8844</td>\n",
       "      <td>2157.0</td>\n",
       "      <td>205.0</td>\n",
       "      <td>145151.0</td>\n",
       "      <td>5149.0</td>\n",
       "      <td>8537.0</td>\n",
       "      <td>4945.0</td>\n",
       "      <td>NaN</td>\n",
       "      <td>NaN</td>\n",
       "      <td>NaN</td>\n",
       "      <td>NaN</td>\n",
       "      <td>876.0</td>\n",
       "      <td>56520.0</td>\n",
       "      <td>56521.0</td>\n",
       "      <td>NaN</td>\n",
       "      <td>NaN</td>\n",
       "    </tr>\n",
       "    <tr>\n",
       "      <th>10</th>\n",
       "      <td>9087</td>\n",
       "      <td>3392.0</td>\n",
       "      <td>516.0</td>\n",
       "      <td>8349.0</td>\n",
       "      <td>19839.0</td>\n",
       "      <td>20767.0</td>\n",
       "      <td>3026.0</td>\n",
       "      <td>NaN</td>\n",
       "      <td>NaN</td>\n",
       "      <td>NaN</td>\n",
       "      <td>NaN</td>\n",
       "      <td>13520.0</td>\n",
       "      <td>NaN</td>\n",
       "      <td>NaN</td>\n",
       "      <td>NaN</td>\n",
       "      <td>NaN</td>\n",
       "    </tr>\n",
       "    <tr>\n",
       "      <th>100</th>\n",
       "      <td>47475</td>\n",
       "      <td>14.0</td>\n",
       "      <td>8984.0</td>\n",
       "      <td>3234.0</td>\n",
       "      <td>923.0</td>\n",
       "      <td>23709.0</td>\n",
       "      <td>14692.0</td>\n",
       "      <td>NaN</td>\n",
       "      <td>NaN</td>\n",
       "      <td>NaN</td>\n",
       "      <td>NaN</td>\n",
       "      <td>18382.0</td>\n",
       "      <td>1236253.0</td>\n",
       "      <td>2675240.0</td>\n",
       "      <td>NaN</td>\n",
       "      <td>NaN</td>\n",
       "    </tr>\n",
       "    <tr>\n",
       "      <th>1000</th>\n",
       "      <td>9078</td>\n",
       "      <td>21877.0</td>\n",
       "      <td>12158.0</td>\n",
       "      <td>57313.0</td>\n",
       "      <td>7139.0</td>\n",
       "      <td>159552.0</td>\n",
       "      <td>57314.0</td>\n",
       "      <td>NaN</td>\n",
       "      <td>NaN</td>\n",
       "      <td>NaN</td>\n",
       "      <td>NaN</td>\n",
       "      <td>57316.0</td>\n",
       "      <td>NaN</td>\n",
       "      <td>NaN</td>\n",
       "      <td>NaN</td>\n",
       "      <td>NaN</td>\n",
       "    </tr>\n",
       "  </tbody>\n",
       "</table>\n",
       "</div>"
      ],
      "text/plain": [
       "         id  actor1_id  actor2_id  actor3_id  actor4_id  actor5_id  \\\n",
       "0       862       31.0    12898.0     7167.0    12899.0    12900.0   \n",
       "1      8844     2157.0      205.0   145151.0     5149.0     8537.0   \n",
       "10     9087     3392.0      516.0     8349.0    19839.0    20767.0   \n",
       "100   47475       14.0     8984.0     3234.0      923.0    23709.0   \n",
       "1000   9078    21877.0    12158.0    57313.0     7139.0   159552.0   \n",
       "\n",
       "      director1_id  director2_id  director3_id  director4_id  director5_id  \\\n",
       "0           7879.0           NaN           NaN           NaN           NaN   \n",
       "1           4945.0           NaN           NaN           NaN           NaN   \n",
       "10          3026.0           NaN           NaN           NaN           NaN   \n",
       "100        14692.0           NaN           NaN           NaN           NaN   \n",
       "1000       57314.0           NaN           NaN           NaN           NaN   \n",
       "\n",
       "      writer1_id  writer2_id  writer3_id  writer4_id  writer5_id  \n",
       "0            7.0     12891.0     12892.0     12893.0         NaN  \n",
       "1          876.0     56520.0     56521.0         NaN         NaN  \n",
       "10       13520.0         NaN         NaN         NaN         NaN  \n",
       "100      18382.0   1236253.0   2675240.0         NaN         NaN  \n",
       "1000     57316.0         NaN         NaN         NaN         NaN  "
      ]
     },
     "execution_count": 6,
     "metadata": {},
     "output_type": "execute_result"
    }
   ],
   "source": [
    "people = pd.read_json('datasets/people.json')\n",
    "\n",
    "print(people.info())\n",
    "print(people.shape)\n",
    "people.head()"
   ]
  },
  {
   "cell_type": "markdown",
   "metadata": {
    "editable": true
   },
   "source": [
    "##### 6) details.json - 57,160 rows; TMDB API responses to additional movie details queries for titles in movies"
   ]
  },
  {
   "cell_type": "code",
   "execution_count": 7,
   "metadata": {
    "editable": true
   },
   "outputs": [
    {
     "name": "stdout",
     "output_type": "stream",
     "text": [
      "<class 'pandas.core.frame.DataFrame'>\n",
      "RangeIndex: 57160 entries, 0 to 57159\n",
      "Data columns (total 25 columns):\n",
      "adult                    57160 non-null bool\n",
      "backdrop_path            41470 non-null object\n",
      "belongs_to_collection    6020 non-null object\n",
      "budget                   57160 non-null int64\n",
      "genres                   57160 non-null object\n",
      "homepage                 56526 non-null object\n",
      "id                       57160 non-null int64\n",
      "imdb_id                  57160 non-null object\n",
      "original_language        57160 non-null object\n",
      "original_title           57160 non-null object\n",
      "overview                 57160 non-null object\n",
      "popularity               57160 non-null float64\n",
      "poster_path              54183 non-null object\n",
      "production_companies     57160 non-null object\n",
      "production_countries     57160 non-null object\n",
      "release_date             57160 non-null object\n",
      "revenue                  57160 non-null int64\n",
      "runtime                  57072 non-null float64\n",
      "spoken_languages         57160 non-null object\n",
      "status                   57160 non-null object\n",
      "tagline                  57160 non-null object\n",
      "title                    57160 non-null object\n",
      "video                    57160 non-null bool\n",
      "vote_average             57160 non-null float64\n",
      "vote_count               57160 non-null int64\n",
      "dtypes: bool(2), float64(3), int64(4), object(16)\n",
      "memory usage: 10.1+ MB\n",
      "None\n",
      "(57160, 25)\n"
     ]
    },
    {
     "data": {
      "text/html": [
       "<div>\n",
       "<style scoped>\n",
       "    .dataframe tbody tr th:only-of-type {\n",
       "        vertical-align: middle;\n",
       "    }\n",
       "\n",
       "    .dataframe tbody tr th {\n",
       "        vertical-align: top;\n",
       "    }\n",
       "\n",
       "    .dataframe thead th {\n",
       "        text-align: right;\n",
       "    }\n",
       "</style>\n",
       "<table border=\"1\" class=\"dataframe\">\n",
       "  <thead>\n",
       "    <tr style=\"text-align: right;\">\n",
       "      <th></th>\n",
       "      <th>adult</th>\n",
       "      <th>backdrop_path</th>\n",
       "      <th>belongs_to_collection</th>\n",
       "      <th>budget</th>\n",
       "      <th>genres</th>\n",
       "      <th>homepage</th>\n",
       "      <th>id</th>\n",
       "      <th>imdb_id</th>\n",
       "      <th>original_language</th>\n",
       "      <th>original_title</th>\n",
       "      <th>...</th>\n",
       "      <th>release_date</th>\n",
       "      <th>revenue</th>\n",
       "      <th>runtime</th>\n",
       "      <th>spoken_languages</th>\n",
       "      <th>status</th>\n",
       "      <th>tagline</th>\n",
       "      <th>title</th>\n",
       "      <th>video</th>\n",
       "      <th>vote_average</th>\n",
       "      <th>vote_count</th>\n",
       "    </tr>\n",
       "  </thead>\n",
       "  <tbody>\n",
       "    <tr>\n",
       "      <th>0</th>\n",
       "      <td>False</td>\n",
       "      <td>/XLwjO1NSCIaLznh58OQtmSFl0N.jpg</td>\n",
       "      <td>{'id': 10194, 'name': 'Toy Story Collection', ...</td>\n",
       "      <td>30000000</td>\n",
       "      <td>[{'id': 16, 'name': 'Animation'}, {'id': 12, '...</td>\n",
       "      <td>http://toystory.disney.com/toy-story</td>\n",
       "      <td>862</td>\n",
       "      <td>tt0114709</td>\n",
       "      <td>en</td>\n",
       "      <td>Toy Story</td>\n",
       "      <td>...</td>\n",
       "      <td>1995-10-30</td>\n",
       "      <td>373554033</td>\n",
       "      <td>81.0</td>\n",
       "      <td>[{'english_name': 'English', 'iso_639_1': 'en'...</td>\n",
       "      <td>Released</td>\n",
       "      <td></td>\n",
       "      <td>Toy Story</td>\n",
       "      <td>False</td>\n",
       "      <td>7.9</td>\n",
       "      <td>14111</td>\n",
       "    </tr>\n",
       "    <tr>\n",
       "      <th>1</th>\n",
       "      <td>False</td>\n",
       "      <td>/6w31RRm2s2CK1r3xDLf12WgIaHa.jpg</td>\n",
       "      <td>{'id': 495527, 'name': 'Jumanji Collection', '...</td>\n",
       "      <td>65000000</td>\n",
       "      <td>[{'id': 12, 'name': 'Adventure'}, {'id': 14, '...</td>\n",
       "      <td>http://www.sonypictures.com/movies/jumanji/</td>\n",
       "      <td>8844</td>\n",
       "      <td>tt0113497</td>\n",
       "      <td>en</td>\n",
       "      <td>Jumanji</td>\n",
       "      <td>...</td>\n",
       "      <td>1995-12-15</td>\n",
       "      <td>262797249</td>\n",
       "      <td>104.0</td>\n",
       "      <td>[{'english_name': 'English', 'iso_639_1': 'en'...</td>\n",
       "      <td>Released</td>\n",
       "      <td>Roll the dice and unleash the excitement!</td>\n",
       "      <td>Jumanji</td>\n",
       "      <td>False</td>\n",
       "      <td>7.2</td>\n",
       "      <td>8260</td>\n",
       "    </tr>\n",
       "    <tr>\n",
       "      <th>2</th>\n",
       "      <td>False</td>\n",
       "      <td>/nh9gYaXHTNT9yylX10L9aGqFehy.jpg</td>\n",
       "      <td>{'id': 119050, 'name': 'Grumpy Old Men Collect...</td>\n",
       "      <td>0</td>\n",
       "      <td>[{'id': 10749, 'name': 'Romance'}, {'id': 35, ...</td>\n",
       "      <td></td>\n",
       "      <td>15602</td>\n",
       "      <td>tt0113228</td>\n",
       "      <td>en</td>\n",
       "      <td>Grumpier Old Men</td>\n",
       "      <td>...</td>\n",
       "      <td>1995-12-22</td>\n",
       "      <td>0</td>\n",
       "      <td>101.0</td>\n",
       "      <td>[{'english_name': 'English', 'iso_639_1': 'en'...</td>\n",
       "      <td>Released</td>\n",
       "      <td>Still Yelling. Still Fighting. Still Ready for...</td>\n",
       "      <td>Grumpier Old Men</td>\n",
       "      <td>False</td>\n",
       "      <td>6.5</td>\n",
       "      <td>251</td>\n",
       "    </tr>\n",
       "    <tr>\n",
       "      <th>3</th>\n",
       "      <td>False</td>\n",
       "      <td>/jZjoEKXMTDoZAGdkjhAdJaKtXSN.jpg</td>\n",
       "      <td>None</td>\n",
       "      <td>16000000</td>\n",
       "      <td>[{'id': 35, 'name': 'Comedy'}, {'id': 18, 'nam...</td>\n",
       "      <td></td>\n",
       "      <td>31357</td>\n",
       "      <td>tt0114885</td>\n",
       "      <td>en</td>\n",
       "      <td>Waiting to Exhale</td>\n",
       "      <td>...</td>\n",
       "      <td>1995-12-22</td>\n",
       "      <td>81452156</td>\n",
       "      <td>127.0</td>\n",
       "      <td>[{'english_name': 'English', 'iso_639_1': 'en'...</td>\n",
       "      <td>Released</td>\n",
       "      <td>Friends are the people who let you be yourself...</td>\n",
       "      <td>Waiting to Exhale</td>\n",
       "      <td>False</td>\n",
       "      <td>6.3</td>\n",
       "      <td>95</td>\n",
       "    </tr>\n",
       "    <tr>\n",
       "      <th>4</th>\n",
       "      <td>False</td>\n",
       "      <td>/1XUPR3Ki1fvZDCtetcepMoz7oqu.jpg</td>\n",
       "      <td>{'id': 96871, 'name': 'Father of the Bride (St...</td>\n",
       "      <td>0</td>\n",
       "      <td>[{'id': 35, 'name': 'Comedy'}]</td>\n",
       "      <td></td>\n",
       "      <td>11862</td>\n",
       "      <td>tt0113041</td>\n",
       "      <td>en</td>\n",
       "      <td>Father of the Bride Part II</td>\n",
       "      <td>...</td>\n",
       "      <td>1995-12-08</td>\n",
       "      <td>76594107</td>\n",
       "      <td>106.0</td>\n",
       "      <td>[{'english_name': 'English', 'iso_639_1': 'en'...</td>\n",
       "      <td>Released</td>\n",
       "      <td>Just When His World Is Back To Normal... He's ...</td>\n",
       "      <td>Father of the Bride Part II</td>\n",
       "      <td>False</td>\n",
       "      <td>6.2</td>\n",
       "      <td>495</td>\n",
       "    </tr>\n",
       "  </tbody>\n",
       "</table>\n",
       "<p>5 rows × 25 columns</p>\n",
       "</div>"
      ],
      "text/plain": [
       "   adult                     backdrop_path  \\\n",
       "0  False   /XLwjO1NSCIaLznh58OQtmSFl0N.jpg   \n",
       "1  False  /6w31RRm2s2CK1r3xDLf12WgIaHa.jpg   \n",
       "2  False  /nh9gYaXHTNT9yylX10L9aGqFehy.jpg   \n",
       "3  False  /jZjoEKXMTDoZAGdkjhAdJaKtXSN.jpg   \n",
       "4  False  /1XUPR3Ki1fvZDCtetcepMoz7oqu.jpg   \n",
       "\n",
       "                               belongs_to_collection    budget  \\\n",
       "0  {'id': 10194, 'name': 'Toy Story Collection', ...  30000000   \n",
       "1  {'id': 495527, 'name': 'Jumanji Collection', '...  65000000   \n",
       "2  {'id': 119050, 'name': 'Grumpy Old Men Collect...         0   \n",
       "3                                               None  16000000   \n",
       "4  {'id': 96871, 'name': 'Father of the Bride (St...         0   \n",
       "\n",
       "                                              genres  \\\n",
       "0  [{'id': 16, 'name': 'Animation'}, {'id': 12, '...   \n",
       "1  [{'id': 12, 'name': 'Adventure'}, {'id': 14, '...   \n",
       "2  [{'id': 10749, 'name': 'Romance'}, {'id': 35, ...   \n",
       "3  [{'id': 35, 'name': 'Comedy'}, {'id': 18, 'nam...   \n",
       "4                     [{'id': 35, 'name': 'Comedy'}]   \n",
       "\n",
       "                                      homepage     id    imdb_id  \\\n",
       "0         http://toystory.disney.com/toy-story    862  tt0114709   \n",
       "1  http://www.sonypictures.com/movies/jumanji/   8844  tt0113497   \n",
       "2                                               15602  tt0113228   \n",
       "3                                               31357  tt0114885   \n",
       "4                                               11862  tt0113041   \n",
       "\n",
       "  original_language               original_title    ...     release_date  \\\n",
       "0                en                    Toy Story    ...       1995-10-30   \n",
       "1                en                      Jumanji    ...       1995-12-15   \n",
       "2                en             Grumpier Old Men    ...       1995-12-22   \n",
       "3                en            Waiting to Exhale    ...       1995-12-22   \n",
       "4                en  Father of the Bride Part II    ...       1995-12-08   \n",
       "\n",
       "     revenue runtime                                   spoken_languages  \\\n",
       "0  373554033    81.0  [{'english_name': 'English', 'iso_639_1': 'en'...   \n",
       "1  262797249   104.0  [{'english_name': 'English', 'iso_639_1': 'en'...   \n",
       "2          0   101.0  [{'english_name': 'English', 'iso_639_1': 'en'...   \n",
       "3   81452156   127.0  [{'english_name': 'English', 'iso_639_1': 'en'...   \n",
       "4   76594107   106.0  [{'english_name': 'English', 'iso_639_1': 'en'...   \n",
       "\n",
       "     status                                            tagline  \\\n",
       "0  Released                                                      \n",
       "1  Released          Roll the dice and unleash the excitement!   \n",
       "2  Released  Still Yelling. Still Fighting. Still Ready for...   \n",
       "3  Released  Friends are the people who let you be yourself...   \n",
       "4  Released  Just When His World Is Back To Normal... He's ...   \n",
       "\n",
       "                         title  video vote_average vote_count  \n",
       "0                    Toy Story  False          7.9      14111  \n",
       "1                      Jumanji  False          7.2       8260  \n",
       "2             Grumpier Old Men  False          6.5        251  \n",
       "3            Waiting to Exhale  False          6.3         95  \n",
       "4  Father of the Bride Part II  False          6.2        495  \n",
       "\n",
       "[5 rows x 25 columns]"
      ]
     },
     "execution_count": 7,
     "metadata": {},
     "output_type": "execute_result"
    }
   ],
   "source": [
    "details = pd.read_json('datasets/details.json')\n",
    "\n",
    "print(details.info())\n",
    "print(details.shape)\n",
    "details.head()"
   ]
  },
  {
   "cell_type": "markdown",
   "metadata": {
    "editable": true
   },
   "source": [
    "##### 7) actors.json - 93,346 rows; TMDB API responses to actor details queries for the top cast in movies"
   ]
  },
  {
   "cell_type": "code",
   "execution_count": 8,
   "metadata": {
    "editable": true
   },
   "outputs": [
    {
     "name": "stdout",
     "output_type": "stream",
     "text": [
      "<class 'pandas.core.frame.DataFrame'>\n",
      "RangeIndex: 93346 entries, 0 to 93345\n",
      "Data columns (total 17 columns):\n",
      "adult                   93344 non-null float64\n",
      "also_known_as           93344 non-null object\n",
      "biography               93344 non-null object\n",
      "birthday                49720 non-null object\n",
      "deathday                14016 non-null object\n",
      "gender                  93344 non-null float64\n",
      "homepage                6407 non-null object\n",
      "id                      93344 non-null float64\n",
      "imdb_id                 81165 non-null object\n",
      "known_for_department    93344 non-null object\n",
      "name                    93344 non-null object\n",
      "place_of_birth          45133 non-null object\n",
      "popularity              93344 non-null float64\n",
      "profile_path            53968 non-null object\n",
      "status_code             2 non-null float64\n",
      "status_message          2 non-null object\n",
      "success                 2 non-null float64\n",
      "dtypes: float64(6), object(11)\n",
      "memory usage: 12.1+ MB\n",
      "None\n",
      "(93346, 17)\n"
     ]
    },
    {
     "data": {
      "text/html": [
       "<div>\n",
       "<style scoped>\n",
       "    .dataframe tbody tr th:only-of-type {\n",
       "        vertical-align: middle;\n",
       "    }\n",
       "\n",
       "    .dataframe tbody tr th {\n",
       "        vertical-align: top;\n",
       "    }\n",
       "\n",
       "    .dataframe thead th {\n",
       "        text-align: right;\n",
       "    }\n",
       "</style>\n",
       "<table border=\"1\" class=\"dataframe\">\n",
       "  <thead>\n",
       "    <tr style=\"text-align: right;\">\n",
       "      <th></th>\n",
       "      <th>adult</th>\n",
       "      <th>also_known_as</th>\n",
       "      <th>biography</th>\n",
       "      <th>birthday</th>\n",
       "      <th>deathday</th>\n",
       "      <th>gender</th>\n",
       "      <th>homepage</th>\n",
       "      <th>id</th>\n",
       "      <th>imdb_id</th>\n",
       "      <th>known_for_department</th>\n",
       "      <th>name</th>\n",
       "      <th>place_of_birth</th>\n",
       "      <th>popularity</th>\n",
       "      <th>profile_path</th>\n",
       "      <th>status_code</th>\n",
       "      <th>status_message</th>\n",
       "      <th>success</th>\n",
       "    </tr>\n",
       "  </thead>\n",
       "  <tbody>\n",
       "    <tr>\n",
       "      <th>0</th>\n",
       "      <td>0.0</td>\n",
       "      <td>[George Walton Lucas Jr. , 乔治·卢卡斯, Джордж Лука...</td>\n",
       "      <td>George Walton Lucas Jr. (born May 14, 1944) is...</td>\n",
       "      <td>1944-05-14</td>\n",
       "      <td>None</td>\n",
       "      <td>2.0</td>\n",
       "      <td>None</td>\n",
       "      <td>1.0</td>\n",
       "      <td>nm0000184</td>\n",
       "      <td>Directing</td>\n",
       "      <td>George Lucas</td>\n",
       "      <td>Modesto, California, USA</td>\n",
       "      <td>8.257</td>\n",
       "      <td>/WCSZzWdtPmdRxH9LUCVi2JPCSJ.jpg</td>\n",
       "      <td>NaN</td>\n",
       "      <td>NaN</td>\n",
       "      <td>NaN</td>\n",
       "    </tr>\n",
       "    <tr>\n",
       "      <th>1</th>\n",
       "      <td>0.0</td>\n",
       "      <td>[Mark Hamil, Mark Richard Hamill, Марк Хэмилл,...</td>\n",
       "      <td>Mark Richard Hamill (born September 25, 1951) ...</td>\n",
       "      <td>1951-09-25</td>\n",
       "      <td>None</td>\n",
       "      <td>2.0</td>\n",
       "      <td>None</td>\n",
       "      <td>2.0</td>\n",
       "      <td>nm0000434</td>\n",
       "      <td>Acting</td>\n",
       "      <td>Mark Hamill</td>\n",
       "      <td>Concord, California, USA</td>\n",
       "      <td>8.961</td>\n",
       "      <td>/zMQ93JTLW8KxusKhOlHFZhih3YQ.jpg</td>\n",
       "      <td>NaN</td>\n",
       "      <td>NaN</td>\n",
       "      <td>NaN</td>\n",
       "    </tr>\n",
       "    <tr>\n",
       "      <th>2</th>\n",
       "      <td>0.0</td>\n",
       "      <td>[Гаррісон Форд, Харрисон Форд, هاريسون فورد, 해...</td>\n",
       "      <td>Legendary Hollywood Icon Harrison Ford was bor...</td>\n",
       "      <td>1942-07-13</td>\n",
       "      <td>None</td>\n",
       "      <td>2.0</td>\n",
       "      <td>None</td>\n",
       "      <td>3.0</td>\n",
       "      <td>nm0000148</td>\n",
       "      <td>Acting</td>\n",
       "      <td>Harrison Ford</td>\n",
       "      <td>Chicago, Illinois, USA</td>\n",
       "      <td>8.641</td>\n",
       "      <td>/5M7oN3sznp99hWYQ9sX0xheswWX.jpg</td>\n",
       "      <td>NaN</td>\n",
       "      <td>NaN</td>\n",
       "      <td>NaN</td>\n",
       "    </tr>\n",
       "    <tr>\n",
       "      <th>3</th>\n",
       "      <td>0.0</td>\n",
       "      <td>[Carrie Frances Fisher , Кэрри Фишер, Кэрри Фр...</td>\n",
       "      <td>Carrie Frances Fisher (21 October 1956 - 27 De...</td>\n",
       "      <td>1956-10-21</td>\n",
       "      <td>2016-12-27</td>\n",
       "      <td>1.0</td>\n",
       "      <td>https://carriefisher.com/</td>\n",
       "      <td>4.0</td>\n",
       "      <td>nm0000402</td>\n",
       "      <td>Acting</td>\n",
       "      <td>Carrie Fisher</td>\n",
       "      <td>Beverly Hills, Los Angeles, California, USA</td>\n",
       "      <td>3.679</td>\n",
       "      <td>/rfJtncHewKVnHjqpIZvjn24ESeC.jpg</td>\n",
       "      <td>NaN</td>\n",
       "      <td>NaN</td>\n",
       "      <td>NaN</td>\n",
       "    </tr>\n",
       "    <tr>\n",
       "      <th>4</th>\n",
       "      <td>0.0</td>\n",
       "      <td>[Peter Wilton Cushing]</td>\n",
       "      <td>Peter Wilton Cushing, OBE  (26 May 1913 – 11 A...</td>\n",
       "      <td>1913-05-26</td>\n",
       "      <td>1994-08-11</td>\n",
       "      <td>2.0</td>\n",
       "      <td>None</td>\n",
       "      <td>5.0</td>\n",
       "      <td>nm0001088</td>\n",
       "      <td>Acting</td>\n",
       "      <td>Peter Cushing</td>\n",
       "      <td>Kenley, Surrey, England, UK</td>\n",
       "      <td>5.950</td>\n",
       "      <td>/if5g03wn6uvHx7F6FxXHLebKc0q.jpg</td>\n",
       "      <td>NaN</td>\n",
       "      <td>NaN</td>\n",
       "      <td>NaN</td>\n",
       "    </tr>\n",
       "  </tbody>\n",
       "</table>\n",
       "</div>"
      ],
      "text/plain": [
       "   adult                                      also_known_as  \\\n",
       "0    0.0  [George Walton Lucas Jr. , 乔治·卢卡斯, Джордж Лука...   \n",
       "1    0.0  [Mark Hamil, Mark Richard Hamill, Марк Хэмилл,...   \n",
       "2    0.0  [Гаррісон Форд, Харрисон Форд, هاريسون فورد, 해...   \n",
       "3    0.0  [Carrie Frances Fisher , Кэрри Фишер, Кэрри Фр...   \n",
       "4    0.0                             [Peter Wilton Cushing]   \n",
       "\n",
       "                                           biography    birthday    deathday  \\\n",
       "0  George Walton Lucas Jr. (born May 14, 1944) is...  1944-05-14        None   \n",
       "1  Mark Richard Hamill (born September 25, 1951) ...  1951-09-25        None   \n",
       "2  Legendary Hollywood Icon Harrison Ford was bor...  1942-07-13        None   \n",
       "3  Carrie Frances Fisher (21 October 1956 - 27 De...  1956-10-21  2016-12-27   \n",
       "4  Peter Wilton Cushing, OBE  (26 May 1913 – 11 A...  1913-05-26  1994-08-11   \n",
       "\n",
       "   gender                   homepage   id    imdb_id known_for_department  \\\n",
       "0     2.0                       None  1.0  nm0000184            Directing   \n",
       "1     2.0                       None  2.0  nm0000434               Acting   \n",
       "2     2.0                       None  3.0  nm0000148               Acting   \n",
       "3     1.0  https://carriefisher.com/  4.0  nm0000402               Acting   \n",
       "4     2.0                       None  5.0  nm0001088               Acting   \n",
       "\n",
       "            name                               place_of_birth  popularity  \\\n",
       "0   George Lucas                     Modesto, California, USA       8.257   \n",
       "1    Mark Hamill                     Concord, California, USA       8.961   \n",
       "2  Harrison Ford                       Chicago, Illinois, USA       8.641   \n",
       "3  Carrie Fisher  Beverly Hills, Los Angeles, California, USA       3.679   \n",
       "4  Peter Cushing                  Kenley, Surrey, England, UK       5.950   \n",
       "\n",
       "                       profile_path  status_code status_message  success  \n",
       "0   /WCSZzWdtPmdRxH9LUCVi2JPCSJ.jpg          NaN            NaN      NaN  \n",
       "1  /zMQ93JTLW8KxusKhOlHFZhih3YQ.jpg          NaN            NaN      NaN  \n",
       "2  /5M7oN3sznp99hWYQ9sX0xheswWX.jpg          NaN            NaN      NaN  \n",
       "3  /rfJtncHewKVnHjqpIZvjn24ESeC.jpg          NaN            NaN      NaN  \n",
       "4  /if5g03wn6uvHx7F6FxXHLebKc0q.jpg          NaN            NaN      NaN  "
      ]
     },
     "execution_count": 8,
     "metadata": {},
     "output_type": "execute_result"
    }
   ],
   "source": [
    "actors_df = pd.read_json('datasets/actors.json')\n",
    "\n",
    "print(actors_df.info())\n",
    "print(actors_df.shape)\n",
    "actors_df.head()"
   ]
  },
  {
   "cell_type": "markdown",
   "metadata": {
    "editable": true
   },
   "source": [
    "##### 8) directors.json - 24,223 rows; TMDB API responses to director details queries for directors in movies"
   ]
  },
  {
   "cell_type": "code",
   "execution_count": 9,
   "metadata": {
    "editable": true
   },
   "outputs": [
    {
     "name": "stdout",
     "output_type": "stream",
     "text": [
      "<class 'pandas.core.frame.DataFrame'>\n",
      "RangeIndex: 24223 entries, 0 to 24222\n",
      "Data columns (total 14 columns):\n",
      "adult                   24223 non-null bool\n",
      "also_known_as           24223 non-null object\n",
      "biography               24223 non-null object\n",
      "birthday                10473 non-null object\n",
      "deathday                2865 non-null object\n",
      "gender                  24223 non-null int64\n",
      "homepage                1306 non-null object\n",
      "id                      24223 non-null int64\n",
      "imdb_id                 21673 non-null object\n",
      "known_for_department    24223 non-null object\n",
      "name                    24223 non-null object\n",
      "place_of_birth          9890 non-null object\n",
      "popularity              24223 non-null float64\n",
      "profile_path            8599 non-null object\n",
      "dtypes: bool(1), float64(1), int64(2), object(10)\n",
      "memory usage: 2.4+ MB\n",
      "None\n",
      "(24223, 14)\n"
     ]
    },
    {
     "data": {
      "text/html": [
       "<div>\n",
       "<style scoped>\n",
       "    .dataframe tbody tr th:only-of-type {\n",
       "        vertical-align: middle;\n",
       "    }\n",
       "\n",
       "    .dataframe tbody tr th {\n",
       "        vertical-align: top;\n",
       "    }\n",
       "\n",
       "    .dataframe thead th {\n",
       "        text-align: right;\n",
       "    }\n",
       "</style>\n",
       "<table border=\"1\" class=\"dataframe\">\n",
       "  <thead>\n",
       "    <tr style=\"text-align: right;\">\n",
       "      <th></th>\n",
       "      <th>adult</th>\n",
       "      <th>also_known_as</th>\n",
       "      <th>biography</th>\n",
       "      <th>birthday</th>\n",
       "      <th>deathday</th>\n",
       "      <th>gender</th>\n",
       "      <th>homepage</th>\n",
       "      <th>id</th>\n",
       "      <th>imdb_id</th>\n",
       "      <th>known_for_department</th>\n",
       "      <th>name</th>\n",
       "      <th>place_of_birth</th>\n",
       "      <th>popularity</th>\n",
       "      <th>profile_path</th>\n",
       "    </tr>\n",
       "  </thead>\n",
       "  <tbody>\n",
       "    <tr>\n",
       "      <th>0</th>\n",
       "      <td>False</td>\n",
       "      <td>[George Walton Lucas Jr. , 乔治·卢卡斯, Джордж Лука...</td>\n",
       "      <td>George Walton Lucas Jr. (born May 14, 1944) is...</td>\n",
       "      <td>1944-05-14</td>\n",
       "      <td>None</td>\n",
       "      <td>2</td>\n",
       "      <td>None</td>\n",
       "      <td>1</td>\n",
       "      <td>nm0000184</td>\n",
       "      <td>Directing</td>\n",
       "      <td>George Lucas</td>\n",
       "      <td>Modesto, California, USA</td>\n",
       "      <td>8.257</td>\n",
       "      <td>/WCSZzWdtPmdRxH9LUCVi2JPCSJ.jpg</td>\n",
       "    </tr>\n",
       "    <tr>\n",
       "      <th>1</th>\n",
       "      <td>False</td>\n",
       "      <td>[Mark Hamil, Mark Richard Hamill, Марк Хэмилл,...</td>\n",
       "      <td>Mark Richard Hamill (born September 25, 1951) ...</td>\n",
       "      <td>1951-09-25</td>\n",
       "      <td>None</td>\n",
       "      <td>2</td>\n",
       "      <td>None</td>\n",
       "      <td>2</td>\n",
       "      <td>nm0000434</td>\n",
       "      <td>Acting</td>\n",
       "      <td>Mark Hamill</td>\n",
       "      <td>Concord, California, USA</td>\n",
       "      <td>8.961</td>\n",
       "      <td>/zMQ93JTLW8KxusKhOlHFZhih3YQ.jpg</td>\n",
       "    </tr>\n",
       "    <tr>\n",
       "      <th>2</th>\n",
       "      <td>False</td>\n",
       "      <td>[Andrew A. Stanton]</td>\n",
       "      <td>Andrew Stanton (born December 3, 1965) is an A...</td>\n",
       "      <td>1965-12-03</td>\n",
       "      <td>None</td>\n",
       "      <td>2</td>\n",
       "      <td>None</td>\n",
       "      <td>7</td>\n",
       "      <td>nm0004056</td>\n",
       "      <td>Writing</td>\n",
       "      <td>Andrew Stanton</td>\n",
       "      <td>Boston, Massachusetts, USA</td>\n",
       "      <td>5.120</td>\n",
       "      <td>/tRwWuo06aN9vuXAPaswMN42x2ii.jpg</td>\n",
       "    </tr>\n",
       "    <tr>\n",
       "      <th>3</th>\n",
       "      <td>False</td>\n",
       "      <td>[]</td>\n",
       "      <td>Lee Unkrich is an American director and film e...</td>\n",
       "      <td>1967-08-08</td>\n",
       "      <td>None</td>\n",
       "      <td>2</td>\n",
       "      <td>None</td>\n",
       "      <td>8</td>\n",
       "      <td>nm0881279</td>\n",
       "      <td>Directing</td>\n",
       "      <td>Lee Unkrich</td>\n",
       "      <td>Cleveland, Ohio, USA</td>\n",
       "      <td>1.400</td>\n",
       "      <td>/oeUkLlak2lqKRYZmJZZv5gI87Ok.jpg</td>\n",
       "    </tr>\n",
       "    <tr>\n",
       "      <th>4</th>\n",
       "      <td>False</td>\n",
       "      <td>[]</td>\n",
       "      <td>Albert Lawrence Brooks (born Albert Lawrence E...</td>\n",
       "      <td>1947-07-22</td>\n",
       "      <td>None</td>\n",
       "      <td>2</td>\n",
       "      <td>http://www.albertbrooks.com/</td>\n",
       "      <td>13</td>\n",
       "      <td>nm0000983</td>\n",
       "      <td>Acting</td>\n",
       "      <td>Albert Brooks</td>\n",
       "      <td>Beverly Hills, California, USA</td>\n",
       "      <td>3.665</td>\n",
       "      <td>/8iDSGu5l93N7benjf6b3AysBore.jpg</td>\n",
       "    </tr>\n",
       "  </tbody>\n",
       "</table>\n",
       "</div>"
      ],
      "text/plain": [
       "   adult                                      also_known_as  \\\n",
       "0  False  [George Walton Lucas Jr. , 乔治·卢卡斯, Джордж Лука...   \n",
       "1  False  [Mark Hamil, Mark Richard Hamill, Марк Хэмилл,...   \n",
       "2  False                                [Andrew A. Stanton]   \n",
       "3  False                                                 []   \n",
       "4  False                                                 []   \n",
       "\n",
       "                                           biography    birthday deathday  \\\n",
       "0  George Walton Lucas Jr. (born May 14, 1944) is...  1944-05-14     None   \n",
       "1  Mark Richard Hamill (born September 25, 1951) ...  1951-09-25     None   \n",
       "2  Andrew Stanton (born December 3, 1965) is an A...  1965-12-03     None   \n",
       "3  Lee Unkrich is an American director and film e...  1967-08-08     None   \n",
       "4  Albert Lawrence Brooks (born Albert Lawrence E...  1947-07-22     None   \n",
       "\n",
       "   gender                      homepage  id    imdb_id known_for_department  \\\n",
       "0       2                          None   1  nm0000184            Directing   \n",
       "1       2                          None   2  nm0000434               Acting   \n",
       "2       2                          None   7  nm0004056              Writing   \n",
       "3       2                          None   8  nm0881279            Directing   \n",
       "4       2  http://www.albertbrooks.com/  13  nm0000983               Acting   \n",
       "\n",
       "             name                  place_of_birth  popularity  \\\n",
       "0    George Lucas        Modesto, California, USA       8.257   \n",
       "1     Mark Hamill        Concord, California, USA       8.961   \n",
       "2  Andrew Stanton      Boston, Massachusetts, USA       5.120   \n",
       "3     Lee Unkrich            Cleveland, Ohio, USA       1.400   \n",
       "4   Albert Brooks  Beverly Hills, California, USA       3.665   \n",
       "\n",
       "                       profile_path  \n",
       "0   /WCSZzWdtPmdRxH9LUCVi2JPCSJ.jpg  \n",
       "1  /zMQ93JTLW8KxusKhOlHFZhih3YQ.jpg  \n",
       "2  /tRwWuo06aN9vuXAPaswMN42x2ii.jpg  \n",
       "3  /oeUkLlak2lqKRYZmJZZv5gI87Ok.jpg  \n",
       "4  /8iDSGu5l93N7benjf6b3AysBore.jpg  "
      ]
     },
     "execution_count": 9,
     "metadata": {},
     "output_type": "execute_result"
    }
   ],
   "source": [
    "directors_df = pd.read_json('datasets/directors.json')\n",
    "\n",
    "print(directors_df.info())\n",
    "print(directors_df.shape)\n",
    "directors_df.head()"
   ]
  },
  {
   "cell_type": "markdown",
   "metadata": {
    "editable": true
   },
   "source": [
    "##### 9) writers.json - 35,585 rows; TMDB API responses to writer details queries for writers in movies"
   ]
  },
  {
   "cell_type": "code",
   "execution_count": 10,
   "metadata": {
    "editable": true
   },
   "outputs": [
    {
     "name": "stdout",
     "output_type": "stream",
     "text": [
      "<class 'pandas.core.frame.DataFrame'>\n",
      "RangeIndex: 35585 entries, 0 to 35584\n",
      "Data columns (total 17 columns):\n",
      "adult                   35584 non-null float64\n",
      "also_known_as           35584 non-null object\n",
      "biography               35584 non-null object\n",
      "birthday                12313 non-null object\n",
      "deathday                4009 non-null object\n",
      "gender                  35584 non-null float64\n",
      "homepage                1439 non-null object\n",
      "id                      35584 non-null float64\n",
      "imdb_id                 30490 non-null object\n",
      "known_for_department    35584 non-null object\n",
      "name                    35584 non-null object\n",
      "place_of_birth          11167 non-null object\n",
      "popularity              35584 non-null float64\n",
      "profile_path            9504 non-null object\n",
      "status_code             1 non-null float64\n",
      "status_message          1 non-null object\n",
      "success                 1 non-null float64\n",
      "dtypes: float64(6), object(11)\n",
      "memory usage: 4.6+ MB\n",
      "None\n",
      "(35585, 17)\n"
     ]
    },
    {
     "data": {
      "text/html": [
       "<div>\n",
       "<style scoped>\n",
       "    .dataframe tbody tr th:only-of-type {\n",
       "        vertical-align: middle;\n",
       "    }\n",
       "\n",
       "    .dataframe tbody tr th {\n",
       "        vertical-align: top;\n",
       "    }\n",
       "\n",
       "    .dataframe thead th {\n",
       "        text-align: right;\n",
       "    }\n",
       "</style>\n",
       "<table border=\"1\" class=\"dataframe\">\n",
       "  <thead>\n",
       "    <tr style=\"text-align: right;\">\n",
       "      <th></th>\n",
       "      <th>adult</th>\n",
       "      <th>also_known_as</th>\n",
       "      <th>biography</th>\n",
       "      <th>birthday</th>\n",
       "      <th>deathday</th>\n",
       "      <th>gender</th>\n",
       "      <th>homepage</th>\n",
       "      <th>id</th>\n",
       "      <th>imdb_id</th>\n",
       "      <th>known_for_department</th>\n",
       "      <th>name</th>\n",
       "      <th>place_of_birth</th>\n",
       "      <th>popularity</th>\n",
       "      <th>profile_path</th>\n",
       "      <th>status_code</th>\n",
       "      <th>status_message</th>\n",
       "      <th>success</th>\n",
       "    </tr>\n",
       "  </thead>\n",
       "  <tbody>\n",
       "    <tr>\n",
       "      <th>0</th>\n",
       "      <td>0.0</td>\n",
       "      <td>[George Walton Lucas Jr. , 乔治·卢卡斯, Джордж Лука...</td>\n",
       "      <td>George Walton Lucas Jr. (born May 14, 1944) is...</td>\n",
       "      <td>1944-05-14</td>\n",
       "      <td>None</td>\n",
       "      <td>2.0</td>\n",
       "      <td>None</td>\n",
       "      <td>1.0</td>\n",
       "      <td>nm0000184</td>\n",
       "      <td>Directing</td>\n",
       "      <td>George Lucas</td>\n",
       "      <td>Modesto, California, USA</td>\n",
       "      <td>7.677</td>\n",
       "      <td>/WCSZzWdtPmdRxH9LUCVi2JPCSJ.jpg</td>\n",
       "      <td>NaN</td>\n",
       "      <td>NaN</td>\n",
       "      <td>NaN</td>\n",
       "    </tr>\n",
       "    <tr>\n",
       "      <th>1</th>\n",
       "      <td>0.0</td>\n",
       "      <td>[Carrie Frances Fisher , Кэрри Фишер, Кэрри Фр...</td>\n",
       "      <td>Carrie Frances Fisher (21 October 1956 - 27 De...</td>\n",
       "      <td>1956-10-21</td>\n",
       "      <td>2016-12-27</td>\n",
       "      <td>1.0</td>\n",
       "      <td>https://carriefisher.com/</td>\n",
       "      <td>4.0</td>\n",
       "      <td>nm0000402</td>\n",
       "      <td>Acting</td>\n",
       "      <td>Carrie Fisher</td>\n",
       "      <td>Beverly Hills, Los Angeles, California, USA</td>\n",
       "      <td>3.679</td>\n",
       "      <td>/rfJtncHewKVnHjqpIZvjn24ESeC.jpg</td>\n",
       "      <td>NaN</td>\n",
       "      <td>NaN</td>\n",
       "      <td>NaN</td>\n",
       "    </tr>\n",
       "    <tr>\n",
       "      <th>2</th>\n",
       "      <td>0.0</td>\n",
       "      <td>[Andrew A. Stanton]</td>\n",
       "      <td>Andrew Stanton (born December 3, 1965) is an A...</td>\n",
       "      <td>1965-12-03</td>\n",
       "      <td>None</td>\n",
       "      <td>2.0</td>\n",
       "      <td>None</td>\n",
       "      <td>7.0</td>\n",
       "      <td>nm0004056</td>\n",
       "      <td>Writing</td>\n",
       "      <td>Andrew Stanton</td>\n",
       "      <td>Boston, Massachusetts, USA</td>\n",
       "      <td>5.120</td>\n",
       "      <td>/tRwWuo06aN9vuXAPaswMN42x2ii.jpg</td>\n",
       "      <td>NaN</td>\n",
       "      <td>NaN</td>\n",
       "      <td>NaN</td>\n",
       "    </tr>\n",
       "    <tr>\n",
       "      <th>3</th>\n",
       "      <td>0.0</td>\n",
       "      <td>[]</td>\n",
       "      <td>Robert \"Bob\" Peterson (born January 1961) is a...</td>\n",
       "      <td>1961-01-18</td>\n",
       "      <td>None</td>\n",
       "      <td>2.0</td>\n",
       "      <td>None</td>\n",
       "      <td>10.0</td>\n",
       "      <td>nm0677037</td>\n",
       "      <td>Acting</td>\n",
       "      <td>Bob Peterson</td>\n",
       "      <td>Wooster, Ohio, USA</td>\n",
       "      <td>0.840</td>\n",
       "      <td>/1D5PtC97QwIks6xTjbJ1HNE8kbT.jpg</td>\n",
       "      <td>NaN</td>\n",
       "      <td>NaN</td>\n",
       "      <td>NaN</td>\n",
       "    </tr>\n",
       "    <tr>\n",
       "      <th>4</th>\n",
       "      <td>0.0</td>\n",
       "      <td>[Dave Reynolds, David F. Reynolds]</td>\n",
       "      <td>Dave began his writing career in 1993 as one o...</td>\n",
       "      <td>1966-08-10</td>\n",
       "      <td>None</td>\n",
       "      <td>2.0</td>\n",
       "      <td>None</td>\n",
       "      <td>11.0</td>\n",
       "      <td>nm0721675</td>\n",
       "      <td>Writing</td>\n",
       "      <td>David Reynolds</td>\n",
       "      <td>None</td>\n",
       "      <td>1.176</td>\n",
       "      <td>/5iKtATPbLpv2lT7q9DPX2v2qPS1.jpg</td>\n",
       "      <td>NaN</td>\n",
       "      <td>NaN</td>\n",
       "      <td>NaN</td>\n",
       "    </tr>\n",
       "  </tbody>\n",
       "</table>\n",
       "</div>"
      ],
      "text/plain": [
       "   adult                                      also_known_as  \\\n",
       "0    0.0  [George Walton Lucas Jr. , 乔治·卢卡斯, Джордж Лука...   \n",
       "1    0.0  [Carrie Frances Fisher , Кэрри Фишер, Кэрри Фр...   \n",
       "2    0.0                                [Andrew A. Stanton]   \n",
       "3    0.0                                                 []   \n",
       "4    0.0                 [Dave Reynolds, David F. Reynolds]   \n",
       "\n",
       "                                           biography    birthday    deathday  \\\n",
       "0  George Walton Lucas Jr. (born May 14, 1944) is...  1944-05-14        None   \n",
       "1  Carrie Frances Fisher (21 October 1956 - 27 De...  1956-10-21  2016-12-27   \n",
       "2  Andrew Stanton (born December 3, 1965) is an A...  1965-12-03        None   \n",
       "3  Robert \"Bob\" Peterson (born January 1961) is a...  1961-01-18        None   \n",
       "4  Dave began his writing career in 1993 as one o...  1966-08-10        None   \n",
       "\n",
       "   gender                   homepage    id    imdb_id known_for_department  \\\n",
       "0     2.0                       None   1.0  nm0000184            Directing   \n",
       "1     1.0  https://carriefisher.com/   4.0  nm0000402               Acting   \n",
       "2     2.0                       None   7.0  nm0004056              Writing   \n",
       "3     2.0                       None  10.0  nm0677037               Acting   \n",
       "4     2.0                       None  11.0  nm0721675              Writing   \n",
       "\n",
       "             name                               place_of_birth  popularity  \\\n",
       "0    George Lucas                     Modesto, California, USA       7.677   \n",
       "1   Carrie Fisher  Beverly Hills, Los Angeles, California, USA       3.679   \n",
       "2  Andrew Stanton                   Boston, Massachusetts, USA       5.120   \n",
       "3    Bob Peterson                           Wooster, Ohio, USA       0.840   \n",
       "4  David Reynolds                                         None       1.176   \n",
       "\n",
       "                       profile_path  status_code status_message  success  \n",
       "0   /WCSZzWdtPmdRxH9LUCVi2JPCSJ.jpg          NaN            NaN      NaN  \n",
       "1  /rfJtncHewKVnHjqpIZvjn24ESeC.jpg          NaN            NaN      NaN  \n",
       "2  /tRwWuo06aN9vuXAPaswMN42x2ii.jpg          NaN            NaN      NaN  \n",
       "3  /1D5PtC97QwIks6xTjbJ1HNE8kbT.jpg          NaN            NaN      NaN  \n",
       "4  /5iKtATPbLpv2lT7q9DPX2v2qPS1.jpg          NaN            NaN      NaN  "
      ]
     },
     "execution_count": 10,
     "metadata": {},
     "output_type": "execute_result"
    }
   ],
   "source": [
    "writers_df = pd.read_json('datasets/writers.json')\n",
    "\n",
    "print(writers_df.info())\n",
    "print(writers_df.shape)\n",
    "writers_df.head()"
   ]
  },
  {
   "cell_type": "code",
   "execution_count": null,
   "metadata": {
    "editable": true
   },
   "outputs": [],
   "source": []
  },
  {
   "cell_type": "markdown",
   "metadata": {
    "editable": true
   },
   "source": [
    "### Step 2: Explore and Assess the Data\n",
    "See steps below for each dataframe"
   ]
  },
  {
   "cell_type": "markdown",
   "metadata": {
    "editable": true
   },
   "source": [
    "##### 1) Clean up links dataframe"
   ]
  },
  {
   "cell_type": "code",
   "execution_count": 11,
   "metadata": {
    "editable": true
   },
   "outputs": [],
   "source": [
    "# Need to drop the tmdbId=NaN rows - only interested in movies that are actually in TMDB\n",
    "links.dropna(axis=0, how='any', inplace=True)\n",
    "\n",
    "# Can also drop the imdbId column; will be picking it up below in the proper format\n",
    "links.drop(columns='imdbId', inplace=True)"
   ]
  },
  {
   "cell_type": "markdown",
   "metadata": {
    "editable": true
   },
   "source": [
    "##### 2) Clean up movies dataframe"
   ]
  },
  {
   "cell_type": "code",
   "execution_count": 12,
   "metadata": {
    "editable": true
   },
   "outputs": [],
   "source": [
    "# Will need to link the ids in movies dataframe to tmdbIds, so this is a good (and necessary)\n",
    "#   place to add the links dataframe to the movies dataframe\n",
    "movies = movies.merge(links, how='left', on='movieId')\n",
    "\n",
    "# Retain only the titles in the movies dataframe that are actually confirmed (via API query) to be in TMDB (i.e. in the people dataframe)\n",
    "movies = movies[movies['tmdbId'].isin(people['id'])]\n",
    "movies.reset_index(drop=True, inplace=True)\n",
    "\n",
    "# Drop the handful of duplicates discovered in the movies df\n",
    "movies = movies.drop_duplicates(subset=['tmdbId'], keep='first')\n",
    "movies.reset_index(drop=True, inplace=True)"
   ]
  },
  {
   "cell_type": "markdown",
   "metadata": {
    "editable": true
   },
   "source": [
    "##### 3) Clean up ratings dataframe"
   ]
  },
  {
   "cell_type": "code",
   "execution_count": 13,
   "metadata": {
    "editable": true
   },
   "outputs": [],
   "source": [
    "# Drop NaN rows (if any)\n",
    "ratings = ratings[~ratings.isna().any(axis=1)]\n",
    "\n",
    "# Far more rows than we need here, and using all of them will needlessly slow \n",
    "#     down the ETL pipeline for this project; so, randomly sample down to 370,000 rows\n",
    "ratings = ratings.sample(n=370000, random_state=999).reset_index(drop=True)\n",
    "\n",
    "# Only include movies that are in the movies dataframe\n",
    "ratings = ratings[ratings['movieId'].isin(movies['movieId'].unique())]"
   ]
  },
  {
   "cell_type": "markdown",
   "metadata": {
    "editable": true
   },
   "source": [
    "##### 4) Clean up tags dataframe"
   ]
  },
  {
   "cell_type": "code",
   "execution_count": 14,
   "metadata": {
    "editable": true
   },
   "outputs": [],
   "source": [
    "# Drop NaN rows (if any)\n",
    "tags = tags[~tags.isna().any(axis=1)]  # Drop any NaN rows\n",
    "\n",
    "# Far more rows than we need here, and using all of them will needlessly slow \n",
    "#     down the ETL pipeline for this project; so, randomly sample down to 370,000 rows\n",
    "tags = tags.sample(n=370000, random_state=999).reset_index(drop=True)\n",
    "\n",
    "# Convert all tags to lower case to make sure the same tag is not represented multiple ways\n",
    "tags['tag'] = tags['tag'].str.lower()\n",
    "\n",
    "# Only include movies that are in the movies dataframe\n",
    "tags = tags[tags['movieId'].isin(movies['movieId'].unique())]"
   ]
  },
  {
   "cell_type": "markdown",
   "metadata": {
    "editable": true
   },
   "source": [
    "##### 5) Clean up people dataframe"
   ]
  },
  {
   "cell_type": "code",
   "execution_count": 15,
   "metadata": {
    "editable": true
   },
   "outputs": [
    {
     "data": {
      "text/html": [
       "<div>\n",
       "<style scoped>\n",
       "    .dataframe tbody tr th:only-of-type {\n",
       "        vertical-align: middle;\n",
       "    }\n",
       "\n",
       "    .dataframe tbody tr th {\n",
       "        vertical-align: top;\n",
       "    }\n",
       "\n",
       "    .dataframe thead th {\n",
       "        text-align: right;\n",
       "    }\n",
       "</style>\n",
       "<table border=\"1\" class=\"dataframe\">\n",
       "  <thead>\n",
       "    <tr style=\"text-align: right;\">\n",
       "      <th></th>\n",
       "      <th>id</th>\n",
       "      <th>actor1_id</th>\n",
       "      <th>actor2_id</th>\n",
       "      <th>actor3_id</th>\n",
       "      <th>actor4_id</th>\n",
       "      <th>actor5_id</th>\n",
       "      <th>director1_id</th>\n",
       "      <th>director2_id</th>\n",
       "      <th>director3_id</th>\n",
       "      <th>director4_id</th>\n",
       "      <th>director5_id</th>\n",
       "      <th>writer1_id</th>\n",
       "      <th>writer2_id</th>\n",
       "      <th>writer3_id</th>\n",
       "      <th>writer4_id</th>\n",
       "      <th>writer5_id</th>\n",
       "    </tr>\n",
       "  </thead>\n",
       "  <tbody>\n",
       "    <tr>\n",
       "      <th>37806</th>\n",
       "      <td>125464</td>\n",
       "      <td>1081416.0</td>\n",
       "      <td>189129.0</td>\n",
       "      <td>209380.0</td>\n",
       "      <td>94492.0</td>\n",
       "      <td>1081420.0</td>\n",
       "      <td>68738.0</td>\n",
       "      <td>NaN</td>\n",
       "      <td>NaN</td>\n",
       "      <td>NaN</td>\n",
       "      <td>NaN</td>\n",
       "      <td>NaN</td>\n",
       "      <td>NaN</td>\n",
       "      <td>NaN</td>\n",
       "      <td>NaN</td>\n",
       "      <td>NaN</td>\n",
       "    </tr>\n",
       "  </tbody>\n",
       "</table>\n",
       "</div>"
      ],
      "text/plain": [
       "           id  actor1_id  actor2_id  actor3_id  actor4_id  actor5_id  \\\n",
       "37806  125464  1081416.0   189129.0   209380.0    94492.0  1081420.0   \n",
       "\n",
       "       director1_id  director2_id  director3_id  director4_id  director5_id  \\\n",
       "37806       68738.0           NaN           NaN           NaN           NaN   \n",
       "\n",
       "       writer1_id  writer2_id  writer3_id  writer4_id  writer5_id  \n",
       "37806         NaN         NaN         NaN         NaN         NaN  "
      ]
     },
     "metadata": {},
     "output_type": "display_data"
    },
    {
     "data": {
      "text/html": [
       "<div>\n",
       "<style scoped>\n",
       "    .dataframe tbody tr th:only-of-type {\n",
       "        vertical-align: middle;\n",
       "    }\n",
       "\n",
       "    .dataframe tbody tr th {\n",
       "        vertical-align: top;\n",
       "    }\n",
       "\n",
       "    .dataframe thead th {\n",
       "        text-align: right;\n",
       "    }\n",
       "</style>\n",
       "<table border=\"1\" class=\"dataframe\">\n",
       "  <thead>\n",
       "    <tr style=\"text-align: right;\">\n",
       "      <th></th>\n",
       "      <th>id</th>\n",
       "      <th>actor1_id</th>\n",
       "      <th>actor2_id</th>\n",
       "      <th>actor3_id</th>\n",
       "      <th>actor4_id</th>\n",
       "      <th>actor5_id</th>\n",
       "      <th>director1_id</th>\n",
       "      <th>director2_id</th>\n",
       "      <th>director3_id</th>\n",
       "      <th>director4_id</th>\n",
       "      <th>director5_id</th>\n",
       "      <th>writer1_id</th>\n",
       "      <th>writer2_id</th>\n",
       "      <th>writer3_id</th>\n",
       "      <th>writer4_id</th>\n",
       "      <th>writer5_id</th>\n",
       "    </tr>\n",
       "  </thead>\n",
       "  <tbody>\n",
       "    <tr>\n",
       "      <th>37806</th>\n",
       "      <td>125464</td>\n",
       "      <td>1081416.0</td>\n",
       "      <td>147518.0</td>\n",
       "      <td>209380.0</td>\n",
       "      <td>94492.0</td>\n",
       "      <td>1081420.0</td>\n",
       "      <td>68738.0</td>\n",
       "      <td>NaN</td>\n",
       "      <td>NaN</td>\n",
       "      <td>NaN</td>\n",
       "      <td>NaN</td>\n",
       "      <td>NaN</td>\n",
       "      <td>NaN</td>\n",
       "      <td>NaN</td>\n",
       "      <td>NaN</td>\n",
       "      <td>NaN</td>\n",
       "    </tr>\n",
       "  </tbody>\n",
       "</table>\n",
       "</div>"
      ],
      "text/plain": [
       "           id  actor1_id  actor2_id  actor3_id  actor4_id  actor5_id  \\\n",
       "37806  125464  1081416.0   147518.0   209380.0    94492.0  1081420.0   \n",
       "\n",
       "       director1_id  director2_id  director3_id  director4_id  director5_id  \\\n",
       "37806       68738.0           NaN           NaN           NaN           NaN   \n",
       "\n",
       "       writer1_id  writer2_id  writer3_id  writer4_id  writer5_id  \n",
       "37806         NaN         NaN         NaN         NaN         NaN  "
      ]
     },
     "metadata": {},
     "output_type": "display_data"
    }
   ],
   "source": [
    "# Fix a known TMDB query error discovered during data exploration: \n",
    "#   For TMDB movie id 125464, substitute correct actor 147518 for unknown actor 189129\n",
    "\n",
    "display(people.loc[people['id'] == 125464.0])\n",
    "people.loc[people['id'] == 125464.0, 'actor2_id'] = 147518.0\n",
    "display(people.loc[people['id'] == 125464.0])"
   ]
  },
  {
   "cell_type": "code",
   "execution_count": 16,
   "metadata": {
    "editable": true
   },
   "outputs": [
    {
     "data": {
      "text/html": [
       "<div>\n",
       "<style scoped>\n",
       "    .dataframe tbody tr th:only-of-type {\n",
       "        vertical-align: middle;\n",
       "    }\n",
       "\n",
       "    .dataframe tbody tr th {\n",
       "        vertical-align: top;\n",
       "    }\n",
       "\n",
       "    .dataframe thead th {\n",
       "        text-align: right;\n",
       "    }\n",
       "</style>\n",
       "<table border=\"1\" class=\"dataframe\">\n",
       "  <thead>\n",
       "    <tr style=\"text-align: right;\">\n",
       "      <th></th>\n",
       "      <th>id</th>\n",
       "      <th>actor1_id</th>\n",
       "      <th>actor2_id</th>\n",
       "      <th>actor3_id</th>\n",
       "      <th>actor4_id</th>\n",
       "      <th>actor5_id</th>\n",
       "      <th>director1_id</th>\n",
       "      <th>director2_id</th>\n",
       "      <th>director3_id</th>\n",
       "      <th>director4_id</th>\n",
       "      <th>director5_id</th>\n",
       "      <th>writer1_id</th>\n",
       "      <th>writer2_id</th>\n",
       "      <th>writer3_id</th>\n",
       "      <th>writer4_id</th>\n",
       "      <th>writer5_id</th>\n",
       "    </tr>\n",
       "  </thead>\n",
       "  <tbody>\n",
       "    <tr>\n",
       "      <th>50604</th>\n",
       "      <td>93195</td>\n",
       "      <td>8791.0</td>\n",
       "      <td>80178.0</td>\n",
       "      <td>1035301.0</td>\n",
       "      <td>96481.0</td>\n",
       "      <td>1035856.0</td>\n",
       "      <td>41968.0</td>\n",
       "      <td>NaN</td>\n",
       "      <td>NaN</td>\n",
       "      <td>NaN</td>\n",
       "      <td>NaN</td>\n",
       "      <td>41968.0</td>\n",
       "      <td>1035303.0</td>\n",
       "      <td>NaN</td>\n",
       "      <td>NaN</td>\n",
       "      <td>NaN</td>\n",
       "    </tr>\n",
       "  </tbody>\n",
       "</table>\n",
       "</div>"
      ],
      "text/plain": [
       "          id  actor1_id  actor2_id  actor3_id  actor4_id  actor5_id  \\\n",
       "50604  93195     8791.0    80178.0  1035301.0    96481.0  1035856.0   \n",
       "\n",
       "       director1_id  director2_id  director3_id  director4_id  director5_id  \\\n",
       "50604       41968.0           NaN           NaN           NaN           NaN   \n",
       "\n",
       "       writer1_id  writer2_id  writer3_id  writer4_id  writer5_id  \n",
       "50604     41968.0   1035303.0         NaN         NaN         NaN  "
      ]
     },
     "metadata": {},
     "output_type": "display_data"
    },
    {
     "data": {
      "text/html": [
       "<div>\n",
       "<style scoped>\n",
       "    .dataframe tbody tr th:only-of-type {\n",
       "        vertical-align: middle;\n",
       "    }\n",
       "\n",
       "    .dataframe tbody tr th {\n",
       "        vertical-align: top;\n",
       "    }\n",
       "\n",
       "    .dataframe thead th {\n",
       "        text-align: right;\n",
       "    }\n",
       "</style>\n",
       "<table border=\"1\" class=\"dataframe\">\n",
       "  <thead>\n",
       "    <tr style=\"text-align: right;\">\n",
       "      <th></th>\n",
       "      <th>id</th>\n",
       "      <th>actor1_id</th>\n",
       "      <th>actor2_id</th>\n",
       "      <th>actor3_id</th>\n",
       "      <th>actor4_id</th>\n",
       "      <th>actor5_id</th>\n",
       "      <th>director1_id</th>\n",
       "      <th>director2_id</th>\n",
       "      <th>director3_id</th>\n",
       "      <th>director4_id</th>\n",
       "      <th>director5_id</th>\n",
       "      <th>writer1_id</th>\n",
       "      <th>writer2_id</th>\n",
       "      <th>writer3_id</th>\n",
       "      <th>writer4_id</th>\n",
       "      <th>writer5_id</th>\n",
       "    </tr>\n",
       "  </thead>\n",
       "  <tbody>\n",
       "    <tr>\n",
       "      <th>50604</th>\n",
       "      <td>93195</td>\n",
       "      <td>8791.0</td>\n",
       "      <td>80178.0</td>\n",
       "      <td>1035301.0</td>\n",
       "      <td>96481.0</td>\n",
       "      <td>133113.0</td>\n",
       "      <td>41968.0</td>\n",
       "      <td>NaN</td>\n",
       "      <td>NaN</td>\n",
       "      <td>NaN</td>\n",
       "      <td>NaN</td>\n",
       "      <td>41968.0</td>\n",
       "      <td>1035303.0</td>\n",
       "      <td>NaN</td>\n",
       "      <td>NaN</td>\n",
       "      <td>NaN</td>\n",
       "    </tr>\n",
       "  </tbody>\n",
       "</table>\n",
       "</div>"
      ],
      "text/plain": [
       "          id  actor1_id  actor2_id  actor3_id  actor4_id  actor5_id  \\\n",
       "50604  93195     8791.0    80178.0  1035301.0    96481.0   133113.0   \n",
       "\n",
       "       director1_id  director2_id  director3_id  director4_id  director5_id  \\\n",
       "50604       41968.0           NaN           NaN           NaN           NaN   \n",
       "\n",
       "       writer1_id  writer2_id  writer3_id  writer4_id  writer5_id  \n",
       "50604     41968.0   1035303.0         NaN         NaN         NaN  "
      ]
     },
     "metadata": {},
     "output_type": "display_data"
    }
   ],
   "source": [
    "# Fix another known TMDB query error: \n",
    "#   For TMDB movie id 93195, substitute correct actor 133113 for unknown actor 1035856\n",
    "\n",
    "display(people.loc[people['id'] == 93195.0])\n",
    "people.loc[people['id'] == 93195.0, 'actor5_id'] = 133113.0\n",
    "display(people.loc[people['id'] == 93195.0])"
   ]
  },
  {
   "cell_type": "code",
   "execution_count": 17,
   "metadata": {
    "editable": true
   },
   "outputs": [
    {
     "data": {
      "text/html": [
       "<div>\n",
       "<style scoped>\n",
       "    .dataframe tbody tr th:only-of-type {\n",
       "        vertical-align: middle;\n",
       "    }\n",
       "\n",
       "    .dataframe tbody tr th {\n",
       "        vertical-align: top;\n",
       "    }\n",
       "\n",
       "    .dataframe thead th {\n",
       "        text-align: right;\n",
       "    }\n",
       "</style>\n",
       "<table border=\"1\" class=\"dataframe\">\n",
       "  <thead>\n",
       "    <tr style=\"text-align: right;\">\n",
       "      <th></th>\n",
       "      <th>id</th>\n",
       "      <th>actor1_id</th>\n",
       "      <th>actor2_id</th>\n",
       "      <th>actor3_id</th>\n",
       "      <th>actor4_id</th>\n",
       "      <th>actor5_id</th>\n",
       "      <th>director1_id</th>\n",
       "      <th>director2_id</th>\n",
       "      <th>director3_id</th>\n",
       "      <th>director4_id</th>\n",
       "      <th>director5_id</th>\n",
       "      <th>writer1_id</th>\n",
       "      <th>writer2_id</th>\n",
       "      <th>writer3_id</th>\n",
       "      <th>writer4_id</th>\n",
       "      <th>writer5_id</th>\n",
       "    </tr>\n",
       "  </thead>\n",
       "  <tbody>\n",
       "    <tr>\n",
       "      <th>2748</th>\n",
       "      <td>24128</td>\n",
       "      <td>3078.0</td>\n",
       "      <td>91229.0</td>\n",
       "      <td>91230.0</td>\n",
       "      <td>91233.0</td>\n",
       "      <td>1194050.0</td>\n",
       "      <td>16294.0</td>\n",
       "      <td>NaN</td>\n",
       "      <td>NaN</td>\n",
       "      <td>NaN</td>\n",
       "      <td>NaN</td>\n",
       "      <td>16294.0</td>\n",
       "      <td>1128385.0</td>\n",
       "      <td>NaN</td>\n",
       "      <td>NaN</td>\n",
       "      <td>NaN</td>\n",
       "    </tr>\n",
       "  </tbody>\n",
       "</table>\n",
       "</div>"
      ],
      "text/plain": [
       "         id  actor1_id  actor2_id  actor3_id  actor4_id  actor5_id  \\\n",
       "2748  24128     3078.0    91229.0    91230.0    91233.0  1194050.0   \n",
       "\n",
       "      director1_id  director2_id  director3_id  director4_id  director5_id  \\\n",
       "2748       16294.0           NaN           NaN           NaN           NaN   \n",
       "\n",
       "      writer1_id  writer2_id  writer3_id  writer4_id  writer5_id  \n",
       "2748     16294.0   1128385.0         NaN         NaN         NaN  "
      ]
     },
     "metadata": {},
     "output_type": "display_data"
    },
    {
     "data": {
      "text/html": [
       "<div>\n",
       "<style scoped>\n",
       "    .dataframe tbody tr th:only-of-type {\n",
       "        vertical-align: middle;\n",
       "    }\n",
       "\n",
       "    .dataframe tbody tr th {\n",
       "        vertical-align: top;\n",
       "    }\n",
       "\n",
       "    .dataframe thead th {\n",
       "        text-align: right;\n",
       "    }\n",
       "</style>\n",
       "<table border=\"1\" class=\"dataframe\">\n",
       "  <thead>\n",
       "    <tr style=\"text-align: right;\">\n",
       "      <th></th>\n",
       "      <th>id</th>\n",
       "      <th>actor1_id</th>\n",
       "      <th>actor2_id</th>\n",
       "      <th>actor3_id</th>\n",
       "      <th>actor4_id</th>\n",
       "      <th>actor5_id</th>\n",
       "      <th>director1_id</th>\n",
       "      <th>director2_id</th>\n",
       "      <th>director3_id</th>\n",
       "      <th>director4_id</th>\n",
       "      <th>director5_id</th>\n",
       "      <th>writer1_id</th>\n",
       "      <th>writer2_id</th>\n",
       "      <th>writer3_id</th>\n",
       "      <th>writer4_id</th>\n",
       "      <th>writer5_id</th>\n",
       "    </tr>\n",
       "  </thead>\n",
       "  <tbody>\n",
       "    <tr>\n",
       "      <th>2748</th>\n",
       "      <td>24128</td>\n",
       "      <td>3078.0</td>\n",
       "      <td>91229.0</td>\n",
       "      <td>91230.0</td>\n",
       "      <td>91233.0</td>\n",
       "      <td>1194050.0</td>\n",
       "      <td>16294.0</td>\n",
       "      <td>NaN</td>\n",
       "      <td>NaN</td>\n",
       "      <td>NaN</td>\n",
       "      <td>NaN</td>\n",
       "      <td>16294.0</td>\n",
       "      <td>NaN</td>\n",
       "      <td>NaN</td>\n",
       "      <td>NaN</td>\n",
       "      <td>NaN</td>\n",
       "    </tr>\n",
       "  </tbody>\n",
       "</table>\n",
       "</div>"
      ],
      "text/plain": [
       "         id  actor1_id  actor2_id  actor3_id  actor4_id  actor5_id  \\\n",
       "2748  24128     3078.0    91229.0    91230.0    91233.0  1194050.0   \n",
       "\n",
       "      director1_id  director2_id  director3_id  director4_id  director5_id  \\\n",
       "2748       16294.0           NaN           NaN           NaN           NaN   \n",
       "\n",
       "      writer1_id  writer2_id  writer3_id  writer4_id  writer5_id  \n",
       "2748     16294.0         NaN         NaN         NaN         NaN  "
      ]
     },
     "metadata": {},
     "output_type": "display_data"
    }
   ],
   "source": [
    "# Fix another known TMDB query error: \n",
    "#   For TMDB movie id 24128, there is no second writer credited, so set writer2_id to NaN\n",
    "\n",
    "display(people.loc[people['id'] == 24128.0])\n",
    "people.loc[people['id'] == 24128.0, 'writer2_id'] = np.nan\n",
    "display(people.loc[people['id'] == 24128.0])"
   ]
  },
  {
   "cell_type": "markdown",
   "metadata": {
    "editable": true
   },
   "source": [
    "##### 6) Clean up details dataframe"
   ]
  },
  {
   "cell_type": "code",
   "execution_count": 18,
   "metadata": {
    "editable": true
   },
   "outputs": [],
   "source": [
    "# Drop unininteresting columns (NOTE: 'budget' and 'revenue' would have been interesting, but the\n",
    "#   vast majority of titles queried do not include these two values, so we'll drop them)\n",
    "details.drop(columns=['adult', 'backdrop_path', 'belongs_to_collection', 'homepage', 'budget', \\\n",
    "                      'original_title', 'overview', 'poster_path', 'production_companies', \\\n",
    "                      'production_countries', 'spoken_languages', 'status', 'tagline', 'revenue', \\\n",
    "                      'title', 'video', 'genres', 'original_language', 'popularity'], inplace=True)"
   ]
  },
  {
   "cell_type": "markdown",
   "metadata": {
    "editable": true
   },
   "source": [
    "##### 7) Clean up actors dataframe"
   ]
  },
  {
   "cell_type": "code",
   "execution_count": 19,
   "metadata": {
    "editable": true
   },
   "outputs": [],
   "source": [
    "# Drop unwanted/uninteresting columns from actors df\n",
    "actors_df.drop(columns=['success', 'status_code', 'status_message', 'adult', 'also_known_as', 'biography', 'gender', \\\n",
    "                        'homepage', 'known_for_department', 'place_of_birth', 'popularity', 'profile_path'], \\\n",
    "              inplace=True)"
   ]
  },
  {
   "cell_type": "markdown",
   "metadata": {
    "editable": true
   },
   "source": [
    "##### 8) Clean up directors dataframe"
   ]
  },
  {
   "cell_type": "code",
   "execution_count": 20,
   "metadata": {
    "editable": true
   },
   "outputs": [],
   "source": [
    "# Drop unwanted/uninteresting columns from directors df\n",
    "directors_df.drop(columns=['adult', 'also_known_as', 'biography', 'gender', 'homepage', \\\n",
    "                        'known_for_department', 'place_of_birth', 'popularity', 'profile_path'], \\\n",
    "              inplace=True)"
   ]
  },
  {
   "cell_type": "markdown",
   "metadata": {
    "editable": true
   },
   "source": [
    "##### 9) Clean up writers dataframe"
   ]
  },
  {
   "cell_type": "code",
   "execution_count": 21,
   "metadata": {
    "editable": true
   },
   "outputs": [],
   "source": [
    "# Drop unwanted/uninteresting columns from writers df\n",
    "writers_df.drop(columns=['success', 'status_code', 'status_message', 'adult', 'also_known_as', 'biography', 'gender', \\\n",
    "                         'homepage', 'known_for_department', 'place_of_birth', 'popularity', 'profile_path'], \\\n",
    "              inplace=True)\n",
    "\n",
    "# Drop the known single NaN (result of errant query)\n",
    "writers_df = writers_df[~writers_df.isnull().all(axis=1)]"
   ]
  },
  {
   "cell_type": "code",
   "execution_count": null,
   "metadata": {
    "editable": true
   },
   "outputs": [],
   "source": []
  },
  {
   "cell_type": "markdown",
   "metadata": {
    "editable": true
   },
   "source": [
    "### Step 3: Define the Data Model\n",
    "#### 3.1 Conceptual Data Model\n",
    "The snowflake schema chosen for the Movie Database appears in the diagram below. The Fact table contains all Movie Database user community actions, each of which maps to a specific movie at a specific time and involves either rating the movie or tagging it. A snowflake schema was chosen instead of a star because each movie has so many details (up to Top 5 Billed Actors, up to Top 5 Billed Directors, up to Top 5 Billed Writers) that is was deemed desirable to separate Actors, Directors and Writers out into their own tables (allowing for simpler queries of just these subcategories of people). \n",
    "\n",
    "![Movie Database Schema](schema_diagram.png \"Movie Database Schema\")\n",
    "\n",
    "#### 3.2 Mapping Out Data Pipelines\n",
    "For each of the tables in the diagram above, Section 4.1 drops any existing postgreSQL table and generates a new one, creates a correspoding Pandas dataframe from the cleaned datasets seen in the preceding sections, and uses postgresSQL to insert the dataframe's contents into the table. Upon completion of this process, Section 4.2 performs Data Quality Checks on each table, and Section 4.3 performs a series of realistic queries to demonstrate the finished Movie Database's functionality."
   ]
  },
  {
   "cell_type": "markdown",
   "metadata": {
    "editable": true
   },
   "source": [
    "### Step 4: Run Pipelines to Model the Data \n",
    "#### 4.1 Create the data model\n",
    "Build the data pipelines to create the data model."
   ]
  },
  {
   "cell_type": "markdown",
   "metadata": {
    "editable": true
   },
   "source": [
    "NOTE: The query structure used below loads 2000 rows per INSERT INTO query, resulting in a significant time savings relative to inserting one row of data at a time. The methodology was adapted from comments and code suggested here: https://stackoverflow.com/questions/8134602/psycopg2-insert-multiple-rows-with-one-query"
   ]
  },
  {
   "cell_type": "markdown",
   "metadata": {
    "editable": true
   },
   "source": [
    "#### 1) Create Tables"
   ]
  },
  {
   "cell_type": "code",
   "execution_count": 22,
   "metadata": {
    "editable": true
   },
   "outputs": [],
   "source": [
    "def create_database():\n",
    "    \"\"\"\n",
    "    - Creates and connects to the sparkifydb\n",
    "    - Returns the connection and cursor to sparkifydb\n",
    "    \"\"\"\n",
    "    \n",
    "    # connect to default database\n",
    "    conn = psycopg2.connect(\"host=127.0.0.1 dbname=studentdb user=student password=student\")\n",
    "    conn.set_session(autocommit=True)\n",
    "    cur = conn.cursor()\n",
    "    \n",
    "    # create movies database with UTF8 encoding\n",
    "    cur.execute(\"DROP DATABASE IF EXISTS moviesdb\")\n",
    "    cur.execute(\"CREATE DATABASE moviesdb WITH ENCODING 'utf8' TEMPLATE template0\")\n",
    "\n",
    "    # close connection to default database\n",
    "    conn.close()    \n",
    "    \n",
    "    # connect to movies database\n",
    "    conn = psycopg2.connect(\"host=127.0.0.1 dbname=moviesdb user=student password=student\")\n",
    "    cur = conn.cursor()\n",
    "    \n",
    "    return cur, conn\n",
    "\n",
    "\n",
    "def drop_tables(cur, conn):\n",
    "    \"\"\"\n",
    "    Drops each table using the queries in `drop_table_queries` list.\n",
    "    \"\"\"\n",
    "    for query in drop_table_queries:\n",
    "        cur.execute(query)\n",
    "        conn.commit()\n",
    "\n",
    "\n",
    "def create_tables(cur, conn):\n",
    "    \"\"\"\n",
    "    Creates each table using the queries in `create_table_queries` list. \n",
    "    \"\"\"\n",
    "    for query in create_table_queries:\n",
    "        cur.execute(query)\n",
    "        conn.commit()\n",
    "\n",
    "\n",
    "def main():\n",
    "    \"\"\"\n",
    "    - Drops (if exists) and Creates the sparkify database. \n",
    "    \n",
    "    - Establishes connection with the sparkify database and gets\n",
    "      cursor to it.  \n",
    "    \n",
    "    - Drops all the tables.  \n",
    "    \n",
    "    - Creates all tables needed. \n",
    "    \n",
    "    - Finally, closes the connection. \n",
    "    \"\"\"\n",
    "    cur, conn = create_database()\n",
    "    \n",
    "    drop_tables(cur, conn)\n",
    "    create_tables(cur, conn)\n",
    "\n",
    "    conn.close()\n",
    "\n",
    "\n",
    "if __name__ == \"__main__\":\n",
    "    main()"
   ]
  },
  {
   "cell_type": "markdown",
   "metadata": {
    "editable": true
   },
   "source": [
    "#### 2) Define a function to verify that tables were created and then run it"
   ]
  },
  {
   "cell_type": "code",
   "execution_count": 23,
   "metadata": {
    "editable": true
   },
   "outputs": [
    {
     "name": "stdout",
     "output_type": "stream",
     "text": [
      "('fact_user_actions',)\n",
      "('dim_users',)\n",
      "('dim_time',)\n",
      "('dim_movies',)\n",
      "('dim_actors',)\n",
      "('dim_directors',)\n",
      "('dim_writers',)\n"
     ]
    }
   ],
   "source": [
    "def check_for_tables(connection_string):\n",
    "    '''\n",
    "    Function to check for any existing tables in the database specified in\n",
    "    connection_string. Prints out the names of all tables found.\n",
    "    \n",
    "    ARGUMENTS:\n",
    "        connection_string (string) : A string which specifies how to connect to the Movies Database\n",
    "                                     (in the format expected by psycopg2.connect())\n",
    "    RETURNS:\n",
    "        None\n",
    "    '''\n",
    "    \n",
    "    # Connect to database\n",
    "    conn = psycopg2.connect(connection_string)\n",
    "    conn.autocommit = True\n",
    "    cur = conn.cursor()\n",
    "    \n",
    "    # Query to return all existing tables\n",
    "    try:\n",
    "        cur.execute(\"SELECT table_name FROM information_schema.tables WHERE table_schema='public'\")\n",
    "    except psycopg2.Error as e:\n",
    "        print(e)\n",
    "    \n",
    "    row = cur.fetchone()\n",
    "    while row:\n",
    "        print(row)\n",
    "        row = cur.fetchone()\n",
    "    \n",
    "    conn.close()\n",
    "    \n",
    "# Use the function defined above to verify that tables were created\n",
    "check_for_tables(\"host=127.0.0.1 dbname=moviesdb user=student password=student\")"
   ]
  },
  {
   "cell_type": "markdown",
   "metadata": {
    "editable": true
   },
   "source": [
    "#### 3) Define functions to run the ETL pipeline and then run the pipeline"
   ]
  },
  {
   "cell_type": "code",
   "execution_count": 24,
   "metadata": {
    "editable": true
   },
   "outputs": [
    {
     "name": "stdout",
     "output_type": "stream",
     "text": [
      "\n",
      "Processing...\n",
      "\n",
      "\n",
      "Loading dim_movies table...\n",
      "\n",
      "\n",
      "Time Elapsed So Far: 1.3 mins\n",
      "\n",
      "\n",
      "Loading fact_user_actions table...\n",
      "\n",
      "\n",
      "Time Elapsed So Far: 1.8 mins\n",
      "\n",
      "\n",
      "Loading dim_users table...\n",
      "\n",
      "\n",
      "Time Elapsed So Far: 1.9 mins\n",
      "\n",
      "\n",
      "Loading dim_time table...\n",
      "\n",
      "\n",
      "Time Elapsed So Far: 2.5 mins\n",
      "\n",
      "\n",
      "Loading dim_actors table...\n",
      "\n",
      "\n",
      "Time Elapsed So Far: 2.7 mins\n",
      "\n",
      "\n",
      "Loading dim_directors table...\n",
      "\n",
      "\n",
      "Time Elapsed So Far: 2.7 mins\n",
      "\n",
      "\n",
      "Loading dim_writers table...\n",
      "\n",
      "\n",
      "Time Elapsed So Far: 2.7 mins\n",
      "\n",
      "\n",
      "Total elapsed time for entire ETL pipeline: 2.7 mins\n",
      "\n"
     ]
    }
   ],
   "source": [
    "def process_movies_and_events(cur, directory, start=time.time()):\n",
    "    '''\n",
    "    From the specified directory, read in movies.csv, links.csv, people.json, details.json, ratings.csv \n",
    "    and tags.csv, exctract the data, clean and transform it into the desired movies, user_actions, users \n",
    "    and time datasets, and load the resulting dataframes into the dim_movies, fact_user_actions, \n",
    "    dim_users and dim_time tables\n",
    "    \n",
    "    ARGUMENTS:\n",
    "        cur (object)       : A psycopg2 cursor class object (allows PostgreSQL queries)\n",
    "        directory (string) : Directory path to movies.csv, links.csv, people.json and details.json\n",
    "        start (float)      : A numeric start time which can be optionally passed in; tracks total runtime \n",
    "        \n",
    "    RETURNS:\n",
    "        None\n",
    "    '''\n",
    "    \n",
    "    ## Read in the files\n",
    "    links = pd.read_csv(directory + '/links.csv')\n",
    "    movies = pd.read_csv(directory + '/movies.csv')\n",
    "    people = pd.read_json(directory + '/people.json')\n",
    "    details = pd.read_json(directory + '/details.json')\n",
    "    ratings = pd.read_csv('datasets/ratings.csv')\n",
    "    tags = pd.read_csv('datasets/tags.csv')\n",
    "    \n",
    "    ## Clean the links dataframe\n",
    "    # Need to drop the tmdbId=NaN rows - only interested in movies that are actually in TMDB\n",
    "    links.dropna(axis=0, how='any', inplace=True)\n",
    "    # Can also drop the imdbId column; will be picking it up below in the proper format\n",
    "    links.drop(columns='imdbId', inplace=True)\n",
    "    \n",
    "    ## Clean the movies dataframe\n",
    "    # Add the links dataframe to the movies dataframe\n",
    "    movies = movies.merge(links, how='left', on='movieId')\n",
    "    # Retain only the titles in the movies dataframe that are actually in TMDB\n",
    "    movies = movies[movies['tmdbId'].isin(people['id'])]\n",
    "    movies.reset_index(drop=True, inplace=True)\n",
    "    # Drop the handful of duplicates discovered in the movies df\n",
    "    movies = movies.drop_duplicates(subset=['tmdbId'], keep='first')\n",
    "    movies.reset_index(drop=True, inplace=True)\n",
    "    \n",
    "    ## Clean the people dataframe\n",
    "    # Fix known TMDB query errors discovered during data exploration: \n",
    "    people.loc[people['id'] == 125464.0, 'actor2_id'] = 147518.0\n",
    "    people.loc[people['id'] == 93195.0, 'actor5_id'] = 133113.0\n",
    "    people.loc[people['id'] == 24128.0, 'writer2_id'] = np.nan\n",
    "    \n",
    "    ## Clean the details dataframe\n",
    "    # Drop unwanted columns\n",
    "    details.drop(columns=['adult', 'backdrop_path', 'belongs_to_collection', 'homepage', 'budget', \\\n",
    "                          'original_title', 'overview', 'poster_path', 'production_companies', \\\n",
    "                          'production_countries', 'spoken_languages', 'status', 'tagline', 'revenue', \\\n",
    "                          'title', 'video', 'genres', 'original_language', 'popularity'], inplace=True)\n",
    "    \n",
    "    ## Clean the ratings dataframe\n",
    "    # Drop NaN rows (if any)\n",
    "    ratings = ratings[~ratings.isna().any(axis=1)]\n",
    "    # Far more rows than we need here, and using all of them will needlessly slow \n",
    "    #     down the ETL pipeline for this project; so, randomly sample down to 370,000 rows\n",
    "    ratings = ratings.sample(n=370000, random_state=999).reset_index(drop=True)\n",
    "    # Only include movies that are in the movies dataframe\n",
    "    ratings = ratings[ratings['movieId'].isin(movies['movieId'].unique())]\n",
    "    \n",
    "    ## Clean the tags dataframe\n",
    "    # Drop NaN rows (if any)\n",
    "    tags = tags[~tags.isna().any(axis=1)]  # Drop any NaN rows\n",
    "    # Far more rows than we need here, and using all of them will needlessly slow \n",
    "    #     down the ETL pipeline for this project; so, randomly sample down to 370,000 rows\n",
    "    tags = tags.sample(n=370000, random_state=999).reset_index(drop=True)\n",
    "    # Convert all tags to lower case to make sure the same tag is not represented multiple ways\n",
    "    tags['tag'] = tags['tag'].str.lower()\n",
    "    # Only include movies that are in the movies dataframe\n",
    "    tags = tags[tags['movieId'].isin(movies['movieId'].unique())]\n",
    "     \n",
    "    ## Form the final movies dataframe\n",
    "    # Add columns of people df to movies df\n",
    "    movies = movies.merge(people, how='left', left_on='tmdbId', right_on='id').drop(columns=['id'])\n",
    "    # Add the columns in details df to movies df\n",
    "    movies = movies.merge(details, how='left', left_on='tmdbId', right_on='id')\n",
    "    movies = movies.drop(columns='id')\n",
    "    # Covert timestamps to datetimes\n",
    "    movies['release_date'] = pd.to_datetime(movies['release_date'], yearfirst=True, errors = 'coerce')\n",
    "    # Rename and reorder columns to match the defined schema\n",
    "    movies.rename(columns={'movieId': 'movie_id', 'tmdbId': 'tmdb_id', 'vote_average': 'tmdb_rating_avg', \\\n",
    "                           'vote_count': 'tmdb_votes_tot'}, \\\n",
    "                  inplace=True)\n",
    "    movies = movies[['movie_id', 'title', 'tmdb_id', 'imdb_id', 'genres', 'actor1_id', 'actor2_id', \\\n",
    "                     'actor3_id', 'actor4_id', 'actor5_id', 'director1_id', 'director2_id', \\\n",
    "                     'director3_id', 'director4_id', 'director5_id', 'writer1_id', 'writer2_id', \\\n",
    "                     'writer3_id', 'writer4_id', 'writer5_id', 'release_date', 'runtime', \\\n",
    "                     'tmdb_rating_avg', 'tmdb_votes_tot']]\n",
    "    # Change NaNs to None to accomodate postgreSQL\n",
    "    movies.replace({np.NaN: None}, inplace=True)\n",
    "    \n",
    "    ## Form the final fact_user_actions dataframe\n",
    "    # Create the user_actions dataframe using ratings and tags dataframes; \n",
    "    #    action can be 'rate' or 'tag'; \n",
    "    #    action_val is a tag or 0-5 rating (represented as a string)\n",
    "    user_actions = ratings.copy(deep=True)\n",
    "    user_actions['action'] = 'rate'\n",
    "    user_actions['action_val'] = user_actions['rating'].apply(str)\n",
    "    user_actions.drop(columns=['rating'], inplace=True)\n",
    "    user_actions = user_actions[['userId', 'timestamp', 'movieId', 'action', 'action_val']]\n",
    "    user_actions2 = tags.copy(deep=True)\n",
    "    user_actions2['action'] = 'tag'\n",
    "    user_actions2.rename(columns={'tag': 'action_val'}, inplace=True)\n",
    "    user_actions2 = user_actions2[['userId', 'timestamp', 'movieId', 'action', 'action_val']]\n",
    "    user_actions = pd.concat([user_actions, user_actions2], axis=0)\n",
    "    user_actions.reset_index(drop=True, inplace=True)\n",
    "    # Convert timestamps to datetimes\n",
    "    user_actions.loc[:, 'timestamp'] = \\\n",
    "                    user_actions.loc[:, 'timestamp'] \\\n",
    "                                .apply(lambda x: datetime.datetime.fromtimestamp(x).strftime('%Y-%m-%d %H:%M:%S'))\n",
    "    user_actions.rename(columns={'userId': 'user_id', 'timestamp': 'action_time', 'movieId': 'movie_id'}, inplace=True)\n",
    "    \n",
    "    ## Form the final dim_users dataframe\n",
    "    users_df = pd.DataFrame(data={'user_id': np.sort(user_actions['user_id'].unique())})\n",
    "    user_actions['rated'] = user_actions['action'].apply(lambda x: 1 if (x == 'rate') else 0)\n",
    "    user_actions['tagged'] = user_actions['action'].apply(lambda x: 1 if (x == 'tag') else 0)\n",
    "    user_actions['rating_val'] = user_actions[['action','action_val']] \\\n",
    "                                .apply(lambda x: np.nan if (x['action'] == 'tag') else float(x['action_val']), \\\n",
    "                                      axis=1)\n",
    "    user_actions['num_ratings'] = user_actions.groupby('user_id')['rated'].transform(np.sum)\n",
    "    user_actions['num_tags'] = user_actions.groupby('user_id')['tagged'].transform(np.sum)\n",
    "    user_actions['avg_rating'] = user_actions.groupby('user_id')['rating_val'].transform(np.mean)\n",
    "    temp = user_actions.groupby('user_id').first().reset_index()\n",
    "    users_df['num_ratings'] = temp['num_ratings']\n",
    "    users_df['num_tags'] = temp['num_tags']\n",
    "    users_df['avg_rating'] = temp['avg_rating']\n",
    "    user_actions.drop(columns=['rated', 'tagged', 'num_ratings', 'num_tags', 'rating_val', 'avg_rating'], \\\n",
    "                      inplace=True)\n",
    "    # Change NaNs to None to accomodate postgreSQL\n",
    "    users_df.replace({np.NaN: None}, inplace=True)\n",
    "    \n",
    "    ## Form the final dim_time dataframe\n",
    "    t = user_actions['action_time'].copy(deep=True)\n",
    "    t = t.drop_duplicates().reset_index(drop=True)\n",
    "    time_data = pd.concat([t, pd.to_datetime(t).dt.hour, pd.to_datetime(t).dt.day, pd.to_datetime(t).dt.weekofyear, \\\n",
    "               pd.to_datetime(t).dt.month, pd.to_datetime(t).dt.year], axis=1).values.tolist()\n",
    "    column_labels = ['action_time', 'hour', 'day', 'week', 'month', 'year']\n",
    "    time_df = pd.DataFrame(data=time_data, columns=column_labels)\n",
    "    \n",
    "    ## Load the dimension tables\n",
    "    dataframes = [movies, user_actions, users_df, time_df]\n",
    "    table_names = ['dim_movies', 'fact_user_actions', 'dim_users', 'dim_time']\n",
    "    sql_strings = [movies_table_insert, user_actions_table_insert, users_table_insert, time_table_insert]\n",
    "    for j in range(len(dataframes)):\n",
    "        print('\\nLoading ' + table_names[j] + ' table...\\n')\n",
    "        for i in range(math.ceil(dataframes[j].shape[0] / 2000)):\n",
    "            tup = dataframes[j].iloc[ 2000*i : 2000*(i+1), :]\n",
    "            tup = list(tup.to_records(index=False))\n",
    "            try:\n",
    "                execute_values(cur, sql_strings[j], tup) \n",
    "            except psycopg2.Error as e:\n",
    "                print(e)\n",
    "                break\n",
    "        print('\\nTime Elapsed So Far: {} mins\\n'.format(str(round((time.time() - start)/60, 1))))\n",
    "    \n",
    "    \n",
    "    \n",
    "def process_credits(cur, directory, start=time.time()):\n",
    "    '''\n",
    "    From the specified directory, read in actors.json, directors.json, and writers.json, exctract \n",
    "    the data, clean and transform it into the desired actors, directors and writers datasets, and \n",
    "    load the resulting dataframes into the dim_actors, dim_directors and dim_writers tables\n",
    "    \n",
    "    ARGUMENTS:\n",
    "        cur (object)       : A psycopg2 cursor class object (allows PostgreSQL queries)\n",
    "        directory (string) : Directory path to movies.csv, links.csv, people.json and details.json\n",
    "        start (float)      : A numeric start time which can be optionally passed in; tracks total runtime\n",
    "        \n",
    "    RETURNS:\n",
    "        None\n",
    "    '''\n",
    "    \n",
    "    ## Read in the files\n",
    "    actors_df = pd.read_json('datasets/actors.json')\n",
    "    directors_df = pd.read_json('datasets/directors.json')\n",
    "    writers_df = pd.read_json('datasets/writers.json')\n",
    "    \n",
    "    ## Clean actors_df\n",
    "    # Drop unwanted/uninteresting columns\n",
    "    actors_df.drop(columns=['success', 'status_code', 'status_message', 'adult', 'also_known_as', 'biography', 'gender', \\\n",
    "                            'homepage', 'known_for_department', 'place_of_birth', 'popularity', 'profile_path'], \\\n",
    "                  inplace=True)\n",
    "    \n",
    "    ## Clean directors_df\n",
    "    # Drop unwanted/uninteresting columns\n",
    "    directors_df.drop(columns=['adult', 'also_known_as', 'biography', 'gender', 'homepage', \\\n",
    "                            'known_for_department', 'place_of_birth', 'popularity', 'profile_path'], \\\n",
    "                  inplace=True)\n",
    "    \n",
    "    ## Clean writers_df\n",
    "    # Drop unwanted/uninteresting columns\n",
    "    writers_df.drop(columns=['success', 'status_code', 'status_message', 'adult', 'also_known_as', 'biography', 'gender', \\\n",
    "                             'homepage', 'known_for_department', 'place_of_birth', 'popularity', 'profile_path'], \\\n",
    "                  inplace=True)\n",
    "    # Drop the known single NaN (result of errant query)\n",
    "    writers_df = writers_df[~writers_df.isnull().all(axis=1)]\n",
    "    \n",
    "    ## Form the final actors_df\n",
    "    # Covert timestamps to datetimes\n",
    "    actors_df['birthday'] = pd.to_datetime(actors_df['birthday'], yearfirst=True, errors = 'coerce')\n",
    "    actors_df['deathday'] = pd.to_datetime(actors_df['deathday'], yearfirst=True, errors = 'coerce')\n",
    "    # Rename the column ids & reorder to match the specified schema\n",
    "    actors_df.rename(columns={'id': 'actor_id'}, inplace=True)\n",
    "    actors_df = actors_df[['actor_id', 'name', 'imdb_id', 'birthday', 'deathday']]\n",
    "    # Clear known NaN rows\n",
    "    actors_df = actors_df[~actors_df['actor_id'].isna()]\n",
    "    # Change NaNs to None to accommodate postgreSQL\n",
    "    actors_df.replace({np.NaN: None}, inplace=True)\n",
    "    \n",
    "    ## Form the final directors_df\n",
    "    # Covert timestamps to datetimes\n",
    "    directors_df['birthday'] = pd.to_datetime(directors_df['birthday'], yearfirst=True, errors = 'coerce')\n",
    "    directors_df['deathday'] = pd.to_datetime(directors_df['deathday'], yearfirst=True, errors = 'coerce')\n",
    "    # Rename the column ids & reorder to match the specified schema\n",
    "    directors_df.rename(columns={'id': 'director_id'}, inplace=True)\n",
    "    directors_df = directors_df[['director_id', 'name', 'imdb_id', 'birthday', 'deathday']]\n",
    "    # Change NaNs to None to accommodate postgreSQL\n",
    "    directors_df.replace({np.NaN: None}, inplace=True)\n",
    "    \n",
    "    ## Form the final writers_df\n",
    "    # Covert timestamps to datetimes\n",
    "    writers_df['birthday'] = pd.to_datetime(writers_df['birthday'], yearfirst=True, errors = 'coerce')\n",
    "    writers_df['deathday'] = pd.to_datetime(writers_df['deathday'], yearfirst=True, errors = 'coerce')\n",
    "    # Rename the column ids & reorder to match the specified schema\n",
    "    writers_df.rename(columns={'id': 'writer_id'}, inplace=True)\n",
    "    writers_df = writers_df[['writer_id', 'name', 'imdb_id', 'birthday', 'deathday']]\n",
    "    # Change NaNs to None to accommodate postgreSQL\n",
    "    writers_df.replace({np.NaN: None}, inplace=True)\n",
    "    \n",
    "    ## Load the dimension tables\n",
    "    dataframes = [actors_df, directors_df, writers_df]\n",
    "    table_names = ['dim_actors', 'dim_directors', 'dim_writers']\n",
    "    sql_strings = [actors_table_insert, directors_table_insert, writers_table_insert]\n",
    "    for j in range(len(dataframes)):\n",
    "        print('\\nLoading ' + table_names[j] + ' table...\\n')\n",
    "        for i in range(math.ceil(dataframes[j].shape[0] / 2000)):\n",
    "            tup = dataframes[j].iloc[ 2000*i : 2000*(i+1), :]\n",
    "            tup = list(tup.to_records(index=False))\n",
    "            try:\n",
    "                execute_values(cur, sql_strings[j], tup) \n",
    "            except psycopg2.Error as e:\n",
    "                print(e)\n",
    "                break\n",
    "        print('\\nTime Elapsed So Far: {} mins\\n'.format(str(round((time.time() - start)/60, 1))))\n",
    "    \n",
    "   \n",
    "\n",
    "# Use the functions above to run ETL pipeline\n",
    "def main():\n",
    "    '''\n",
    "    - Establishes connection with the sparkify database and gets\n",
    "      cursor to it.\n",
    "    \n",
    "    - Extracts song data JSON files, appropriately transforms the data \n",
    "      and loads it into the songs and artists Dimension Tables.\n",
    "      \n",
    "    - Extracts log data JSON files, appropriately transforms the data\n",
    "      and loads it into the time and users Dimension Tables.\n",
    "      \n",
    "    - Uses transformed data from all previous extractions to load into\n",
    "      the songplays Fact Table.\n",
    "      \n",
    "    - NOTE: create_tables.py must be run prior to running this script\n",
    "    '''\n",
    "    \n",
    "    # Time the entire ETL pipeline process\n",
    "    print('\\nProcessing...\\n')\n",
    "    start = time.time()\n",
    "    \n",
    "    conn = psycopg2.connect(\"host=127.0.0.1 dbname=moviesdb user=student password=student\")\n",
    "    conn.autocommit = True\n",
    "    cur = conn.cursor()\n",
    "    \n",
    "    process_movies_and_events(cur, directory='datasets', start=start)\n",
    "    process_credits(cur, directory='datasets', start=start)\n",
    "\n",
    "    conn.close()\n",
    "    \n",
    "    print('\\nTotal elapsed time for entire ETL pipeline: {} mins\\n'.format(str(round((time.time() - start)/60, 1))))\n",
    "\n",
    "\n",
    "if __name__ == \"__main__\":\n",
    "    main()"
   ]
  },
  {
   "cell_type": "code",
   "execution_count": null,
   "metadata": {
    "editable": true
   },
   "outputs": [],
   "source": []
  },
  {
   "cell_type": "markdown",
   "metadata": {
    "editable": true
   },
   "source": [
    "#### 4.2 Data Quality Checks"
   ]
  },
  {
   "cell_type": "markdown",
   "metadata": {
    "editable": true
   },
   "source": [
    "#### 1) Define a generalized function to run quality check queries"
   ]
  },
  {
   "cell_type": "code",
   "execution_count": 25,
   "metadata": {
    "editable": true
   },
   "outputs": [],
   "source": [
    "def run_quality_checks(queries, responses, connection_string):\n",
    "    '''\n",
    "    Function to run the queries in queries and check each received response against \n",
    "    the expected resonse in responses. Reports PASS/FAIL for each query check and whether\n",
    "    or not all checks PASSED\n",
    "    \n",
    "    ARGUMENTS:\n",
    "        queries (list of strings)  : A list of PostgreSQL queries to be run as checks\n",
    "        responses (list of tuples) : A list of the expected responses to the strings in queries\n",
    "        connection_string (string) : A string which specifies how to connect to the Movies Database\n",
    "                                     (in the format expected by psycopg2.connect())\n",
    "        \n",
    "    RETURNS:\n",
    "        None\n",
    "    '''\n",
    "    \n",
    "    # Connect to the Movies Database\n",
    "    conn = psycopg2.connect(connection_string)\n",
    "    cur = conn.cursor()\n",
    "    \n",
    "    pass_count = 0\n",
    "    for i, query in enumerate(queries):\n",
    "        try:\n",
    "            cur.execute(query)\n",
    "            response = []\n",
    "            row = cur.fetchone()\n",
    "            print('CHECK: ' + query)\n",
    "            while 1 == 1:\n",
    "                if row is None:\n",
    "                    break\n",
    "                response.append(row)\n",
    "                row = cur.fetchone()\n",
    "            if responses[i] == response:\n",
    "                print('PASSED (Check {} of {})\\n'.format(i+1, len(queries)))\n",
    "                pass_count += 1\n",
    "            else:\n",
    "                print('FAILED (Check {} of {})\\n'.format(i+1, len(queries)))\n",
    "        except psycopg2.Error as e:\n",
    "            print(e)\n",
    "    \n",
    "    print('\\nPassed {} of {} Checks\\n'.format(pass_count, len(queries)))\n",
    "    if pass_count == len(queries):\n",
    "        print('\\nALL CHECKS PASSED\\n')\n",
    "    else:\n",
    "        print('\\nALL CHECKS DID NOT PASS!\\n')\n",
    "        \n",
    "    conn.close()"
   ]
  },
  {
   "cell_type": "markdown",
   "metadata": {
    "editable": true
   },
   "source": [
    "#### 2) Define a list of queries and a list of expected responses to form a basis for 2 distinct kinds of Quality Checks for each of the 7 tables:\n",
    "* a) A query of the first 5 rows to verify proper content and data format (odd-numbered queries)\n",
    "* b) A query to verify that all rows from the corresponding Pandas dataframe were actually loaded (even-numbered queries)"
   ]
  },
  {
   "cell_type": "code",
   "execution_count": 26,
   "metadata": {
    "editable": true
   },
   "outputs": [],
   "source": [
    "queries = []\n",
    "responses = []\n",
    "\n",
    "# 1) Query dim_movies table to verify it contains data in expected form:\n",
    "queries.append(\"SELECT * FROM dim_movies LIMIT 5;\")\n",
    "responses.append([\n",
    "(1, 'Toy Story (1995)', 862, 'tt0114709', 'Adventure|Animation|Children|Comedy|Fantasy', 31, 12898, 7167, 12899, 12900, 7879, None, None, None, None, 7, 12891, 12892, 12893, None, datetime.date(1995, 10, 30), 81.0, 7.9, 14111),\\\n",
    "(2, 'Jumanji (1995)', 8844, 'tt0113497', 'Adventure|Children|Fantasy', 2157, 205, 145151, 5149, 8537, 4945, None, None, None, None, 876, 56520, 56521, None, None, datetime.date(1995, 12, 15), 104.0, 7.2, 8260),\\\n",
    "(3, 'Grumpier Old Men (1995)', 15602, 'tt0113228', 'Comedy|Romance', 6837, 3151, 13567, 16757, 589, 26502, None, None, None, None, 16837, None, None, None, None, datetime.date(1995, 12, 22), 101.0, 6.5, 251),\\\n",
    "(4, 'Waiting to Exhale (1995)', 31357, 'tt0114885', 'Comedy|Drama|Romance', 8851, 9780, 18284, 51359, 66804, 2178, None, None, None, None, 5144, 111118, None, None, None, datetime.date(1995, 12, 22), 127.0, 6.3, 95),\\\n",
    "(5, 'Father of the Bride Part II (1995)', 11862, 'tt0113041', 'Comedy', 67773, 3092, 519, 70696, 59222, 56106, None, None, None, None, 17698, 26160, None, None, None, datetime.date(1995, 12, 8), 106.0, 6.2, 495)\\\n",
    "])\n",
    "\n",
    "# 2) Query dim_movies table verify number of expected rows (should be 57,160):\n",
    "queries.append(\"SELECT COUNT(*) FROM dim_movies;\")\n",
    "responses.append([(57160,)])\n",
    "\n",
    "# 3) Query dim_actors table to verify it contains data in expected form:\n",
    "queries.append(\"SELECT * FROM dim_actors LIMIT 5;\")\n",
    "responses.append([\n",
    "(1, 'George Lucas', 'nm0000184', datetime.date(1944, 5, 14), None),\\\n",
    "(2, 'Mark Hamill', 'nm0000434', datetime.date(1951, 9, 25), None),\\\n",
    "(3, 'Harrison Ford', 'nm0000148', datetime.date(1942, 7, 13), None),\\\n",
    "(4, 'Carrie Fisher', 'nm0000402', datetime.date(1956, 10, 21), datetime.date(2016, 12, 27)),\\\n",
    "(5, 'Peter Cushing', 'nm0001088', datetime.date(1913, 5, 26), datetime.date(1994, 8, 11))\\\n",
    "])\n",
    "\n",
    "# 4) Query dim_actors table verify number of expected rows (should be 93,344):\n",
    "queries.append(\"SELECT COUNT(*) FROM dim_actors;\")\n",
    "responses.append([(93344,)])\n",
    "\n",
    "# 5) Query dim_directors table to verify it contains data in expected form:\n",
    "queries.append(\"SELECT * FROM dim_directors LIMIT 5;\")\n",
    "responses.append([\n",
    "(1, 'George Lucas', 'nm0000184', datetime.date(1944, 5, 14), None),\\\n",
    "(2, 'Mark Hamill', 'nm0000434', datetime.date(1951, 9, 25), None),\\\n",
    "(7, 'Andrew Stanton', 'nm0004056', datetime.date(1965, 12, 3), None),\\\n",
    "(8, 'Lee Unkrich', 'nm0881279', datetime.date(1967, 8, 8), None),\\\n",
    "(13, 'Albert Brooks', 'nm0000983', datetime.date(1947, 7, 22), None)\\\n",
    "])\n",
    "\n",
    "# 6) Query dim_directors table verify number of expected rows (should be 24,223):\n",
    "queries.append(\"SELECT COUNT(*) FROM dim_directors;\")\n",
    "responses.append([(24223,)])\n",
    "\n",
    "# 7) Query dim_writers table to verify it contains data in expected form:\n",
    "queries.append(\"SELECT * FROM dim_writers LIMIT 5;\")\n",
    "responses.append([\n",
    "(1, 'George Lucas', 'nm0000184', datetime.date(1944, 5, 14), None),\\\n",
    "(4, 'Carrie Fisher', 'nm0000402', datetime.date(1956, 10, 21), datetime.date(2016, 12, 27)),\\\n",
    "(7, 'Andrew Stanton', 'nm0004056', datetime.date(1965, 12, 3), None),\\\n",
    "(10, 'Bob Peterson', 'nm0677037', datetime.date(1961, 1, 18), None),\\\n",
    "(11, 'David Reynolds', 'nm0721675', datetime.date(1966, 8, 10), None)\\\n",
    "])\n",
    "\n",
    "# 8) Query dim_writers table verify number of expected rows (should be 35,584):\n",
    "queries.append(\"SELECT COUNT(*) FROM dim_writers;\")\n",
    "responses.append([(35584,)])\n",
    "\n",
    "# 9) Query fact_user_actions table to verify it contains data in expected form:\n",
    "queries.append(\"SELECT * FROM fact_user_actions LIMIT 5;\")\n",
    "responses.append([\n",
    "(1, 20544, datetime.datetime(2003, 10, 10, 16, 0, 44), 509, 'rate', '3.5'),\\\n",
    "(2, 11949, datetime.datetime(2004, 3, 23, 6, 4, 49), 6953, 'rate', '4.5'),\\\n",
    "(3, 9986, datetime.datetime(2016, 2, 26, 16, 27, 28), 153070, 'rate', '3.0'),\\\n",
    "(4, 9990, datetime.datetime(2000, 11, 4, 21, 56, 51), 2866, 'rate', '3.0'),\\\n",
    "(5, 53264, datetime.datetime(2015, 11, 7, 23, 3, 24), 61248, 'rate', '3.5')\\\n",
    "])\n",
    "\n",
    "# 10) Query fact_user_actions table verify number of expected rows (should be 736,680):\n",
    "queries.append(\"SELECT COUNT(*) FROM fact_user_actions;\")\n",
    "responses.append([(736680,)])\n",
    "\n",
    "# 11) Query dim_users table to verify it contains data in expected form:\n",
    "queries.append(\"SELECT * FROM dim_users LIMIT 5;\")\n",
    "responses.append([\n",
    "(2, 2, 0, 3.5),\\\n",
    "(4, 25, 0, 3.04),\\\n",
    "(6, 1, 0, 4.0),\\\n",
    "(7, 1, 0, 3.5),\\\n",
    "(10, 5, 0, 4.0)\n",
    "])\n",
    "\n",
    "queries.append(\"SELECT COUNT(*) FROM dim_users;\")\n",
    "responses.append([(80478,)])\n",
    "\n",
    "# 13) Query dim_time table to verify it contains data in expected form:\n",
    "queries.append(\"SELECT * FROM dim_time LIMIT 5;\")\n",
    "responses.append([\n",
    "(datetime.datetime(2003, 10, 10, 16, 0, 44), 16, 10, 41, 10, 2003),\\\n",
    "(datetime.datetime(2004, 3, 23, 6, 4, 49), 6, 23, 13, 3, 2004),\\\n",
    "(datetime.datetime(2016, 2, 26, 16, 27, 28), 16, 26, 8, 2, 2016),\\\n",
    "(datetime.datetime(2000, 11, 4, 21, 56, 51), 21, 4, 44, 11, 2000),\\\n",
    "(datetime.datetime(2015, 11, 7, 23, 3, 24), 23, 7, 45, 11, 2015)\\\n",
    "])\n",
    "\n",
    "# 14) Query dim_time table verify number of expected rows (should be 686,443):\n",
    "queries.append(\"SELECT COUNT(*) FROM dim_time;\")\n",
    "responses.append([(686443,)])"
   ]
  },
  {
   "cell_type": "markdown",
   "metadata": {
    "editable": true
   },
   "source": [
    "#### 3) Run 2 Types of Quality Checks on Each of the 7 Tables"
   ]
  },
  {
   "cell_type": "code",
   "execution_count": 27,
   "metadata": {
    "editable": true
   },
   "outputs": [
    {
     "name": "stdout",
     "output_type": "stream",
     "text": [
      "CHECK: SELECT * FROM dim_movies LIMIT 5;\n",
      "PASSED (Check 1 of 14)\n",
      "\n",
      "CHECK: SELECT COUNT(*) FROM dim_movies;\n",
      "PASSED (Check 2 of 14)\n",
      "\n",
      "CHECK: SELECT * FROM dim_actors LIMIT 5;\n",
      "PASSED (Check 3 of 14)\n",
      "\n",
      "CHECK: SELECT COUNT(*) FROM dim_actors;\n",
      "PASSED (Check 4 of 14)\n",
      "\n",
      "CHECK: SELECT * FROM dim_directors LIMIT 5;\n",
      "PASSED (Check 5 of 14)\n",
      "\n",
      "CHECK: SELECT COUNT(*) FROM dim_directors;\n",
      "PASSED (Check 6 of 14)\n",
      "\n",
      "CHECK: SELECT * FROM dim_writers LIMIT 5;\n",
      "PASSED (Check 7 of 14)\n",
      "\n",
      "CHECK: SELECT COUNT(*) FROM dim_writers;\n",
      "PASSED (Check 8 of 14)\n",
      "\n",
      "CHECK: SELECT * FROM fact_user_actions LIMIT 5;\n",
      "PASSED (Check 9 of 14)\n",
      "\n",
      "CHECK: SELECT COUNT(*) FROM fact_user_actions;\n",
      "PASSED (Check 10 of 14)\n",
      "\n",
      "CHECK: SELECT * FROM dim_users LIMIT 5;\n",
      "PASSED (Check 11 of 14)\n",
      "\n",
      "CHECK: SELECT COUNT(*) FROM dim_users;\n",
      "PASSED (Check 12 of 14)\n",
      "\n",
      "CHECK: SELECT * FROM dim_time LIMIT 5;\n",
      "PASSED (Check 13 of 14)\n",
      "\n",
      "CHECK: SELECT COUNT(*) FROM dim_time;\n",
      "PASSED (Check 14 of 14)\n",
      "\n",
      "\n",
      "Passed 14 of 14 Checks\n",
      "\n",
      "\n",
      "ALL CHECKS PASSED\n",
      "\n"
     ]
    }
   ],
   "source": [
    "run_quality_checks(queries, responses, \"host=127.0.0.1 dbname=moviesdb user=student password=student\")"
   ]
  },
  {
   "cell_type": "code",
   "execution_count": null,
   "metadata": {
    "editable": true
   },
   "outputs": [],
   "source": []
  },
  {
   "cell_type": "markdown",
   "metadata": {
    "editable": true
   },
   "source": [
    "#### 4.3 Sample \"Real World\" Queries\n",
    "The realistic queries below demonstrate the finished Movie Database's functionality."
   ]
  },
  {
   "cell_type": "markdown",
   "metadata": {
    "editable": true
   },
   "source": [
    "##### Define a function to run sample queries"
   ]
  },
  {
   "cell_type": "code",
   "execution_count": 28,
   "metadata": {
    "editable": true
   },
   "outputs": [],
   "source": [
    "def sample_query(connection_string, query_string):\n",
    "    '''\n",
    "    Function to run the query specified in query_string and display the results returned.\n",
    "    \n",
    "    ARGUMENTS:\n",
    "        connection_string (string) : A string which specifies how to connect to the Movies Database\n",
    "                                     (in the format expected by psycopg2.connect())\n",
    "        query_string (string)      : A valid PostgreSQL query string\n",
    "        \n",
    "    RETURNS:\n",
    "        None\n",
    "    '''\n",
    "    \n",
    "    # Connect to the database\n",
    "    conn = psycopg2.connect(connection_string)\n",
    "    cur = conn.cursor()\n",
    "    \n",
    "    # Execute the query\n",
    "    try:\n",
    "        cur.execute(query)\n",
    "    except psycopg2.Error as e:\n",
    "        print(e)\n",
    "        \n",
    "    # Display the results returned\n",
    "    row = cur.fetchone()\n",
    "    while 1 == 1:\n",
    "        print(row)\n",
    "        row = cur.fetchone()\n",
    "        if row == None:\n",
    "            break\n",
    "    \n",
    "    conn.close()"
   ]
  },
  {
   "cell_type": "markdown",
   "metadata": {
    "editable": true
   },
   "source": [
    "##### 1) Find out how many users have rated more than 100 movies"
   ]
  },
  {
   "cell_type": "code",
   "execution_count": 29,
   "metadata": {
    "editable": true
   },
   "outputs": [
    {
     "name": "stdout",
     "output_type": "stream",
     "text": [
      "(52,)\n"
     ]
    }
   ],
   "source": [
    "con_string = \"host=127.0.0.1 dbname=moviesdb user=student password=student\"\n",
    "query = \"SELECT COUNT(*) FROM dim_users WHERE num_ratings > 100\"\n",
    "\n",
    "sample_query(con_string, query)"
   ]
  },
  {
   "cell_type": "markdown",
   "metadata": {
    "editable": true
   },
   "source": [
    "##### 2) List the users who've rated more than 100 movies"
   ]
  },
  {
   "cell_type": "code",
   "execution_count": 30,
   "metadata": {
    "editable": true
   },
   "outputs": [
    {
     "name": "stdout",
     "output_type": "stream",
     "text": [
      "(2025, 110, 0, 3.68636363636364)\n",
      "(2294, 107, 79, 3.28504672897196)\n",
      "(4796, 168, 0, 2.9672619047619)\n",
      "(5323, 106, 1, 3.45754716981132)\n",
      "(5747, 116, 0, 3.00431034482759)\n",
      "(7705, 151, 0, 3.13907284768212)\n",
      "(11109, 133, 612, 3.30827067669173)\n",
      "(14320, 108, 5, 2.40277777777778)\n",
      "(15041, 105, 0, 2.69047619047619)\n",
      "(16225, 109, 0, 2.89908256880734)\n",
      "(19007, 101, 2711, 2.84653465346535)\n",
      "(19309, 106, 1, 4.34433962264151)\n",
      "(19596, 116, 0, 2.98275862068966)\n",
      "(19924, 118, 15, 3.14406779661017)\n",
      "(23026, 107, 8, 3.83177570093458)\n",
      "(23649, 112, 0, 3.27232142857143)\n",
      "(29647, 131, 77, 3.55725190839695)\n",
      "(34504, 108, 0, 3.07407407407407)\n",
      "(35453, 105, 4, 2.76666666666667)\n",
      "(37046, 157, 0, 3.24203821656051)\n",
      "(42746, 102, 0, 2.57352941176471)\n",
      "(48470, 181, 1, 2.43370165745856)\n",
      "(52278, 103, 0, 2.49514563106796)\n",
      "(57392, 118, 5, 3.28813559322034)\n",
      "(59455, 107, 0, 1.4392523364486)\n",
      "(60950, 174, 0, 3.0948275862069)\n",
      "(61614, 149, 0, 3.52348993288591)\n",
      "(63783, 220, 1, 3.61136363636364)\n",
      "(64180, 115, 0, 3.57391304347826)\n",
      "(65670, 101, 1, 4.1980198019802)\n",
      "(66462, 124, 0, 3.06854838709677)\n",
      "(67625, 138, 0, 2.64130434782609)\n",
      "(70346, 149, 42, 3.83221476510067)\n",
      "(70539, 126, 0, 2.63492063492063)\n",
      "(71277, 116, 63, 3.24568965517241)\n",
      "(73145, 179, 2, 2.97486033519553)\n",
      "(74769, 131, 0, 3.24045801526718)\n",
      "(77609, 233, 3, 2.82188841201717)\n",
      "(80398, 125, 0, 3.384)\n",
      "(83579, 101, 3, 3.21782178217822)\n",
      "(85836, 138, 0, 2.95289855072464)\n",
      "(89524, 148, 0, 3.40878378378378)\n",
      "(89873, 110, 0, 3.52272727272727)\n",
      "(94843, 202, 0, 1.03465346534653)\n",
      "(95569, 121, 1, 3.1198347107438)\n",
      "(95727, 104, 0, 3.10096153846154)\n",
      "(102042, 119, 4, 3.22268907563025)\n",
      "(102235, 114, 0, 2.7280701754386)\n",
      "(103438, 133, 0, 2.87593984962406)\n",
      "(105104, 157, 0, 2.89490445859873)\n",
      "(106859, 101, 1, 2.53465346534653)\n",
      "(109040, 125, 13, 2.964)\n"
     ]
    }
   ],
   "source": [
    "con_string = \"host=127.0.0.1 dbname=moviesdb user=student password=student\"\n",
    "query = \"SELECT * FROM dim_users WHERE num_ratings > 100;\"\n",
    "\n",
    "sample_query(con_string, query)"
   ]
  },
  {
   "cell_type": "markdown",
   "metadata": {
    "editable": true
   },
   "source": [
    "##### 3) What's the largest number of movies rated by a single user?"
   ]
  },
  {
   "cell_type": "code",
   "execution_count": 31,
   "metadata": {
    "editable": true
   },
   "outputs": [
    {
     "name": "stdout",
     "output_type": "stream",
     "text": [
      "(233,)\n"
     ]
    }
   ],
   "source": [
    "con_string = \"host=127.0.0.1 dbname=moviesdb user=student password=student\"\n",
    "query = \"SELECT MAX(num_ratings) FROM dim_users;\"\n",
    "\n",
    "sample_query(con_string, query)"
   ]
  },
  {
   "cell_type": "markdown",
   "metadata": {
    "editable": true
   },
   "source": [
    "##### 4) What's the movie with the highest average TMDB rating, a non-trivial number of ratings (i.e. > 1000 votes), and the most votes for that average rating?"
   ]
  },
  {
   "cell_type": "code",
   "execution_count": 32,
   "metadata": {
    "editable": true
   },
   "outputs": [
    {
     "name": "stdout",
     "output_type": "stream",
     "text": [
      "(318, 'Shawshank Redemption, The (1994)', 278, 'tt0111161', 'Crime|Drama', 504, 192, 4029, 6573, 6574, 4027, None, None, None, None, 4027, None, None, None, None, datetime.date(1994, 9, 23), 142.0, 8.7, 19136)\n"
     ]
    }
   ],
   "source": [
    "con_string = \"host=127.0.0.1 dbname=moviesdb user=student password=student\"\n",
    "query = '''\n",
    "    SELECT * FROM dim_movies WHERE tmdb_rating_avg = \n",
    "    (SELECT MAX(tmdb_rating_avg) FROM dim_movies WHERE tmdb_votes_tot > 1000)\n",
    "    ORDER BY tmdb_votes_tot DESC LIMIT 1;\n",
    "    '''\n",
    "\n",
    "sample_query(con_string, query)"
   ]
  },
  {
   "cell_type": "markdown",
   "metadata": {
    "editable": true
   },
   "source": [
    "##### 5) TMDB average rating (see above result) for 'The Shawshank Redemption' is 8.7/10. On a scale of 0-5, how do Movie Database users rate it (and how many voted)?"
   ]
  },
  {
   "cell_type": "code",
   "execution_count": 33,
   "metadata": {
    "editable": true
   },
   "outputs": [
    {
     "name": "stdout",
     "output_type": "stream",
     "text": [
      "(4.42490421455939, 1305)\n"
     ]
    }
   ],
   "source": [
    "con_string = \"host=127.0.0.1 dbname=moviesdb user=student password=student\"\n",
    "query = '''\n",
    "    SELECT AVG(action_val::numeric::float), COUNT(*)\n",
    "        FROM fact_user_actions\n",
    "        WHERE movie_id = 318 AND action = 'rate';\n",
    "    '''\n",
    "\n",
    "sample_query(con_string, query)"
   ]
  },
  {
   "cell_type": "markdown",
   "metadata": {
    "editable": true
   },
   "source": [
    "##### 6) Find the top 2 actors, director and writer for 'The Shawshank Redemption'"
   ]
  },
  {
   "cell_type": "code",
   "execution_count": 34,
   "metadata": {
    "editable": true
   },
   "outputs": [
    {
     "name": "stdout",
     "output_type": "stream",
     "text": [
      "('Tim Robbins', 'Morgan Freeman', 'Frank Darabont', 'Frank Darabont')\n"
     ]
    }
   ],
   "source": [
    "con_string = \"host=127.0.0.1 dbname=moviesdb user=student password=student\"\n",
    "query = '''\n",
    "    SELECT da1.name, da2.name, dd.name, dw.name\n",
    "        FROM dim_actors da1 INNER JOIN dim_movies m ON da1.actor_id = m.actor1_id\n",
    "        INNER JOIN dim_actors da2 ON da2.actor_id = m.actor2_id\n",
    "        INNER JOIN dim_directors dd ON dd.director_id = m.director1_id\n",
    "        INNER JOIN dim_writers dw ON dw.writer_id = m.writer1_id\n",
    "        WHERE m.title = 'Shawshank Redemption, The (1994)';\n",
    "    '''\n",
    "\n",
    "sample_query(con_string, query)"
   ]
  },
  {
   "cell_type": "markdown",
   "metadata": {
    "editable": true
   },
   "source": [
    "##### 7) How many unique user tags have Movie Database users given 'The Shawshank Redemption'?"
   ]
  },
  {
   "cell_type": "code",
   "execution_count": 35,
   "metadata": {
    "editable": true
   },
   "outputs": [
    {
     "name": "stdout",
     "output_type": "stream",
     "text": [
      "(246,)\n"
     ]
    }
   ],
   "source": [
    "con_string = \"host=127.0.0.1 dbname=moviesdb user=student password=student\"\n",
    "query = '''\n",
    "    SELECT COUNT(DISTINCT action_val) FROM fact_user_actions\n",
    "        WHERE movie_id = 318 AND action = 'tag';\n",
    "    '''\n",
    "\n",
    "sample_query(con_string, query)"
   ]
  },
  {
   "cell_type": "markdown",
   "metadata": {
    "editable": true
   },
   "source": [
    "##### 8) List the 20 most common user tags and their counts for 'The Shawshank Redemption' in descending order"
   ]
  },
  {
   "cell_type": "code",
   "execution_count": 36,
   "metadata": {
    "editable": true
   },
   "outputs": [
    {
     "name": "stdout",
     "output_type": "stream",
     "text": [
      "('prison', 76)\n",
      "('morgan freeman', 67)\n",
      "('twist ending', 61)\n",
      "('inspirational', 58)\n",
      "('friendship', 57)\n",
      "('thought-provoking', 55)\n",
      "('stephen king', 47)\n",
      "('prison escape', 46)\n",
      "('classic', 39)\n",
      "('drama', 29)\n",
      "('atmospheric', 27)\n",
      "('great ending', 27)\n",
      "('reflective', 27)\n",
      "('based on a book', 26)\n",
      "('justice', 26)\n",
      "('hope', 25)\n",
      "('powerful ending', 22)\n",
      "('revenge', 22)\n",
      "('great acting', 21)\n",
      "('tim robbins', 19)\n"
     ]
    }
   ],
   "source": [
    "con_string = \"host=127.0.0.1 dbname=moviesdb user=student password=student\"\n",
    "query = '''\n",
    "    SELECT DISTINCT action_val, COUNT(*) FROM fact_user_actions\n",
    "        WHERE movie_id = 318 AND action = 'tag'\n",
    "        GROUP BY action_val\n",
    "        ORDER BY COUNT(*) DESC\n",
    "        LIMIT 20;\n",
    "    '''\n",
    "\n",
    "sample_query(con_string, query)"
   ]
  },
  {
   "cell_type": "markdown",
   "metadata": {
    "editable": true
   },
   "source": [
    "##### 9) What is the date of the earliest user event (action) ever in the Movie Database?"
   ]
  },
  {
   "cell_type": "code",
   "execution_count": 37,
   "metadata": {
    "editable": true
   },
   "outputs": [
    {
     "name": "stdout",
     "output_type": "stream",
     "text": [
      "(datetime.datetime(1996, 2, 2, 12, 36, 52), 12, 2, 5, 2, 1996)\n"
     ]
    }
   ],
   "source": [
    "con_string = \"host=127.0.0.1 dbname=moviesdb user=student password=student\"\n",
    "query = '''\n",
    "    SELECT * FROM dim_time \n",
    "        WHERE action_time = (SELECT MIN(action_time) FROM dim_time);\n",
    "    '''\n",
    "\n",
    "sample_query(con_string, query)"
   ]
  },
  {
   "cell_type": "markdown",
   "metadata": {
    "editable": true
   },
   "source": [
    "##### 10) What is the user action and movie title associated with the earliest user event ever in the Movie Database?"
   ]
  },
  {
   "cell_type": "code",
   "execution_count": 38,
   "metadata": {
    "editable": true
   },
   "outputs": [
    {
     "name": "stdout",
     "output_type": "stream",
     "text": [
      "('rate', '4.0', 'Dangerous Minds (1995)')\n"
     ]
    }
   ],
   "source": [
    "con_string = \"host=127.0.0.1 dbname=moviesdb user=student password=student\"\n",
    "query = '''\n",
    "    SELECT f.action, f.action_val, dm.title \n",
    "        FROM fact_user_actions f INNER JOIN dim_movies dm\n",
    "        ON f.movie_id = dm.movie_id\n",
    "        WHERE action_time = (SELECT MIN(action_time) FROM dim_time);\n",
    "    '''\n",
    "\n",
    "sample_query(con_string, query)"
   ]
  },
  {
   "cell_type": "markdown",
   "metadata": {
    "editable": true
   },
   "source": [
    "##### 11) What is the date of the latest user event (action) ever in the Movie Database?"
   ]
  },
  {
   "cell_type": "code",
   "execution_count": 39,
   "metadata": {
    "editable": true
   },
   "outputs": [
    {
     "name": "stdout",
     "output_type": "stream",
     "text": [
      "(datetime.datetime(2018, 9, 26, 6, 55, 49), 6, 26, 39, 9, 2018)\n"
     ]
    }
   ],
   "source": [
    "con_string = \"host=127.0.0.1 dbname=moviesdb user=student password=student\"\n",
    "query = '''\n",
    "    SELECT * FROM dim_time \n",
    "        WHERE action_time = (SELECT MAX(action_time) FROM dim_time);\n",
    "    '''\n",
    "\n",
    "sample_query(con_string, query)"
   ]
  },
  {
   "cell_type": "markdown",
   "metadata": {
    "editable": true
   },
   "source": [
    "##### 12) What is the user action and movie title associated with the latest user event ever in the Movie Database?"
   ]
  },
  {
   "cell_type": "code",
   "execution_count": 40,
   "metadata": {
    "editable": true
   },
   "outputs": [
    {
     "name": "stdout",
     "output_type": "stream",
     "text": [
      "('tag', 'good soundtrack', 'Ready Player One')\n"
     ]
    }
   ],
   "source": [
    "con_string = \"host=127.0.0.1 dbname=moviesdb user=student password=student\"\n",
    "query = '''\n",
    "    SELECT f.action, f.action_val, dm.title \n",
    "        FROM fact_user_actions f INNER JOIN dim_movies dm\n",
    "        ON f.movie_id = dm.movie_id \n",
    "        WHERE action_time = (SELECT MAX(action_time) FROM dim_time);\n",
    "    '''\n",
    "\n",
    "sample_query(con_string, query)"
   ]
  },
  {
   "cell_type": "code",
   "execution_count": null,
   "metadata": {
    "editable": true
   },
   "outputs": [],
   "source": []
  },
  {
   "cell_type": "markdown",
   "metadata": {
    "editable": true
   },
   "source": [
    "#### 4.4 Data dictionary \n",
    "\n",
    "| Table             | Field           | Data Type    | Description                                                  | Source                                                   |\n",
    "| ----------------- | --------------- | ------------ | ------------------------------------------------------------ | -------------------------------------------------------- |\n",
    "| fact_user_actions | action_id       | serial (int) | Unique primary key                                           | Automatically assigned by postgreSQL upon INSERT         |\n",
    "| fact_user_actions | user_id         | int          | Unique ID associated with a user                             | MovieLens files ratings.csv & tags.csv                   |\n",
    "| fact_user_actions | action_time     | timestamp    | Date and time of the user action                             | MovieLens files ratings.csv & tags.csv                   |\n",
    "| fact_user_actions | movie_id        | int          | Unique movie ID                                              | MovieLens files ratings.csv & tags.csv                   |\n",
    "| fact_user_actions | action          | varchar      | Identifies user action as being 'Rate' or 'Tag'              | Generated during ETL process from ratings.csv & tags.csv |\n",
    "| fact_user_actions | action_val      | varchar      | String representation of a 0-5 numeric rating or a text-based tag | MovieLens files ratings.csv & tags.csv                   |\n",
    "|                   |                 |              |                                                              |                                                          |\n",
    "| dim_movies        | movie_id        | int          | Unique primary key                                           | MovieLens file movies.csv                                |\n",
    "| dim_movies        | title           | varchar      | Movie title                                                  | MovieLens file movies.csv                                |\n",
    "| dim_movies        | tmdb_id         | int          | TMDB.org movie ID                                            | MovieLens file links.csv                                 |\n",
    "| dim_movies        | imdb_id         | varchar      | IMDB.org movie ID string                                     | details.json file (from TMDB API query)                  |\n",
    "| dim_movies        | genres          | varchar      | String listing movie's genre(s), separated by '\\|'           | MovieLens file movies.csv                                |\n",
    "| dim_movies        | actor1_id       | int          | TMDB ID for actor or None                                    | people.json file (from TMDB API query)                   |\n",
    "| dim_movies        | actor2_id       | int          | TMDB ID for actor or None                                    | people.json file (from TMDB API query)                   |\n",
    "| dim_movies        | actor3_id       | int          | TMDB ID for actor or None                                    | people.json file (from TMDB API query)                   |\n",
    "| dim_movies        | actor4_id       | int          | TMDB ID for actor or None                                    | people.json file (from TMDB API query)                   |\n",
    "| dim_movies        | actor5_id       | int          | TMDB ID for actor or None                                    | people.json file (from TMDB API query)                   |\n",
    "| dim_movies        | director1_id    | int          | TMDB ID for director or None                                 | people.json file (from TMDB API query)                   |\n",
    "| dim_movies        | director2_id    | int          | TMDB ID for director or None                                 | people.json file (from TMDB API query)                   |\n",
    "| dim_movies        | director3_id    | int          | TMDB ID for director or None                                 | people.json file (from TMDB API query)                   |\n",
    "| dim_movies        | director4_id    | int          | TMDB ID for director or None                                 | people.json file (from TMDB API query)                   |\n",
    "| dim_movies        | director5_id    | int          | TMDB ID for director or None                                 | people.json file (from TMDB API query)                   |\n",
    "| dim_movies        | writer1_id      | int          | TMDB ID for writer or None                                   | people.json file (from TMDB API query)                   |\n",
    "| dim_movies        | writer2_id      | int          | TMDB ID for writer or None                                   | people.json file (from TMDB API query)                   |\n",
    "| dim_movies        | writer3_id      | int          | TMDB ID for writer or None                                   | people.json file (from TMDB API query)                   |\n",
    "| dim_movies        | writer4_id      | int          | TMDB ID for writer or None                                   | people.json file (from TMDB API query)                   |\n",
    "| dim_movies        | writer5_id      | int          | TMDB ID for writer or None                                   | people.json file (from TMDB API query)                   |\n",
    "| dim_movies        | release_date    | date         | Movie release date or None                                   | details.json file (from TMDB API query)                  |\n",
    "| dim_movies        | runtime         | float        | Movie runtime (minutes) or None                              | details.json file (from TMDB API query)                  |\n",
    "| dim_movies        | tmdb_rating_avg | float        | TMDB average user rating                                     | details.json file (from TMDB API query)                  |\n",
    "| dim_movies        | tmdb_votes_tot  | int          | Total TMDB user rating votes                                 | details.json file (from TMDB API query)                  |\n",
    "|                   |                 |              |                                                              |                                                          |\n",
    "| dim_actors        | actor_id        | int          | Unique primary key                                           | actors.json file (from TMDB API query)                   |\n",
    "| dim_actors        | name            | varchar      | Actor's full name                                            | actors.json file (from TMDB API query)                   |\n",
    "| dim_actors        | imdb_id         | varchar      | Associated IMDB ID string or None                            | actors.json file (from TMDB API query)                   |\n",
    "| dim_actors        | birthday        | date         | Actor's birthday                                             | actors.json file (from TMDB API query)                   |\n",
    "| dim_actors        | deathday        | date         | Actor's date of death or None                                | actors.json file (from TMDB API query)                   |\n",
    "|                   |                 |              |                                                              |                                                          |\n",
    "| dim_directors     | director_id     | int          | Unique primary key                                           | directors.json file (from TMDB API query)                   |\n",
    "| dim_directors     | name            | varchar      | Director's full name                                         | directors.json file (from TMDB API query)                   |\n",
    "| dim_directors     | imdb_id         | varchar      | Associated IMDB ID string or None                            | directors.json file (from TMDB API query)                   |\n",
    "| dim_directors     | birthday        | date         | Director's birthday                                          | directors.json file (from TMDB API query)                   |\n",
    "| dim_directors     | deathday        | date         | Director's date of death or None                             | directors.json file (from TMDB API query)                   |\n",
    "|                   |                 |              |                                                              |                                                          |\n",
    "| dim_writers       | writer_id       | int          | Unique primary key                                           | writers.json file (from TMDB API query)                   |\n",
    "| dim_writers       | name            | varchar      | Writer's full name                                         | writers.json file (from TMDB API query)                   |\n",
    "| dim_writers       | imdb_id         | varchar      | Associated IMDB ID string or None                            | writers.json file (from TMDB API query)                   |\n",
    "| dim_writers       | birthday        | date         | Writer's birthday                                          | writers.json file (from TMDB API query)                   |\n",
    "| dim_writers       | deathday        | date         | Writer's date of death or None                             | writers.json file (from TMDB API query)                   |\n",
    "|                   |                 |              |                                                              |                                                          |\n",
    "| dim_users         | user_id         | int          | Unique primary key                                           | MovieLens files ratings.csv & tags.csv                   |\n",
    "| dim_users         | num_ratings     | int          | Number of ratings made by this user                          | Generated during ETL process from ratings.csv            |\n",
    "| dim_users         | num_tags        | int          | Number of tags assigned by this user                         | Generated during ETL process from tags.csv               |\n",
    "| dim_users         | avg_rating      | float        | Average of this user's ratings or None                       | Generated during ETL process from ratings.csv            |\n",
    "|                   |                 |              |                                                              |                                                          |\n",
    "| dim_time          | action_time     | timestamp    | Unique primary key                                           | MovieLens files ratings.csv & tags.csv                   |\n",
    "| dim_time          | hour            | int          | Hour extracted from action_time                              | Generated during ETL process from action_time            |\n",
    "| dim_time          | day             | int          | Day extracted from action_time                               | Generated during ETL process from action_time            |\n",
    "| dim_time          | week            | int          | Week extracted from action_time                              | Generated during ETL process from action_time            |\n",
    "| dim_time          | month           | int          | Month extracted from action_time                             | Generated during ETL process from action_time            |\n",
    "| dim_time          | year            | int          | Year extracted from action_time                              | Generated during ETL process from action_time            |\n",
    "\n"
   ]
  },
  {
   "cell_type": "markdown",
   "metadata": {
    "editable": true
   },
   "source": [
    "#### Step 5: Complete Project Write Up\n",
    "##### Rationale for Choice of Tools and Technologies Used\n",
    "As this datbase relies on fairly static (i.e. infrequently-updated) data, there was no compelling reason for a cloud-based or distributed processing-based solution. Moreover, Pandas was well-suited to the data cleaning tasks required, and the data volume was not excessive, so using a Pandas-Psycopg2-PostgreSQL solution made perfect sense and runs quite well and in a timely manner.\n",
    "\n",
    "##### Proposed Frequency of Data Updates\n",
    "For a database of this sort, there is no strong justification for updating things any more frequently than once a week (which is exactly what IMDB.com does). This follows from the fact that movie and TV data are publicly reported on a weekly basis in the entertainment industry. Given how fast the processing pipelilnes above operate, there should be no problem in following such a schedule (the few minutes of downtime would hardly be noticed, escpecially given the non-mission-critical nature of this database/service).\n",
    "\n",
    "##### How I would approach the problem differently under the following scenarios:\n",
    " * The data was increased by 100x - While I still think the current architecture could do a decent job, if increased downtime (i.e. something approaching an hour) was of great concern, it might be wise to move to a distributed-processing/cloud-based solution (e.g. Spark/EMR).\n",
    " * The data populates a dashboard that must be updated on a daily basis by 7am every day - At current scale, the whole pipeline only takes a few minutes to run, so this daily requirement can be easily met even if new data comes in each day. Apache Airflow would be a useful tool to automate this scheduled process.\n",
    " * The database needed to be accessed by 100+ people - In this scenario (especially as the number of users reaches into the thousands), simultaneous access and response times may become a major concern, so I would seriously consider moving to a NoSQL-based solution (e.g. Apache Cassandra)."
   ]
  },
  {
   "cell_type": "code",
   "execution_count": null,
   "metadata": {
    "editable": true
   },
   "outputs": [],
   "source": []
  }
 ],
 "metadata": {
  "kernelspec": {
   "display_name": "Python 3",
   "language": "python",
   "name": "python3"
  },
  "language_info": {
   "codemirror_mode": {
    "name": "ipython",
    "version": 3
   },
   "file_extension": ".py",
   "mimetype": "text/x-python",
   "name": "python",
   "nbconvert_exporter": "python",
   "pygments_lexer": "ipython3",
   "version": "3.6.3"
  }
 },
 "nbformat": 4,
 "nbformat_minor": 4
}
