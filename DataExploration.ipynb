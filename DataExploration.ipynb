{
 "cells": [
  {
   "cell_type": "markdown",
   "metadata": {
    "editable": true
   },
   "source": [
    "# Project Title\n",
    "### Data Engineering Capstone Project\n",
    "\n",
    "#### Project Summary\n",
    "--describe your project at a high level--\n",
    "\n",
    "The project follows the follow steps:\n",
    "* Step 1: Scope the Project and Gather Data\n",
    "* Step 2: Explore and Assess the Data\n",
    "* Step 3: Define the Data Model\n",
    "* Step 4: Run ETL to Model the Data\n",
    "* Step 5: Complete Project Write Up"
   ]
  },
  {
   "cell_type": "code",
   "execution_count": 1,
   "metadata": {
    "editable": true
   },
   "outputs": [],
   "source": [
    "# Do all imports and installs here\n",
    "import pandas as pd\n",
    "import numpy as np\n",
    "\n",
    "import datetime"
   ]
  },
  {
   "cell_type": "markdown",
   "metadata": {
    "editable": true
   },
   "source": [
    "### Step 1: Scope the Project and Gather Data\n",
    "\n",
    "#### Scope \n",
    "Explain what you plan to do in the project in more detail. What data do you use? What is your end solution look like? What tools did you use? etc>\n",
    "\n",
    "#### Describe and Gather Data \n",
    "Describe the data sets you're using. Where did it come from? What type of information is included? "
   ]
  },
  {
   "cell_type": "code",
   "execution_count": 2,
   "metadata": {
    "editable": true
   },
   "outputs": [
    {
     "data": {
      "text/plain": [
       "(1000, 29)"
      ]
     },
     "execution_count": 2,
     "metadata": {},
     "output_type": "execute_result"
    }
   ],
   "source": [
    "# Read in the data here\n",
    "\n",
    "## For eventual Spark read, SEE THIS THREAD: https://knowledge.udacity.com/questions/602336\n",
    "\n",
    "\n",
    "fname = 'immigration_data_sample.csv'\n",
    "df_immig_data = pd.read_csv(fname)\n",
    "df_immig_data.shape"
   ]
  },
  {
   "cell_type": "code",
   "execution_count": 3,
   "metadata": {
    "editable": true
   },
   "outputs": [],
   "source": [
    "# Spark SQL: date_add('1960-01-01',arrdate) as arrdate\n",
    "\n",
    "df_immig_data['arrdate'] = pd.to_timedelta(df_immig_data['arrdate'], unit='d') + pd.datetime(1960, 1, 1)\n",
    "df_immig_data['depdate'] = pd.to_timedelta(df_immig_data['depdate'], unit='d') + pd.datetime(1960, 1, 1)"
   ]
  },
  {
   "cell_type": "code",
   "execution_count": 4,
   "metadata": {
    "editable": true
   },
   "outputs": [],
   "source": [
    "df_immig_data['dtaddto'] = pd.to_datetime(df_immig_data['dtaddto'], dayfirst=False, yearfirst=False, format='%m%d%Y', errors='coerce')"
   ]
  },
  {
   "cell_type": "code",
   "execution_count": 5,
   "metadata": {
    "editable": true
   },
   "outputs": [
    {
     "data": {
      "text/html": [
       "<div>\n",
       "<style scoped>\n",
       "    .dataframe tbody tr th:only-of-type {\n",
       "        vertical-align: middle;\n",
       "    }\n",
       "\n",
       "    .dataframe tbody tr th {\n",
       "        vertical-align: top;\n",
       "    }\n",
       "\n",
       "    .dataframe thead th {\n",
       "        text-align: right;\n",
       "    }\n",
       "</style>\n",
       "<table border=\"1\" class=\"dataframe\">\n",
       "  <thead>\n",
       "    <tr style=\"text-align: right;\">\n",
       "      <th></th>\n",
       "      <th>Unnamed: 0</th>\n",
       "      <th>cicid</th>\n",
       "      <th>i94yr</th>\n",
       "      <th>i94mon</th>\n",
       "      <th>i94cit</th>\n",
       "      <th>i94res</th>\n",
       "      <th>i94port</th>\n",
       "      <th>arrdate</th>\n",
       "      <th>i94mode</th>\n",
       "      <th>i94addr</th>\n",
       "      <th>depdate</th>\n",
       "      <th>i94bir</th>\n",
       "      <th>i94visa</th>\n",
       "      <th>count</th>\n",
       "      <th>dtadfile</th>\n",
       "      <th>visapost</th>\n",
       "      <th>occup</th>\n",
       "      <th>entdepa</th>\n",
       "      <th>entdepd</th>\n",
       "      <th>entdepu</th>\n",
       "      <th>matflag</th>\n",
       "      <th>biryear</th>\n",
       "      <th>dtaddto</th>\n",
       "      <th>gender</th>\n",
       "      <th>insnum</th>\n",
       "      <th>airline</th>\n",
       "      <th>admnum</th>\n",
       "      <th>fltno</th>\n",
       "      <th>visatype</th>\n",
       "    </tr>\n",
       "  </thead>\n",
       "  <tbody>\n",
       "    <tr>\n",
       "      <th>0</th>\n",
       "      <td>2027561</td>\n",
       "      <td>4084316.0</td>\n",
       "      <td>2016.0</td>\n",
       "      <td>4.0</td>\n",
       "      <td>209.0</td>\n",
       "      <td>209.0</td>\n",
       "      <td>HHW</td>\n",
       "      <td>2016-04-22</td>\n",
       "      <td>1.0</td>\n",
       "      <td>HI</td>\n",
       "      <td>2016-04-29</td>\n",
       "      <td>61.0</td>\n",
       "      <td>2.0</td>\n",
       "      <td>1.0</td>\n",
       "      <td>20160422</td>\n",
       "      <td>NaN</td>\n",
       "      <td>NaN</td>\n",
       "      <td>G</td>\n",
       "      <td>O</td>\n",
       "      <td>NaN</td>\n",
       "      <td>M</td>\n",
       "      <td>1955.0</td>\n",
       "      <td>2016-07-20</td>\n",
       "      <td>F</td>\n",
       "      <td>NaN</td>\n",
       "      <td>JL</td>\n",
       "      <td>5.658267e+10</td>\n",
       "      <td>00782</td>\n",
       "      <td>WT</td>\n",
       "    </tr>\n",
       "    <tr>\n",
       "      <th>1</th>\n",
       "      <td>2171295</td>\n",
       "      <td>4422636.0</td>\n",
       "      <td>2016.0</td>\n",
       "      <td>4.0</td>\n",
       "      <td>582.0</td>\n",
       "      <td>582.0</td>\n",
       "      <td>MCA</td>\n",
       "      <td>2016-04-23</td>\n",
       "      <td>1.0</td>\n",
       "      <td>TX</td>\n",
       "      <td>2016-04-24</td>\n",
       "      <td>26.0</td>\n",
       "      <td>2.0</td>\n",
       "      <td>1.0</td>\n",
       "      <td>20160423</td>\n",
       "      <td>MTR</td>\n",
       "      <td>NaN</td>\n",
       "      <td>G</td>\n",
       "      <td>R</td>\n",
       "      <td>NaN</td>\n",
       "      <td>M</td>\n",
       "      <td>1990.0</td>\n",
       "      <td>2016-10-22</td>\n",
       "      <td>M</td>\n",
       "      <td>NaN</td>\n",
       "      <td>*GA</td>\n",
       "      <td>9.436200e+10</td>\n",
       "      <td>XBLNG</td>\n",
       "      <td>B2</td>\n",
       "    </tr>\n",
       "    <tr>\n",
       "      <th>2</th>\n",
       "      <td>589494</td>\n",
       "      <td>1195600.0</td>\n",
       "      <td>2016.0</td>\n",
       "      <td>4.0</td>\n",
       "      <td>148.0</td>\n",
       "      <td>112.0</td>\n",
       "      <td>OGG</td>\n",
       "      <td>2016-04-07</td>\n",
       "      <td>1.0</td>\n",
       "      <td>FL</td>\n",
       "      <td>2016-04-27</td>\n",
       "      <td>76.0</td>\n",
       "      <td>2.0</td>\n",
       "      <td>1.0</td>\n",
       "      <td>20160407</td>\n",
       "      <td>NaN</td>\n",
       "      <td>NaN</td>\n",
       "      <td>G</td>\n",
       "      <td>O</td>\n",
       "      <td>NaN</td>\n",
       "      <td>M</td>\n",
       "      <td>1940.0</td>\n",
       "      <td>2016-07-05</td>\n",
       "      <td>M</td>\n",
       "      <td>NaN</td>\n",
       "      <td>LH</td>\n",
       "      <td>5.578047e+10</td>\n",
       "      <td>00464</td>\n",
       "      <td>WT</td>\n",
       "    </tr>\n",
       "    <tr>\n",
       "      <th>3</th>\n",
       "      <td>2631158</td>\n",
       "      <td>5291768.0</td>\n",
       "      <td>2016.0</td>\n",
       "      <td>4.0</td>\n",
       "      <td>297.0</td>\n",
       "      <td>297.0</td>\n",
       "      <td>LOS</td>\n",
       "      <td>2016-04-28</td>\n",
       "      <td>1.0</td>\n",
       "      <td>CA</td>\n",
       "      <td>2016-05-07</td>\n",
       "      <td>25.0</td>\n",
       "      <td>2.0</td>\n",
       "      <td>1.0</td>\n",
       "      <td>20160428</td>\n",
       "      <td>DOH</td>\n",
       "      <td>NaN</td>\n",
       "      <td>G</td>\n",
       "      <td>O</td>\n",
       "      <td>NaN</td>\n",
       "      <td>M</td>\n",
       "      <td>1991.0</td>\n",
       "      <td>2016-10-27</td>\n",
       "      <td>M</td>\n",
       "      <td>NaN</td>\n",
       "      <td>QR</td>\n",
       "      <td>9.478970e+10</td>\n",
       "      <td>00739</td>\n",
       "      <td>B2</td>\n",
       "    </tr>\n",
       "    <tr>\n",
       "      <th>4</th>\n",
       "      <td>3032257</td>\n",
       "      <td>985523.0</td>\n",
       "      <td>2016.0</td>\n",
       "      <td>4.0</td>\n",
       "      <td>111.0</td>\n",
       "      <td>111.0</td>\n",
       "      <td>CHM</td>\n",
       "      <td>2016-04-06</td>\n",
       "      <td>3.0</td>\n",
       "      <td>NY</td>\n",
       "      <td>2016-04-09</td>\n",
       "      <td>19.0</td>\n",
       "      <td>2.0</td>\n",
       "      <td>1.0</td>\n",
       "      <td>20160406</td>\n",
       "      <td>NaN</td>\n",
       "      <td>NaN</td>\n",
       "      <td>Z</td>\n",
       "      <td>K</td>\n",
       "      <td>NaN</td>\n",
       "      <td>M</td>\n",
       "      <td>1997.0</td>\n",
       "      <td>2016-07-04</td>\n",
       "      <td>F</td>\n",
       "      <td>NaN</td>\n",
       "      <td>NaN</td>\n",
       "      <td>4.232257e+10</td>\n",
       "      <td>LAND</td>\n",
       "      <td>WT</td>\n",
       "    </tr>\n",
       "  </tbody>\n",
       "</table>\n",
       "</div>"
      ],
      "text/plain": [
       "   Unnamed: 0      cicid   i94yr  i94mon  i94cit  i94res i94port    arrdate  \\\n",
       "0     2027561  4084316.0  2016.0     4.0   209.0   209.0     HHW 2016-04-22   \n",
       "1     2171295  4422636.0  2016.0     4.0   582.0   582.0     MCA 2016-04-23   \n",
       "2      589494  1195600.0  2016.0     4.0   148.0   112.0     OGG 2016-04-07   \n",
       "3     2631158  5291768.0  2016.0     4.0   297.0   297.0     LOS 2016-04-28   \n",
       "4     3032257   985523.0  2016.0     4.0   111.0   111.0     CHM 2016-04-06   \n",
       "\n",
       "   i94mode i94addr    depdate  i94bir  i94visa  count  dtadfile visapost  \\\n",
       "0      1.0      HI 2016-04-29    61.0      2.0    1.0  20160422      NaN   \n",
       "1      1.0      TX 2016-04-24    26.0      2.0    1.0  20160423      MTR   \n",
       "2      1.0      FL 2016-04-27    76.0      2.0    1.0  20160407      NaN   \n",
       "3      1.0      CA 2016-05-07    25.0      2.0    1.0  20160428      DOH   \n",
       "4      3.0      NY 2016-04-09    19.0      2.0    1.0  20160406      NaN   \n",
       "\n",
       "  occup entdepa entdepd  entdepu matflag  biryear    dtaddto gender  insnum  \\\n",
       "0   NaN       G       O      NaN       M   1955.0 2016-07-20      F     NaN   \n",
       "1   NaN       G       R      NaN       M   1990.0 2016-10-22      M     NaN   \n",
       "2   NaN       G       O      NaN       M   1940.0 2016-07-05      M     NaN   \n",
       "3   NaN       G       O      NaN       M   1991.0 2016-10-27      M     NaN   \n",
       "4   NaN       Z       K      NaN       M   1997.0 2016-07-04      F     NaN   \n",
       "\n",
       "  airline        admnum  fltno visatype  \n",
       "0      JL  5.658267e+10  00782       WT  \n",
       "1     *GA  9.436200e+10  XBLNG       B2  \n",
       "2      LH  5.578047e+10  00464       WT  \n",
       "3      QR  9.478970e+10  00739       B2  \n",
       "4     NaN  4.232257e+10   LAND       WT  "
      ]
     },
     "metadata": {},
     "output_type": "display_data"
    }
   ],
   "source": [
    "with pd.option_context('display.max_rows', 5, 'display.max_columns', None): \n",
    "    display(df_immig_data.head())"
   ]
  },
  {
   "cell_type": "code",
   "execution_count": 6,
   "metadata": {
    "editable": true
   },
   "outputs": [
    {
     "name": "stdout",
     "output_type": "stream",
     "text": [
      "<class 'pandas.core.frame.DataFrame'>\n",
      "RangeIndex: 1000 entries, 0 to 999\n",
      "Data columns (total 29 columns):\n",
      "Unnamed: 0    1000 non-null int64\n",
      "cicid         1000 non-null float64\n",
      "i94yr         1000 non-null float64\n",
      "i94mon        1000 non-null float64\n",
      "i94cit        1000 non-null float64\n",
      "i94res        1000 non-null float64\n",
      "i94port       1000 non-null object\n",
      "arrdate       1000 non-null datetime64[ns]\n",
      "i94mode       1000 non-null float64\n",
      "i94addr       941 non-null object\n",
      "depdate       951 non-null datetime64[ns]\n",
      "i94bir        1000 non-null float64\n",
      "i94visa       1000 non-null float64\n",
      "count         1000 non-null float64\n",
      "dtadfile      1000 non-null int64\n",
      "visapost      382 non-null object\n",
      "occup         4 non-null object\n",
      "entdepa       1000 non-null object\n",
      "entdepd       954 non-null object\n",
      "entdepu       0 non-null float64\n",
      "matflag       954 non-null object\n",
      "biryear       1000 non-null float64\n",
      "dtaddto       987 non-null datetime64[ns]\n",
      "gender        859 non-null object\n",
      "insnum        35 non-null float64\n",
      "airline       967 non-null object\n",
      "admnum        1000 non-null float64\n",
      "fltno         992 non-null object\n",
      "visatype      1000 non-null object\n",
      "dtypes: datetime64[ns](3), float64(13), int64(2), object(11)\n",
      "memory usage: 226.6+ KB\n"
     ]
    }
   ],
   "source": [
    "df_immig_data.info()"
   ]
  },
  {
   "cell_type": "code",
   "execution_count": 7,
   "metadata": {
    "editable": true
   },
   "outputs": [
    {
     "data": {
      "text/plain": [
       "Index(['Unnamed: 0', 'cicid', 'i94yr', 'i94mon', 'i94cit', 'i94res', 'i94port',\n",
       "       'arrdate', 'i94mode', 'i94addr', 'depdate', 'i94bir', 'i94visa',\n",
       "       'count', 'dtadfile', 'visapost', 'occup', 'entdepa', 'entdepd',\n",
       "       'entdepu', 'matflag', 'biryear', 'dtaddto', 'gender', 'insnum',\n",
       "       'airline', 'admnum', 'fltno', 'visatype'],\n",
       "      dtype='object')"
      ]
     },
     "execution_count": 7,
     "metadata": {},
     "output_type": "execute_result"
    }
   ],
   "source": [
    "df_immig_data.columns"
   ]
  },
  {
   "cell_type": "code",
   "execution_count": 8,
   "metadata": {
    "editable": true
   },
   "outputs": [],
   "source": [
    "# Definite keeper cols: \n",
    "keeper_cols_nomissing_vals = ['i94yr', 'i94mon', 'i94cit', 'i94res', 'i94port', 'arrdate', 'i94mode', 'i94bir', 'i94visa', 'biryear', 'visatype']\n",
    "\n",
    "# Keepers, but missing values: \n",
    "##  depdate: expected (some people haven't left yet)\n",
    "##  entdepd: expected (same reason)\n",
    "##  matflag: expected (same reason)\n",
    "##  dtaddto: may be able to fill in the missing values (13 rows) using 'arrdate' and typical stay time allowed by 'visatype'\n",
    "##  gender: should impute probabilistically based on stats of non-missing values\n",
    "##  airline: expected (only applies with i94mode = 1, arrival by air; no missing values for that mode); impute to 'None/Unknown' for i94mode in [2, 3, 9]\n",
    "keepers_missing_vals = ['i94addr', 'depdate' , 'entdepd', 'matflag', 'dtaddto', 'gender', 'airline']\n",
    "                                          \n",
    "# Deemed unnecessary: \n",
    "drop_cols_unnecess = ['Unnamed: 0', 'cicid', 'count', 'dtadfile', 'entdepa', 'entdepu', 'insnum', 'admnum', 'fltno']\n",
    "\n",
    "# Dropping due to sparsity: \n",
    "drop_cols_sparsity = ['visapost', 'occup']\n",
    " \n",
    "keeper_cols = keeper_cols_nomissing_vals + keepers_missing_vals\n",
    "drop_cols = drop_cols_unnecess + drop_cols_sparsity"
   ]
  },
  {
   "cell_type": "code",
   "execution_count": 9,
   "metadata": {
    "editable": true
   },
   "outputs": [
    {
     "data": {
      "text/plain": [
       "array([], dtype=object)"
      ]
     },
     "execution_count": 9,
     "metadata": {},
     "output_type": "execute_result"
    }
   ],
   "source": [
    "np.setdiff1d(df_immig_data.columns,  keeper_cols+drop_cols)"
   ]
  },
  {
   "cell_type": "code",
   "execution_count": 10,
   "metadata": {
    "editable": true
   },
   "outputs": [
    {
     "data": {
      "text/plain": [
       "18"
      ]
     },
     "execution_count": 10,
     "metadata": {},
     "output_type": "execute_result"
    }
   ],
   "source": [
    "len(keeper_cols)"
   ]
  },
  {
   "cell_type": "code",
   "execution_count": 11,
   "metadata": {
    "editable": true
   },
   "outputs": [
    {
     "data": {
      "text/plain": [
       "(1000, 18)"
      ]
     },
     "execution_count": 11,
     "metadata": {},
     "output_type": "execute_result"
    }
   ],
   "source": [
    "df_immig_data = df_immig_data.drop(columns=drop_cols, axis=1)\n",
    "df_immig_data.shape"
   ]
  },
  {
   "cell_type": "code",
   "execution_count": 12,
   "metadata": {
    "editable": true
   },
   "outputs": [],
   "source": [
    "df_immig_data.loc[df_immig_data['i94mode'].isin([2.0, 3.0, 9.0]), ['airline']] = 'None/Unknown'"
   ]
  },
  {
   "cell_type": "code",
   "execution_count": 13,
   "metadata": {
    "editable": true
   },
   "outputs": [],
   "source": [
    "# ## Exclude \"Temporary\" visitors:\n",
    "# # B2: Temporary visitors for pleasure\n",
    "# # WT: Visa Waiver Program – temporary visitors for pleasure\n",
    "# # GT: Guam Visa Waiver Program – temporary visitors for pleasure to Guam\n",
    "# # GMT: Guam - Commonwealth of Northern Mariana Islands (CNMI) Visa Waiver Program - temporary visitors for pleasure to Guam or Northern Mariana Islands\n",
    "# # B1: Temporary visitors for business\n",
    "# # WB: Visa Waiver Program – temporary visitors for business\n",
    "# # GB: Guam Visa Waiver Program – temporary visitors for business to Guam\n",
    "# # GMB: Guam - Commonwealth of Northern Mariana Islands (CNMI) Visa Waiver Program - temporary visitors for business to Guam or Northern Mariana Islands\n",
    "\n",
    "# excluded_visa_types = ['B2', 'WT', 'GT', 'GMT', 'B1', 'WB', 'GB', 'GMB']"
   ]
  },
  {
   "cell_type": "code",
   "execution_count": 14,
   "metadata": {
    "editable": true
   },
   "outputs": [],
   "source": [
    "# df_immig_data.shape"
   ]
  },
  {
   "cell_type": "code",
   "execution_count": 15,
   "metadata": {
    "editable": true
   },
   "outputs": [],
   "source": [
    "# df_immig_data = df_immig_data[~df_immig_data['visatype'].isin(excluded_visa_types)]\n",
    "# df_immig_data.shape"
   ]
  },
  {
   "cell_type": "code",
   "execution_count": 16,
   "metadata": {
    "editable": true
   },
   "outputs": [
    {
     "data": {
      "text/plain": [
       "M      471\n",
       "F      386\n",
       "NaN    141\n",
       "X        2\n",
       "Name: gender, dtype: int64"
      ]
     },
     "execution_count": 16,
     "metadata": {},
     "output_type": "execute_result"
    }
   ],
   "source": [
    "\n",
    "df_immig_data['gender'].value_counts(normalize=False, dropna=False)"
   ]
  },
  {
   "cell_type": "code",
   "execution_count": 17,
   "metadata": {
    "editable": true
   },
   "outputs": [],
   "source": [
    "## Ingnore the trivial 'X' designation and overwrite it along w/ NaNs (probabilistic imputation)\n",
    "\n",
    "df_immig_data.loc[df_immig_data['gender'] == 'X', 'gender'] = np.nan\n",
    "p = df_immig_data['gender'].value_counts(normalize=True)[0]\n",
    "n = df_immig_data.loc[df_immig_data['gender'].isna()].shape[0]\n",
    "rands = np.random.random(size=n)\n",
    "df_immig_data.loc[df_immig_data['gender'].isna(), 'gender'] = ['F' if x > p else 'M' for x in rands]"
   ]
  },
  {
   "cell_type": "code",
   "execution_count": 18,
   "metadata": {
    "editable": true
   },
   "outputs": [
    {
     "data": {
      "text/plain": [
       "(0.54959159859976658, 0.45040840140023342)"
      ]
     },
     "execution_count": 18,
     "metadata": {},
     "output_type": "execute_result"
    }
   ],
   "source": [
    "(p, 1-p)"
   ]
  },
  {
   "cell_type": "code",
   "execution_count": 19,
   "metadata": {
    "editable": true
   },
   "outputs": [
    {
     "data": {
      "text/plain": [
       "M    0.549\n",
       "F    0.451\n",
       "Name: gender, dtype: float64"
      ]
     },
     "execution_count": 19,
     "metadata": {},
     "output_type": "execute_result"
    }
   ],
   "source": [
    "df_immig_data['gender'].value_counts(normalize=True)"
   ]
  },
  {
   "cell_type": "code",
   "execution_count": 20,
   "metadata": {
    "editable": true
   },
   "outputs": [
    {
     "data": {
      "text/plain": [
       "array(['F1', 'F2'], dtype=object)"
      ]
     },
     "execution_count": 20,
     "metadata": {},
     "output_type": "execute_result"
    }
   ],
   "source": [
    "## These are student visas (F1 for student, F2 for dependents of student), in effect for as long as student enrolled in\n",
    "#  an approved educational program and making satisfactory progress; so not unexpected to see this field left blank;\n",
    "#  no need to impute anything here\n",
    "\n",
    "df_immig_data[df_immig_data['dtaddto'].isna()]['visatype'].unique()"
   ]
  },
  {
   "cell_type": "code",
   "execution_count": 21,
   "metadata": {
    "editable": true
   },
   "outputs": [
    {
     "data": {
      "text/plain": [
       "70    NaT\n",
       "238   NaT\n",
       "274   NaT\n",
       "337   NaT\n",
       "415   NaT\n",
       "538   NaT\n",
       "591   NaT\n",
       "615   NaT\n",
       "621   NaT\n",
       "684   NaT\n",
       "791   NaT\n",
       "934   NaT\n",
       "964   NaT\n",
       "Name: dtaddto, dtype: datetime64[ns]"
      ]
     },
     "execution_count": 21,
     "metadata": {},
     "output_type": "execute_result"
    }
   ],
   "source": [
    "df_immig_data[df_immig_data['visatype'].isin(['F1','F2'])]['dtaddto']"
   ]
  },
  {
   "cell_type": "code",
   "execution_count": null,
   "metadata": {
    "editable": true
   },
   "outputs": [],
   "source": []
  },
  {
   "cell_type": "code",
   "execution_count": 22,
   "metadata": {
    "editable": true
   },
   "outputs": [],
   "source": [
    "# Using code suggested in https://knowledge.udacity.com/questions/125439\n",
    "\n",
    "fname = './I94_SAS_Labels_Descriptions.SAS'\n",
    "with open(fname) as f:\n",
    "    f_content = f.read()\n",
    "    f_content = f_content.replace('\\t', '')\n",
    "    \n",
    "    def code_mapper(file, idx):\n",
    "        f_content2 = f_content[f_content.index(idx):]\n",
    "        f_content2 = f_content2[:f_content2.index(';')].split('\\n')\n",
    "        f_content2 = [i.replace(\"'\", \"\") for i in f_content2]\n",
    "        dic = [i.split('=') for i in f_content2[1:]]\n",
    "        dic = dict([i[0].strip(), i[1].strip()] for i in dic if len(i) == 2)\n",
    "        return dic\n",
    "\n",
    "i94cit_res = code_mapper(f_content, \"i94cntyl\")\n",
    "i94port = code_mapper(f_content, \"i94prtl\")\n",
    "i94mode = code_mapper(f_content, \"i94model\")\n",
    "i94addr = code_mapper(f_content, \"i94addrl\")\n",
    "i94visa = {'1':'Business', '2': 'Pleasure', '3' : 'Student'}"
   ]
  },
  {
   "cell_type": "code",
   "execution_count": 23,
   "metadata": {
    "editable": true
   },
   "outputs": [
    {
     "data": {
      "text/plain": [
       "{'1': 'Business', '2': 'Pleasure', '3': 'Student'}"
      ]
     },
     "execution_count": 23,
     "metadata": {},
     "output_type": "execute_result"
    }
   ],
   "source": [
    "i94visa"
   ]
  },
  {
   "cell_type": "code",
   "execution_count": 24,
   "metadata": {
    "editable": true
   },
   "outputs": [],
   "source": [
    "## Known issues:\n",
    "# 1) {'RNO': 'cannon intl - reno/tahoe, nv'} needs to change to 'reno, nv' (outdated reference to same thing 'REN' points to)\n",
    "# 2) {'SRQ': 'bradenton - sarasota, fl'} needs to change to 'sarasota, fl'\n",
    "# 3) {'OGG': 'kahului - maui, hi'} needs to change to 'kahului, hi'\n",
    "# 4) {'KOA': 'keahole-kona, hi'} needs to change to 'kailua/kona, hi'\n",
    "# 5) {'MCA': 'mcallen, tx'} needs to change to 'mc allen, tx'\n",
    "# 6) {'NEW': 'newark/teterboro, nj'} needs to change to 'newark, nj' (technically 2 nearby airports, but mapped to one port to 1)\n",
    "# 7) {'OPF': 'opa locka, fl'} needs to change to 'miami, fl'\n",
    "# 8) {'WAS': 'washington dc'} needs to change to 'washington, dc'\n",
    "\n",
    "i94port['RNO'] = 'reno, nv'\n",
    "i94port['SRQ'] = 'sarasota, fl'\n",
    "i94port['OGG'] = 'kahului, hi'\n",
    "i94port['KOA'] = 'kailua/kona, hi'\n",
    "i94port['MCA'] = 'mc allen, tx'\n",
    "i94port['NEW'] = 'newark, nj'\n",
    "i94port['OPF'] = 'miami, fl'\n",
    "i94port['WAS'] = 'washington, dc'"
   ]
  },
  {
   "cell_type": "code",
   "execution_count": 25,
   "metadata": {
    "editable": true
   },
   "outputs": [
    {
     "data": {
      "text/html": [
       "<div>\n",
       "<style scoped>\n",
       "    .dataframe tbody tr th:only-of-type {\n",
       "        vertical-align: middle;\n",
       "    }\n",
       "\n",
       "    .dataframe tbody tr th {\n",
       "        vertical-align: top;\n",
       "    }\n",
       "\n",
       "    .dataframe thead th {\n",
       "        text-align: right;\n",
       "    }\n",
       "</style>\n",
       "<table border=\"1\" class=\"dataframe\">\n",
       "  <thead>\n",
       "    <tr style=\"text-align: right;\">\n",
       "      <th></th>\n",
       "      <th>i94port</th>\n",
       "      <th>municipality</th>\n",
       "    </tr>\n",
       "  </thead>\n",
       "  <tbody>\n",
       "    <tr>\n",
       "      <th>0</th>\n",
       "      <td>ALC</td>\n",
       "      <td>alcan, ak</td>\n",
       "    </tr>\n",
       "    <tr>\n",
       "      <th>1</th>\n",
       "      <td>ANC</td>\n",
       "      <td>anchorage, ak</td>\n",
       "    </tr>\n",
       "    <tr>\n",
       "      <th>2</th>\n",
       "      <td>BAR</td>\n",
       "      <td>baker aaf - baker island, ak</td>\n",
       "    </tr>\n",
       "    <tr>\n",
       "      <th>3</th>\n",
       "      <td>DAC</td>\n",
       "      <td>daltons cache, ak</td>\n",
       "    </tr>\n",
       "    <tr>\n",
       "      <th>4</th>\n",
       "      <td>PIZ</td>\n",
       "      <td>dew station pt lay dew, ak</td>\n",
       "    </tr>\n",
       "  </tbody>\n",
       "</table>\n",
       "</div>"
      ],
      "text/plain": [
       "  i94port                  municipality\n",
       "0     ALC                     alcan, ak\n",
       "1     ANC                 anchorage, ak\n",
       "2     BAR  baker aaf - baker island, ak\n",
       "3     DAC             daltons cache, ak\n",
       "4     PIZ    dew station pt lay dew, ak"
      ]
     },
     "execution_count": 25,
     "metadata": {},
     "output_type": "execute_result"
    }
   ],
   "source": [
    "df_ports_munis = pd.DataFrame(columns=['i94port', 'municipality'])\n",
    "i = 0\n",
    "for k, v in i94port.items():\n",
    "    df_ports_munis.loc[i] = [k] + [v.lower()]\n",
    "    i += 1\n",
    "    \n",
    "df_ports_munis.head()"
   ]
  },
  {
   "cell_type": "code",
   "execution_count": 26,
   "metadata": {
    "editable": true
   },
   "outputs": [
    {
     "data": {
      "text/html": [
       "<div>\n",
       "<style scoped>\n",
       "    .dataframe tbody tr th:only-of-type {\n",
       "        vertical-align: middle;\n",
       "    }\n",
       "\n",
       "    .dataframe tbody tr th {\n",
       "        vertical-align: top;\n",
       "    }\n",
       "\n",
       "    .dataframe thead th {\n",
       "        text-align: right;\n",
       "    }\n",
       "</style>\n",
       "<table border=\"1\" class=\"dataframe\">\n",
       "  <thead>\n",
       "    <tr style=\"text-align: right;\">\n",
       "      <th></th>\n",
       "      <th>i94yr</th>\n",
       "      <th>i94mon</th>\n",
       "      <th>i94cit</th>\n",
       "      <th>i94res</th>\n",
       "      <th>i94port</th>\n",
       "      <th>arrdate</th>\n",
       "      <th>i94mode</th>\n",
       "      <th>i94addr</th>\n",
       "      <th>depdate</th>\n",
       "      <th>i94bir</th>\n",
       "      <th>i94visa</th>\n",
       "      <th>entdepd</th>\n",
       "      <th>matflag</th>\n",
       "      <th>biryear</th>\n",
       "      <th>dtaddto</th>\n",
       "      <th>gender</th>\n",
       "      <th>airline</th>\n",
       "      <th>visatype</th>\n",
       "      <th>municipality</th>\n",
       "    </tr>\n",
       "  </thead>\n",
       "  <tbody>\n",
       "    <tr>\n",
       "      <th>0</th>\n",
       "      <td>2016.0</td>\n",
       "      <td>4.0</td>\n",
       "      <td>209.0</td>\n",
       "      <td>209.0</td>\n",
       "      <td>HHW</td>\n",
       "      <td>2016-04-22</td>\n",
       "      <td>1.0</td>\n",
       "      <td>HI</td>\n",
       "      <td>2016-04-29</td>\n",
       "      <td>61.0</td>\n",
       "      <td>2.0</td>\n",
       "      <td>O</td>\n",
       "      <td>M</td>\n",
       "      <td>1955.0</td>\n",
       "      <td>2016-07-20</td>\n",
       "      <td>F</td>\n",
       "      <td>JL</td>\n",
       "      <td>WT</td>\n",
       "      <td>honolulu, hi</td>\n",
       "    </tr>\n",
       "    <tr>\n",
       "      <th>1</th>\n",
       "      <td>2016.0</td>\n",
       "      <td>4.0</td>\n",
       "      <td>209.0</td>\n",
       "      <td>209.0</td>\n",
       "      <td>HHW</td>\n",
       "      <td>2016-04-15</td>\n",
       "      <td>1.0</td>\n",
       "      <td>HI</td>\n",
       "      <td>2016-04-19</td>\n",
       "      <td>54.0</td>\n",
       "      <td>2.0</td>\n",
       "      <td>O</td>\n",
       "      <td>M</td>\n",
       "      <td>1962.0</td>\n",
       "      <td>2016-07-13</td>\n",
       "      <td>M</td>\n",
       "      <td>JL</td>\n",
       "      <td>WT</td>\n",
       "      <td>honolulu, hi</td>\n",
       "    </tr>\n",
       "    <tr>\n",
       "      <th>2</th>\n",
       "      <td>2016.0</td>\n",
       "      <td>4.0</td>\n",
       "      <td>209.0</td>\n",
       "      <td>209.0</td>\n",
       "      <td>HHW</td>\n",
       "      <td>2016-04-29</td>\n",
       "      <td>1.0</td>\n",
       "      <td>HI</td>\n",
       "      <td>2016-05-03</td>\n",
       "      <td>39.0</td>\n",
       "      <td>2.0</td>\n",
       "      <td>O</td>\n",
       "      <td>M</td>\n",
       "      <td>1977.0</td>\n",
       "      <td>2016-07-27</td>\n",
       "      <td>M</td>\n",
       "      <td>DL</td>\n",
       "      <td>WT</td>\n",
       "      <td>honolulu, hi</td>\n",
       "    </tr>\n",
       "    <tr>\n",
       "      <th>3</th>\n",
       "      <td>2016.0</td>\n",
       "      <td>4.0</td>\n",
       "      <td>254.0</td>\n",
       "      <td>276.0</td>\n",
       "      <td>HHW</td>\n",
       "      <td>2016-04-28</td>\n",
       "      <td>1.0</td>\n",
       "      <td>HI</td>\n",
       "      <td>2016-05-02</td>\n",
       "      <td>11.0</td>\n",
       "      <td>2.0</td>\n",
       "      <td>O</td>\n",
       "      <td>M</td>\n",
       "      <td>2005.0</td>\n",
       "      <td>2016-07-26</td>\n",
       "      <td>M</td>\n",
       "      <td>OZ</td>\n",
       "      <td>WT</td>\n",
       "      <td>honolulu, hi</td>\n",
       "    </tr>\n",
       "    <tr>\n",
       "      <th>4</th>\n",
       "      <td>2016.0</td>\n",
       "      <td>4.0</td>\n",
       "      <td>209.0</td>\n",
       "      <td>209.0</td>\n",
       "      <td>HHW</td>\n",
       "      <td>2016-04-08</td>\n",
       "      <td>1.0</td>\n",
       "      <td>HI</td>\n",
       "      <td>2016-04-12</td>\n",
       "      <td>46.0</td>\n",
       "      <td>2.0</td>\n",
       "      <td>O</td>\n",
       "      <td>M</td>\n",
       "      <td>1970.0</td>\n",
       "      <td>2016-07-06</td>\n",
       "      <td>F</td>\n",
       "      <td>NH</td>\n",
       "      <td>WT</td>\n",
       "      <td>honolulu, hi</td>\n",
       "    </tr>\n",
       "  </tbody>\n",
       "</table>\n",
       "</div>"
      ],
      "text/plain": [
       "    i94yr  i94mon  i94cit  i94res i94port    arrdate  i94mode i94addr  \\\n",
       "0  2016.0     4.0   209.0   209.0     HHW 2016-04-22      1.0      HI   \n",
       "1  2016.0     4.0   209.0   209.0     HHW 2016-04-15      1.0      HI   \n",
       "2  2016.0     4.0   209.0   209.0     HHW 2016-04-29      1.0      HI   \n",
       "3  2016.0     4.0   254.0   276.0     HHW 2016-04-28      1.0      HI   \n",
       "4  2016.0     4.0   209.0   209.0     HHW 2016-04-08      1.0      HI   \n",
       "\n",
       "     depdate  i94bir  i94visa entdepd matflag  biryear    dtaddto gender  \\\n",
       "0 2016-04-29    61.0      2.0       O       M   1955.0 2016-07-20      F   \n",
       "1 2016-04-19    54.0      2.0       O       M   1962.0 2016-07-13      M   \n",
       "2 2016-05-03    39.0      2.0       O       M   1977.0 2016-07-27      M   \n",
       "3 2016-05-02    11.0      2.0       O       M   2005.0 2016-07-26      M   \n",
       "4 2016-04-12    46.0      2.0       O       M   1970.0 2016-07-06      F   \n",
       "\n",
       "  airline visatype  municipality  \n",
       "0      JL       WT  honolulu, hi  \n",
       "1      JL       WT  honolulu, hi  \n",
       "2      DL       WT  honolulu, hi  \n",
       "3      OZ       WT  honolulu, hi  \n",
       "4      NH       WT  honolulu, hi  "
      ]
     },
     "execution_count": 26,
     "metadata": {},
     "output_type": "execute_result"
    }
   ],
   "source": [
    "df_immig_data = df_immig_data.merge(df_ports_munis, on=['i94port'], how='inner')\n",
    "df_immig_data.head()"
   ]
  },
  {
   "cell_type": "code",
   "execution_count": 27,
   "metadata": {
    "editable": true
   },
   "outputs": [],
   "source": [
    "df_immig_data[['municipality', 'region']] = pd.DataFrame(df_immig_data['municipality'].str.split(',', 1).tolist(), index= df_immig_data.index)"
   ]
  },
  {
   "cell_type": "code",
   "execution_count": 28,
   "metadata": {
    "editable": true
   },
   "outputs": [],
   "source": [
    "df_immig_data['municipality'] = df_immig_data['municipality'].str.strip()\n",
    "df_immig_data['region'] = df_immig_data['region'].str.strip()"
   ]
  },
  {
   "cell_type": "code",
   "execution_count": 29,
   "metadata": {
    "editable": true
   },
   "outputs": [
    {
     "data": {
      "text/html": [
       "<div>\n",
       "<style scoped>\n",
       "    .dataframe tbody tr th:only-of-type {\n",
       "        vertical-align: middle;\n",
       "    }\n",
       "\n",
       "    .dataframe tbody tr th {\n",
       "        vertical-align: top;\n",
       "    }\n",
       "\n",
       "    .dataframe thead th {\n",
       "        text-align: right;\n",
       "    }\n",
       "</style>\n",
       "<table border=\"1\" class=\"dataframe\">\n",
       "  <thead>\n",
       "    <tr style=\"text-align: right;\">\n",
       "      <th></th>\n",
       "      <th>i94yr</th>\n",
       "      <th>i94mon</th>\n",
       "      <th>i94cit</th>\n",
       "      <th>i94res</th>\n",
       "      <th>i94port</th>\n",
       "      <th>arrdate</th>\n",
       "      <th>i94mode</th>\n",
       "      <th>i94addr</th>\n",
       "      <th>depdate</th>\n",
       "      <th>i94bir</th>\n",
       "      <th>i94visa</th>\n",
       "      <th>entdepd</th>\n",
       "      <th>matflag</th>\n",
       "      <th>biryear</th>\n",
       "      <th>dtaddto</th>\n",
       "      <th>gender</th>\n",
       "      <th>airline</th>\n",
       "      <th>visatype</th>\n",
       "      <th>municipality</th>\n",
       "      <th>region</th>\n",
       "    </tr>\n",
       "  </thead>\n",
       "  <tbody>\n",
       "    <tr>\n",
       "      <th>0</th>\n",
       "      <td>2016.0</td>\n",
       "      <td>4.0</td>\n",
       "      <td>209.0</td>\n",
       "      <td>209.0</td>\n",
       "      <td>HHW</td>\n",
       "      <td>2016-04-22</td>\n",
       "      <td>1.0</td>\n",
       "      <td>HI</td>\n",
       "      <td>2016-04-29</td>\n",
       "      <td>61.0</td>\n",
       "      <td>2.0</td>\n",
       "      <td>O</td>\n",
       "      <td>M</td>\n",
       "      <td>1955.0</td>\n",
       "      <td>2016-07-20</td>\n",
       "      <td>F</td>\n",
       "      <td>JL</td>\n",
       "      <td>WT</td>\n",
       "      <td>honolulu</td>\n",
       "      <td>hi</td>\n",
       "    </tr>\n",
       "    <tr>\n",
       "      <th>1</th>\n",
       "      <td>2016.0</td>\n",
       "      <td>4.0</td>\n",
       "      <td>209.0</td>\n",
       "      <td>209.0</td>\n",
       "      <td>HHW</td>\n",
       "      <td>2016-04-15</td>\n",
       "      <td>1.0</td>\n",
       "      <td>HI</td>\n",
       "      <td>2016-04-19</td>\n",
       "      <td>54.0</td>\n",
       "      <td>2.0</td>\n",
       "      <td>O</td>\n",
       "      <td>M</td>\n",
       "      <td>1962.0</td>\n",
       "      <td>2016-07-13</td>\n",
       "      <td>M</td>\n",
       "      <td>JL</td>\n",
       "      <td>WT</td>\n",
       "      <td>honolulu</td>\n",
       "      <td>hi</td>\n",
       "    </tr>\n",
       "    <tr>\n",
       "      <th>2</th>\n",
       "      <td>2016.0</td>\n",
       "      <td>4.0</td>\n",
       "      <td>209.0</td>\n",
       "      <td>209.0</td>\n",
       "      <td>HHW</td>\n",
       "      <td>2016-04-29</td>\n",
       "      <td>1.0</td>\n",
       "      <td>HI</td>\n",
       "      <td>2016-05-03</td>\n",
       "      <td>39.0</td>\n",
       "      <td>2.0</td>\n",
       "      <td>O</td>\n",
       "      <td>M</td>\n",
       "      <td>1977.0</td>\n",
       "      <td>2016-07-27</td>\n",
       "      <td>M</td>\n",
       "      <td>DL</td>\n",
       "      <td>WT</td>\n",
       "      <td>honolulu</td>\n",
       "      <td>hi</td>\n",
       "    </tr>\n",
       "    <tr>\n",
       "      <th>3</th>\n",
       "      <td>2016.0</td>\n",
       "      <td>4.0</td>\n",
       "      <td>254.0</td>\n",
       "      <td>276.0</td>\n",
       "      <td>HHW</td>\n",
       "      <td>2016-04-28</td>\n",
       "      <td>1.0</td>\n",
       "      <td>HI</td>\n",
       "      <td>2016-05-02</td>\n",
       "      <td>11.0</td>\n",
       "      <td>2.0</td>\n",
       "      <td>O</td>\n",
       "      <td>M</td>\n",
       "      <td>2005.0</td>\n",
       "      <td>2016-07-26</td>\n",
       "      <td>M</td>\n",
       "      <td>OZ</td>\n",
       "      <td>WT</td>\n",
       "      <td>honolulu</td>\n",
       "      <td>hi</td>\n",
       "    </tr>\n",
       "    <tr>\n",
       "      <th>4</th>\n",
       "      <td>2016.0</td>\n",
       "      <td>4.0</td>\n",
       "      <td>209.0</td>\n",
       "      <td>209.0</td>\n",
       "      <td>HHW</td>\n",
       "      <td>2016-04-08</td>\n",
       "      <td>1.0</td>\n",
       "      <td>HI</td>\n",
       "      <td>2016-04-12</td>\n",
       "      <td>46.0</td>\n",
       "      <td>2.0</td>\n",
       "      <td>O</td>\n",
       "      <td>M</td>\n",
       "      <td>1970.0</td>\n",
       "      <td>2016-07-06</td>\n",
       "      <td>F</td>\n",
       "      <td>NH</td>\n",
       "      <td>WT</td>\n",
       "      <td>honolulu</td>\n",
       "      <td>hi</td>\n",
       "    </tr>\n",
       "  </tbody>\n",
       "</table>\n",
       "</div>"
      ],
      "text/plain": [
       "    i94yr  i94mon  i94cit  i94res i94port    arrdate  i94mode i94addr  \\\n",
       "0  2016.0     4.0   209.0   209.0     HHW 2016-04-22      1.0      HI   \n",
       "1  2016.0     4.0   209.0   209.0     HHW 2016-04-15      1.0      HI   \n",
       "2  2016.0     4.0   209.0   209.0     HHW 2016-04-29      1.0      HI   \n",
       "3  2016.0     4.0   254.0   276.0     HHW 2016-04-28      1.0      HI   \n",
       "4  2016.0     4.0   209.0   209.0     HHW 2016-04-08      1.0      HI   \n",
       "\n",
       "     depdate  i94bir  i94visa entdepd matflag  biryear    dtaddto gender  \\\n",
       "0 2016-04-29    61.0      2.0       O       M   1955.0 2016-07-20      F   \n",
       "1 2016-04-19    54.0      2.0       O       M   1962.0 2016-07-13      M   \n",
       "2 2016-05-03    39.0      2.0       O       M   1977.0 2016-07-27      M   \n",
       "3 2016-05-02    11.0      2.0       O       M   2005.0 2016-07-26      M   \n",
       "4 2016-04-12    46.0      2.0       O       M   1970.0 2016-07-06      F   \n",
       "\n",
       "  airline visatype municipality region  \n",
       "0      JL       WT     honolulu     hi  \n",
       "1      JL       WT     honolulu     hi  \n",
       "2      DL       WT     honolulu     hi  \n",
       "3      OZ       WT     honolulu     hi  \n",
       "4      NH       WT     honolulu     hi  "
      ]
     },
     "execution_count": 29,
     "metadata": {},
     "output_type": "execute_result"
    }
   ],
   "source": [
    "df_immig_data.head()"
   ]
  },
  {
   "cell_type": "code",
   "execution_count": 31,
   "metadata": {
    "editable": true
   },
   "outputs": [
    {
     "data": {
      "text/html": [
       "<div>\n",
       "<style scoped>\n",
       "    .dataframe tbody tr th:only-of-type {\n",
       "        vertical-align: middle;\n",
       "    }\n",
       "\n",
       "    .dataframe tbody tr th {\n",
       "        vertical-align: top;\n",
       "    }\n",
       "\n",
       "    .dataframe thead th {\n",
       "        text-align: right;\n",
       "    }\n",
       "</style>\n",
       "<table border=\"1\" class=\"dataframe\">\n",
       "  <thead>\n",
       "    <tr style=\"text-align: right;\">\n",
       "      <th></th>\n",
       "      <th>i94yr</th>\n",
       "      <th>i94mon</th>\n",
       "      <th>i94cit</th>\n",
       "      <th>i94res</th>\n",
       "      <th>i94port</th>\n",
       "      <th>arrdate</th>\n",
       "      <th>i94mode</th>\n",
       "      <th>i94addr</th>\n",
       "      <th>depdate</th>\n",
       "      <th>i94bir</th>\n",
       "      <th>i94visa</th>\n",
       "      <th>entdepd</th>\n",
       "      <th>matflag</th>\n",
       "      <th>biryear</th>\n",
       "      <th>dtaddto</th>\n",
       "      <th>gender</th>\n",
       "      <th>airline</th>\n",
       "      <th>visatype</th>\n",
       "      <th>municipality</th>\n",
       "      <th>region</th>\n",
       "    </tr>\n",
       "  </thead>\n",
       "  <tbody>\n",
       "  </tbody>\n",
       "</table>\n",
       "</div>"
      ],
      "text/plain": [
       "Empty DataFrame\n",
       "Columns: [i94yr, i94mon, i94cit, i94res, i94port, arrdate, i94mode, i94addr, depdate, i94bir, i94visa, entdepd, matflag, biryear, dtaddto, gender, airline, visatype, municipality, region]\n",
       "Index: []"
      ]
     },
     "execution_count": 31,
     "metadata": {},
     "output_type": "execute_result"
    }
   ],
   "source": [
    "df_immig_data[df_immig_data['i94port'] == 'No PORT Code (X96)']"
   ]
  },
  {
   "cell_type": "code",
   "execution_count": 33,
   "metadata": {
    "editable": true
   },
   "outputs": [
    {
     "data": {
      "text/html": [
       "<div>\n",
       "<style scoped>\n",
       "    .dataframe tbody tr th:only-of-type {\n",
       "        vertical-align: middle;\n",
       "    }\n",
       "\n",
       "    .dataframe tbody tr th {\n",
       "        vertical-align: top;\n",
       "    }\n",
       "\n",
       "    .dataframe thead th {\n",
       "        text-align: right;\n",
       "    }\n",
       "</style>\n",
       "<table border=\"1\" class=\"dataframe\">\n",
       "  <thead>\n",
       "    <tr style=\"text-align: right;\">\n",
       "      <th></th>\n",
       "      <th>i94yr</th>\n",
       "      <th>i94mon</th>\n",
       "      <th>i94cit</th>\n",
       "      <th>i94res</th>\n",
       "      <th>i94port</th>\n",
       "      <th>arrdate</th>\n",
       "      <th>i94mode</th>\n",
       "      <th>i94addr</th>\n",
       "      <th>depdate</th>\n",
       "      <th>i94bir</th>\n",
       "      <th>i94visa</th>\n",
       "      <th>entdepd</th>\n",
       "      <th>matflag</th>\n",
       "      <th>biryear</th>\n",
       "      <th>dtaddto</th>\n",
       "      <th>gender</th>\n",
       "      <th>airline</th>\n",
       "      <th>visatype</th>\n",
       "      <th>municipality</th>\n",
       "      <th>region</th>\n",
       "    </tr>\n",
       "  </thead>\n",
       "  <tbody>\n",
       "    <tr>\n",
       "      <th>0</th>\n",
       "      <td>2016.0</td>\n",
       "      <td>4.0</td>\n",
       "      <td>209.0</td>\n",
       "      <td>209.0</td>\n",
       "      <td>HHW</td>\n",
       "      <td>2016-04-22</td>\n",
       "      <td>1.0</td>\n",
       "      <td>HI</td>\n",
       "      <td>2016-04-29</td>\n",
       "      <td>61.0</td>\n",
       "      <td>2.0</td>\n",
       "      <td>O</td>\n",
       "      <td>M</td>\n",
       "      <td>1955.0</td>\n",
       "      <td>2016-07-20</td>\n",
       "      <td>F</td>\n",
       "      <td>JL</td>\n",
       "      <td>WT</td>\n",
       "      <td>honolulu</td>\n",
       "      <td>hi</td>\n",
       "    </tr>\n",
       "    <tr>\n",
       "      <th>1</th>\n",
       "      <td>2016.0</td>\n",
       "      <td>4.0</td>\n",
       "      <td>209.0</td>\n",
       "      <td>209.0</td>\n",
       "      <td>HHW</td>\n",
       "      <td>2016-04-15</td>\n",
       "      <td>1.0</td>\n",
       "      <td>HI</td>\n",
       "      <td>2016-04-19</td>\n",
       "      <td>54.0</td>\n",
       "      <td>2.0</td>\n",
       "      <td>O</td>\n",
       "      <td>M</td>\n",
       "      <td>1962.0</td>\n",
       "      <td>2016-07-13</td>\n",
       "      <td>M</td>\n",
       "      <td>JL</td>\n",
       "      <td>WT</td>\n",
       "      <td>honolulu</td>\n",
       "      <td>hi</td>\n",
       "    </tr>\n",
       "    <tr>\n",
       "      <th>2</th>\n",
       "      <td>2016.0</td>\n",
       "      <td>4.0</td>\n",
       "      <td>209.0</td>\n",
       "      <td>209.0</td>\n",
       "      <td>HHW</td>\n",
       "      <td>2016-04-29</td>\n",
       "      <td>1.0</td>\n",
       "      <td>HI</td>\n",
       "      <td>2016-05-03</td>\n",
       "      <td>39.0</td>\n",
       "      <td>2.0</td>\n",
       "      <td>O</td>\n",
       "      <td>M</td>\n",
       "      <td>1977.0</td>\n",
       "      <td>2016-07-27</td>\n",
       "      <td>M</td>\n",
       "      <td>DL</td>\n",
       "      <td>WT</td>\n",
       "      <td>honolulu</td>\n",
       "      <td>hi</td>\n",
       "    </tr>\n",
       "    <tr>\n",
       "      <th>3</th>\n",
       "      <td>2016.0</td>\n",
       "      <td>4.0</td>\n",
       "      <td>254.0</td>\n",
       "      <td>276.0</td>\n",
       "      <td>HHW</td>\n",
       "      <td>2016-04-28</td>\n",
       "      <td>1.0</td>\n",
       "      <td>HI</td>\n",
       "      <td>2016-05-02</td>\n",
       "      <td>11.0</td>\n",
       "      <td>2.0</td>\n",
       "      <td>O</td>\n",
       "      <td>M</td>\n",
       "      <td>2005.0</td>\n",
       "      <td>2016-07-26</td>\n",
       "      <td>M</td>\n",
       "      <td>OZ</td>\n",
       "      <td>WT</td>\n",
       "      <td>honolulu</td>\n",
       "      <td>hi</td>\n",
       "    </tr>\n",
       "    <tr>\n",
       "      <th>4</th>\n",
       "      <td>2016.0</td>\n",
       "      <td>4.0</td>\n",
       "      <td>209.0</td>\n",
       "      <td>209.0</td>\n",
       "      <td>HHW</td>\n",
       "      <td>2016-04-08</td>\n",
       "      <td>1.0</td>\n",
       "      <td>HI</td>\n",
       "      <td>2016-04-12</td>\n",
       "      <td>46.0</td>\n",
       "      <td>2.0</td>\n",
       "      <td>O</td>\n",
       "      <td>M</td>\n",
       "      <td>1970.0</td>\n",
       "      <td>2016-07-06</td>\n",
       "      <td>F</td>\n",
       "      <td>NH</td>\n",
       "      <td>WT</td>\n",
       "      <td>honolulu</td>\n",
       "      <td>hi</td>\n",
       "    </tr>\n",
       "  </tbody>\n",
       "</table>\n",
       "</div>"
      ],
      "text/plain": [
       "    i94yr  i94mon  i94cit  i94res i94port    arrdate  i94mode i94addr  \\\n",
       "0  2016.0     4.0   209.0   209.0     HHW 2016-04-22      1.0      HI   \n",
       "1  2016.0     4.0   209.0   209.0     HHW 2016-04-15      1.0      HI   \n",
       "2  2016.0     4.0   209.0   209.0     HHW 2016-04-29      1.0      HI   \n",
       "3  2016.0     4.0   254.0   276.0     HHW 2016-04-28      1.0      HI   \n",
       "4  2016.0     4.0   209.0   209.0     HHW 2016-04-08      1.0      HI   \n",
       "\n",
       "     depdate  i94bir  i94visa entdepd matflag  biryear    dtaddto gender  \\\n",
       "0 2016-04-29    61.0      2.0       O       M   1955.0 2016-07-20      F   \n",
       "1 2016-04-19    54.0      2.0       O       M   1962.0 2016-07-13      M   \n",
       "2 2016-05-03    39.0      2.0       O       M   1977.0 2016-07-27      M   \n",
       "3 2016-05-02    11.0      2.0       O       M   2005.0 2016-07-26      M   \n",
       "4 2016-04-12    46.0      2.0       O       M   1970.0 2016-07-06      F   \n",
       "\n",
       "  airline visatype municipality region  \n",
       "0      JL       WT     honolulu     hi  \n",
       "1      JL       WT     honolulu     hi  \n",
       "2      DL       WT     honolulu     hi  \n",
       "3      OZ       WT     honolulu     hi  \n",
       "4      NH       WT     honolulu     hi  "
      ]
     },
     "execution_count": 33,
     "metadata": {},
     "output_type": "execute_result"
    }
   ],
   "source": [
    "df_immig_data.head()"
   ]
  },
  {
   "cell_type": "code",
   "execution_count": 142,
   "metadata": {
    "editable": true
   },
   "outputs": [],
   "source": [
    "# df_immig_data[df_immig_data['municipality'].isin(['saipan', 'nassau', 'agana', 'vancouver', 'dublin', 'shannon',\n",
    "#        'montreal', 'sanford', 'toronto', 'abu dhabi', 'north caicos',\n",
    "#        'hamilton'])]"
   ]
  },
  {
   "cell_type": "code",
   "execution_count": null,
   "metadata": {
    "editable": true
   },
   "outputs": [],
   "source": []
  },
  {
   "cell_type": "code",
   "execution_count": null,
   "metadata": {
    "editable": true
   },
   "outputs": [],
   "source": []
  },
  {
   "cell_type": "code",
   "execution_count": null,
   "metadata": {
    "editable": true
   },
   "outputs": [],
   "source": []
  },
  {
   "cell_type": "code",
   "execution_count": 106,
   "metadata": {
    "editable": true
   },
   "outputs": [
    {
     "data": {
      "text/html": [
       "<div>\n",
       "<style scoped>\n",
       "    .dataframe tbody tr th:only-of-type {\n",
       "        vertical-align: middle;\n",
       "    }\n",
       "\n",
       "    .dataframe tbody tr th {\n",
       "        vertical-align: top;\n",
       "    }\n",
       "\n",
       "    .dataframe thead th {\n",
       "        text-align: right;\n",
       "    }\n",
       "</style>\n",
       "<table border=\"1\" class=\"dataframe\">\n",
       "  <thead>\n",
       "    <tr style=\"text-align: right;\">\n",
       "      <th></th>\n",
       "      <th>ident</th>\n",
       "      <th>type</th>\n",
       "      <th>name</th>\n",
       "      <th>elevation_ft</th>\n",
       "      <th>continent</th>\n",
       "      <th>iso_country</th>\n",
       "      <th>iso_region</th>\n",
       "      <th>municipality</th>\n",
       "      <th>gps_code</th>\n",
       "      <th>iata_code</th>\n",
       "      <th>local_code</th>\n",
       "      <th>coordinates</th>\n",
       "    </tr>\n",
       "  </thead>\n",
       "  <tbody>\n",
       "    <tr>\n",
       "      <th>0</th>\n",
       "      <td>00A</td>\n",
       "      <td>heliport</td>\n",
       "      <td>Total Rf Heliport</td>\n",
       "      <td>11.0</td>\n",
       "      <td>NaN</td>\n",
       "      <td>US</td>\n",
       "      <td>US-PA</td>\n",
       "      <td>bensalem</td>\n",
       "      <td>00A</td>\n",
       "      <td>NaN</td>\n",
       "      <td>00A</td>\n",
       "      <td>-74.93360137939453, 40.07080078125</td>\n",
       "    </tr>\n",
       "    <tr>\n",
       "      <th>1</th>\n",
       "      <td>00AA</td>\n",
       "      <td>small_airport</td>\n",
       "      <td>Aero B Ranch Airport</td>\n",
       "      <td>3435.0</td>\n",
       "      <td>NaN</td>\n",
       "      <td>US</td>\n",
       "      <td>US-KS</td>\n",
       "      <td>leoti</td>\n",
       "      <td>00AA</td>\n",
       "      <td>NaN</td>\n",
       "      <td>00AA</td>\n",
       "      <td>-101.473911, 38.704022</td>\n",
       "    </tr>\n",
       "    <tr>\n",
       "      <th>2</th>\n",
       "      <td>00AK</td>\n",
       "      <td>small_airport</td>\n",
       "      <td>Lowell Field</td>\n",
       "      <td>450.0</td>\n",
       "      <td>NaN</td>\n",
       "      <td>US</td>\n",
       "      <td>US-AK</td>\n",
       "      <td>anchor point</td>\n",
       "      <td>00AK</td>\n",
       "      <td>NaN</td>\n",
       "      <td>00AK</td>\n",
       "      <td>-151.695999146, 59.94919968</td>\n",
       "    </tr>\n",
       "    <tr>\n",
       "      <th>3</th>\n",
       "      <td>00AL</td>\n",
       "      <td>small_airport</td>\n",
       "      <td>Epps Airpark</td>\n",
       "      <td>820.0</td>\n",
       "      <td>NaN</td>\n",
       "      <td>US</td>\n",
       "      <td>US-AL</td>\n",
       "      <td>harvest</td>\n",
       "      <td>00AL</td>\n",
       "      <td>NaN</td>\n",
       "      <td>00AL</td>\n",
       "      <td>-86.77030181884766, 34.86479949951172</td>\n",
       "    </tr>\n",
       "    <tr>\n",
       "      <th>4</th>\n",
       "      <td>00AR</td>\n",
       "      <td>closed</td>\n",
       "      <td>Newport Hospital &amp; Clinic Heliport</td>\n",
       "      <td>237.0</td>\n",
       "      <td>NaN</td>\n",
       "      <td>US</td>\n",
       "      <td>US-AR</td>\n",
       "      <td>newport</td>\n",
       "      <td>NaN</td>\n",
       "      <td>NaN</td>\n",
       "      <td>NaN</td>\n",
       "      <td>-91.254898, 35.6087</td>\n",
       "    </tr>\n",
       "  </tbody>\n",
       "</table>\n",
       "</div>"
      ],
      "text/plain": [
       "  ident           type                                name  elevation_ft  \\\n",
       "0   00A       heliport                   Total Rf Heliport          11.0   \n",
       "1  00AA  small_airport                Aero B Ranch Airport        3435.0   \n",
       "2  00AK  small_airport                        Lowell Field         450.0   \n",
       "3  00AL  small_airport                        Epps Airpark         820.0   \n",
       "4  00AR         closed  Newport Hospital & Clinic Heliport         237.0   \n",
       "\n",
       "  continent iso_country iso_region  municipality gps_code iata_code  \\\n",
       "0       NaN          US      US-PA      bensalem      00A       NaN   \n",
       "1       NaN          US      US-KS         leoti     00AA       NaN   \n",
       "2       NaN          US      US-AK  anchor point     00AK       NaN   \n",
       "3       NaN          US      US-AL       harvest     00AL       NaN   \n",
       "4       NaN          US      US-AR       newport      NaN       NaN   \n",
       "\n",
       "  local_code                            coordinates  \n",
       "0        00A     -74.93360137939453, 40.07080078125  \n",
       "1       00AA                 -101.473911, 38.704022  \n",
       "2       00AK            -151.695999146, 59.94919968  \n",
       "3       00AL  -86.77030181884766, 34.86479949951172  \n",
       "4        NaN                    -91.254898, 35.6087  "
      ]
     },
     "execution_count": 106,
     "metadata": {},
     "output_type": "execute_result"
    }
   ],
   "source": [
    "# Read in the data here\n",
    "fname = 'airport-codes_csv.csv'\n",
    "df_airport_codes = pd.read_csv(fname)\n",
    "df_airport_codes['municipality'] = df_airport_codes['municipality'].str.lower()\n",
    "df_airport_codes.head()"
   ]
  },
  {
   "cell_type": "code",
   "execution_count": 107,
   "metadata": {
    "editable": true
   },
   "outputs": [
    {
     "data": {
      "text/plain": [
       "(55075, 12)"
      ]
     },
     "execution_count": 107,
     "metadata": {},
     "output_type": "execute_result"
    }
   ],
   "source": [
    "df_airport_codes.shape"
   ]
  },
  {
   "cell_type": "code",
   "execution_count": 108,
   "metadata": {
    "editable": true
   },
   "outputs": [
    {
     "data": {
      "text/plain": [
       "(22757, 12)"
      ]
     },
     "execution_count": 108,
     "metadata": {},
     "output_type": "execute_result"
    }
   ],
   "source": [
    "df_airport_codes = df_airport_codes[df_airport_codes['iso_country'] == 'US']\n",
    "df_airport_codes.reset_index(drop=True, inplace=True)\n",
    "df_airport_codes.shape"
   ]
  },
  {
   "cell_type": "code",
   "execution_count": 109,
   "metadata": {
    "editable": true
   },
   "outputs": [
    {
     "data": {
      "text/plain": [
       "array(['heliport', 'small_airport', 'closed', 'seaplane_base',\n",
       "       'balloonport', 'medium_airport', 'large_airport'], dtype=object)"
      ]
     },
     "execution_count": 109,
     "metadata": {},
     "output_type": "execute_result"
    }
   ],
   "source": [
    "df_airport_codes['type'].unique()"
   ]
  },
  {
   "cell_type": "code",
   "execution_count": 110,
   "metadata": {
    "editable": true
   },
   "outputs": [
    {
     "data": {
      "text/plain": [
       "(14582, 12)"
      ]
     },
     "execution_count": 110,
     "metadata": {},
     "output_type": "execute_result"
    }
   ],
   "source": [
    "# Assume no (or virtually no) immigrants arrive at 'heliport', 'closed', 'seaplane_base', or 'balloonport' airports\n",
    "\n",
    "df_airport_codes = df_airport_codes[~df_airport_codes['type'].isin(['heliport', 'closed', 'seaplane_base', 'balloonport'])]\n",
    "df_airport_codes.reset_index(drop=True, inplace=True)\n",
    "df_airport_codes.shape"
   ]
  },
  {
   "cell_type": "code",
   "execution_count": 111,
   "metadata": {
    "editable": true
   },
   "outputs": [
    {
     "data": {
      "text/plain": [
       "(14532, 12)"
      ]
     },
     "execution_count": 111,
     "metadata": {},
     "output_type": "execute_result"
    }
   ],
   "source": [
    "## Airport info only useful for US airports where 'municipality' is not NaN\n",
    "\n",
    "df_airport_codes = df_airport_codes[~df_airport_codes['municipality'].isna()]\n",
    "df_airport_codes.reset_index(drop=True, inplace=True)\n",
    "df_airport_codes.shape"
   ]
  },
  {
   "cell_type": "code",
   "execution_count": 112,
   "metadata": {
    "editable": true
   },
   "outputs": [
    {
     "data": {
      "text/html": [
       "<div>\n",
       "<style scoped>\n",
       "    .dataframe tbody tr th:only-of-type {\n",
       "        vertical-align: middle;\n",
       "    }\n",
       "\n",
       "    .dataframe tbody tr th {\n",
       "        vertical-align: top;\n",
       "    }\n",
       "\n",
       "    .dataframe thead th {\n",
       "        text-align: right;\n",
       "    }\n",
       "</style>\n",
       "<table border=\"1\" class=\"dataframe\">\n",
       "  <thead>\n",
       "    <tr style=\"text-align: right;\">\n",
       "      <th></th>\n",
       "      <th>ident</th>\n",
       "      <th>type</th>\n",
       "      <th>name</th>\n",
       "      <th>elevation_ft</th>\n",
       "      <th>continent</th>\n",
       "      <th>iso_country</th>\n",
       "      <th>iso_region</th>\n",
       "      <th>municipality</th>\n",
       "      <th>gps_code</th>\n",
       "      <th>iata_code</th>\n",
       "      <th>local_code</th>\n",
       "      <th>coordinates</th>\n",
       "      <th>region</th>\n",
       "    </tr>\n",
       "  </thead>\n",
       "  <tbody>\n",
       "    <tr>\n",
       "      <th>0</th>\n",
       "      <td>00AA</td>\n",
       "      <td>small_airport</td>\n",
       "      <td>Aero B Ranch Airport</td>\n",
       "      <td>3435.0</td>\n",
       "      <td>NaN</td>\n",
       "      <td>US</td>\n",
       "      <td>US-KS</td>\n",
       "      <td>leoti</td>\n",
       "      <td>00AA</td>\n",
       "      <td>NaN</td>\n",
       "      <td>00AA</td>\n",
       "      <td>-101.473911, 38.704022</td>\n",
       "      <td>ks</td>\n",
       "    </tr>\n",
       "    <tr>\n",
       "      <th>1</th>\n",
       "      <td>00AK</td>\n",
       "      <td>small_airport</td>\n",
       "      <td>Lowell Field</td>\n",
       "      <td>450.0</td>\n",
       "      <td>NaN</td>\n",
       "      <td>US</td>\n",
       "      <td>US-AK</td>\n",
       "      <td>anchor point</td>\n",
       "      <td>00AK</td>\n",
       "      <td>NaN</td>\n",
       "      <td>00AK</td>\n",
       "      <td>-151.695999146, 59.94919968</td>\n",
       "      <td>ak</td>\n",
       "    </tr>\n",
       "    <tr>\n",
       "      <th>2</th>\n",
       "      <td>00AL</td>\n",
       "      <td>small_airport</td>\n",
       "      <td>Epps Airpark</td>\n",
       "      <td>820.0</td>\n",
       "      <td>NaN</td>\n",
       "      <td>US</td>\n",
       "      <td>US-AL</td>\n",
       "      <td>harvest</td>\n",
       "      <td>00AL</td>\n",
       "      <td>NaN</td>\n",
       "      <td>00AL</td>\n",
       "      <td>-86.77030181884766, 34.86479949951172</td>\n",
       "      <td>al</td>\n",
       "    </tr>\n",
       "    <tr>\n",
       "      <th>3</th>\n",
       "      <td>00AS</td>\n",
       "      <td>small_airport</td>\n",
       "      <td>Fulton Airport</td>\n",
       "      <td>1100.0</td>\n",
       "      <td>NaN</td>\n",
       "      <td>US</td>\n",
       "      <td>US-OK</td>\n",
       "      <td>alex</td>\n",
       "      <td>00AS</td>\n",
       "      <td>NaN</td>\n",
       "      <td>00AS</td>\n",
       "      <td>-97.8180194, 34.9428028</td>\n",
       "      <td>ok</td>\n",
       "    </tr>\n",
       "    <tr>\n",
       "      <th>4</th>\n",
       "      <td>00AZ</td>\n",
       "      <td>small_airport</td>\n",
       "      <td>Cordes Airport</td>\n",
       "      <td>3810.0</td>\n",
       "      <td>NaN</td>\n",
       "      <td>US</td>\n",
       "      <td>US-AZ</td>\n",
       "      <td>cordes</td>\n",
       "      <td>00AZ</td>\n",
       "      <td>NaN</td>\n",
       "      <td>00AZ</td>\n",
       "      <td>-112.16500091552734, 34.305599212646484</td>\n",
       "      <td>az</td>\n",
       "    </tr>\n",
       "  </tbody>\n",
       "</table>\n",
       "</div>"
      ],
      "text/plain": [
       "  ident           type                  name  elevation_ft continent  \\\n",
       "0  00AA  small_airport  Aero B Ranch Airport        3435.0       NaN   \n",
       "1  00AK  small_airport          Lowell Field         450.0       NaN   \n",
       "2  00AL  small_airport          Epps Airpark         820.0       NaN   \n",
       "3  00AS  small_airport        Fulton Airport        1100.0       NaN   \n",
       "4  00AZ  small_airport        Cordes Airport        3810.0       NaN   \n",
       "\n",
       "  iso_country iso_region  municipality gps_code iata_code local_code  \\\n",
       "0          US      US-KS         leoti     00AA       NaN       00AA   \n",
       "1          US      US-AK  anchor point     00AK       NaN       00AK   \n",
       "2          US      US-AL       harvest     00AL       NaN       00AL   \n",
       "3          US      US-OK          alex     00AS       NaN       00AS   \n",
       "4          US      US-AZ        cordes     00AZ       NaN       00AZ   \n",
       "\n",
       "                               coordinates region  \n",
       "0                   -101.473911, 38.704022     ks  \n",
       "1              -151.695999146, 59.94919968     ak  \n",
       "2    -86.77030181884766, 34.86479949951172     al  \n",
       "3                  -97.8180194, 34.9428028     ok  \n",
       "4  -112.16500091552734, 34.305599212646484     az  "
      ]
     },
     "execution_count": 112,
     "metadata": {},
     "output_type": "execute_result"
    }
   ],
   "source": [
    "df_airport_codes['region'] = df_airport_codes['iso_region'].str.split('-').str[-1].str.lower().str.strip()\n",
    "\n",
    "# Drop 'US-U-A' \n",
    "df_airport_codes = df_airport_codes[~df_airport_codes['region'].isin(['a'])]\n",
    "df_airport_codes.head()"
   ]
  },
  {
   "cell_type": "code",
   "execution_count": 113,
   "metadata": {
    "editable": true
   },
   "outputs": [
    {
     "data": {
      "text/plain": [
       "array(['ks', 'ak', 'al', 'ok', 'az', 'ca', 'fl', 'ga', 'id', 'il', 'ky',\n",
       "       'la', 'md', 'mn', 'mo', 'nj', 'nc', 'ny', 'oh', 'pa', 'or', 'sc',\n",
       "       'sd', 'tn', 'tx', 'va', 'wa', 'wi', 'wv', 'ia', 'in', 'mt', 'ne',\n",
       "       'nh', 'nm', 'nv', 'ut', 'wy', 'ms', 'co', 'me', 'mi', 'ma', 'nd',\n",
       "       'vt', 'ar', 'ri', 'de', 'ct', 'hi', 'dc'], dtype=object)"
      ]
     },
     "execution_count": 113,
     "metadata": {},
     "output_type": "execute_result"
    }
   ],
   "source": [
    "df_airport_codes['region'].unique()"
   ]
  },
  {
   "cell_type": "code",
   "execution_count": 114,
   "metadata": {
    "editable": true
   },
   "outputs": [],
   "source": [
    "# # # Reasonable to assume that immigrants never enter the US via an Air Force Base (???)\n",
    "# df_airport_codes = df_airport_codes[~df_airport_codes['name'].str.contains('Air Force')]\n",
    "# df_airport_codes.reset_index(drop=True, inplace=True)\n",
    "# df_airport_codes.shape"
   ]
  },
  {
   "cell_type": "code",
   "execution_count": null,
   "metadata": {
    "editable": true
   },
   "outputs": [],
   "source": []
  },
  {
   "cell_type": "code",
   "execution_count": 115,
   "metadata": {
    "editable": true
   },
   "outputs": [
    {
     "data": {
      "text/html": [
       "<div>\n",
       "<style scoped>\n",
       "    .dataframe tbody tr th:only-of-type {\n",
       "        vertical-align: middle;\n",
       "    }\n",
       "\n",
       "    .dataframe tbody tr th {\n",
       "        vertical-align: top;\n",
       "    }\n",
       "\n",
       "    .dataframe thead th {\n",
       "        text-align: right;\n",
       "    }\n",
       "</style>\n",
       "<table border=\"1\" class=\"dataframe\">\n",
       "  <thead>\n",
       "    <tr style=\"text-align: right;\">\n",
       "      <th></th>\n",
       "      <th>ident</th>\n",
       "      <th>type</th>\n",
       "      <th>name</th>\n",
       "      <th>elevation_ft</th>\n",
       "      <th>continent</th>\n",
       "      <th>iso_country</th>\n",
       "      <th>iso_region</th>\n",
       "      <th>municipality</th>\n",
       "      <th>gps_code</th>\n",
       "      <th>iata_code</th>\n",
       "      <th>local_code</th>\n",
       "      <th>coordinates</th>\n",
       "      <th>region</th>\n",
       "    </tr>\n",
       "  </thead>\n",
       "  <tbody>\n",
       "    <tr>\n",
       "      <th>9333</th>\n",
       "      <td>KJFK</td>\n",
       "      <td>large_airport</td>\n",
       "      <td>John F Kennedy International Airport</td>\n",
       "      <td>13.0</td>\n",
       "      <td>NaN</td>\n",
       "      <td>US</td>\n",
       "      <td>US-NY</td>\n",
       "      <td>new york</td>\n",
       "      <td>KJFK</td>\n",
       "      <td>JFK</td>\n",
       "      <td>JFK</td>\n",
       "      <td>-73.77890015, 40.63980103</td>\n",
       "      <td>ny</td>\n",
       "    </tr>\n",
       "    <tr>\n",
       "      <th>9467</th>\n",
       "      <td>KLGA</td>\n",
       "      <td>large_airport</td>\n",
       "      <td>La Guardia Airport</td>\n",
       "      <td>21.0</td>\n",
       "      <td>NaN</td>\n",
       "      <td>US</td>\n",
       "      <td>US-NY</td>\n",
       "      <td>new york</td>\n",
       "      <td>KLGA</td>\n",
       "      <td>LGA</td>\n",
       "      <td>LGA</td>\n",
       "      <td>-73.87259674, 40.77719879</td>\n",
       "      <td>ny</td>\n",
       "    </tr>\n",
       "    <tr>\n",
       "      <th>13727</th>\n",
       "      <td>US-0883</td>\n",
       "      <td>large_airport</td>\n",
       "      <td>JFK</td>\n",
       "      <td>NaN</td>\n",
       "      <td>NaN</td>\n",
       "      <td>US</td>\n",
       "      <td>US-NY</td>\n",
       "      <td>new york</td>\n",
       "      <td>NaN</td>\n",
       "      <td>NaN</td>\n",
       "      <td>NaN</td>\n",
       "      <td>0, 0</td>\n",
       "      <td>ny</td>\n",
       "    </tr>\n",
       "  </tbody>\n",
       "</table>\n",
       "</div>"
      ],
      "text/plain": [
       "         ident           type                                  name  \\\n",
       "9333      KJFK  large_airport  John F Kennedy International Airport   \n",
       "9467      KLGA  large_airport                    La Guardia Airport   \n",
       "13727  US-0883  large_airport                                   JFK   \n",
       "\n",
       "       elevation_ft continent iso_country iso_region municipality gps_code  \\\n",
       "9333           13.0       NaN          US      US-NY     new york     KJFK   \n",
       "9467           21.0       NaN          US      US-NY     new york     KLGA   \n",
       "13727           NaN       NaN          US      US-NY     new york      NaN   \n",
       "\n",
       "      iata_code local_code                coordinates region  \n",
       "9333        JFK        JFK  -73.77890015, 40.63980103     ny  \n",
       "9467        LGA        LGA  -73.87259674, 40.77719879     ny  \n",
       "13727       NaN        NaN                       0, 0     ny  "
      ]
     },
     "execution_count": 115,
     "metadata": {},
     "output_type": "execute_result"
    }
   ],
   "source": [
    "## 'US-0883' seems like unwanted data; drop it\n",
    "\n",
    "df_airport_codes[(df_airport_codes['municipality'] == 'new york') & (df_airport_codes['region'] == 'ny') & (df_airport_codes['type'] == 'large_airport')]"
   ]
  },
  {
   "cell_type": "code",
   "execution_count": 116,
   "metadata": {
    "editable": true
   },
   "outputs": [
    {
     "data": {
      "text/html": [
       "<div>\n",
       "<style scoped>\n",
       "    .dataframe tbody tr th:only-of-type {\n",
       "        vertical-align: middle;\n",
       "    }\n",
       "\n",
       "    .dataframe tbody tr th {\n",
       "        vertical-align: top;\n",
       "    }\n",
       "\n",
       "    .dataframe thead th {\n",
       "        text-align: right;\n",
       "    }\n",
       "</style>\n",
       "<table border=\"1\" class=\"dataframe\">\n",
       "  <thead>\n",
       "    <tr style=\"text-align: right;\">\n",
       "      <th></th>\n",
       "      <th>ident</th>\n",
       "      <th>type</th>\n",
       "      <th>name</th>\n",
       "      <th>elevation_ft</th>\n",
       "      <th>continent</th>\n",
       "      <th>iso_country</th>\n",
       "      <th>iso_region</th>\n",
       "      <th>municipality</th>\n",
       "      <th>gps_code</th>\n",
       "      <th>iata_code</th>\n",
       "      <th>local_code</th>\n",
       "      <th>coordinates</th>\n",
       "      <th>region</th>\n",
       "    </tr>\n",
       "  </thead>\n",
       "  <tbody>\n",
       "    <tr>\n",
       "      <th>9333</th>\n",
       "      <td>KJFK</td>\n",
       "      <td>large_airport</td>\n",
       "      <td>John F Kennedy International Airport</td>\n",
       "      <td>13.0</td>\n",
       "      <td>NaN</td>\n",
       "      <td>US</td>\n",
       "      <td>US-NY</td>\n",
       "      <td>new york</td>\n",
       "      <td>KJFK</td>\n",
       "      <td>JFK</td>\n",
       "      <td>JFK</td>\n",
       "      <td>-73.77890015, 40.63980103</td>\n",
       "      <td>ny</td>\n",
       "    </tr>\n",
       "    <tr>\n",
       "      <th>9467</th>\n",
       "      <td>KLGA</td>\n",
       "      <td>large_airport</td>\n",
       "      <td>La Guardia Airport</td>\n",
       "      <td>21.0</td>\n",
       "      <td>NaN</td>\n",
       "      <td>US</td>\n",
       "      <td>US-NY</td>\n",
       "      <td>new york</td>\n",
       "      <td>KLGA</td>\n",
       "      <td>LGA</td>\n",
       "      <td>LGA</td>\n",
       "      <td>-73.87259674, 40.77719879</td>\n",
       "      <td>ny</td>\n",
       "    </tr>\n",
       "  </tbody>\n",
       "</table>\n",
       "</div>"
      ],
      "text/plain": [
       "     ident           type                                  name  elevation_ft  \\\n",
       "9333  KJFK  large_airport  John F Kennedy International Airport          13.0   \n",
       "9467  KLGA  large_airport                    La Guardia Airport          21.0   \n",
       "\n",
       "     continent iso_country iso_region municipality gps_code iata_code  \\\n",
       "9333       NaN          US      US-NY     new york     KJFK       JFK   \n",
       "9467       NaN          US      US-NY     new york     KLGA       LGA   \n",
       "\n",
       "     local_code                coordinates region  \n",
       "9333        JFK  -73.77890015, 40.63980103     ny  \n",
       "9467        LGA  -73.87259674, 40.77719879     ny  "
      ]
     },
     "execution_count": 116,
     "metadata": {},
     "output_type": "execute_result"
    }
   ],
   "source": [
    "df_airport_codes = df_airport_codes[df_airport_codes['ident'] != 'US-0883']\n",
    "df_airport_codes.reset_index(drop=True, inplace=True)\n",
    "df_airport_codes[(df_airport_codes['municipality'] == 'new york') & (df_airport_codes['region'] == 'ny') & (df_airport_codes['type'] == 'large_airport')]"
   ]
  },
  {
   "cell_type": "code",
   "execution_count": 117,
   "metadata": {
    "editable": true
   },
   "outputs": [
    {
     "name": "stdout",
     "output_type": "stream",
     "text": [
      "<class 'pandas.core.frame.DataFrame'>\n",
      "RangeIndex: 14528 entries, 0 to 14527\n",
      "Data columns (total 12 columns):\n",
      "ident           14528 non-null object\n",
      "type            14528 non-null object\n",
      "name            14528 non-null object\n",
      "elevation_ft    14493 non-null float64\n",
      "iso_country     14528 non-null object\n",
      "iso_region      14528 non-null object\n",
      "municipality    14528 non-null object\n",
      "gps_code        14163 non-null object\n",
      "iata_code       1865 non-null object\n",
      "local_code      14371 non-null object\n",
      "coordinates     14528 non-null object\n",
      "region          14528 non-null object\n",
      "dtypes: float64(1), object(11)\n",
      "memory usage: 1.3+ MB\n"
     ]
    }
   ],
   "source": [
    "## Only interested in US airports, and 'continent' column is null for those, so drop it\n",
    "df_airport_codes.drop(columns=['continent'], inplace=True)\n",
    "df_airport_codes.info()"
   ]
  },
  {
   "cell_type": "code",
   "execution_count": 118,
   "metadata": {
    "editable": true
   },
   "outputs": [
    {
     "name": "stdout",
     "output_type": "stream",
     "text": [
      "<class 'pandas.core.frame.DataFrame'>\n",
      "RangeIndex: 14528 entries, 0 to 14527\n",
      "Data columns (total 4 columns):\n",
      "type            14528 non-null object\n",
      "name            14528 non-null object\n",
      "municipality    14528 non-null object\n",
      "region          14528 non-null object\n",
      "dtypes: object(4)\n",
      "memory usage: 454.1+ KB\n"
     ]
    }
   ],
   "source": [
    "# Can also drop 'ident', 'elevation_ft', 'iso_country', 'iso_region', 'gps_code', 'iata_code', 'local_code', 'coordinates'\n",
    "df_airport_codes.drop(columns=['ident', 'elevation_ft', 'iso_country', 'iso_region', 'gps_code', 'iata_code', 'local_code', 'coordinates'], \n",
    "                      inplace=True)\n",
    "df_airport_codes.info()"
   ]
  },
  {
   "cell_type": "code",
   "execution_count": 119,
   "metadata": {
    "editable": true
   },
   "outputs": [
    {
     "data": {
      "text/plain": [
       "(14528, 4)"
      ]
     },
     "execution_count": 119,
     "metadata": {},
     "output_type": "execute_result"
    }
   ],
   "source": [
    "# Drop any rows where 'type' or 'name' are NaN\n",
    "df_airport_codes = df_airport_codes[~((df_airport_codes['type'].isna()) | (df_airport_codes['name'].isna()))]\n",
    "df_airport_codes.reset_index(drop=True, inplace=True)\n",
    "df_airport_codes.shape"
   ]
  },
  {
   "cell_type": "code",
   "execution_count": 120,
   "metadata": {
    "editable": true
   },
   "outputs": [
    {
     "data": {
      "text/plain": [
       "array(['ks', 'ak', 'al', 'ok', 'az', 'ca', 'fl', 'ga', 'id', 'il', 'ky',\n",
       "       'la', 'md', 'mn', 'mo', 'nj', 'nc', 'ny', 'oh', 'pa', 'or', 'sc',\n",
       "       'sd', 'tn', 'tx', 'va', 'wa', 'wi', 'wv', 'ia', 'in', 'mt', 'ne',\n",
       "       'nh', 'nm', 'nv', 'ut', 'wy', 'ms', 'co', 'me', 'mi', 'ma', 'nd',\n",
       "       'vt', 'ar', 'ri', 'de', 'ct', 'hi', 'dc'], dtype=object)"
      ]
     },
     "execution_count": 120,
     "metadata": {},
     "output_type": "execute_result"
    }
   ],
   "source": [
    "## This is what's left \n",
    "\n",
    "us_airport_regions = df_airport_codes['region'].unique()\n",
    "us_airport_regions"
   ]
  },
  {
   "cell_type": "code",
   "execution_count": 121,
   "metadata": {
    "editable": true
   },
   "outputs": [
    {
     "data": {
      "text/plain": [
       "array(['leoti', 'anchor point', 'harvest', ..., 'copper center', 'cibecue',\n",
       "       'nyac'], dtype=object)"
      ]
     },
     "execution_count": 121,
     "metadata": {},
     "output_type": "execute_result"
    }
   ],
   "source": [
    "us_airport_munis = df_airport_codes['municipality'].unique()\n",
    "us_airport_munis"
   ]
  },
  {
   "cell_type": "code",
   "execution_count": 122,
   "metadata": {
    "editable": true
   },
   "outputs": [],
   "source": [
    "i94data_munis = df_immig_data[df_immig_data['i94mode'] == 1.0]['municipality'].unique()\n",
    "i94data_regions = df_immig_data[(df_immig_data['i94mode'] == 1.0) & (~df_immig_data['region'].isnull())]['region'].unique()"
   ]
  },
  {
   "cell_type": "code",
   "execution_count": 124,
   "metadata": {
    "editable": true
   },
   "outputs": [
    {
     "data": {
      "text/plain": [
       "array(['abu dhabi', 'agana', 'montreal', 'nassau', 'north caicos', 'saipan'], dtype=object)"
      ]
     },
     "execution_count": 124,
     "metadata": {},
     "output_type": "execute_result"
    }
   ],
   "source": [
    "## All foreign airports - great! (Only care about US 50+1)\n",
    "\n",
    "np.setdiff1d(i94data_munis, us_airport_munis)"
   ]
  },
  {
   "cell_type": "code",
   "execution_count": 125,
   "metadata": {
    "editable": true
   },
   "outputs": [
    {
     "data": {
      "text/plain": [
       "array(['bahamas', 'bermuda', 'canada', 'gu', 'ireland', 'spn',\n",
       "       'turk & caiman'], dtype=object)"
      ]
     },
     "execution_count": 125,
     "metadata": {},
     "output_type": "execute_result"
    }
   ],
   "source": [
    "## All non-US 50+1 regions (this is good!)\n",
    "\n",
    "np.setdiff1d(i94data_regions, us_airport_regions)"
   ]
  },
  {
   "cell_type": "code",
   "execution_count": null,
   "metadata": {
    "editable": true
   },
   "outputs": [],
   "source": []
  },
  {
   "cell_type": "code",
   "execution_count": 126,
   "metadata": {
    "editable": true
   },
   "outputs": [
    {
     "data": {
      "text/html": [
       "<div>\n",
       "<style scoped>\n",
       "    .dataframe tbody tr th:only-of-type {\n",
       "        vertical-align: middle;\n",
       "    }\n",
       "\n",
       "    .dataframe tbody tr th {\n",
       "        vertical-align: top;\n",
       "    }\n",
       "\n",
       "    .dataframe thead th {\n",
       "        text-align: right;\n",
       "    }\n",
       "</style>\n",
       "<table border=\"1\" class=\"dataframe\">\n",
       "  <thead>\n",
       "    <tr style=\"text-align: right;\">\n",
       "      <th></th>\n",
       "      <th></th>\n",
       "      <th>type</th>\n",
       "      <th>name</th>\n",
       "    </tr>\n",
       "    <tr>\n",
       "      <th>municipality</th>\n",
       "      <th>region</th>\n",
       "      <th></th>\n",
       "      <th></th>\n",
       "    </tr>\n",
       "  </thead>\n",
       "  <tbody>\n",
       "    <tr>\n",
       "      <th rowspan=\"3\" valign=\"top\">abbeville</th>\n",
       "      <th>al</th>\n",
       "      <td>[small_airport]</td>\n",
       "      <td>[Abbeville Municipal Airport]</td>\n",
       "    </tr>\n",
       "    <tr>\n",
       "      <th>la</th>\n",
       "      <td>[small_airport, small_airport, small_airport, ...</td>\n",
       "      <td>[Coastal Ridge Airpark, Ms Pats Airport, Abbev...</td>\n",
       "    </tr>\n",
       "    <tr>\n",
       "      <th>sc</th>\n",
       "      <td>[small_airport, small_airport]</td>\n",
       "      <td>[Abbeville Airport, Rambos Field]</td>\n",
       "    </tr>\n",
       "    <tr>\n",
       "      <th>abbott</th>\n",
       "      <th>tx</th>\n",
       "      <td>[small_airport]</td>\n",
       "      <td>[Stapleton Field]</td>\n",
       "    </tr>\n",
       "    <tr>\n",
       "      <th rowspan=\"3\" valign=\"top\">aberdeen</th>\n",
       "      <th>id</th>\n",
       "      <td>[small_airport]</td>\n",
       "      <td>[Aberdeen Municipal Airport]</td>\n",
       "    </tr>\n",
       "    <tr>\n",
       "      <th>sd</th>\n",
       "      <td>[medium_airport, small_airport, small_airport]</td>\n",
       "      <td>[Aberdeen Regional Airport, Thorson Airfield, ...</td>\n",
       "    </tr>\n",
       "    <tr>\n",
       "      <th>wa</th>\n",
       "      <td>[small_airport]</td>\n",
       "      <td>[Wishkah River Ranch Airport]</td>\n",
       "    </tr>\n",
       "    <tr>\n",
       "      <th>aberdeen proving grounds(aberdeen)</th>\n",
       "      <th>md</th>\n",
       "      <td>[medium_airport]</td>\n",
       "      <td>[Phillips Army Air Field]</td>\n",
       "    </tr>\n",
       "    <tr>\n",
       "      <th>aberdeen/amory</th>\n",
       "      <th>ms</th>\n",
       "      <td>[small_airport]</td>\n",
       "      <td>[Monroe County Airport]</td>\n",
       "    </tr>\n",
       "    <tr>\n",
       "      <th>abernathy</th>\n",
       "      <th>tx</th>\n",
       "      <td>[small_airport]</td>\n",
       "      <td>[Abernathy Municipal Airport]</td>\n",
       "    </tr>\n",
       "    <tr>\n",
       "      <th>abie</th>\n",
       "      <th>ne</th>\n",
       "      <td>[small_airport]</td>\n",
       "      <td>[Abie Sky Ranch Airport]</td>\n",
       "    </tr>\n",
       "    <tr>\n",
       "      <th rowspan=\"2\" valign=\"top\">abilene</th>\n",
       "      <th>ks</th>\n",
       "      <td>[small_airport]</td>\n",
       "      <td>[Abilene Municipal Airport]</td>\n",
       "    </tr>\n",
       "    <tr>\n",
       "      <th>tx</th>\n",
       "      <td>[small_airport, small_airport, small_airport, ...</td>\n",
       "      <td>[Flying B Ranch Airstrip, Zimmerle Airport, El...</td>\n",
       "    </tr>\n",
       "    <tr>\n",
       "      <th rowspan=\"2\" valign=\"top\">abingdon</th>\n",
       "      <th>il</th>\n",
       "      <td>[small_airport]</td>\n",
       "      <td>[Wolford's Airport]</td>\n",
       "    </tr>\n",
       "    <tr>\n",
       "      <th>va</th>\n",
       "      <td>[small_airport, small_airport]</td>\n",
       "      <td>[Old South Aerodrome, Virginia Highlands Airport]</td>\n",
       "    </tr>\n",
       "    <tr>\n",
       "      <th>abiquiu</th>\n",
       "      <th>nm</th>\n",
       "      <td>[small_airport]</td>\n",
       "      <td>[Ghost Ranch Strip]</td>\n",
       "    </tr>\n",
       "    <tr>\n",
       "      <th>abita springs</th>\n",
       "      <th>la</th>\n",
       "      <td>[small_airport]</td>\n",
       "      <td>[Price Ultralightport]</td>\n",
       "    </tr>\n",
       "    <tr>\n",
       "      <th>absaraka</th>\n",
       "      <th>nd</th>\n",
       "      <td>[small_airport]</td>\n",
       "      <td>[Punton Private Airport]</td>\n",
       "    </tr>\n",
       "    <tr>\n",
       "      <th>ackerly</th>\n",
       "      <th>tx</th>\n",
       "      <td>[small_airport]</td>\n",
       "      <td>[Coleman Cattle Company Nr 1 Airport]</td>\n",
       "    </tr>\n",
       "    <tr>\n",
       "      <th>ackerman</th>\n",
       "      <th>ms</th>\n",
       "      <td>[small_airport]</td>\n",
       "      <td>[Ackerman Choctaw County Airport]</td>\n",
       "    </tr>\n",
       "    <tr>\n",
       "      <th>ackley</th>\n",
       "      <th>ia</th>\n",
       "      <td>[small_airport]</td>\n",
       "      <td>[Ackley Municipal Airport]</td>\n",
       "    </tr>\n",
       "    <tr>\n",
       "      <th>acme</th>\n",
       "      <th>wa</th>\n",
       "      <td>[small_airport]</td>\n",
       "      <td>[Acme Field]</td>\n",
       "    </tr>\n",
       "    <tr>\n",
       "      <th>acton</th>\n",
       "      <th>me</th>\n",
       "      <td>[small_airport, small_airport]</td>\n",
       "      <td>[Nadeau's Airport, Buzzy's Field]</td>\n",
       "    </tr>\n",
       "    <tr>\n",
       "      <th rowspan=\"4\" valign=\"top\">ada</th>\n",
       "      <th>mi</th>\n",
       "      <td>[small_airport]</td>\n",
       "      <td>[Somerville Airport]</td>\n",
       "    </tr>\n",
       "    <tr>\n",
       "      <th>mn</th>\n",
       "      <td>[small_airport]</td>\n",
       "      <td>[Hammars Farm Airport]</td>\n",
       "    </tr>\n",
       "    <tr>\n",
       "      <th>oh</th>\n",
       "      <td>[small_airport]</td>\n",
       "      <td>[Ada Airport]</td>\n",
       "    </tr>\n",
       "    <tr>\n",
       "      <th>ok</th>\n",
       "      <td>[small_airport, small_airport, small_airport]</td>\n",
       "      <td>[Valley Airport, Ada Regional Airport, Thomas ...</td>\n",
       "    </tr>\n",
       "    <tr>\n",
       "      <th>ada/twin valley</th>\n",
       "      <th>mn</th>\n",
       "      <td>[small_airport]</td>\n",
       "      <td>[Norman County/Ada/Twin Valley Airport]</td>\n",
       "    </tr>\n",
       "    <tr>\n",
       "      <th>adair</th>\n",
       "      <th>ok</th>\n",
       "      <td>[small_airport]</td>\n",
       "      <td>[Grand Isle Airport]</td>\n",
       "    </tr>\n",
       "    <tr>\n",
       "      <th>adak island</th>\n",
       "      <th>ak</th>\n",
       "      <td>[medium_airport]</td>\n",
       "      <td>[Adak Airport]</td>\n",
       "    </tr>\n",
       "    <tr>\n",
       "      <th>...</th>\n",
       "      <th>...</th>\n",
       "      <td>...</td>\n",
       "      <td>...</td>\n",
       "    </tr>\n",
       "    <tr>\n",
       "      <th>youngsville</th>\n",
       "      <th>la</th>\n",
       "      <td>[small_airport, small_airport]</td>\n",
       "      <td>[G &amp; J Fly A Way Ultralightport, Sky Ranch Air...</td>\n",
       "    </tr>\n",
       "    <tr>\n",
       "      <th>ypsilanti</th>\n",
       "      <th>nd</th>\n",
       "      <td>[small_airport]</td>\n",
       "      <td>[Sperr Airport]</td>\n",
       "    </tr>\n",
       "    <tr>\n",
       "      <th>yuba city</th>\n",
       "      <th>ca</th>\n",
       "      <td>[small_airport, small_airport]</td>\n",
       "      <td>[Vanderford Ranch Company Airport, Sutter Coun...</td>\n",
       "    </tr>\n",
       "    <tr>\n",
       "      <th>yucca</th>\n",
       "      <th>az</th>\n",
       "      <td>[small_airport]</td>\n",
       "      <td>[Massey Farm Airport]</td>\n",
       "    </tr>\n",
       "    <tr>\n",
       "      <th>yucca valley</th>\n",
       "      <th>ca</th>\n",
       "      <td>[small_airport, small_airport, small_airport]</td>\n",
       "      <td>[B &amp; E Ranch Airport, Valley Vista Airport, Yu...</td>\n",
       "    </tr>\n",
       "    <tr>\n",
       "      <th>yukon charley rivers</th>\n",
       "      <th>ak</th>\n",
       "      <td>[small_airport]</td>\n",
       "      <td>[Coal Creek Airport]</td>\n",
       "    </tr>\n",
       "    <tr>\n",
       "      <th>yulee</th>\n",
       "      <th>fl</th>\n",
       "      <td>[small_airport]</td>\n",
       "      <td>[Nassau Airport]</td>\n",
       "    </tr>\n",
       "    <tr>\n",
       "      <th rowspan=\"2\" valign=\"top\">yuma</th>\n",
       "      <th>az</th>\n",
       "      <td>[medium_airport]</td>\n",
       "      <td>[Yuma MCAS/Yuma International Airport]</td>\n",
       "    </tr>\n",
       "    <tr>\n",
       "      <th>co</th>\n",
       "      <td>[small_airport, small_airport, small_airport]</td>\n",
       "      <td>[Koenig Airport, Jackson Airfield, Yuma Munici...</td>\n",
       "    </tr>\n",
       "    <tr>\n",
       "      <th>yuma proving ground(yuma)</th>\n",
       "      <th>az</th>\n",
       "      <td>[small_airport]</td>\n",
       "      <td>[Laguna Army Airfield]</td>\n",
       "    </tr>\n",
       "    <tr>\n",
       "      <th>zachary</th>\n",
       "      <th>la</th>\n",
       "      <td>[small_airport, small_airport]</td>\n",
       "      <td>[Whitehead Ultralightport, Brian's Ultralightp...</td>\n",
       "    </tr>\n",
       "    <tr>\n",
       "      <th>zanesville</th>\n",
       "      <th>oh</th>\n",
       "      <td>[small_airport, small_airport, medium_airport,...</td>\n",
       "      <td>[Johns Landing Airport, Parr Airport, Zanesvil...</td>\n",
       "    </tr>\n",
       "    <tr>\n",
       "      <th>zapata</th>\n",
       "      <th>tx</th>\n",
       "      <td>[small_airport, small_airport]</td>\n",
       "      <td>[Zapata County Airport, Jennings Ranch Airport]</td>\n",
       "    </tr>\n",
       "    <tr>\n",
       "      <th rowspan=\"2\" valign=\"top\">zebulon</th>\n",
       "      <th>ga</th>\n",
       "      <td>[small_airport, small_airport, small_airport]</td>\n",
       "      <td>[Vintage Field, Brown Field, Ridgeview Farm Ai...</td>\n",
       "    </tr>\n",
       "    <tr>\n",
       "      <th>nc</th>\n",
       "      <td>[small_airport]</td>\n",
       "      <td>[Phillip R Bunn Airport]</td>\n",
       "    </tr>\n",
       "    <tr>\n",
       "      <th>zeeland</th>\n",
       "      <th>mi</th>\n",
       "      <td>[small_airport, small_airport, small_airport, ...</td>\n",
       "      <td>[Curt's Place Airport, J P's Field, Dewind Fie...</td>\n",
       "    </tr>\n",
       "    <tr>\n",
       "      <th>zelienople</th>\n",
       "      <th>pa</th>\n",
       "      <td>[small_airport, small_airport]</td>\n",
       "      <td>[Brennan Personal Use Airport, Zelienople Muni...</td>\n",
       "    </tr>\n",
       "    <tr>\n",
       "      <th>zell</th>\n",
       "      <th>mo</th>\n",
       "      <td>[small_airport]</td>\n",
       "      <td>[Pleasant View Ultralightport]</td>\n",
       "    </tr>\n",
       "    <tr>\n",
       "      <th>zellwood</th>\n",
       "      <th>fl</th>\n",
       "      <td>[small_airport, small_airport, small_airport]</td>\n",
       "      <td>[Orlando North Airpark, Tangerine Airport, Bob...</td>\n",
       "    </tr>\n",
       "    <tr>\n",
       "      <th>zenia</th>\n",
       "      <th>ca</th>\n",
       "      <td>[small_airport]</td>\n",
       "      <td>[Hell'er High Water Airport]</td>\n",
       "    </tr>\n",
       "    <tr>\n",
       "      <th>zephyrhills</th>\n",
       "      <th>fl</th>\n",
       "      <td>[small_airport]</td>\n",
       "      <td>[Zephyrhills Municipal Airport]</td>\n",
       "    </tr>\n",
       "    <tr>\n",
       "      <th>zieglerville</th>\n",
       "      <th>pa</th>\n",
       "      <td>[small_airport]</td>\n",
       "      <td>[Shontz Airport]</td>\n",
       "    </tr>\n",
       "    <tr>\n",
       "      <th>zillah</th>\n",
       "      <th>wa</th>\n",
       "      <td>[small_airport]</td>\n",
       "      <td>[Mc Mahon Field]</td>\n",
       "    </tr>\n",
       "    <tr>\n",
       "      <th>zion</th>\n",
       "      <th>il</th>\n",
       "      <td>[small_airport]</td>\n",
       "      <td>[Herbert C. Maas Airport]</td>\n",
       "    </tr>\n",
       "    <tr>\n",
       "      <th>zolfo springs</th>\n",
       "      <th>fl</th>\n",
       "      <td>[small_airport, small_airport]</td>\n",
       "      <td>[Myakka Head Airport, Griffins Peace River Ran...</td>\n",
       "    </tr>\n",
       "    <tr>\n",
       "      <th>zortman</th>\n",
       "      <th>mt</th>\n",
       "      <td>[small_airport]</td>\n",
       "      <td>[Zortman Airport]</td>\n",
       "    </tr>\n",
       "    <tr>\n",
       "      <th>zuni</th>\n",
       "      <th>nm</th>\n",
       "      <td>[small_airport]</td>\n",
       "      <td>[Andrew Othole Memorial Airport]</td>\n",
       "    </tr>\n",
       "    <tr>\n",
       "      <th>zuni pueblo</th>\n",
       "      <th>nm</th>\n",
       "      <td>[small_airport]</td>\n",
       "      <td>[Black Rock Airport]</td>\n",
       "    </tr>\n",
       "    <tr>\n",
       "      <th>zwingle</th>\n",
       "      <th>ia</th>\n",
       "      <td>[small_airport]</td>\n",
       "      <td>[Kleis Airport]</td>\n",
       "    </tr>\n",
       "    <tr>\n",
       "      <th>zwolle</th>\n",
       "      <th>la</th>\n",
       "      <td>[small_airport]</td>\n",
       "      <td>[Ammons Airport]</td>\n",
       "    </tr>\n",
       "  </tbody>\n",
       "</table>\n",
       "<p>9576 rows × 2 columns</p>\n",
       "</div>"
      ],
      "text/plain": [
       "                                                                                        type  \\\n",
       "municipality                       region                                                      \n",
       "abbeville                          al                                        [small_airport]   \n",
       "                                   la      [small_airport, small_airport, small_airport, ...   \n",
       "                                   sc                         [small_airport, small_airport]   \n",
       "abbott                             tx                                        [small_airport]   \n",
       "aberdeen                           id                                        [small_airport]   \n",
       "                                   sd         [medium_airport, small_airport, small_airport]   \n",
       "                                   wa                                        [small_airport]   \n",
       "aberdeen proving grounds(aberdeen) md                                       [medium_airport]   \n",
       "aberdeen/amory                     ms                                        [small_airport]   \n",
       "abernathy                          tx                                        [small_airport]   \n",
       "abie                               ne                                        [small_airport]   \n",
       "abilene                            ks                                        [small_airport]   \n",
       "                                   tx      [small_airport, small_airport, small_airport, ...   \n",
       "abingdon                           il                                        [small_airport]   \n",
       "                                   va                         [small_airport, small_airport]   \n",
       "abiquiu                            nm                                        [small_airport]   \n",
       "abita springs                      la                                        [small_airport]   \n",
       "absaraka                           nd                                        [small_airport]   \n",
       "ackerly                            tx                                        [small_airport]   \n",
       "ackerman                           ms                                        [small_airport]   \n",
       "ackley                             ia                                        [small_airport]   \n",
       "acme                               wa                                        [small_airport]   \n",
       "acton                              me                         [small_airport, small_airport]   \n",
       "ada                                mi                                        [small_airport]   \n",
       "                                   mn                                        [small_airport]   \n",
       "                                   oh                                        [small_airport]   \n",
       "                                   ok          [small_airport, small_airport, small_airport]   \n",
       "ada/twin valley                    mn                                        [small_airport]   \n",
       "adair                              ok                                        [small_airport]   \n",
       "adak island                        ak                                       [medium_airport]   \n",
       "...                                                                                      ...   \n",
       "youngsville                        la                         [small_airport, small_airport]   \n",
       "ypsilanti                          nd                                        [small_airport]   \n",
       "yuba city                          ca                         [small_airport, small_airport]   \n",
       "yucca                              az                                        [small_airport]   \n",
       "yucca valley                       ca          [small_airport, small_airport, small_airport]   \n",
       "yukon charley rivers               ak                                        [small_airport]   \n",
       "yulee                              fl                                        [small_airport]   \n",
       "yuma                               az                                       [medium_airport]   \n",
       "                                   co          [small_airport, small_airport, small_airport]   \n",
       "yuma proving ground(yuma)          az                                        [small_airport]   \n",
       "zachary                            la                         [small_airport, small_airport]   \n",
       "zanesville                         oh      [small_airport, small_airport, medium_airport,...   \n",
       "zapata                             tx                         [small_airport, small_airport]   \n",
       "zebulon                            ga          [small_airport, small_airport, small_airport]   \n",
       "                                   nc                                        [small_airport]   \n",
       "zeeland                            mi      [small_airport, small_airport, small_airport, ...   \n",
       "zelienople                         pa                         [small_airport, small_airport]   \n",
       "zell                               mo                                        [small_airport]   \n",
       "zellwood                           fl          [small_airport, small_airport, small_airport]   \n",
       "zenia                              ca                                        [small_airport]   \n",
       "zephyrhills                        fl                                        [small_airport]   \n",
       "zieglerville                       pa                                        [small_airport]   \n",
       "zillah                             wa                                        [small_airport]   \n",
       "zion                               il                                        [small_airport]   \n",
       "zolfo springs                      fl                         [small_airport, small_airport]   \n",
       "zortman                            mt                                        [small_airport]   \n",
       "zuni                               nm                                        [small_airport]   \n",
       "zuni pueblo                        nm                                        [small_airport]   \n",
       "zwingle                            ia                                        [small_airport]   \n",
       "zwolle                             la                                        [small_airport]   \n",
       "\n",
       "                                                                                        name  \n",
       "municipality                       region                                                     \n",
       "abbeville                          al                          [Abbeville Municipal Airport]  \n",
       "                                   la      [Coastal Ridge Airpark, Ms Pats Airport, Abbev...  \n",
       "                                   sc                      [Abbeville Airport, Rambos Field]  \n",
       "abbott                             tx                                      [Stapleton Field]  \n",
       "aberdeen                           id                           [Aberdeen Municipal Airport]  \n",
       "                                   sd      [Aberdeen Regional Airport, Thorson Airfield, ...  \n",
       "                                   wa                          [Wishkah River Ranch Airport]  \n",
       "aberdeen proving grounds(aberdeen) md                              [Phillips Army Air Field]  \n",
       "aberdeen/amory                     ms                                [Monroe County Airport]  \n",
       "abernathy                          tx                          [Abernathy Municipal Airport]  \n",
       "abie                               ne                               [Abie Sky Ranch Airport]  \n",
       "abilene                            ks                            [Abilene Municipal Airport]  \n",
       "                                   tx      [Flying B Ranch Airstrip, Zimmerle Airport, El...  \n",
       "abingdon                           il                                    [Wolford's Airport]  \n",
       "                                   va      [Old South Aerodrome, Virginia Highlands Airport]  \n",
       "abiquiu                            nm                                    [Ghost Ranch Strip]  \n",
       "abita springs                      la                                 [Price Ultralightport]  \n",
       "absaraka                           nd                               [Punton Private Airport]  \n",
       "ackerly                            tx                  [Coleman Cattle Company Nr 1 Airport]  \n",
       "ackerman                           ms                      [Ackerman Choctaw County Airport]  \n",
       "ackley                             ia                             [Ackley Municipal Airport]  \n",
       "acme                               wa                                           [Acme Field]  \n",
       "acton                              me                      [Nadeau's Airport, Buzzy's Field]  \n",
       "ada                                mi                                   [Somerville Airport]  \n",
       "                                   mn                                 [Hammars Farm Airport]  \n",
       "                                   oh                                          [Ada Airport]  \n",
       "                                   ok      [Valley Airport, Ada Regional Airport, Thomas ...  \n",
       "ada/twin valley                    mn                [Norman County/Ada/Twin Valley Airport]  \n",
       "adair                              ok                                   [Grand Isle Airport]  \n",
       "adak island                        ak                                         [Adak Airport]  \n",
       "...                                                                                      ...  \n",
       "youngsville                        la      [G & J Fly A Way Ultralightport, Sky Ranch Air...  \n",
       "ypsilanti                          nd                                        [Sperr Airport]  \n",
       "yuba city                          ca      [Vanderford Ranch Company Airport, Sutter Coun...  \n",
       "yucca                              az                                  [Massey Farm Airport]  \n",
       "yucca valley                       ca      [B & E Ranch Airport, Valley Vista Airport, Yu...  \n",
       "yukon charley rivers               ak                                   [Coal Creek Airport]  \n",
       "yulee                              fl                                       [Nassau Airport]  \n",
       "yuma                               az                 [Yuma MCAS/Yuma International Airport]  \n",
       "                                   co      [Koenig Airport, Jackson Airfield, Yuma Munici...  \n",
       "yuma proving ground(yuma)          az                                 [Laguna Army Airfield]  \n",
       "zachary                            la      [Whitehead Ultralightport, Brian's Ultralightp...  \n",
       "zanesville                         oh      [Johns Landing Airport, Parr Airport, Zanesvil...  \n",
       "zapata                             tx        [Zapata County Airport, Jennings Ranch Airport]  \n",
       "zebulon                            ga      [Vintage Field, Brown Field, Ridgeview Farm Ai...  \n",
       "                                   nc                               [Phillip R Bunn Airport]  \n",
       "zeeland                            mi      [Curt's Place Airport, J P's Field, Dewind Fie...  \n",
       "zelienople                         pa      [Brennan Personal Use Airport, Zelienople Muni...  \n",
       "zell                               mo                         [Pleasant View Ultralightport]  \n",
       "zellwood                           fl      [Orlando North Airpark, Tangerine Airport, Bob...  \n",
       "zenia                              ca                           [Hell'er High Water Airport]  \n",
       "zephyrhills                        fl                        [Zephyrhills Municipal Airport]  \n",
       "zieglerville                       pa                                       [Shontz Airport]  \n",
       "zillah                             wa                                       [Mc Mahon Field]  \n",
       "zion                               il                              [Herbert C. Maas Airport]  \n",
       "zolfo springs                      fl      [Myakka Head Airport, Griffins Peace River Ran...  \n",
       "zortman                            mt                                      [Zortman Airport]  \n",
       "zuni                               nm                       [Andrew Othole Memorial Airport]  \n",
       "zuni pueblo                        nm                                   [Black Rock Airport]  \n",
       "zwingle                            ia                                        [Kleis Airport]  \n",
       "zwolle                             la                                       [Ammons Airport]  \n",
       "\n",
       "[9576 rows x 2 columns]"
      ]
     },
     "execution_count": 126,
     "metadata": {},
     "output_type": "execute_result"
    }
   ],
   "source": [
    "agg_airport_codes = df_airport_codes.groupby(['municipality', 'region']).agg(lambda x: x.tolist())\n",
    "agg_airport_codes"
   ]
  },
  {
   "cell_type": "code",
   "execution_count": 129,
   "metadata": {
    "editable": true
   },
   "outputs": [],
   "source": [
    "# agg_airport_codes.loc['zellwood', 'fl']"
   ]
  },
  {
   "cell_type": "code",
   "execution_count": 130,
   "metadata": {
    "editable": true
   },
   "outputs": [],
   "source": [
    "# agg_airport_codes.loc['zellwood', 'fl']['name']"
   ]
  },
  {
   "cell_type": "code",
   "execution_count": 143,
   "metadata": {
    "editable": true
   },
   "outputs": [],
   "source": [
    "### NOTE: Will only merge this with the subset of df_immig_data that has i94port in the US 50+1\n",
    "\n",
    "df_immig_data_us_airports = df_immig_data[df_immig_data['i94mode'] == 1.0].merge(\n",
    "    agg_airport_codes.reset_index(), on=['municipality', 'region'], how='inner')"
   ]
  },
  {
   "cell_type": "code",
   "execution_count": 144,
   "metadata": {
    "editable": true
   },
   "outputs": [
    {
     "data": {
      "text/plain": [
       "i94yr            0\n",
       "i94mon           0\n",
       "i94cit           0\n",
       "i94res           0\n",
       "i94port          0\n",
       "arrdate          0\n",
       "i94mode          0\n",
       "i94addr         35\n",
       "depdate         36\n",
       "i94bir           0\n",
       "i94visa          0\n",
       "entdepd         36\n",
       "matflag         36\n",
       "biryear          0\n",
       "dtaddto         12\n",
       "gender           0\n",
       "airline          0\n",
       "visatype         0\n",
       "municipality     0\n",
       "region           0\n",
       "type             0\n",
       "name             0\n",
       "dtype: int64"
      ]
     },
     "execution_count": 144,
     "metadata": {},
     "output_type": "execute_result"
    }
   ],
   "source": [
    "df_immig_data_us_airports.isna().sum()"
   ]
  },
  {
   "cell_type": "code",
   "execution_count": null,
   "metadata": {
    "editable": true
   },
   "outputs": [],
   "source": []
  },
  {
   "cell_type": "code",
   "execution_count": null,
   "metadata": {
    "editable": true
   },
   "outputs": [],
   "source": []
  },
  {
   "cell_type": "code",
   "execution_count": 49,
   "metadata": {
    "editable": true
   },
   "outputs": [],
   "source": []
  },
  {
   "cell_type": "code",
   "execution_count": null,
   "metadata": {
    "editable": true
   },
   "outputs": [],
   "source": []
  },
  {
   "cell_type": "code",
   "execution_count": 201,
   "metadata": {
    "editable": true
   },
   "outputs": [
    {
     "data": {
      "text/html": [
       "<div>\n",
       "<style scoped>\n",
       "    .dataframe tbody tr th:only-of-type {\n",
       "        vertical-align: middle;\n",
       "    }\n",
       "\n",
       "    .dataframe tbody tr th {\n",
       "        vertical-align: top;\n",
       "    }\n",
       "\n",
       "    .dataframe thead th {\n",
       "        text-align: right;\n",
       "    }\n",
       "</style>\n",
       "<table border=\"1\" class=\"dataframe\">\n",
       "  <thead>\n",
       "    <tr style=\"text-align: right;\">\n",
       "      <th></th>\n",
       "      <th>City</th>\n",
       "      <th>State</th>\n",
       "      <th>Median Age</th>\n",
       "      <th>Male Population</th>\n",
       "      <th>Female Population</th>\n",
       "      <th>Total Population</th>\n",
       "      <th>Number of Veterans</th>\n",
       "      <th>Foreign-born</th>\n",
       "      <th>Average Household Size</th>\n",
       "      <th>State Code</th>\n",
       "      <th>Race</th>\n",
       "      <th>Count</th>\n",
       "    </tr>\n",
       "  </thead>\n",
       "  <tbody>\n",
       "    <tr>\n",
       "      <th>0</th>\n",
       "      <td>Silver Spring</td>\n",
       "      <td>Maryland</td>\n",
       "      <td>33.8</td>\n",
       "      <td>40601.0</td>\n",
       "      <td>41862.0</td>\n",
       "      <td>82463</td>\n",
       "      <td>1562.0</td>\n",
       "      <td>30908.0</td>\n",
       "      <td>2.60</td>\n",
       "      <td>MD</td>\n",
       "      <td>Hispanic or Latino</td>\n",
       "      <td>25924</td>\n",
       "    </tr>\n",
       "    <tr>\n",
       "      <th>1</th>\n",
       "      <td>Quincy</td>\n",
       "      <td>Massachusetts</td>\n",
       "      <td>41.0</td>\n",
       "      <td>44129.0</td>\n",
       "      <td>49500.0</td>\n",
       "      <td>93629</td>\n",
       "      <td>4147.0</td>\n",
       "      <td>32935.0</td>\n",
       "      <td>2.39</td>\n",
       "      <td>MA</td>\n",
       "      <td>White</td>\n",
       "      <td>58723</td>\n",
       "    </tr>\n",
       "    <tr>\n",
       "      <th>2</th>\n",
       "      <td>Hoover</td>\n",
       "      <td>Alabama</td>\n",
       "      <td>38.5</td>\n",
       "      <td>38040.0</td>\n",
       "      <td>46799.0</td>\n",
       "      <td>84839</td>\n",
       "      <td>4819.0</td>\n",
       "      <td>8229.0</td>\n",
       "      <td>2.58</td>\n",
       "      <td>AL</td>\n",
       "      <td>Asian</td>\n",
       "      <td>4759</td>\n",
       "    </tr>\n",
       "    <tr>\n",
       "      <th>3</th>\n",
       "      <td>Rancho Cucamonga</td>\n",
       "      <td>California</td>\n",
       "      <td>34.5</td>\n",
       "      <td>88127.0</td>\n",
       "      <td>87105.0</td>\n",
       "      <td>175232</td>\n",
       "      <td>5821.0</td>\n",
       "      <td>33878.0</td>\n",
       "      <td>3.18</td>\n",
       "      <td>CA</td>\n",
       "      <td>Black or African-American</td>\n",
       "      <td>24437</td>\n",
       "    </tr>\n",
       "    <tr>\n",
       "      <th>4</th>\n",
       "      <td>Newark</td>\n",
       "      <td>New Jersey</td>\n",
       "      <td>34.6</td>\n",
       "      <td>138040.0</td>\n",
       "      <td>143873.0</td>\n",
       "      <td>281913</td>\n",
       "      <td>5829.0</td>\n",
       "      <td>86253.0</td>\n",
       "      <td>2.73</td>\n",
       "      <td>NJ</td>\n",
       "      <td>White</td>\n",
       "      <td>76402</td>\n",
       "    </tr>\n",
       "  </tbody>\n",
       "</table>\n",
       "</div>"
      ],
      "text/plain": [
       "               City          State  Median Age  Male Population  \\\n",
       "0     Silver Spring       Maryland        33.8          40601.0   \n",
       "1            Quincy  Massachusetts        41.0          44129.0   \n",
       "2            Hoover        Alabama        38.5          38040.0   \n",
       "3  Rancho Cucamonga     California        34.5          88127.0   \n",
       "4            Newark     New Jersey        34.6         138040.0   \n",
       "\n",
       "   Female Population  Total Population  Number of Veterans  Foreign-born  \\\n",
       "0            41862.0             82463              1562.0       30908.0   \n",
       "1            49500.0             93629              4147.0       32935.0   \n",
       "2            46799.0             84839              4819.0        8229.0   \n",
       "3            87105.0            175232              5821.0       33878.0   \n",
       "4           143873.0            281913              5829.0       86253.0   \n",
       "\n",
       "   Average Household Size State Code                       Race  Count  \n",
       "0                    2.60         MD         Hispanic or Latino  25924  \n",
       "1                    2.39         MA                      White  58723  \n",
       "2                    2.58         AL                      Asian   4759  \n",
       "3                    3.18         CA  Black or African-American  24437  \n",
       "4                    2.73         NJ                      White  76402  "
      ]
     },
     "execution_count": 201,
     "metadata": {},
     "output_type": "execute_result"
    }
   ],
   "source": [
    "# Read in the data here\n",
    "fname = 'us-cities-demographics.csv'\n",
    "df_us_cities_demos = pd.read_csv(fname, sep=';')\n",
    "df_us_cities_demos.head()"
   ]
  },
  {
   "cell_type": "code",
   "execution_count": 202,
   "metadata": {
    "editable": true
   },
   "outputs": [
    {
     "data": {
      "text/html": [
       "<div>\n",
       "<style scoped>\n",
       "    .dataframe tbody tr th:only-of-type {\n",
       "        vertical-align: middle;\n",
       "    }\n",
       "\n",
       "    .dataframe tbody tr th {\n",
       "        vertical-align: top;\n",
       "    }\n",
       "\n",
       "    .dataframe thead th {\n",
       "        text-align: right;\n",
       "    }\n",
       "</style>\n",
       "<table border=\"1\" class=\"dataframe\">\n",
       "  <thead>\n",
       "    <tr style=\"text-align: right;\">\n",
       "      <th></th>\n",
       "      <th>City</th>\n",
       "      <th>State</th>\n",
       "      <th>Median Age</th>\n",
       "      <th>Male Population</th>\n",
       "      <th>Female Population</th>\n",
       "      <th>Total Population</th>\n",
       "      <th>Number of Veterans</th>\n",
       "      <th>Foreign-born</th>\n",
       "      <th>Average Household Size</th>\n",
       "      <th>State Code</th>\n",
       "      <th>Race</th>\n",
       "      <th>Count</th>\n",
       "    </tr>\n",
       "  </thead>\n",
       "  <tbody>\n",
       "    <tr>\n",
       "      <th>0</th>\n",
       "      <td>Silver Spring</td>\n",
       "      <td>Maryland</td>\n",
       "      <td>33.8</td>\n",
       "      <td>40601.0</td>\n",
       "      <td>41862.0</td>\n",
       "      <td>82463</td>\n",
       "      <td>1562.0</td>\n",
       "      <td>30908.0</td>\n",
       "      <td>2.60</td>\n",
       "      <td>md</td>\n",
       "      <td>Hispanic or Latino</td>\n",
       "      <td>25924</td>\n",
       "    </tr>\n",
       "    <tr>\n",
       "      <th>1</th>\n",
       "      <td>Quincy</td>\n",
       "      <td>Massachusetts</td>\n",
       "      <td>41.0</td>\n",
       "      <td>44129.0</td>\n",
       "      <td>49500.0</td>\n",
       "      <td>93629</td>\n",
       "      <td>4147.0</td>\n",
       "      <td>32935.0</td>\n",
       "      <td>2.39</td>\n",
       "      <td>ma</td>\n",
       "      <td>White</td>\n",
       "      <td>58723</td>\n",
       "    </tr>\n",
       "    <tr>\n",
       "      <th>2</th>\n",
       "      <td>Hoover</td>\n",
       "      <td>Alabama</td>\n",
       "      <td>38.5</td>\n",
       "      <td>38040.0</td>\n",
       "      <td>46799.0</td>\n",
       "      <td>84839</td>\n",
       "      <td>4819.0</td>\n",
       "      <td>8229.0</td>\n",
       "      <td>2.58</td>\n",
       "      <td>al</td>\n",
       "      <td>Asian</td>\n",
       "      <td>4759</td>\n",
       "    </tr>\n",
       "    <tr>\n",
       "      <th>3</th>\n",
       "      <td>Rancho Cucamonga</td>\n",
       "      <td>California</td>\n",
       "      <td>34.5</td>\n",
       "      <td>88127.0</td>\n",
       "      <td>87105.0</td>\n",
       "      <td>175232</td>\n",
       "      <td>5821.0</td>\n",
       "      <td>33878.0</td>\n",
       "      <td>3.18</td>\n",
       "      <td>ca</td>\n",
       "      <td>Black or African-American</td>\n",
       "      <td>24437</td>\n",
       "    </tr>\n",
       "    <tr>\n",
       "      <th>4</th>\n",
       "      <td>Newark</td>\n",
       "      <td>New Jersey</td>\n",
       "      <td>34.6</td>\n",
       "      <td>138040.0</td>\n",
       "      <td>143873.0</td>\n",
       "      <td>281913</td>\n",
       "      <td>5829.0</td>\n",
       "      <td>86253.0</td>\n",
       "      <td>2.73</td>\n",
       "      <td>nj</td>\n",
       "      <td>White</td>\n",
       "      <td>76402</td>\n",
       "    </tr>\n",
       "  </tbody>\n",
       "</table>\n",
       "</div>"
      ],
      "text/plain": [
       "               City          State  Median Age  Male Population  \\\n",
       "0     Silver Spring       Maryland        33.8          40601.0   \n",
       "1            Quincy  Massachusetts        41.0          44129.0   \n",
       "2            Hoover        Alabama        38.5          38040.0   \n",
       "3  Rancho Cucamonga     California        34.5          88127.0   \n",
       "4            Newark     New Jersey        34.6         138040.0   \n",
       "\n",
       "   Female Population  Total Population  Number of Veterans  Foreign-born  \\\n",
       "0            41862.0             82463              1562.0       30908.0   \n",
       "1            49500.0             93629              4147.0       32935.0   \n",
       "2            46799.0             84839              4819.0        8229.0   \n",
       "3            87105.0            175232              5821.0       33878.0   \n",
       "4           143873.0            281913              5829.0       86253.0   \n",
       "\n",
       "   Average Household Size State Code                       Race  Count  \n",
       "0                    2.60         md         Hispanic or Latino  25924  \n",
       "1                    2.39         ma                      White  58723  \n",
       "2                    2.58         al                      Asian   4759  \n",
       "3                    3.18         ca  Black or African-American  24437  \n",
       "4                    2.73         nj                      White  76402  "
      ]
     },
     "execution_count": 202,
     "metadata": {},
     "output_type": "execute_result"
    }
   ],
   "source": [
    "df_us_cities_demos['State Code'] = df_us_cities_demos['State Code'].str.lower()\n",
    "df_us_cities_demos.head()"
   ]
  },
  {
   "cell_type": "code",
   "execution_count": 203,
   "metadata": {
    "editable": true
   },
   "outputs": [
    {
     "data": {
      "text/plain": [
       "49"
      ]
     },
     "execution_count": 203,
     "metadata": {},
     "output_type": "execute_result"
    }
   ],
   "source": [
    "df_us_cities_states = df_us_cities_demos['State Code'].unique()\n",
    "df_us_cities_states.shape[0]"
   ]
  },
  {
   "cell_type": "code",
   "execution_count": 204,
   "metadata": {
    "editable": true
   },
   "outputs": [
    {
     "data": {
      "text/plain": [
       "True"
      ]
     },
     "execution_count": 204,
     "metadata": {},
     "output_type": "execute_result"
    }
   ],
   "source": [
    "# Puerto Rico: drop because only interested in US 50+1\n",
    "\n",
    "'pr' in df_us_cities_states"
   ]
  },
  {
   "cell_type": "code",
   "execution_count": 205,
   "metadata": {
    "editable": true
   },
   "outputs": [
    {
     "data": {
      "text/plain": [
       "48"
      ]
     },
     "execution_count": 205,
     "metadata": {},
     "output_type": "execute_result"
    }
   ],
   "source": [
    "# Restrict data to US 50+1\n",
    "\n",
    "df_us_cities_demos = df_us_cities_demos[~(df_us_cities_demos['State Code'] == 'pr')]\n",
    "df_us_cities_demos.reset_index(drop=True, inplace=True)\n",
    "df_us_cities_states = df_us_cities_demos['State Code'].unique()\n",
    "df_us_cities_states.shape[0]"
   ]
  },
  {
   "cell_type": "code",
   "execution_count": 206,
   "metadata": {
    "editable": true
   },
   "outputs": [
    {
     "data": {
      "text/plain": [
       "array(['vt', 'wv', 'wy'], dtype=object)"
      ]
     },
     "execution_count": 206,
     "metadata": {},
     "output_type": "execute_result"
    }
   ],
   "source": [
    "# VT, WV & WY are missing from the demographics - so we only get US 47+1\n",
    "\n",
    "np.setdiff1d(df_airport_codes['region'].unique(), df_us_cities_states)"
   ]
  },
  {
   "cell_type": "code",
   "execution_count": 207,
   "metadata": {
    "editable": true
   },
   "outputs": [
    {
     "name": "stdout",
     "output_type": "stream",
     "text": [
      "<class 'pandas.core.frame.DataFrame'>\n",
      "RangeIndex: 2878 entries, 0 to 2877\n",
      "Data columns (total 12 columns):\n",
      "City                      2878 non-null object\n",
      "State                     2878 non-null object\n",
      "Median Age                2878 non-null float64\n",
      "Male Population           2875 non-null float64\n",
      "Female Population         2875 non-null float64\n",
      "Total Population          2878 non-null int64\n",
      "Number of Veterans        2878 non-null float64\n",
      "Foreign-born              2878 non-null float64\n",
      "Average Household Size    2875 non-null float64\n",
      "State Code                2878 non-null object\n",
      "Race                      2878 non-null object\n",
      "Count                     2878 non-null int64\n",
      "dtypes: float64(6), int64(2), object(4)\n",
      "memory usage: 269.9+ KB\n"
     ]
    }
   ],
   "source": [
    "df_us_cities_demos.info()"
   ]
  },
  {
   "cell_type": "code",
   "execution_count": 208,
   "metadata": {
    "editable": true
   },
   "outputs": [
    {
     "data": {
      "text/html": [
       "<div>\n",
       "<style scoped>\n",
       "    .dataframe tbody tr th:only-of-type {\n",
       "        vertical-align: middle;\n",
       "    }\n",
       "\n",
       "    .dataframe tbody tr th {\n",
       "        vertical-align: top;\n",
       "    }\n",
       "\n",
       "    .dataframe thead th {\n",
       "        text-align: right;\n",
       "    }\n",
       "</style>\n",
       "<table border=\"1\" class=\"dataframe\">\n",
       "  <thead>\n",
       "    <tr style=\"text-align: right;\">\n",
       "      <th></th>\n",
       "      <th>City</th>\n",
       "      <th>State</th>\n",
       "      <th>Median Age</th>\n",
       "      <th>Male Population</th>\n",
       "      <th>Female Population</th>\n",
       "      <th>Total Population</th>\n",
       "      <th>Number of Veterans</th>\n",
       "      <th>Foreign-born</th>\n",
       "      <th>Average Household Size</th>\n",
       "      <th>State Code</th>\n",
       "      <th>Race</th>\n",
       "      <th>Count</th>\n",
       "    </tr>\n",
       "  </thead>\n",
       "  <tbody>\n",
       "    <tr>\n",
       "      <th>330</th>\n",
       "      <td>The Villages</td>\n",
       "      <td>Florida</td>\n",
       "      <td>70.5</td>\n",
       "      <td>NaN</td>\n",
       "      <td>NaN</td>\n",
       "      <td>72590</td>\n",
       "      <td>15231.0</td>\n",
       "      <td>4034.0</td>\n",
       "      <td>NaN</td>\n",
       "      <td>fl</td>\n",
       "      <td>Hispanic or Latino</td>\n",
       "      <td>1066</td>\n",
       "    </tr>\n",
       "    <tr>\n",
       "      <th>446</th>\n",
       "      <td>The Villages</td>\n",
       "      <td>Florida</td>\n",
       "      <td>70.5</td>\n",
       "      <td>NaN</td>\n",
       "      <td>NaN</td>\n",
       "      <td>72590</td>\n",
       "      <td>15231.0</td>\n",
       "      <td>4034.0</td>\n",
       "      <td>NaN</td>\n",
       "      <td>fl</td>\n",
       "      <td>Black or African-American</td>\n",
       "      <td>331</td>\n",
       "    </tr>\n",
       "    <tr>\n",
       "      <th>1433</th>\n",
       "      <td>The Villages</td>\n",
       "      <td>Florida</td>\n",
       "      <td>70.5</td>\n",
       "      <td>NaN</td>\n",
       "      <td>NaN</td>\n",
       "      <td>72590</td>\n",
       "      <td>15231.0</td>\n",
       "      <td>4034.0</td>\n",
       "      <td>NaN</td>\n",
       "      <td>fl</td>\n",
       "      <td>White</td>\n",
       "      <td>72211</td>\n",
       "    </tr>\n",
       "  </tbody>\n",
       "</table>\n",
       "</div>"
      ],
      "text/plain": [
       "              City    State  Median Age  Male Population  Female Population  \\\n",
       "330   The Villages  Florida        70.5              NaN                NaN   \n",
       "446   The Villages  Florida        70.5              NaN                NaN   \n",
       "1433  The Villages  Florida        70.5              NaN                NaN   \n",
       "\n",
       "      Total Population  Number of Veterans  Foreign-born  \\\n",
       "330              72590             15231.0        4034.0   \n",
       "446              72590             15231.0        4034.0   \n",
       "1433             72590             15231.0        4034.0   \n",
       "\n",
       "      Average Household Size State Code                       Race  Count  \n",
       "330                      NaN         fl         Hispanic or Latino   1066  \n",
       "446                      NaN         fl  Black or African-American    331  \n",
       "1433                     NaN         fl                      White  72211  "
      ]
     },
     "execution_count": 208,
     "metadata": {},
     "output_type": "execute_result"
    }
   ],
   "source": [
    "df_us_cities_demos[df_us_cities_demos.isna().any(axis=1)]"
   ]
  },
  {
   "cell_type": "code",
   "execution_count": 209,
   "metadata": {
    "editable": true
   },
   "outputs": [
    {
     "name": "stdout",
     "output_type": "stream",
     "text": [
      "<class 'pandas.core.frame.DataFrame'>\n",
      "RangeIndex: 2875 entries, 0 to 2874\n",
      "Data columns (total 12 columns):\n",
      "City                      2875 non-null object\n",
      "State                     2875 non-null object\n",
      "Median Age                2875 non-null float64\n",
      "Male Population           2875 non-null float64\n",
      "Female Population         2875 non-null float64\n",
      "Total Population          2875 non-null int64\n",
      "Number of Veterans        2875 non-null float64\n",
      "Foreign-born              2875 non-null float64\n",
      "Average Household Size    2875 non-null float64\n",
      "State Code                2875 non-null object\n",
      "Race                      2875 non-null object\n",
      "Count                     2875 non-null int64\n",
      "dtypes: float64(6), int64(2), object(4)\n",
      "memory usage: 269.6+ KB\n"
     ]
    }
   ],
   "source": [
    "# The villages is a retirement community, so let's just drop it from the dataset\n",
    "\n",
    "df_us_cities_demos = df_us_cities_demos[~(df_us_cities_demos['City'] == 'The Villages')]\n",
    "df_us_cities_demos.reset_index(drop=True, inplace=True)\n",
    "df_us_cities_demos.info()"
   ]
  },
  {
   "cell_type": "code",
   "execution_count": null,
   "metadata": {
    "editable": true
   },
   "outputs": [],
   "source": []
  },
  {
   "cell_type": "code",
   "execution_count": 212,
   "metadata": {
    "editable": true
   },
   "outputs": [
    {
     "data": {
      "text/plain": [
       "City         Race                             \n",
       "Abilene      American Indian and Alaska Native      1813\n",
       "             Asian                                  2929\n",
       "             Black or African-American             14449\n",
       "             Hispanic or Latino                    33222\n",
       "             White                                 95487\n",
       "Akron        American Indian and Alaska Native      1845\n",
       "             Asian                                  9033\n",
       "             Black or African-American             66551\n",
       "             Hispanic or Latino                     3684\n",
       "             White                                129192\n",
       "Alafaya      Asian                                 10336\n",
       "             Black or African-American              6577\n",
       "             Hispanic or Latino                    34897\n",
       "             White                                 63666\n",
       "Alameda      American Indian and Alaska Native      1329\n",
       "             Asian                                 27984\n",
       "             Black or African-American              7364\n",
       "             Hispanic or Latino                     8265\n",
       "             White                                 44232\n",
       "Albany       American Indian and Alaska Native      2056\n",
       "             Asian                                  8740\n",
       "             Black or African-American             84743\n",
       "             Hispanic or Latino                    11151\n",
       "             White                                 75528\n",
       "Albuquerque  American Indian and Alaska Native     32243\n",
       "             Asian                                 25140\n",
       "             Black or African-American             26774\n",
       "             Hispanic or Latino                   271854\n",
       "             White                                411847\n",
       "Alexandria   American Indian and Alaska Native      1133\n",
       "                                                   ...  \n",
       "Yakima       American Indian and Alaska Native      2042\n",
       "             Asian                                  2248\n",
       "             Black or African-American               924\n",
       "             Hispanic or Latino                    44172\n",
       "             White                                 79286\n",
       "Yonkers      American Indian and Alaska Native      1112\n",
       "             Asian                                 13981\n",
       "             Black or African-American             38731\n",
       "             Hispanic or Latino                    73608\n",
       "             White                                129492\n",
       "Yorba Linda  American Indian and Alaska Native       211\n",
       "             Asian                                 17616\n",
       "             Black or African-American              1326\n",
       "             Hispanic or Latino                    10599\n",
       "             White                                 49980\n",
       "Youngs       American Indian and Alaska Native       875\n",
       "             Asian                                   247\n",
       "             Black or African-American             31725\n",
       "             Hispanic or Latino                     7564\n",
       "             White                                 33031\n",
       "Yuba City    American Indian and Alaska Native      2163\n",
       "             Asian                                 15065\n",
       "             Black or African-American              1912\n",
       "             Hispanic or Latino                    20890\n",
       "             White                                 48746\n",
       "Yuma         American Indian and Alaska Native      1228\n",
       "             Asian                                  1180\n",
       "             Black or African-American              3731\n",
       "             Hispanic or Latino                    57054\n",
       "             White                                 69691\n",
       "Name: Count, Length: 2732, dtype: int64"
      ]
     },
     "execution_count": 212,
     "metadata": {},
     "output_type": "execute_result"
    }
   ],
   "source": [
    "df_us_cities_demos.groupby(['City','Race'])['Count'].sum()"
   ]
  },
  {
   "cell_type": "code",
   "execution_count": null,
   "metadata": {
    "editable": true
   },
   "outputs": [],
   "source": [
    "# Percentage of Population that's Foreign-born by city would be interesting (maybe also by race?)"
   ]
  },
  {
   "cell_type": "code",
   "execution_count": null,
   "metadata": {
    "editable": true
   },
   "outputs": [],
   "source": []
  },
  {
   "cell_type": "code",
   "execution_count": null,
   "metadata": {
    "editable": true
   },
   "outputs": [],
   "source": []
  },
  {
   "cell_type": "code",
   "execution_count": null,
   "metadata": {
    "editable": true
   },
   "outputs": [],
   "source": []
  },
  {
   "cell_type": "code",
   "execution_count": null,
   "metadata": {
    "editable": true
   },
   "outputs": [],
   "source": []
  },
  {
   "cell_type": "code",
   "execution_count": 217,
   "metadata": {
    "editable": true
   },
   "outputs": [
    {
     "data": {
      "text/html": [
       "<div>\n",
       "<style scoped>\n",
       "    .dataframe tbody tr th:only-of-type {\n",
       "        vertical-align: middle;\n",
       "    }\n",
       "\n",
       "    .dataframe tbody tr th {\n",
       "        vertical-align: top;\n",
       "    }\n",
       "\n",
       "    .dataframe thead th {\n",
       "        text-align: right;\n",
       "    }\n",
       "</style>\n",
       "<table border=\"1\" class=\"dataframe\">\n",
       "  <thead>\n",
       "    <tr style=\"text-align: right;\">\n",
       "      <th></th>\n",
       "      <th>dt</th>\n",
       "      <th>AverageTemperature</th>\n",
       "      <th>AverageTemperatureUncertainty</th>\n",
       "      <th>City</th>\n",
       "      <th>Country</th>\n",
       "      <th>Latitude</th>\n",
       "      <th>Longitude</th>\n",
       "    </tr>\n",
       "  </thead>\n",
       "  <tbody>\n",
       "    <tr>\n",
       "      <th>0</th>\n",
       "      <td>1743-11-01</td>\n",
       "      <td>6.068</td>\n",
       "      <td>1.737</td>\n",
       "      <td>Århus</td>\n",
       "      <td>Denmark</td>\n",
       "      <td>57.05N</td>\n",
       "      <td>10.33E</td>\n",
       "    </tr>\n",
       "    <tr>\n",
       "      <th>1</th>\n",
       "      <td>1743-12-01</td>\n",
       "      <td>NaN</td>\n",
       "      <td>NaN</td>\n",
       "      <td>Århus</td>\n",
       "      <td>Denmark</td>\n",
       "      <td>57.05N</td>\n",
       "      <td>10.33E</td>\n",
       "    </tr>\n",
       "    <tr>\n",
       "      <th>2</th>\n",
       "      <td>1744-01-01</td>\n",
       "      <td>NaN</td>\n",
       "      <td>NaN</td>\n",
       "      <td>Århus</td>\n",
       "      <td>Denmark</td>\n",
       "      <td>57.05N</td>\n",
       "      <td>10.33E</td>\n",
       "    </tr>\n",
       "    <tr>\n",
       "      <th>3</th>\n",
       "      <td>1744-02-01</td>\n",
       "      <td>NaN</td>\n",
       "      <td>NaN</td>\n",
       "      <td>Århus</td>\n",
       "      <td>Denmark</td>\n",
       "      <td>57.05N</td>\n",
       "      <td>10.33E</td>\n",
       "    </tr>\n",
       "    <tr>\n",
       "      <th>4</th>\n",
       "      <td>1744-03-01</td>\n",
       "      <td>NaN</td>\n",
       "      <td>NaN</td>\n",
       "      <td>Århus</td>\n",
       "      <td>Denmark</td>\n",
       "      <td>57.05N</td>\n",
       "      <td>10.33E</td>\n",
       "    </tr>\n",
       "  </tbody>\n",
       "</table>\n",
       "</div>"
      ],
      "text/plain": [
       "           dt  AverageTemperature  AverageTemperatureUncertainty   City  \\\n",
       "0  1743-11-01               6.068                          1.737  Århus   \n",
       "1  1743-12-01                 NaN                            NaN  Århus   \n",
       "2  1744-01-01                 NaN                            NaN  Århus   \n",
       "3  1744-02-01                 NaN                            NaN  Århus   \n",
       "4  1744-03-01                 NaN                            NaN  Århus   \n",
       "\n",
       "   Country Latitude Longitude  \n",
       "0  Denmark   57.05N    10.33E  \n",
       "1  Denmark   57.05N    10.33E  \n",
       "2  Denmark   57.05N    10.33E  \n",
       "3  Denmark   57.05N    10.33E  \n",
       "4  Denmark   57.05N    10.33E  "
      ]
     },
     "execution_count": 217,
     "metadata": {},
     "output_type": "execute_result"
    }
   ],
   "source": [
    "# Read in the data here\n",
    "fname = 'GlobalLandTemperaturesByCity.csv'\n",
    "df_global_land_temps = pd.read_csv(fname)\n",
    "df_global_land_temps.head()"
   ]
  },
  {
   "cell_type": "code",
   "execution_count": 218,
   "metadata": {
    "editable": true
   },
   "outputs": [
    {
     "data": {
      "text/plain": [
       "(8599212, 7)"
      ]
     },
     "execution_count": 218,
     "metadata": {},
     "output_type": "execute_result"
    }
   ],
   "source": [
    "df_global_land_temps.shape"
   ]
  },
  {
   "cell_type": "code",
   "execution_count": 220,
   "metadata": {
    "editable": true
   },
   "outputs": [
    {
     "data": {
      "text/plain": [
       "(8599212, 4)"
      ]
     },
     "execution_count": 220,
     "metadata": {},
     "output_type": "execute_result"
    }
   ],
   "source": [
    "# Drop 'AverageTemperatureUncertainty', 'Latitude' & 'Longitude'\n",
    "df_global_land_temps.drop(columns=['AverageTemperatureUncertainty', 'Latitude', 'Longitude'], inplace=True)\n",
    "df_global_land_temps.shape"
   ]
  },
  {
   "cell_type": "code",
   "execution_count": 222,
   "metadata": {
    "editable": true
   },
   "outputs": [
    {
     "data": {
      "text/plain": [
       "'2013-09-01'"
      ]
     },
     "execution_count": 222,
     "metadata": {},
     "output_type": "execute_result"
    }
   ],
   "source": [
    "df_global_land_temps['dt'].max()"
   ]
  },
  {
   "cell_type": "code",
   "execution_count": 227,
   "metadata": {
    "editable": true
   },
   "outputs": [
    {
     "data": {
      "text/plain": [
       "(589680, 4)"
      ]
     },
     "execution_count": 227,
     "metadata": {},
     "output_type": "execute_result"
    }
   ],
   "source": [
    "# Let's just focus on relatively recent temperature data (since '1999-09-01', up through '2013-08-01')\n",
    "\n",
    "df_global_land_temps = df_global_land_temps[(df_global_land_temps['dt'] >= '1999-09-01') & (df_global_land_temps['dt'] < '2013-09-01')]\n",
    "\n",
    "df_global_land_temps.reset_index(drop=True, inplace=True)\n",
    "df_global_land_temps.shape"
   ]
  },
  {
   "cell_type": "code",
   "execution_count": 228,
   "metadata": {
    "editable": true
   },
   "outputs": [
    {
     "data": {
      "text/html": [
       "<div>\n",
       "<style scoped>\n",
       "    .dataframe tbody tr th:only-of-type {\n",
       "        vertical-align: middle;\n",
       "    }\n",
       "\n",
       "    .dataframe tbody tr th {\n",
       "        vertical-align: top;\n",
       "    }\n",
       "\n",
       "    .dataframe thead th {\n",
       "        text-align: right;\n",
       "    }\n",
       "</style>\n",
       "<table border=\"1\" class=\"dataframe\">\n",
       "  <thead>\n",
       "    <tr style=\"text-align: right;\">\n",
       "      <th></th>\n",
       "      <th>dt</th>\n",
       "      <th>AverageTemperature</th>\n",
       "      <th>City</th>\n",
       "      <th>Country</th>\n",
       "    </tr>\n",
       "  </thead>\n",
       "  <tbody>\n",
       "    <tr>\n",
       "      <th>0</th>\n",
       "      <td>1999-09-01</td>\n",
       "      <td>16.339</td>\n",
       "      <td>Århus</td>\n",
       "      <td>Denmark</td>\n",
       "    </tr>\n",
       "    <tr>\n",
       "      <th>1</th>\n",
       "      <td>1999-10-01</td>\n",
       "      <td>9.291</td>\n",
       "      <td>Århus</td>\n",
       "      <td>Denmark</td>\n",
       "    </tr>\n",
       "    <tr>\n",
       "      <th>2</th>\n",
       "      <td>1999-11-01</td>\n",
       "      <td>5.736</td>\n",
       "      <td>Århus</td>\n",
       "      <td>Denmark</td>\n",
       "    </tr>\n",
       "    <tr>\n",
       "      <th>3</th>\n",
       "      <td>1999-12-01</td>\n",
       "      <td>1.638</td>\n",
       "      <td>Århus</td>\n",
       "      <td>Denmark</td>\n",
       "    </tr>\n",
       "    <tr>\n",
       "      <th>4</th>\n",
       "      <td>2000-01-01</td>\n",
       "      <td>3.065</td>\n",
       "      <td>Århus</td>\n",
       "      <td>Denmark</td>\n",
       "    </tr>\n",
       "  </tbody>\n",
       "</table>\n",
       "</div>"
      ],
      "text/plain": [
       "           dt  AverageTemperature   City  Country\n",
       "0  1999-09-01              16.339  Århus  Denmark\n",
       "1  1999-10-01               9.291  Århus  Denmark\n",
       "2  1999-11-01               5.736  Århus  Denmark\n",
       "3  1999-12-01               1.638  Århus  Denmark\n",
       "4  2000-01-01               3.065  Århus  Denmark"
      ]
     },
     "execution_count": 228,
     "metadata": {},
     "output_type": "execute_result"
    }
   ],
   "source": [
    "df_global_land_temps.head()"
   ]
  },
  {
   "cell_type": "code",
   "execution_count": 229,
   "metadata": {
    "editable": true
   },
   "outputs": [
    {
     "data": {
      "text/html": [
       "<div>\n",
       "<style scoped>\n",
       "    .dataframe tbody tr th:only-of-type {\n",
       "        vertical-align: middle;\n",
       "    }\n",
       "\n",
       "    .dataframe tbody tr th {\n",
       "        vertical-align: top;\n",
       "    }\n",
       "\n",
       "    .dataframe thead th {\n",
       "        text-align: right;\n",
       "    }\n",
       "</style>\n",
       "<table border=\"1\" class=\"dataframe\">\n",
       "  <thead>\n",
       "    <tr style=\"text-align: right;\">\n",
       "      <th></th>\n",
       "      <th>dt</th>\n",
       "      <th>AverageTemperature</th>\n",
       "      <th>City</th>\n",
       "      <th>Country</th>\n",
       "    </tr>\n",
       "  </thead>\n",
       "  <tbody>\n",
       "  </tbody>\n",
       "</table>\n",
       "</div>"
      ],
      "text/plain": [
       "Empty DataFrame\n",
       "Columns: [dt, AverageTemperature, City, Country]\n",
       "Index: []"
      ]
     },
     "execution_count": 229,
     "metadata": {},
     "output_type": "execute_result"
    }
   ],
   "source": [
    "df_global_land_temps[df_global_land_temps.isna().any(axis=1)]"
   ]
  },
  {
   "cell_type": "code",
   "execution_count": null,
   "metadata": {
    "editable": true
   },
   "outputs": [],
   "source": [
    "# Two ways to go here: 1) Average monthly over all the years to get one average per month per city\n",
    "#  OR 2) Just retain the last year's worth of data..."
   ]
  },
  {
   "cell_type": "code",
   "execution_count": null,
   "metadata": {
    "editable": true
   },
   "outputs": [],
   "source": []
  },
  {
   "cell_type": "code",
   "execution_count": null,
   "metadata": {
    "editable": true
   },
   "outputs": [],
   "source": []
  },
  {
   "cell_type": "code",
   "execution_count": null,
   "metadata": {
    "editable": true
   },
   "outputs": [],
   "source": []
  },
  {
   "cell_type": "code",
   "execution_count": null,
   "metadata": {
    "editable": true
   },
   "outputs": [],
   "source": []
  },
  {
   "cell_type": "code",
   "execution_count": null,
   "metadata": {
    "editable": true
   },
   "outputs": [],
   "source": []
  },
  {
   "cell_type": "code",
   "execution_count": 56,
   "metadata": {
    "editable": true
   },
   "outputs": [
    {
     "ename": "Exception",
     "evalue": "Java gateway process exited before sending its port number",
     "output_type": "error",
     "traceback": [
      "\u001b[0;31m---------------------------------------------------------------------------\u001b[0m",
      "\u001b[0;31mException\u001b[0m                                 Traceback (most recent call last)",
      "\u001b[0;32m<ipython-input-56-1a1dffb3dccd>\u001b[0m in \u001b[0;36m<module>\u001b[0;34m()\u001b[0m\n\u001b[1;32m      1\u001b[0m \u001b[0;34m\u001b[0m\u001b[0m\n\u001b[1;32m      2\u001b[0m \u001b[0;32mfrom\u001b[0m \u001b[0mpyspark\u001b[0m\u001b[0;34m.\u001b[0m\u001b[0msql\u001b[0m \u001b[0;32mimport\u001b[0m \u001b[0mSparkSession\u001b[0m\u001b[0;34m\u001b[0m\u001b[0m\n\u001b[0;32m----> 3\u001b[0;31m \u001b[0mspark\u001b[0m \u001b[0;34m=\u001b[0m \u001b[0mSparkSession\u001b[0m\u001b[0;34m.\u001b[0m\u001b[0mbuilder\u001b[0m\u001b[0;34m.\u001b[0m\u001b[0mconfig\u001b[0m\u001b[0;34m(\u001b[0m\u001b[0;34m\"spark.jars.packages\"\u001b[0m\u001b[0;34m,\u001b[0m\u001b[0;34m\"saurfang:spark-sas7bdat:2.0.0-s_2.11\"\u001b[0m\u001b[0;34m)\u001b[0m\u001b[0;34m.\u001b[0m\u001b[0menableHiveSupport\u001b[0m\u001b[0;34m(\u001b[0m\u001b[0;34m)\u001b[0m\u001b[0;34m.\u001b[0m\u001b[0mgetOrCreate\u001b[0m\u001b[0;34m(\u001b[0m\u001b[0;34m)\u001b[0m\u001b[0;34m\u001b[0m\u001b[0m\n\u001b[0m\u001b[1;32m      4\u001b[0m \u001b[0mdf_spark\u001b[0m \u001b[0;34m=\u001b[0m\u001b[0mspark\u001b[0m\u001b[0;34m.\u001b[0m\u001b[0mread\u001b[0m\u001b[0;34m.\u001b[0m\u001b[0mformat\u001b[0m\u001b[0;34m(\u001b[0m\u001b[0;34m'com.github.saurfang.sas.spark'\u001b[0m\u001b[0;34m)\u001b[0m\u001b[0;34m.\u001b[0m\u001b[0mload\u001b[0m\u001b[0;34m(\u001b[0m\u001b[0;34m'../../data/18-83510-I94-Data-2016/i94_apr16_sub.sas7bdat'\u001b[0m\u001b[0;34m)\u001b[0m\u001b[0;34m\u001b[0m\u001b[0m\n",
      "\u001b[0;32m/opt/spark-2.4.3-bin-hadoop2.7/python/pyspark/sql/session.py\u001b[0m in \u001b[0;36mgetOrCreate\u001b[0;34m(self)\u001b[0m\n\u001b[1;32m    171\u001b[0m                     \u001b[0;32mfor\u001b[0m \u001b[0mkey\u001b[0m\u001b[0;34m,\u001b[0m \u001b[0mvalue\u001b[0m \u001b[0;32min\u001b[0m \u001b[0mself\u001b[0m\u001b[0;34m.\u001b[0m\u001b[0m_options\u001b[0m\u001b[0;34m.\u001b[0m\u001b[0mitems\u001b[0m\u001b[0;34m(\u001b[0m\u001b[0;34m)\u001b[0m\u001b[0;34m:\u001b[0m\u001b[0;34m\u001b[0m\u001b[0m\n\u001b[1;32m    172\u001b[0m                         \u001b[0msparkConf\u001b[0m\u001b[0;34m.\u001b[0m\u001b[0mset\u001b[0m\u001b[0;34m(\u001b[0m\u001b[0mkey\u001b[0m\u001b[0;34m,\u001b[0m \u001b[0mvalue\u001b[0m\u001b[0;34m)\u001b[0m\u001b[0;34m\u001b[0m\u001b[0m\n\u001b[0;32m--> 173\u001b[0;31m                     \u001b[0msc\u001b[0m \u001b[0;34m=\u001b[0m \u001b[0mSparkContext\u001b[0m\u001b[0;34m.\u001b[0m\u001b[0mgetOrCreate\u001b[0m\u001b[0;34m(\u001b[0m\u001b[0msparkConf\u001b[0m\u001b[0;34m)\u001b[0m\u001b[0;34m\u001b[0m\u001b[0m\n\u001b[0m\u001b[1;32m    174\u001b[0m                     \u001b[0;31m# This SparkContext may be an existing one.\u001b[0m\u001b[0;34m\u001b[0m\u001b[0;34m\u001b[0m\u001b[0m\n\u001b[1;32m    175\u001b[0m                     \u001b[0;32mfor\u001b[0m \u001b[0mkey\u001b[0m\u001b[0;34m,\u001b[0m \u001b[0mvalue\u001b[0m \u001b[0;32min\u001b[0m \u001b[0mself\u001b[0m\u001b[0;34m.\u001b[0m\u001b[0m_options\u001b[0m\u001b[0;34m.\u001b[0m\u001b[0mitems\u001b[0m\u001b[0;34m(\u001b[0m\u001b[0;34m)\u001b[0m\u001b[0;34m:\u001b[0m\u001b[0;34m\u001b[0m\u001b[0m\n",
      "\u001b[0;32m/opt/spark-2.4.3-bin-hadoop2.7/python/pyspark/context.py\u001b[0m in \u001b[0;36mgetOrCreate\u001b[0;34m(cls, conf)\u001b[0m\n\u001b[1;32m    365\u001b[0m         \u001b[0;32mwith\u001b[0m \u001b[0mSparkContext\u001b[0m\u001b[0;34m.\u001b[0m\u001b[0m_lock\u001b[0m\u001b[0;34m:\u001b[0m\u001b[0;34m\u001b[0m\u001b[0m\n\u001b[1;32m    366\u001b[0m             \u001b[0;32mif\u001b[0m \u001b[0mSparkContext\u001b[0m\u001b[0;34m.\u001b[0m\u001b[0m_active_spark_context\u001b[0m \u001b[0;32mis\u001b[0m \u001b[0;32mNone\u001b[0m\u001b[0;34m:\u001b[0m\u001b[0;34m\u001b[0m\u001b[0m\n\u001b[0;32m--> 367\u001b[0;31m                 \u001b[0mSparkContext\u001b[0m\u001b[0;34m(\u001b[0m\u001b[0mconf\u001b[0m\u001b[0;34m=\u001b[0m\u001b[0mconf\u001b[0m \u001b[0;32mor\u001b[0m \u001b[0mSparkConf\u001b[0m\u001b[0;34m(\u001b[0m\u001b[0;34m)\u001b[0m\u001b[0;34m)\u001b[0m\u001b[0;34m\u001b[0m\u001b[0m\n\u001b[0m\u001b[1;32m    368\u001b[0m             \u001b[0;32mreturn\u001b[0m \u001b[0mSparkContext\u001b[0m\u001b[0;34m.\u001b[0m\u001b[0m_active_spark_context\u001b[0m\u001b[0;34m\u001b[0m\u001b[0m\n\u001b[1;32m    369\u001b[0m \u001b[0;34m\u001b[0m\u001b[0m\n",
      "\u001b[0;32m/opt/spark-2.4.3-bin-hadoop2.7/python/pyspark/context.py\u001b[0m in \u001b[0;36m__init__\u001b[0;34m(self, master, appName, sparkHome, pyFiles, environment, batchSize, serializer, conf, gateway, jsc, profiler_cls)\u001b[0m\n\u001b[1;32m    131\u001b[0m                     \" note this option will be removed in Spark 3.0\")\n\u001b[1;32m    132\u001b[0m \u001b[0;34m\u001b[0m\u001b[0m\n\u001b[0;32m--> 133\u001b[0;31m         \u001b[0mSparkContext\u001b[0m\u001b[0;34m.\u001b[0m\u001b[0m_ensure_initialized\u001b[0m\u001b[0;34m(\u001b[0m\u001b[0mself\u001b[0m\u001b[0;34m,\u001b[0m \u001b[0mgateway\u001b[0m\u001b[0;34m=\u001b[0m\u001b[0mgateway\u001b[0m\u001b[0;34m,\u001b[0m \u001b[0mconf\u001b[0m\u001b[0;34m=\u001b[0m\u001b[0mconf\u001b[0m\u001b[0;34m)\u001b[0m\u001b[0;34m\u001b[0m\u001b[0m\n\u001b[0m\u001b[1;32m    134\u001b[0m         \u001b[0;32mtry\u001b[0m\u001b[0;34m:\u001b[0m\u001b[0;34m\u001b[0m\u001b[0m\n\u001b[1;32m    135\u001b[0m             self._do_init(master, appName, sparkHome, pyFiles, environment, batchSize, serializer,\n",
      "\u001b[0;32m/opt/spark-2.4.3-bin-hadoop2.7/python/pyspark/context.py\u001b[0m in \u001b[0;36m_ensure_initialized\u001b[0;34m(cls, instance, gateway, conf)\u001b[0m\n\u001b[1;32m    314\u001b[0m         \u001b[0;32mwith\u001b[0m \u001b[0mSparkContext\u001b[0m\u001b[0;34m.\u001b[0m\u001b[0m_lock\u001b[0m\u001b[0;34m:\u001b[0m\u001b[0;34m\u001b[0m\u001b[0m\n\u001b[1;32m    315\u001b[0m             \u001b[0;32mif\u001b[0m \u001b[0;32mnot\u001b[0m \u001b[0mSparkContext\u001b[0m\u001b[0;34m.\u001b[0m\u001b[0m_gateway\u001b[0m\u001b[0;34m:\u001b[0m\u001b[0;34m\u001b[0m\u001b[0m\n\u001b[0;32m--> 316\u001b[0;31m                 \u001b[0mSparkContext\u001b[0m\u001b[0;34m.\u001b[0m\u001b[0m_gateway\u001b[0m \u001b[0;34m=\u001b[0m \u001b[0mgateway\u001b[0m \u001b[0;32mor\u001b[0m \u001b[0mlaunch_gateway\u001b[0m\u001b[0;34m(\u001b[0m\u001b[0mconf\u001b[0m\u001b[0;34m)\u001b[0m\u001b[0;34m\u001b[0m\u001b[0m\n\u001b[0m\u001b[1;32m    317\u001b[0m                 \u001b[0mSparkContext\u001b[0m\u001b[0;34m.\u001b[0m\u001b[0m_jvm\u001b[0m \u001b[0;34m=\u001b[0m \u001b[0mSparkContext\u001b[0m\u001b[0;34m.\u001b[0m\u001b[0m_gateway\u001b[0m\u001b[0;34m.\u001b[0m\u001b[0mjvm\u001b[0m\u001b[0;34m\u001b[0m\u001b[0m\n\u001b[1;32m    318\u001b[0m \u001b[0;34m\u001b[0m\u001b[0m\n",
      "\u001b[0;32m/opt/spark-2.4.3-bin-hadoop2.7/python/pyspark/java_gateway.py\u001b[0m in \u001b[0;36mlaunch_gateway\u001b[0;34m(conf)\u001b[0m\n\u001b[1;32m     44\u001b[0m     \u001b[0;34m:\u001b[0m\u001b[0;32mreturn\u001b[0m\u001b[0;34m:\u001b[0m \u001b[0ma\u001b[0m \u001b[0mJVM\u001b[0m \u001b[0mgateway\u001b[0m\u001b[0;34m\u001b[0m\u001b[0m\n\u001b[1;32m     45\u001b[0m     \"\"\"\n\u001b[0;32m---> 46\u001b[0;31m     \u001b[0;32mreturn\u001b[0m \u001b[0m_launch_gateway\u001b[0m\u001b[0;34m(\u001b[0m\u001b[0mconf\u001b[0m\u001b[0;34m)\u001b[0m\u001b[0;34m\u001b[0m\u001b[0m\n\u001b[0m\u001b[1;32m     47\u001b[0m \u001b[0;34m\u001b[0m\u001b[0m\n\u001b[1;32m     48\u001b[0m \u001b[0;34m\u001b[0m\u001b[0m\n",
      "\u001b[0;32m/opt/spark-2.4.3-bin-hadoop2.7/python/pyspark/java_gateway.py\u001b[0m in \u001b[0;36m_launch_gateway\u001b[0;34m(conf, insecure)\u001b[0m\n\u001b[1;32m    106\u001b[0m \u001b[0;34m\u001b[0m\u001b[0m\n\u001b[1;32m    107\u001b[0m             \u001b[0;32mif\u001b[0m \u001b[0;32mnot\u001b[0m \u001b[0mos\u001b[0m\u001b[0;34m.\u001b[0m\u001b[0mpath\u001b[0m\u001b[0;34m.\u001b[0m\u001b[0misfile\u001b[0m\u001b[0;34m(\u001b[0m\u001b[0mconn_info_file\u001b[0m\u001b[0;34m)\u001b[0m\u001b[0;34m:\u001b[0m\u001b[0;34m\u001b[0m\u001b[0m\n\u001b[0;32m--> 108\u001b[0;31m                 \u001b[0;32mraise\u001b[0m \u001b[0mException\u001b[0m\u001b[0;34m(\u001b[0m\u001b[0;34m\"Java gateway process exited before sending its port number\"\u001b[0m\u001b[0;34m)\u001b[0m\u001b[0;34m\u001b[0m\u001b[0m\n\u001b[0m\u001b[1;32m    109\u001b[0m \u001b[0;34m\u001b[0m\u001b[0m\n\u001b[1;32m    110\u001b[0m             \u001b[0;32mwith\u001b[0m \u001b[0mopen\u001b[0m\u001b[0;34m(\u001b[0m\u001b[0mconn_info_file\u001b[0m\u001b[0;34m,\u001b[0m \u001b[0;34m\"rb\"\u001b[0m\u001b[0;34m)\u001b[0m \u001b[0;32mas\u001b[0m \u001b[0minfo\u001b[0m\u001b[0;34m:\u001b[0m\u001b[0;34m\u001b[0m\u001b[0m\n",
      "\u001b[0;31mException\u001b[0m: Java gateway process exited before sending its port number"
     ]
    }
   ],
   "source": [
    "from pyspark.sql import SparkSession\n",
    "spark = SparkSession.builder.\\\n",
    "config(\"spark.jars.packages\",\"saurfang:spark-sas7bdat:2.0.0-s_2.11\")\\\n",
    ".enableHiveSupport().getOrCreate()\n",
    "df_spark =spark.read.format('com.github.saurfang.sas.spark').load('../../data/18-83510-I94-Data-2016/i94_apr16_sub.sas7bdat')\n"
   ]
  },
  {
   "cell_type": "code",
   "execution_count": null,
   "metadata": {
    "editable": true
   },
   "outputs": [],
   "source": [
    "#write to parquet\n",
    "df_spark.write.parquet(\"sas_data\")\n",
    "df_spark=spark.read.parquet(\"sas_data\")"
   ]
  },
  {
   "cell_type": "markdown",
   "metadata": {
    "editable": true
   },
   "source": [
    "### Step 2: Explore and Assess the Data\n",
    "#### Explore the Data \n",
    "Identify data quality issues, like missing values, duplicate data, etc.\n",
    "\n",
    "#### Cleaning Steps\n",
    "Document steps necessary to clean the data"
   ]
  },
  {
   "cell_type": "code",
   "execution_count": null,
   "metadata": {
    "editable": true
   },
   "outputs": [],
   "source": [
    "# Performing cleaning tasks here\n",
    "\n",
    "\n",
    "\n"
   ]
  },
  {
   "cell_type": "markdown",
   "metadata": {
    "editable": true
   },
   "source": [
    "### Step 3: Define the Data Model\n",
    "#### 3.1 Conceptual Data Model\n",
    "Map out the conceptual data model and explain why you chose that model\n",
    "\n",
    "#### 3.2 Mapping Out Data Pipelines\n",
    "List the steps necessary to pipeline the data into the chosen data model"
   ]
  },
  {
   "cell_type": "markdown",
   "metadata": {
    "editable": true
   },
   "source": [
    "### Step 4: Run Pipelines to Model the Data \n",
    "#### 4.1 Create the data model\n",
    "Build the data pipelines to create the data model."
   ]
  },
  {
   "cell_type": "code",
   "execution_count": null,
   "metadata": {
    "editable": true
   },
   "outputs": [],
   "source": [
    "# Write code here"
   ]
  },
  {
   "cell_type": "markdown",
   "metadata": {
    "editable": true
   },
   "source": [
    "#### 4.2 Data Quality Checks\n",
    "Explain the data quality checks you'll perform to ensure the pipeline ran as expected. These could include:\n",
    " * Integrity constraints on the relational database (e.g., unique key, data type, etc.)\n",
    " * Unit tests for the scripts to ensure they are doing the right thing\n",
    " * Source/Count checks to ensure completeness\n",
    " \n",
    "Run Quality Checks"
   ]
  },
  {
   "cell_type": "code",
   "execution_count": null,
   "metadata": {
    "editable": true
   },
   "outputs": [],
   "source": [
    "# Perform quality checks here"
   ]
  },
  {
   "cell_type": "markdown",
   "metadata": {
    "editable": true
   },
   "source": [
    "#### 4.3 Data dictionary \n",
    "Create a data dictionary for your data model. For each field, provide a brief description of what the data is and where it came from. You can include the data dictionary in the notebook or in a separate file."
   ]
  },
  {
   "cell_type": "markdown",
   "metadata": {
    "editable": true
   },
   "source": [
    "#### Step 5: Complete Project Write Up\n",
    "* Clearly state the rationale for the choice of tools and technologies for the project.\n",
    "* Propose how often the data should be updated and why.\n",
    "* Write a description of how you would approach the problem differently under the following scenarios:\n",
    " * The data was increased by 100x.\n",
    " * The data populates a dashboard that must be updated on a daily basis by 7am every day.\n",
    " * The database needed to be accessed by 100+ people."
   ]
  },
  {
   "cell_type": "code",
   "execution_count": null,
   "metadata": {
    "editable": true
   },
   "outputs": [],
   "source": []
  },
  {
   "cell_type": "code",
   "execution_count": null,
   "metadata": {
    "editable": true
   },
   "outputs": [],
   "source": []
  },
  {
   "cell_type": "code",
   "execution_count": null,
   "metadata": {
    "editable": true
   },
   "outputs": [],
   "source": []
  },
  {
   "cell_type": "code",
   "execution_count": null,
   "metadata": {
    "editable": true
   },
   "outputs": [],
   "source": []
  },
  {
   "cell_type": "code",
   "execution_count": null,
   "metadata": {
    "editable": true
   },
   "outputs": [],
   "source": []
  },
  {
   "cell_type": "code",
   "execution_count": null,
   "metadata": {
    "editable": true
   },
   "outputs": [],
   "source": []
  }
 ],
 "metadata": {
  "kernelspec": {
   "display_name": "Python 3",
   "language": "python",
   "name": "python3"
  },
  "language_info": {
   "codemirror_mode": {
    "name": "ipython",
    "version": 3
   },
   "file_extension": ".py",
   "mimetype": "text/x-python",
   "name": "python",
   "nbconvert_exporter": "python",
   "pygments_lexer": "ipython3",
   "version": "3.6.3"
  }
 },
 "nbformat": 4,
 "nbformat_minor": 4
}
